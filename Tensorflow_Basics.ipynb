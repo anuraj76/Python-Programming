{
  "nbformat": 4,
  "nbformat_minor": 0,
  "metadata": {
    "colab": {
      "name": "Tensorflow Basics.ipynb",
      "provenance": []
    },
    "kernelspec": {
      "name": "python3",
      "display_name": "Python 3"
    }
  },
  "cells": [
    {
      "cell_type": "code",
      "metadata": {
        "id": "3ia0K7oyE_FK",
        "colab_type": "code",
        "colab": {}
      },
      "source": [
        "import tensorflow as tf\n",
        "import tensorflow.compat.v1 as tf"
      ],
      "execution_count": 10,
      "outputs": []
    },
    {
      "cell_type": "code",
      "metadata": {
        "id": "JkhsDmboH03m",
        "colab_type": "code",
        "colab": {}
      },
      "source": [
        "graph1 = tf.Graph()"
      ],
      "execution_count": 11,
      "outputs": []
    },
    {
      "cell_type": "code",
      "metadata": {
        "id": "t7cDKvE0H_-0",
        "colab_type": "code",
        "colab": {}
      },
      "source": [
        "with graph1.as_default():\n",
        "  a = tf.constant([2],name='constant_a')\n",
        "  b = tf.constant([3],name='constant_b')"
      ],
      "execution_count": 12,
      "outputs": []
    },
    {
      "cell_type": "code",
      "metadata": {
        "id": "ZgxvDECdIwn-",
        "colab_type": "code",
        "colab": {
          "base_uri": "https://localhost:8080/",
          "height": 34
        },
        "outputId": "2756b751-377f-43e4-adbe-4cb2aed3892a"
      },
      "source": [
        "a"
      ],
      "execution_count": 4,
      "outputs": [
        {
          "output_type": "execute_result",
          "data": {
            "text/plain": [
              "<tf.Tensor 'constant_a:0' shape=(1,) dtype=int32>"
            ]
          },
          "metadata": {
            "tags": []
          },
          "execution_count": 4
        }
      ]
    },
    {
      "cell_type": "code",
      "metadata": {
        "id": "p228E8NhIyPq",
        "colab_type": "code",
        "colab": {
          "base_uri": "https://localhost:8080/",
          "height": 34
        },
        "outputId": "3bd30fd1-cb0d-4386-965a-fde03830b0ea"
      },
      "source": [
        "#printing value of a\n",
        "sess = tf.Session(graph = graph1)\n",
        "result = sess.run(a)\n",
        "print(result)\n",
        "sess.close()"
      ],
      "execution_count": 13,
      "outputs": [
        {
          "output_type": "stream",
          "text": [
            "[2]\n"
          ],
          "name": "stdout"
        }
      ]
    },
    {
      "cell_type": "code",
      "metadata": {
        "id": "rwU8JN8bJVlL",
        "colab_type": "code",
        "colab": {}
      },
      "source": [
        "with graph1.as_default():\n",
        "    c = tf.add(a, b)\n",
        "    #c = a + b is also a way to define the sum of the terms"
      ],
      "execution_count": 14,
      "outputs": []
    },
    {
      "cell_type": "code",
      "metadata": {
        "id": "aALknCwsLgfL",
        "colab_type": "code",
        "colab": {}
      },
      "source": [
        "sess = tf.Session(graph = graph1)"
      ],
      "execution_count": 15,
      "outputs": []
    },
    {
      "cell_type": "code",
      "metadata": {
        "id": "5nWEAtM7Lif_",
        "colab_type": "code",
        "colab": {
          "base_uri": "https://localhost:8080/",
          "height": 34
        },
        "outputId": "0808f380-65b2-464d-9155-5ae3d9464866"
      },
      "source": [
        "result = sess.run(c)\n",
        "print(result)"
      ],
      "execution_count": 16,
      "outputs": [
        {
          "output_type": "stream",
          "text": [
            "[5]\n"
          ],
          "name": "stdout"
        }
      ]
    },
    {
      "cell_type": "code",
      "metadata": {
        "id": "6JEC8M5zLmoV",
        "colab_type": "code",
        "colab": {}
      },
      "source": [
        "sess.close()"
      ],
      "execution_count": 17,
      "outputs": []
    },
    {
      "cell_type": "code",
      "metadata": {
        "id": "Ho7gcbSyLrnq",
        "colab_type": "code",
        "colab": {
          "base_uri": "https://localhost:8080/",
          "height": 34
        },
        "outputId": "69ee3d70-5cc7-4021-a3a1-b6f3a730e6ab"
      },
      "source": [
        "with tf.Session(graph = graph1) as sess:\n",
        "    result = sess.run(c)\n",
        "    print(result)"
      ],
      "execution_count": 18,
      "outputs": [
        {
          "output_type": "stream",
          "text": [
            "[5]\n"
          ],
          "name": "stdout"
        }
      ]
    },
    {
      "cell_type": "code",
      "metadata": {
        "id": "JgCFgCVmLw2S",
        "colab_type": "code",
        "colab": {
          "base_uri": "https://localhost:8080/",
          "height": 420
        },
        "outputId": "d6999156-a935-418a-e57e-7ef31905d040"
      },
      "source": [
        "graph2 = tf.Graph()\n",
        "with graph2.as_default():\n",
        "    Scalar = tf.constant(2)\n",
        "    Vector = tf.constant([5,6,2])\n",
        "    Matrix = tf.constant([[1,2,3],[2,3,4],[3,4,5]])\n",
        "    Tensor = tf.constant( [ [[1,2,3],[2,3,4],[3,4,5]] , [[4,5,6],[5,6,7],[6,7,8]] , [[7,8,9],[8,9,10],[9,10,11]] ] )\n",
        "    with tf.Session(graph = graph2) as sess:\n",
        "      result = sess.run(Scalar)\n",
        "      print (\"Scalar (1 entry):\\n %s \\n\" % result)\n",
        "      result = sess.run(Vector)\n",
        "      print (\"Vector (3 entries) :\\n %s \\n\" % result)\n",
        "      result = sess.run(Matrix)\n",
        "      print (\"Matrix (3x3 entries):\\n %s \\n\" % result)\n",
        "      result = sess.run(Tensor)\n",
        "      print (\"Tensor (3x3x3 entries) :\\n %s \\n\" % result) "
      ],
      "execution_count": 20,
      "outputs": [
        {
          "output_type": "stream",
          "text": [
            "Scalar (1 entry):\n",
            " 2 \n",
            "\n",
            "Vector (3 entries) :\n",
            " [5 6 2] \n",
            "\n",
            "Matrix (3x3 entries):\n",
            " [[1 2 3]\n",
            " [2 3 4]\n",
            " [3 4 5]] \n",
            "\n",
            "Tensor (3x3x3 entries) :\n",
            " [[[ 1  2  3]\n",
            "  [ 2  3  4]\n",
            "  [ 3  4  5]]\n",
            "\n",
            " [[ 4  5  6]\n",
            "  [ 5  6  7]\n",
            "  [ 6  7  8]]\n",
            "\n",
            " [[ 7  8  9]\n",
            "  [ 8  9 10]\n",
            "  [ 9 10 11]]] \n",
            "\n"
          ],
          "name": "stdout"
        }
      ]
    },
    {
      "cell_type": "code",
      "metadata": {
        "id": "JNvYAjztNOYw",
        "colab_type": "code",
        "colab": {
          "base_uri": "https://localhost:8080/",
          "height": 34
        },
        "outputId": "01279b30-5995-4474-93dc-e543ce5225ae"
      },
      "source": [
        "Scalar.shape"
      ],
      "execution_count": 21,
      "outputs": [
        {
          "output_type": "execute_result",
          "data": {
            "text/plain": [
              "TensorShape([])"
            ]
          },
          "metadata": {
            "tags": []
          },
          "execution_count": 21
        }
      ]
    },
    {
      "cell_type": "code",
      "metadata": {
        "id": "wfDqqsx7NZQ9",
        "colab_type": "code",
        "colab": {
          "base_uri": "https://localhost:8080/",
          "height": 34
        },
        "outputId": "731acc05-9c26-415b-e130-6e5d4108d6c9"
      },
      "source": [
        "Tensor.shape"
      ],
      "execution_count": 22,
      "outputs": [
        {
          "output_type": "execute_result",
          "data": {
            "text/plain": [
              "TensorShape([3, 3, 3])"
            ]
          },
          "metadata": {
            "tags": []
          },
          "execution_count": 22
        }
      ]
    },
    {
      "cell_type": "code",
      "metadata": {
        "id": "lgjPSl3mNb0C",
        "colab_type": "code",
        "colab": {
          "base_uri": "https://localhost:8080/",
          "height": 151
        },
        "outputId": "c70b47ff-75cb-444d-f187-b0cbc6fad620"
      },
      "source": [
        "graph3 = tf.Graph()\n",
        "with graph3.as_default():\n",
        "    Matrix_one = tf.constant([[1,2,3],[2,3,4],[3,4,5]])\n",
        "    Matrix_two = tf.constant([[2,2,2],[2,2,2],[2,2,2]])\n",
        "\n",
        "    add_1_operation = tf.add(Matrix_one, Matrix_two)\n",
        "    add_2_operation = Matrix_one + Matrix_two\n",
        "\n",
        "with tf.Session(graph =graph3) as sess:\n",
        "    result = sess.run(add_1_operation)\n",
        "    print (\"Defined using tensorflow function :\")\n",
        "    print(result)\n",
        "    result = sess.run(add_2_operation)\n",
        "    print (\"Defined using normal expressions :\")\n",
        "    print(result)"
      ],
      "execution_count": 25,
      "outputs": [
        {
          "output_type": "stream",
          "text": [
            "Defined using tensorflow function :\n",
            "[[3 4 5]\n",
            " [4 5 6]\n",
            " [5 6 7]]\n",
            "Defined using normal expressions :\n",
            "[[3 4 5]\n",
            " [4 5 6]\n",
            " [5 6 7]]\n"
          ],
          "name": "stdout"
        }
      ]
    },
    {
      "cell_type": "code",
      "metadata": {
        "id": "7GdzDQkwNx6a",
        "colab_type": "code",
        "colab": {
          "base_uri": "https://localhost:8080/",
          "height": 67
        },
        "outputId": "5343e8a2-d713-493f-a7d1-ce4a14aefbfb"
      },
      "source": [
        "graph4 = tf.Graph()\n",
        "with graph4.as_default():\n",
        "    Matrix_one = tf.constant([[2,3],[3,4]])\n",
        "    Matrix_two = tf.constant([[2,3],[3,4]])\n",
        "\n",
        "    mul_operation = tf.matmul(Matrix_one, Matrix_two)\n",
        "\n",
        "with tf.Session(graph = graph4) as sess:\n",
        "    result = sess.run(mul_operation)\n",
        "    print (\"Defined using tensorflow function :\")\n",
        "    print(result)"
      ],
      "execution_count": 26,
      "outputs": [
        {
          "output_type": "stream",
          "text": [
            "Defined using tensorflow function :\n",
            "[[13 18]\n",
            " [18 25]]\n"
          ],
          "name": "stdout"
        }
      ]
    },
    {
      "cell_type": "code",
      "metadata": {
        "id": "V_0u3szBOWnM",
        "colab_type": "code",
        "colab": {}
      },
      "source": [
        ""
      ],
      "execution_count": null,
      "outputs": []
    }
  ]
}