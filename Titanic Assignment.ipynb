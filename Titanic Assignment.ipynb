{
 "cells": [
  {
   "cell_type": "code",
   "execution_count": 50,
   "metadata": {},
   "outputs": [],
   "source": [
    "import pandas as pd\n",
    "import numpy as np\n",
    "\n",
    "#import plotting libraries \n",
    "import matplotlib\n",
    "import matplotlib.pyplot as plt\n",
    "from pandas.plotting import scatter_matrix\n",
    "%matplotlib inline\n"
   ]
  },
  {
   "cell_type": "code",
   "execution_count": 51,
   "metadata": {},
   "outputs": [],
   "source": [
    "import seaborn as sns\n",
    "sns.set(style='white', color_codes=True)\n",
    "sns.set(font_scale=1.5)\n"
   ]
  },
  {
   "cell_type": "code",
   "execution_count": 52,
   "metadata": {},
   "outputs": [],
   "source": [
    "from sklearn.linear_model import LogisticRegression\n",
    "from sklearn.model_selection import train_test_split"
   ]
  },
  {
   "cell_type": "code",
   "execution_count": 53,
   "metadata": {},
   "outputs": [],
   "source": [
    "from sklearn.metrics import confusion_matrix\n",
    "from sklearn.metrics import classification_report\n",
    "from sklearn.metrics import accuracy_score\n",
    "from sklearn.metrics import precision_score\n",
    "from sklearn.metrics import recall_score\n",
    "from sklearn.metrics import f1_score\n",
    "from sklearn import metrics\n"
   ]
  },
  {
   "cell_type": "code",
   "execution_count": 54,
   "metadata": {},
   "outputs": [],
   "source": [
    "df_train = pd.read_csv('train.csv')"
   ]
  },
  {
   "cell_type": "code",
   "execution_count": 55,
   "metadata": {},
   "outputs": [
    {
     "data": {
      "text/plain": [
       "(891, 12)"
      ]
     },
     "execution_count": 55,
     "metadata": {},
     "output_type": "execute_result"
    }
   ],
   "source": [
    "df_train.shape"
   ]
  },
  {
   "cell_type": "code",
   "execution_count": 56,
   "metadata": {},
   "outputs": [
    {
     "data": {
      "text/plain": [
       "male      577\n",
       "female    314\n",
       "Name: Sex, dtype: int64"
      ]
     },
     "execution_count": 56,
     "metadata": {},
     "output_type": "execute_result"
    }
   ],
   "source": [
    "#See distinct values in Sex columns\n",
    "df_train.Sex.value_counts()"
   ]
  },
  {
   "cell_type": "code",
   "execution_count": 57,
   "metadata": {},
   "outputs": [
    {
     "data": {
      "text/plain": [
       "0    549\n",
       "1    342\n",
       "Name: Survived, dtype: int64"
      ]
     },
     "execution_count": 57,
     "metadata": {},
     "output_type": "execute_result"
    }
   ],
   "source": [
    "df_train.Survived.value_counts()"
   ]
  },
  {
   "cell_type": "code",
   "execution_count": 58,
   "metadata": {},
   "outputs": [
    {
     "data": {
      "text/plain": [
       "S    644\n",
       "C    168\n",
       "Q     77\n",
       "Name: Embarked, dtype: int64"
      ]
     },
     "execution_count": 58,
     "metadata": {},
     "output_type": "execute_result"
    }
   ],
   "source": [
    "df_train.Embarked.value_counts()"
   ]
  },
  {
   "cell_type": "code",
   "execution_count": 59,
   "metadata": {},
   "outputs": [
    {
     "data": {
      "text/plain": [
       "PassengerId      0\n",
       "Survived         0\n",
       "Pclass           0\n",
       "Name             0\n",
       "Sex              0\n",
       "Age            177\n",
       "SibSp            0\n",
       "Parch            0\n",
       "Ticket           0\n",
       "Fare             0\n",
       "Cabin          687\n",
       "Embarked         2\n",
       "dtype: int64"
      ]
     },
     "execution_count": 59,
     "metadata": {},
     "output_type": "execute_result"
    }
   ],
   "source": [
    "#checking for missing values\n",
    "df_train.isnull().sum()"
   ]
  },
  {
   "cell_type": "code",
   "execution_count": 60,
   "metadata": {},
   "outputs": [
    {
     "data": {
      "text/plain": [
       "Index(['PassengerId', 'Survived', 'Pclass', 'Name', 'Sex', 'Age', 'SibSp',\n",
       "       'Parch', 'Ticket', 'Fare', 'Cabin', 'Embarked'],\n",
       "      dtype='object')"
      ]
     },
     "execution_count": 60,
     "metadata": {},
     "output_type": "execute_result"
    }
   ],
   "source": [
    "df_train.columns"
   ]
  },
  {
   "cell_type": "code",
   "execution_count": 61,
   "metadata": {},
   "outputs": [
    {
     "data": {
      "text/html": [
       "<div>\n",
       "<style scoped>\n",
       "    .dataframe tbody tr th:only-of-type {\n",
       "        vertical-align: middle;\n",
       "    }\n",
       "\n",
       "    .dataframe tbody tr th {\n",
       "        vertical-align: top;\n",
       "    }\n",
       "\n",
       "    .dataframe thead th {\n",
       "        text-align: right;\n",
       "    }\n",
       "</style>\n",
       "<table border=\"1\" class=\"dataframe\">\n",
       "  <thead>\n",
       "    <tr style=\"text-align: right;\">\n",
       "      <th></th>\n",
       "      <th>Survived</th>\n",
       "      <th>Pclass</th>\n",
       "      <th>Name</th>\n",
       "      <th>Sex</th>\n",
       "      <th>Age</th>\n",
       "      <th>SibSp</th>\n",
       "      <th>Parch</th>\n",
       "      <th>Fare</th>\n",
       "      <th>Embarked</th>\n",
       "    </tr>\n",
       "  </thead>\n",
       "  <tbody>\n",
       "    <tr>\n",
       "      <td>0</td>\n",
       "      <td>0</td>\n",
       "      <td>3</td>\n",
       "      <td>Braund, Mr. Owen Harris</td>\n",
       "      <td>male</td>\n",
       "      <td>22.0</td>\n",
       "      <td>1</td>\n",
       "      <td>0</td>\n",
       "      <td>7.2500</td>\n",
       "      <td>S</td>\n",
       "    </tr>\n",
       "    <tr>\n",
       "      <td>1</td>\n",
       "      <td>1</td>\n",
       "      <td>1</td>\n",
       "      <td>Cumings, Mrs. John Bradley (Florence Briggs Th...</td>\n",
       "      <td>female</td>\n",
       "      <td>38.0</td>\n",
       "      <td>1</td>\n",
       "      <td>0</td>\n",
       "      <td>71.2833</td>\n",
       "      <td>C</td>\n",
       "    </tr>\n",
       "    <tr>\n",
       "      <td>2</td>\n",
       "      <td>1</td>\n",
       "      <td>3</td>\n",
       "      <td>Heikkinen, Miss. Laina</td>\n",
       "      <td>female</td>\n",
       "      <td>26.0</td>\n",
       "      <td>0</td>\n",
       "      <td>0</td>\n",
       "      <td>7.9250</td>\n",
       "      <td>S</td>\n",
       "    </tr>\n",
       "    <tr>\n",
       "      <td>3</td>\n",
       "      <td>1</td>\n",
       "      <td>1</td>\n",
       "      <td>Futrelle, Mrs. Jacques Heath (Lily May Peel)</td>\n",
       "      <td>female</td>\n",
       "      <td>35.0</td>\n",
       "      <td>1</td>\n",
       "      <td>0</td>\n",
       "      <td>53.1000</td>\n",
       "      <td>S</td>\n",
       "    </tr>\n",
       "    <tr>\n",
       "      <td>4</td>\n",
       "      <td>0</td>\n",
       "      <td>3</td>\n",
       "      <td>Allen, Mr. William Henry</td>\n",
       "      <td>male</td>\n",
       "      <td>35.0</td>\n",
       "      <td>0</td>\n",
       "      <td>0</td>\n",
       "      <td>8.0500</td>\n",
       "      <td>S</td>\n",
       "    </tr>\n",
       "  </tbody>\n",
       "</table>\n",
       "</div>"
      ],
      "text/plain": [
       "   Survived  Pclass  ...     Fare Embarked\n",
       "0         0       3  ...   7.2500        S\n",
       "1         1       1  ...  71.2833        C\n",
       "2         1       3  ...   7.9250        S\n",
       "3         1       1  ...  53.1000        S\n",
       "4         0       3  ...   8.0500        S\n",
       "\n",
       "[5 rows x 9 columns]"
      ]
     },
     "execution_count": 61,
     "metadata": {},
     "output_type": "execute_result"
    }
   ],
   "source": [
    "# drop irrelevant columns\n",
    "\n",
    "df_train = df_train.drop(['PassengerId','Ticket','Cabin'],axis=1)\n",
    "df_train.head()"
   ]
  },
  {
   "cell_type": "code",
   "execution_count": 62,
   "metadata": {},
   "outputs": [],
   "source": [
    "def age_approx(cols):\n",
    "    Age = cols[0]\n",
    "    Pclass = cols[1]\n",
    "    \n",
    "    if pd.isnull(Age):\n",
    "        if Pclass == 1:\n",
    "            return 37\n",
    "        elif Pclass == 2:\n",
    "            return 29\n",
    "        else:\n",
    "            return 24\n",
    "        \n",
    "    else:\n",
    "        return Age\n",
    "        "
   ]
  },
  {
   "cell_type": "code",
   "execution_count": 63,
   "metadata": {},
   "outputs": [
    {
     "data": {
      "text/html": [
       "<div>\n",
       "<style scoped>\n",
       "    .dataframe tbody tr th:only-of-type {\n",
       "        vertical-align: middle;\n",
       "    }\n",
       "\n",
       "    .dataframe tbody tr th {\n",
       "        vertical-align: top;\n",
       "    }\n",
       "\n",
       "    .dataframe thead th {\n",
       "        text-align: right;\n",
       "    }\n",
       "</style>\n",
       "<table border=\"1\" class=\"dataframe\">\n",
       "  <thead>\n",
       "    <tr style=\"text-align: right;\">\n",
       "      <th></th>\n",
       "      <th>Survived</th>\n",
       "      <th>Age</th>\n",
       "      <th>SibSp</th>\n",
       "      <th>Parch</th>\n",
       "      <th>Fare</th>\n",
       "    </tr>\n",
       "    <tr>\n",
       "      <th>Pclass</th>\n",
       "      <th></th>\n",
       "      <th></th>\n",
       "      <th></th>\n",
       "      <th></th>\n",
       "      <th></th>\n",
       "    </tr>\n",
       "  </thead>\n",
       "  <tbody>\n",
       "    <tr>\n",
       "      <td>1</td>\n",
       "      <td>0.629630</td>\n",
       "      <td>38.233441</td>\n",
       "      <td>0.416667</td>\n",
       "      <td>0.356481</td>\n",
       "      <td>84.154687</td>\n",
       "    </tr>\n",
       "    <tr>\n",
       "      <td>2</td>\n",
       "      <td>0.472826</td>\n",
       "      <td>29.877630</td>\n",
       "      <td>0.402174</td>\n",
       "      <td>0.380435</td>\n",
       "      <td>20.662183</td>\n",
       "    </tr>\n",
       "    <tr>\n",
       "      <td>3</td>\n",
       "      <td>0.242363</td>\n",
       "      <td>25.140620</td>\n",
       "      <td>0.615071</td>\n",
       "      <td>0.393075</td>\n",
       "      <td>13.675550</td>\n",
       "    </tr>\n",
       "  </tbody>\n",
       "</table>\n",
       "</div>"
      ],
      "text/plain": [
       "        Survived        Age     SibSp     Parch       Fare\n",
       "Pclass                                                    \n",
       "1       0.629630  38.233441  0.416667  0.356481  84.154687\n",
       "2       0.472826  29.877630  0.402174  0.380435  20.662183\n",
       "3       0.242363  25.140620  0.615071  0.393075  13.675550"
      ]
     },
     "execution_count": 63,
     "metadata": {},
     "output_type": "execute_result"
    }
   ],
   "source": [
    "df_train.groupby(['Pclass']).mean()"
   ]
  },
  {
   "cell_type": "code",
   "execution_count": 64,
   "metadata": {},
   "outputs": [],
   "source": [
    "df_train['Age'] = df_train[['Age','Pclass']].apply(age_approx,axis = 1)"
   ]
  },
  {
   "cell_type": "code",
   "execution_count": 65,
   "metadata": {},
   "outputs": [
    {
     "data": {
      "text/plain": [
       "Survived    0\n",
       "Pclass      0\n",
       "Name        0\n",
       "Sex         0\n",
       "Age         0\n",
       "SibSp       0\n",
       "Parch       0\n",
       "Fare        0\n",
       "Embarked    2\n",
       "dtype: int64"
      ]
     },
     "execution_count": 65,
     "metadata": {},
     "output_type": "execute_result"
    }
   ],
   "source": [
    "df_train.isnull().sum()"
   ]
  },
  {
   "cell_type": "code",
   "execution_count": 66,
   "metadata": {},
   "outputs": [
    {
     "data": {
      "text/plain": [
       "Survived    0\n",
       "Pclass      0\n",
       "Name        0\n",
       "Sex         0\n",
       "Age         0\n",
       "SibSp       0\n",
       "Parch       0\n",
       "Fare        0\n",
       "Embarked    0\n",
       "dtype: int64"
      ]
     },
     "execution_count": 66,
     "metadata": {},
     "output_type": "execute_result"
    }
   ],
   "source": [
    "df_train.dropna(inplace=True)\n",
    "df_train.isnull().sum()"
   ]
  },
  {
   "cell_type": "code",
   "execution_count": 67,
   "metadata": {},
   "outputs": [],
   "source": [
    "df_train_dummied = pd.get_dummies(df_train, columns=['Sex'])"
   ]
  },
  {
   "cell_type": "code",
   "execution_count": 68,
   "metadata": {},
   "outputs": [],
   "source": [
    "df_train_dummied = pd.get_dummies(df_train_dummied,columns=['Embarked'])"
   ]
  },
  {
   "cell_type": "code",
   "execution_count": 69,
   "metadata": {},
   "outputs": [
    {
     "data": {
      "text/html": [
       "<div>\n",
       "<style scoped>\n",
       "    .dataframe tbody tr th:only-of-type {\n",
       "        vertical-align: middle;\n",
       "    }\n",
       "\n",
       "    .dataframe tbody tr th {\n",
       "        vertical-align: top;\n",
       "    }\n",
       "\n",
       "    .dataframe thead th {\n",
       "        text-align: right;\n",
       "    }\n",
       "</style>\n",
       "<table border=\"1\" class=\"dataframe\">\n",
       "  <thead>\n",
       "    <tr style=\"text-align: right;\">\n",
       "      <th></th>\n",
       "      <th>Survived</th>\n",
       "      <th>Pclass</th>\n",
       "      <th>Name</th>\n",
       "      <th>Age</th>\n",
       "      <th>SibSp</th>\n",
       "      <th>Parch</th>\n",
       "      <th>Fare</th>\n",
       "      <th>Sex_female</th>\n",
       "      <th>Sex_male</th>\n",
       "      <th>Embarked_C</th>\n",
       "      <th>Embarked_Q</th>\n",
       "      <th>Embarked_S</th>\n",
       "    </tr>\n",
       "  </thead>\n",
       "  <tbody>\n",
       "    <tr>\n",
       "      <td>0</td>\n",
       "      <td>0</td>\n",
       "      <td>3</td>\n",
       "      <td>Braund, Mr. Owen Harris</td>\n",
       "      <td>22.0</td>\n",
       "      <td>1</td>\n",
       "      <td>0</td>\n",
       "      <td>7.2500</td>\n",
       "      <td>0</td>\n",
       "      <td>1</td>\n",
       "      <td>0</td>\n",
       "      <td>0</td>\n",
       "      <td>1</td>\n",
       "    </tr>\n",
       "    <tr>\n",
       "      <td>1</td>\n",
       "      <td>1</td>\n",
       "      <td>1</td>\n",
       "      <td>Cumings, Mrs. John Bradley (Florence Briggs Th...</td>\n",
       "      <td>38.0</td>\n",
       "      <td>1</td>\n",
       "      <td>0</td>\n",
       "      <td>71.2833</td>\n",
       "      <td>1</td>\n",
       "      <td>0</td>\n",
       "      <td>1</td>\n",
       "      <td>0</td>\n",
       "      <td>0</td>\n",
       "    </tr>\n",
       "    <tr>\n",
       "      <td>2</td>\n",
       "      <td>1</td>\n",
       "      <td>3</td>\n",
       "      <td>Heikkinen, Miss. Laina</td>\n",
       "      <td>26.0</td>\n",
       "      <td>0</td>\n",
       "      <td>0</td>\n",
       "      <td>7.9250</td>\n",
       "      <td>1</td>\n",
       "      <td>0</td>\n",
       "      <td>0</td>\n",
       "      <td>0</td>\n",
       "      <td>1</td>\n",
       "    </tr>\n",
       "    <tr>\n",
       "      <td>3</td>\n",
       "      <td>1</td>\n",
       "      <td>1</td>\n",
       "      <td>Futrelle, Mrs. Jacques Heath (Lily May Peel)</td>\n",
       "      <td>35.0</td>\n",
       "      <td>1</td>\n",
       "      <td>0</td>\n",
       "      <td>53.1000</td>\n",
       "      <td>1</td>\n",
       "      <td>0</td>\n",
       "      <td>0</td>\n",
       "      <td>0</td>\n",
       "      <td>1</td>\n",
       "    </tr>\n",
       "    <tr>\n",
       "      <td>4</td>\n",
       "      <td>0</td>\n",
       "      <td>3</td>\n",
       "      <td>Allen, Mr. William Henry</td>\n",
       "      <td>35.0</td>\n",
       "      <td>0</td>\n",
       "      <td>0</td>\n",
       "      <td>8.0500</td>\n",
       "      <td>0</td>\n",
       "      <td>1</td>\n",
       "      <td>0</td>\n",
       "      <td>0</td>\n",
       "      <td>1</td>\n",
       "    </tr>\n",
       "    <tr>\n",
       "      <td>...</td>\n",
       "      <td>...</td>\n",
       "      <td>...</td>\n",
       "      <td>...</td>\n",
       "      <td>...</td>\n",
       "      <td>...</td>\n",
       "      <td>...</td>\n",
       "      <td>...</td>\n",
       "      <td>...</td>\n",
       "      <td>...</td>\n",
       "      <td>...</td>\n",
       "      <td>...</td>\n",
       "      <td>...</td>\n",
       "    </tr>\n",
       "    <tr>\n",
       "      <td>886</td>\n",
       "      <td>0</td>\n",
       "      <td>2</td>\n",
       "      <td>Montvila, Rev. Juozas</td>\n",
       "      <td>27.0</td>\n",
       "      <td>0</td>\n",
       "      <td>0</td>\n",
       "      <td>13.0000</td>\n",
       "      <td>0</td>\n",
       "      <td>1</td>\n",
       "      <td>0</td>\n",
       "      <td>0</td>\n",
       "      <td>1</td>\n",
       "    </tr>\n",
       "    <tr>\n",
       "      <td>887</td>\n",
       "      <td>1</td>\n",
       "      <td>1</td>\n",
       "      <td>Graham, Miss. Margaret Edith</td>\n",
       "      <td>19.0</td>\n",
       "      <td>0</td>\n",
       "      <td>0</td>\n",
       "      <td>30.0000</td>\n",
       "      <td>1</td>\n",
       "      <td>0</td>\n",
       "      <td>0</td>\n",
       "      <td>0</td>\n",
       "      <td>1</td>\n",
       "    </tr>\n",
       "    <tr>\n",
       "      <td>888</td>\n",
       "      <td>0</td>\n",
       "      <td>3</td>\n",
       "      <td>Johnston, Miss. Catherine Helen \"Carrie\"</td>\n",
       "      <td>24.0</td>\n",
       "      <td>1</td>\n",
       "      <td>2</td>\n",
       "      <td>23.4500</td>\n",
       "      <td>1</td>\n",
       "      <td>0</td>\n",
       "      <td>0</td>\n",
       "      <td>0</td>\n",
       "      <td>1</td>\n",
       "    </tr>\n",
       "    <tr>\n",
       "      <td>889</td>\n",
       "      <td>1</td>\n",
       "      <td>1</td>\n",
       "      <td>Behr, Mr. Karl Howell</td>\n",
       "      <td>26.0</td>\n",
       "      <td>0</td>\n",
       "      <td>0</td>\n",
       "      <td>30.0000</td>\n",
       "      <td>0</td>\n",
       "      <td>1</td>\n",
       "      <td>1</td>\n",
       "      <td>0</td>\n",
       "      <td>0</td>\n",
       "    </tr>\n",
       "    <tr>\n",
       "      <td>890</td>\n",
       "      <td>0</td>\n",
       "      <td>3</td>\n",
       "      <td>Dooley, Mr. Patrick</td>\n",
       "      <td>32.0</td>\n",
       "      <td>0</td>\n",
       "      <td>0</td>\n",
       "      <td>7.7500</td>\n",
       "      <td>0</td>\n",
       "      <td>1</td>\n",
       "      <td>0</td>\n",
       "      <td>1</td>\n",
       "      <td>0</td>\n",
       "    </tr>\n",
       "  </tbody>\n",
       "</table>\n",
       "<p>889 rows × 12 columns</p>\n",
       "</div>"
      ],
      "text/plain": [
       "     Survived  Pclass  ... Embarked_Q  Embarked_S\n",
       "0           0       3  ...          0           1\n",
       "1           1       1  ...          0           0\n",
       "2           1       3  ...          0           1\n",
       "3           1       1  ...          0           1\n",
       "4           0       3  ...          0           1\n",
       "..        ...     ...  ...        ...         ...\n",
       "886         0       2  ...          0           1\n",
       "887         1       1  ...          0           1\n",
       "888         0       3  ...          0           1\n",
       "889         1       1  ...          0           0\n",
       "890         0       3  ...          1           0\n",
       "\n",
       "[889 rows x 12 columns]"
      ]
     },
     "execution_count": 69,
     "metadata": {},
     "output_type": "execute_result"
    }
   ],
   "source": [
    "df_train_dummied "
   ]
  },
  {
   "cell_type": "code",
   "execution_count": 71,
   "metadata": {},
   "outputs": [
    {
     "data": {
      "text/plain": [
       "<matplotlib.axes._subplots.AxesSubplot at 0x1ec9aac8>"
      ]
     },
     "execution_count": 71,
     "metadata": {},
     "output_type": "execute_result"
    },
    {
     "data": {
      "image/png": "[encoded data removed]",
      "text/plain": [
       "<Figure size 576x432 with 2 Axes>"
      ]
     },
     "metadata": {},
     "output_type": "display_data"
    }
   ],
   "source": [
    "plt.figure(figsize=(8,6))\n",
    "sns.heatmap(df_train_dummied.corr())"
   ]
  },
  {
   "cell_type": "code",
   "execution_count": 74,
   "metadata": {},
   "outputs": [],
   "source": [
    "used_features = ['Pclass','Age','SibSp','Parch','Sex_female','Sex_male','Embarked_C','Embarked_Q','Embarked_S']"
   ]
  },
  {
   "cell_type": "code",
   "execution_count": 75,
   "metadata": {},
   "outputs": [],
   "source": [
    "X = df_train_dummied[used_features].values"
   ]
  },
  {
   "cell_type": "code",
   "execution_count": 76,
   "metadata": {},
   "outputs": [],
   "source": [
    "y = df_train_dummied['Survived']"
   ]
  },
  {
   "cell_type": "code",
   "execution_count": 78,
   "metadata": {},
   "outputs": [],
   "source": [
    "X_train,X_test,y_train,y_test = train_test_split(X,y,test_size=0.3,random_state =11)"
   ]
  },
  {
   "cell_type": "code",
   "execution_count": 81,
   "metadata": {},
   "outputs": [
    {
     "name": "stdout",
     "output_type": "stream",
     "text": [
      "(622, 9)\n",
      "(267, 9)\n",
      "(622,)\n",
      "(267,)\n"
     ]
    }
   ],
   "source": [
    "print(X_train.shape)\n",
    "print(X_test.shape)\n",
    "print(y_train.shape)\n",
    "print(y_test.shape)"
   ]
  },
  {
   "cell_type": "code",
   "execution_count": 82,
   "metadata": {},
   "outputs": [],
   "source": [
    "#Initiate the classifier\n",
    "\n",
    "LogReg = LogisticRegression()"
   ]
  },
  {
   "cell_type": "code",
   "execution_count": 83,
   "metadata": {},
   "outputs": [
    {
     "name": "stderr",
     "output_type": "stream",
     "text": [
      "C:\\Users\\asm1318\\AppData\\Local\\Continuum\\anaconda3\\lib\\site-packages\\sklearn\\linear_model\\logistic.py:432: FutureWarning: Default solver will be changed to 'lbfgs' in 0.22. Specify a solver to silence this warning.\n",
      "  FutureWarning)\n"
     ]
    },
    {
     "data": {
      "text/plain": [
       "LogisticRegression(C=1.0, class_weight=None, dual=False, fit_intercept=True,\n",
       "                   intercept_scaling=1, l1_ratio=None, max_iter=100,\n",
       "                   multi_class='warn', n_jobs=None, penalty='l2',\n",
       "                   random_state=None, solver='warn', tol=0.0001, verbose=0,\n",
       "                   warm_start=False)"
      ]
     },
     "execution_count": 83,
     "metadata": {},
     "output_type": "execute_result"
    }
   ],
   "source": [
    "LogReg.fit(X_train,y_train)"
   ]
  },
  {
   "cell_type": "code",
   "execution_count": 84,
   "metadata": {},
   "outputs": [],
   "source": [
    "y_pred = LogReg.predict(X_test)"
   ]
  },
  {
   "cell_type": "code",
   "execution_count": 85,
   "metadata": {},
   "outputs": [
    {
     "data": {
      "text/plain": [
       "array([[143,  18],\n",
       "       [ 23,  83]], dtype=int64)"
      ]
     },
     "execution_count": 85,
     "metadata": {},
     "output_type": "execute_result"
    }
   ],
   "source": [
    "metrics.confusion_matrix(y_test,y_pred)"
   ]
  },
  {
   "cell_type": "code",
   "execution_count": 86,
   "metadata": {},
   "outputs": [
    {
     "data": {
      "text/plain": [
       "0.846441947565543"
      ]
     },
     "execution_count": 86,
     "metadata": {},
     "output_type": "execute_result"
    }
   ],
   "source": [
    "metrics.accuracy_score(y_test,y_pred)"
   ]
  },
  {
   "cell_type": "code",
   "execution_count": 87,
   "metadata": {},
   "outputs": [
    {
     "data": {
      "text/plain": [
       "267"
      ]
     },
     "execution_count": 87,
     "metadata": {},
     "output_type": "execute_result"
    }
   ],
   "source": [
    "len(X_test)"
   ]
  },
  {
   "cell_type": "code",
   "execution_count": 88,
   "metadata": {},
   "outputs": [
    {
     "name": "stdout",
     "output_type": "stream",
     "text": [
      "              precision    recall  f1-score   support\n",
      "\n",
      "           0       0.86      0.89      0.87       161\n",
      "           1       0.82      0.78      0.80       106\n",
      "\n",
      "    accuracy                           0.85       267\n",
      "   macro avg       0.84      0.84      0.84       267\n",
      "weighted avg       0.85      0.85      0.85       267\n",
      "\n"
     ]
    }
   ],
   "source": [
    "print(classification_report(y_test,y_pred))"
   ]
  },
  {
   "cell_type": "code",
   "execution_count": 89,
   "metadata": {},
   "outputs": [
    {
     "data": {
      "text/plain": [
       "array([[-1.04235236, -0.03066349, -0.22601304, -0.12982814,  2.07285002,\n",
       "        -0.25356755,  0.82751581,  0.67729244,  0.31447422]])"
      ]
     },
     "execution_count": 89,
     "metadata": {},
     "output_type": "execute_result"
    }
   ],
   "source": [
    "LogReg.coef_"
   ]
  },
  {
   "cell_type": "code",
   "execution_count": 91,
   "metadata": {},
   "outputs": [
    {
     "data": {
      "text/plain": [
       "array([1.81928247])"
      ]
     },
     "execution_count": 91,
     "metadata": {},
     "output_type": "execute_result"
    }
   ],
   "source": [
    "LogReg.intercept_"
   ]
  },
  {
   "cell_type": "code",
   "execution_count": 92,
   "metadata": {},
   "outputs": [
    {
     "data": {
      "text/plain": [
       "Index(['Pclass', 'Age', 'SibSp', 'Parch', 'Sex_female', 'Sex_male',\n",
       "       'Embarked_C', 'Embarked_Q', 'Embarked_S'],\n",
       "      dtype='object')"
      ]
     },
     "execution_count": 92,
     "metadata": {},
     "output_type": "execute_result"
    }
   ],
   "source": [
    "df_train_dummied[used_features].columns"
   ]
  },
  {
   "cell_type": "code",
   "execution_count": 93,
   "metadata": {},
   "outputs": [
    {
     "data": {
      "text/plain": [
       "array([[0.35251045, 0.64748955],\n",
       "       [0.91301049, 0.08698951],\n",
       "       [0.57363862, 0.42636138],\n",
       "       [0.46958577, 0.53041423],\n",
       "       [0.83723172, 0.16276828],\n",
       "       [0.83054803, 0.16945197],\n",
       "       [0.54128894, 0.45871106],\n",
       "       [0.15240052, 0.84759948],\n",
       "       [0.08685495, 0.91314505],\n",
       "       [0.83479147, 0.16520853],\n",
       "       [0.55909161, 0.44090839],\n",
       "       [0.86169908, 0.13830092],\n",
       "       [0.83479147, 0.16520853],\n",
       "       [0.17927036, 0.82072964],\n",
       "       [0.24367443, 0.75632557],\n",
       "       [0.83939467, 0.16060533],\n",
       "       [0.86365518, 0.13634482],\n",
       "       [0.59790277, 0.40209723],\n",
       "       [0.09541019, 0.90458981],\n",
       "       [0.90274464, 0.09725536],\n",
       "       [0.43856382, 0.56143618],\n",
       "       [0.62421408, 0.37578592],\n",
       "       [0.86884686, 0.13115314],\n",
       "       [0.80351711, 0.19648289],\n",
       "       [0.87897844, 0.12102156],\n",
       "       [0.89402916, 0.10597084],\n",
       "       [0.87897844, 0.12102156],\n",
       "       [0.51284827, 0.48715173],\n",
       "       [0.71295429, 0.28704571],\n",
       "       [0.92620386, 0.07379614],\n",
       "       [0.08974652, 0.91025348],\n",
       "       [0.72067651, 0.27932349],\n",
       "       [0.89290629, 0.10709371],\n",
       "       [0.6424026 , 0.3575974 ],\n",
       "       [0.87897844, 0.12102156],\n",
       "       [0.93060767, 0.06939233],\n",
       "       [0.37107523, 0.62892477],\n",
       "       [0.91144914, 0.08855086],\n",
       "       [0.89143134, 0.10856866],\n",
       "       [0.90274464, 0.09725536],\n",
       "       [0.08931792, 0.91068208],\n",
       "       [0.95504145, 0.04495855],\n",
       "       [0.86169908, 0.13830092],\n",
       "       [0.30914404, 0.69085596],\n",
       "       [0.5137464 , 0.4862536 ],\n",
       "       [0.26767684, 0.73232316],\n",
       "       [0.33038504, 0.66961496],\n",
       "       [0.72328529, 0.27671471],\n",
       "       [0.47901992, 0.52098008],\n",
       "       [0.12875658, 0.87124342],\n",
       "       [0.81352618, 0.18647382],\n",
       "       [0.71382829, 0.28617171],\n",
       "       [0.25947868, 0.74052132],\n",
       "       [0.68062916, 0.31937084],\n",
       "       [0.43267872, 0.56732128],\n",
       "       [0.81643555, 0.18356445],\n",
       "       [0.14140221, 0.85859779],\n",
       "       [0.83479147, 0.16520853],\n",
       "       [0.86169908, 0.13830092],\n",
       "       [0.89143134, 0.10856866],\n",
       "       [0.22040216, 0.77959784],\n",
       "       [0.22040216, 0.77959784],\n",
       "       [0.11771036, 0.88228964],\n",
       "       [0.84866064, 0.15133936],\n",
       "       [0.59055907, 0.40944093],\n",
       "       [0.91052728, 0.08947272],\n",
       "       [0.44612761, 0.55387239],\n",
       "       [0.15952811, 0.84047189],\n",
       "       [0.07284341, 0.92715659],\n",
       "       [0.8130194 , 0.1869806 ],\n",
       "       [0.88018258, 0.11981742],\n",
       "       [0.86169908, 0.13830092],\n",
       "       [0.09583797, 0.90416203],\n",
       "       [0.27511774, 0.72488226],\n",
       "       [0.20005058, 0.79994942],\n",
       "       [0.91774388, 0.08225612],\n",
       "       [0.33242457, 0.66757543],\n",
       "       [0.40184615, 0.59815385],\n",
       "       [0.18573443, 0.81426557],\n",
       "       [0.49544856, 0.50455144],\n",
       "       [0.83479147, 0.16520853],\n",
       "       [0.07291527, 0.92708473],\n",
       "       [0.05069015, 0.94930985],\n",
       "       [0.06320599, 0.93679401],\n",
       "       [0.07444582, 0.92555418],\n",
       "       [0.87897844, 0.12102156],\n",
       "       [0.83309679, 0.16690321],\n",
       "       [0.87897844, 0.12102156],\n",
       "       [0.86884686, 0.13115314],\n",
       "       [0.83521774, 0.16478226],\n",
       "       [0.69555706, 0.30444294],\n",
       "       [0.74908848, 0.25091152],\n",
       "       [0.76726315, 0.23273685],\n",
       "       [0.87897844, 0.12102156],\n",
       "       [0.33038504, 0.66961496],\n",
       "       [0.87567851, 0.12432149],\n",
       "       [0.07658641, 0.92341359],\n",
       "       [0.90540374, 0.09459626],\n",
       "       [0.90001904, 0.09998096],\n",
       "       [0.41137645, 0.58862355],\n",
       "       [0.36714888, 0.63285112],\n",
       "       [0.85600475, 0.14399525],\n",
       "       [0.09321361, 0.90678639],\n",
       "       [0.89369147, 0.10630853],\n",
       "       [0.89610268, 0.10389732],\n",
       "       [0.32412678, 0.67587322],\n",
       "       [0.46779926, 0.53220074],\n",
       "       [0.8130194 , 0.1869806 ],\n",
       "       [0.60383188, 0.39616812],\n",
       "       [0.86123568, 0.13876432],\n",
       "       [0.1241146 , 0.8758854 ],\n",
       "       [0.88535199, 0.11464801],\n",
       "       [0.1838264 , 0.8161736 ],\n",
       "       [0.36502318, 0.63497682],\n",
       "       [0.46017331, 0.53982669],\n",
       "       [0.06031167, 0.93968833],\n",
       "       [0.85802924, 0.14197076],\n",
       "       [0.94110863, 0.05889137],\n",
       "       [0.8130194 , 0.1869806 ],\n",
       "       [0.85141234, 0.14858766],\n",
       "       [0.83479147, 0.16520853],\n",
       "       [0.90274464, 0.09725536],\n",
       "       [0.9129941 , 0.0870059 ],\n",
       "       [0.8580041 , 0.1419959 ],\n",
       "       [0.90799756, 0.09200244],\n",
       "       [0.66535719, 0.33464281],\n",
       "       [0.87897844, 0.12102156],\n",
       "       [0.75822324, 0.24177676],\n",
       "       [0.86591135, 0.13408865],\n",
       "       [0.3738372 , 0.6261628 ],\n",
       "       [0.05014587, 0.94985413],\n",
       "       [0.55857613, 0.44142387],\n",
       "       [0.28144821, 0.71855179],\n",
       "       [0.59932392, 0.40067608],\n",
       "       [0.48593224, 0.51406776],\n",
       "       [0.33038504, 0.66961496],\n",
       "       [0.81352618, 0.18647382],\n",
       "       [0.81632281, 0.18367719],\n",
       "       [0.14901276, 0.85098724],\n",
       "       [0.19332375, 0.80667625],\n",
       "       [0.75480771, 0.24519229],\n",
       "       [0.8130194 , 0.1869806 ],\n",
       "       [0.49269616, 0.50730384],\n",
       "       [0.44612761, 0.55387239],\n",
       "       [0.9129941 , 0.0870059 ],\n",
       "       [0.86645274, 0.13354726],\n",
       "       [0.92654125, 0.07345875],\n",
       "       [0.83479147, 0.16520853],\n",
       "       [0.14140221, 0.85859779],\n",
       "       [0.94325162, 0.05674838],\n",
       "       [0.36829896, 0.63170104],\n",
       "       [0.87230168, 0.12769832],\n",
       "       [0.42516791, 0.57483209],\n",
       "       [0.09202435, 0.90797565],\n",
       "       [0.86533704, 0.13466296],\n",
       "       [0.74328123, 0.25671877],\n",
       "       [0.08165329, 0.91834671],\n",
       "       [0.90274464, 0.09725536],\n",
       "       [0.1862327 , 0.8137673 ],\n",
       "       [0.08572369, 0.91427631],\n",
       "       [0.865313  , 0.134687  ],\n",
       "       [0.65758566, 0.34241434],\n",
       "       [0.84866064, 0.15133936],\n",
       "       [0.43455073, 0.56544927],\n",
       "       [0.1341191 , 0.8658809 ],\n",
       "       [0.87897844, 0.12102156],\n",
       "       [0.85036717, 0.14963283],\n",
       "       [0.92175471, 0.07824529],\n",
       "       [0.24219731, 0.75780269],\n",
       "       [0.80224603, 0.19775397],\n",
       "       [0.91774388, 0.08225612],\n",
       "       [0.19507047, 0.80492953],\n",
       "       [0.47928535, 0.52071465],\n",
       "       [0.86365518, 0.13634482],\n",
       "       [0.87897844, 0.12102156],\n",
       "       [0.90540374, 0.09459626],\n",
       "       [0.8130194 , 0.1869806 ],\n",
       "       [0.57363862, 0.42636138],\n",
       "       [0.61401986, 0.38598014],\n",
       "       [0.14140221, 0.85859779],\n",
       "       [0.8130194 , 0.1869806 ],\n",
       "       [0.1341191 , 0.8658809 ],\n",
       "       [0.61235067, 0.38764933],\n",
       "       [0.8542528 , 0.1457472 ],\n",
       "       [0.8895498 , 0.1104502 ],\n",
       "       [0.87897844, 0.12102156],\n",
       "       [0.25578842, 0.74421158],\n",
       "       [0.41492897, 0.58507103],\n",
       "       [0.40755477, 0.59244523],\n",
       "       [0.89436357, 0.10563643],\n",
       "       [0.08628764, 0.91371236],\n",
       "       [0.81919824, 0.18080176],\n",
       "       [0.83479147, 0.16520853],\n",
       "       [0.2000836 , 0.7999164 ],\n",
       "       [0.87897844, 0.12102156],\n",
       "       [0.68058432, 0.31941568],\n",
       "       [0.69946934, 0.30053066],\n",
       "       [0.33709171, 0.66290829],\n",
       "       [0.05014587, 0.94985413],\n",
       "       [0.87897844, 0.12102156],\n",
       "       [0.85566255, 0.14433745],\n",
       "       [0.95760239, 0.04239761],\n",
       "       [0.83479147, 0.16520853],\n",
       "       [0.34736216, 0.65263784],\n",
       "       [0.87897844, 0.12102156],\n",
       "       [0.27241275, 0.72758725],\n",
       "       [0.93741466, 0.06258534],\n",
       "       [0.93631792, 0.06368208],\n",
       "       [0.58112073, 0.41887927],\n",
       "       [0.07086942, 0.92913058],\n",
       "       [0.91774388, 0.08225612],\n",
       "       [0.87897844, 0.12102156],\n",
       "       [0.47063063, 0.52936937],\n",
       "       [0.65753921, 0.34246079],\n",
       "       [0.38724695, 0.61275305],\n",
       "       [0.69380986, 0.30619014],\n",
       "       [0.88535199, 0.11464801],\n",
       "       [0.70103896, 0.29896104],\n",
       "       [0.98288526, 0.01711474],\n",
       "       [0.71295429, 0.28704571],\n",
       "       [0.8130194 , 0.1869806 ],\n",
       "       [0.22571606, 0.77428394],\n",
       "       [0.93371872, 0.06628128],\n",
       "       [0.74481075, 0.25518925],\n",
       "       [0.92352247, 0.07647753],\n",
       "       [0.47838819, 0.52161181],\n",
       "       [0.82171101, 0.17828899],\n",
       "       [0.07580809, 0.92419191],\n",
       "       [0.37107523, 0.62892477],\n",
       "       [0.7659796 , 0.2340204 ],\n",
       "       [0.69791559, 0.30208441],\n",
       "       [0.42989026, 0.57010974],\n",
       "       [0.87897844, 0.12102156],\n",
       "       [0.87897844, 0.12102156],\n",
       "       [0.30279247, 0.69720753],\n",
       "       [0.62059204, 0.37940796],\n",
       "       [0.38528319, 0.61471681],\n",
       "       [0.93256187, 0.06743813],\n",
       "       [0.17503531, 0.82496469],\n",
       "       [0.88535199, 0.11464801],\n",
       "       [0.97113866, 0.02886134],\n",
       "       [0.12715556, 0.87284444],\n",
       "       [0.93761632, 0.06238368],\n",
       "       [0.35502778, 0.64497222],\n",
       "       [0.58649964, 0.41350036],\n",
       "       [0.33335605, 0.66664395],\n",
       "       [0.90276275, 0.09723725],\n",
       "       [0.8130194 , 0.1869806 ],\n",
       "       [0.94325162, 0.05674838],\n",
       "       [0.57363862, 0.42636138],\n",
       "       [0.08974652, 0.91025348],\n",
       "       [0.50518504, 0.49481496],\n",
       "       [0.73742663, 0.26257337],\n",
       "       [0.88535199, 0.11464801],\n",
       "       [0.27135882, 0.72864118],\n",
       "       [0.87897844, 0.12102156],\n",
       "       [0.22697235, 0.77302765],\n",
       "       [0.29787875, 0.70212125],\n",
       "       [0.92860118, 0.07139882],\n",
       "       [0.87897844, 0.12102156],\n",
       "       [0.87230168, 0.12769832],\n",
       "       [0.69014294, 0.30985706],\n",
       "       [0.87897844, 0.12102156],\n",
       "       [0.6911849 , 0.3088151 ],\n",
       "       [0.38804759, 0.61195241],\n",
       "       [0.38215034, 0.61784966],\n",
       "       [0.35692687, 0.64307313]])"
      ]
     },
     "execution_count": 93,
     "metadata": {},
     "output_type": "execute_result"
    }
   ],
   "source": [
    "LogReg.predict_proba(X_test)"
   ]
  },
  {
   "cell_type": "code",
   "execution_count": null,
   "metadata": {},
   "outputs": [],
   "source": []
  }
 ],
 "metadata": {
  "kernelspec": {
   "display_name": "Python 3",
   "language": "python",
   "name": "python3"
  },
  "language_info": {
   "codemirror_mode": {
    "name": "ipython",
    "version": 3
   },
   "file_extension": ".py",
   "mimetype": "text/x-python",
   "name": "python",
   "nbconvert_exporter": "python",
   "pygments_lexer": "ipython3",
   "version": "3.7.4"
  }
 },
 "nbformat": 4,
 "nbformat_minor": 2
}
