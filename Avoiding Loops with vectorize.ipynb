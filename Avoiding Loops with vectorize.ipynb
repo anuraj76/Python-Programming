{
 "cells": [
  {
   "cell_type": "code",
   "execution_count": 1,
   "metadata": {},
   "outputs": [],
   "source": [
    "import numpy as np\n",
    "from matplotlib.pyplot import plot\n",
    "from matplotlib.pyplot import show"
   ]
  },
  {
   "cell_type": "code",
   "execution_count": 2,
   "metadata": {},
   "outputs": [],
   "source": [
    "o,h,l,c = np.loadtxt('BHP.csv',delimiter=',',usecols=(3,4,5,6),unpack=True)"
   ]
  },
  {
   "cell_type": "code",
   "execution_count": 4,
   "metadata": {},
   "outputs": [],
   "source": [
    "def calc_profit(open,high,low,close):\n",
    "    #buy if price is just below open\n",
    "    buy = open*0.999\n",
    "    \n",
    "    #daily range\n",
    "    if low < buy < high:\n",
    "        return(close-buy)/buy\n",
    "    else:\n",
    "        return 0"
   ]
  },
  {
   "cell_type": "code",
   "execution_count": 5,
   "metadata": {},
   "outputs": [],
   "source": [
    "func = np.vectorize(calc_profit)"
   ]
  },
  {
   "cell_type": "code",
   "execution_count": 6,
   "metadata": {},
   "outputs": [],
   "source": [
    "profits = func(o,h,l,c)"
   ]
  },
  {
   "cell_type": "code",
   "execution_count": 7,
   "metadata": {},
   "outputs": [
    {
     "data": {
      "text/plain": [
       "array([ 0.00755895,  0.0123267 ,  0.0021668 ,  0.00780612,  0.        ,\n",
       "        0.00154302, -0.01006869,  0.00568316, -0.00614746,  0.00560552,\n",
       "       -0.00121617, -0.01774473,  0.00675817,  0.00225356, -0.00274807,\n",
       "       -0.02015786,  0.00762307, -0.00675369, -0.00675957,  0.        ,\n",
       "        0.01065112,  0.02904986, -0.01558377,  0.00168882, -0.0098442 ,\n",
       "       -0.00499634, -0.00783465,  0.00603003,  0.00540779,  0.00376864])"
      ]
     },
     "execution_count": 7,
     "metadata": {},
     "output_type": "execute_result"
    }
   ],
   "source": [
    "profits"
   ]
  },
  {
   "cell_type": "code",
   "execution_count": 8,
   "metadata": {},
   "outputs": [],
   "source": [
    "#no. of wining trades\n",
    "\n",
    "\n",
    "winning_trades = profits[profits>0]"
   ]
  },
  {
   "cell_type": "code",
   "execution_count": 9,
   "metadata": {},
   "outputs": [
    {
     "name": "stdout",
     "output_type": "stream",
     "text": [
      "No. of winning trades 16 53.33 %\n"
     ]
    }
   ],
   "source": [
    "print(\"No. of winning trades\",len(winning_trades),round(100.0*len(winning_trades)/len(c),2),\"%\")"
   ]
  },
  {
   "cell_type": "code",
   "execution_count": 10,
   "metadata": {},
   "outputs": [
    {
     "name": "stdout",
     "output_type": "stream",
     "text": [
      "Help on built-in function round in module builtins:\n",
      "\n",
      "round(number, ndigits=None)\n",
      "    Round a number to a given precision in decimal digits.\n",
      "    \n",
      "    The return value is an integer if ndigits is omitted or None.  Otherwise\n",
      "    the return value has the same type as the number.  ndigits may be negative.\n",
      "\n"
     ]
    }
   ],
   "source": [
    "help(round)"
   ]
  },
  {
   "cell_type": "code",
   "execution_count": 11,
   "metadata": {},
   "outputs": [
    {
     "name": "stdout",
     "output_type": "stream",
     "text": [
      "Average Profit 0.72\n"
     ]
    }
   ],
   "source": [
    "print(\"Average Profit\",round(np.mean(winning_trades*100),2))"
   ]
  },
  {
   "cell_type": "code",
   "execution_count": null,
   "metadata": {},
   "outputs": [],
   "source": []
  }
 ],
 "metadata": {
  "kernelspec": {
   "display_name": "Python 3",
   "language": "python",
   "name": "python3"
  },
  "language_info": {
   "codemirror_mode": {
    "name": "ipython",
    "version": 3
   },
   "file_extension": ".py",
   "mimetype": "text/x-python",
   "name": "python",
   "nbconvert_exporter": "python",
   "pygments_lexer": "ipython3",
   "version": "3.7.4"
  }
 },
 "nbformat": 4,
 "nbformat_minor": 2
}
