{
 "cells": [
  {
   "cell_type": "code",
   "execution_count": 1,
   "metadata": {},
   "outputs": [],
   "source": [
    "import numpy as np"
   ]
  },
  {
   "cell_type": "code",
   "execution_count": 2,
   "metadata": {},
   "outputs": [],
   "source": [
    "#Data Set for london olypics\n",
    "\n",
    "np_coutries = np.array(['Great Britain','China','Russia','United States','Korea','Japan','Germany'])\n",
    "\n"
   ]
  },
  {
   "cell_type": "code",
   "execution_count": 3,
   "metadata": {},
   "outputs": [],
   "source": [
    "np_winning_gold = np.array([29,38,24,46,13,7,11])"
   ]
  },
  {
   "cell_type": "code",
   "execution_count": 4,
   "metadata": {},
   "outputs": [],
   "source": [
    "np_winning_silver = np.array([17,28,25,28,8,14,11]) "
   ]
  },
  {
   "cell_type": "code",
   "execution_count": 5,
   "metadata": {},
   "outputs": [],
   "source": [
    "np_winning_Bronze = np.array([19,22,32,29,7,17,14])"
   ]
  },
  {
   "cell_type": "code",
   "execution_count": 6,
   "metadata": {},
   "outputs": [],
   "source": [
    "country_Max_gold_medals = np_coutries[np.argmax(np_winning_gold)]"
   ]
  },
  {
   "cell_type": "code",
   "execution_count": 7,
   "metadata": {},
   "outputs": [
    {
     "data": {
      "text/plain": [
       "'United States'"
      ]
     },
     "execution_count": 7,
     "metadata": {},
     "output_type": "execute_result"
    }
   ],
   "source": [
    "country_Max_gold_medals"
   ]
  },
  {
   "cell_type": "code",
   "execution_count": 11,
   "metadata": {},
   "outputs": [],
   "source": [
    "Countries_morethan2_gold_medals = np_coutries[(np_winning_gold>20)]"
   ]
  },
  {
   "cell_type": "code",
   "execution_count": 12,
   "metadata": {},
   "outputs": [
    {
     "data": {
      "text/plain": [
       "array(['Great Britain', 'China', 'Russia', 'United States'], dtype='<U13')"
      ]
     },
     "execution_count": 12,
     "metadata": {},
     "output_type": "execute_result"
    }
   ],
   "source": [
    "Countries_morethan2_gold_medals"
   ]
  },
  {
   "cell_type": "code",
   "execution_count": 15,
   "metadata": {},
   "outputs": [
    {
     "name": "stdout",
     "output_type": "stream",
     "text": [
      "29 17 19\n",
      "38 28 22\n",
      "24 25 32\n",
      "46 28 29\n",
      "13 8 7\n",
      "7 14 17\n",
      "11 11 14\n"
     ]
    }
   ],
   "source": [
    "for i in range(len(np_coutries)):\n",
    "    gold = np_winning_gold[i]\n",
    "    silver = np_winning_silver[i]\n",
    "    bronze = np_winning_Bronze[i]\n",
    "    print(gold,silver,bronze)"
   ]
  },
  {
   "cell_type": "code",
   "execution_count": 16,
   "metadata": {},
   "outputs": [
    {
     "name": "stdout",
     "output_type": "stream",
     "text": [
      "Country Great Britain Gold Medals Won: 29\n",
      "Country China Gold Medals Won: 38\n",
      "Country Russia Gold Medals Won: 24\n",
      "Country United States Gold Medals Won: 46\n",
      "Country Korea Gold Medals Won: 13\n",
      "Country Japan Gold Medals Won: 7\n",
      "Country Germany Gold Medals Won: 11\n"
     ]
    }
   ],
   "source": [
    "for i in range(len(np_coutries)):\n",
    "    country = np_coutries[i]\n",
    "    gold = np_winning_gold[i]\n",
    "    print('Country',country,'Gold Medals Won:',gold)\n",
    "    "
   ]
  },
  {
   "cell_type": "code",
   "execution_count": 17,
   "metadata": {},
   "outputs": [],
   "source": [
    "totals_medals = np_winning_gold+np_winning_silver+np_winning_Bronze"
   ]
  },
  {
   "cell_type": "code",
   "execution_count": 18,
   "metadata": {},
   "outputs": [
    {
     "data": {
      "text/plain": [
       "array([ 65,  88,  81, 103,  28,  38,  36])"
      ]
     },
     "execution_count": 18,
     "metadata": {},
     "output_type": "execute_result"
    }
   ],
   "source": [
    "totals_medals"
   ]
  },
  {
   "cell_type": "code",
   "execution_count": 19,
   "metadata": {},
   "outputs": [
    {
     "name": "stdout",
     "output_type": "stream",
     "text": [
      "Country Great Britain Medals won: 65\n",
      "Country China Medals won: 88\n",
      "Country Russia Medals won: 81\n",
      "Country United States Medals won: 103\n",
      "Country Korea Medals won: 28\n",
      "Country Japan Medals won: 38\n",
      "Country Germany Medals won: 36\n"
     ]
    }
   ],
   "source": [
    "for i in range(len(np_coutries)):\n",
    "    country = np_coutries[i]\n",
    "    medals = totals_medals[i]\n",
    "    print('Country',country,'Medals won:',medals)"
   ]
  },
  {
   "cell_type": "code",
   "execution_count": null,
   "metadata": {},
   "outputs": [],
   "source": []
  }
 ],
 "metadata": {
  "kernelspec": {
   "display_name": "Python 3",
   "language": "python",
   "name": "python3"
  },
  "language_info": {
   "codemirror_mode": {
    "name": "ipython",
    "version": 3
   },
   "file_extension": ".py",
   "mimetype": "text/x-python",
   "name": "python",
   "nbconvert_exporter": "python",
   "pygments_lexer": "ipython3",
   "version": "3.7.4"
  }
 },
 "nbformat": 4,
 "nbformat_minor": 2
}
