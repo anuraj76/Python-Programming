{
 "cells": [
  {
   "cell_type": "code",
   "execution_count": 1,
   "metadata": {},
   "outputs": [
    {
     "data": {
      "text/plain": [
       "'\\nAgenda:\\n- Type casting\\nNegative indexing\\n     Indexing with a set\\n     Indexing a dictionary\\n- Appending data - in set and lists \\n- Updating a list\\n- Deleting a record\\n- Operators in Python (membership operator, comparision operator ,logical operator)\\n1.\\tUsing statistics package for statistical functions\\n2.\\tNumpy missing values\\n3.\\tCharacter functions\\n4.\\tUser defined functions\\n5.\\tIf else conditions\\n    a.\\tIn class Activity\\n6.\\tFor loop and while loop\\n7.\\tNumpy array -> High level\\n\\n'"
      ]
     },
     "execution_count": 1,
     "metadata": {},
     "output_type": "execute_result"
    }
   ],
   "source": [
    "'''\n",
    "Agenda:\n",
    "- Type casting\n",
    "Negative indexing\n",
    "     Indexing with a set\n",
    "     Indexing a dictionary\n",
    "- Appending data - in set and lists \n",
    "- Updating a list\n",
    "- Deleting a record\n",
    "- Operators in Python (membership operator, comparision operator ,logical operator)\n",
    "1.\tUsing statistics package for statistical functions\n",
    "2.\tNumpy missing values\n",
    "3.\tCharacter functions\n",
    "4.\tUser defined functions\n",
    "5.\tIf else conditions\n",
    "    a.\tIn class Activity\n",
    "6.\tFor loop and while loop\n",
    "7.\tNumpy array -> High level\n",
    "\n",
    "'''"
   ]
  },
  {
   "cell_type": "code",
   "execution_count": 1,
   "metadata": {},
   "outputs": [
    {
     "name": "stdout",
     "output_type": "stream",
     "text": [
      "Now object its integer: 4 <class 'int'>\n"
     ]
    }
   ],
   "source": [
    "float_num = 4.67\n",
    "print(\"Now object its integer:\",int(float_num),type(int(float_num)))"
   ]
  },
  {
   "cell_type": "code",
   "execution_count": 2,
   "metadata": {},
   "outputs": [
    {
     "name": "stdout",
     "output_type": "stream",
     "text": [
      "Now object its String: 4.67 <class 'str'>\n"
     ]
    }
   ],
   "source": [
    "# converting to string\n",
    "print(\"Now object its String:\",str(float_num),type(str(float_num)))"
   ]
  },
  {
   "cell_type": "code",
   "execution_count": 3,
   "metadata": {},
   "outputs": [
    {
     "name": "stdout",
     "output_type": "stream",
     "text": [
      "5.67\n"
     ]
    }
   ],
   "source": [
    "str_num = '4.67'\n",
    "# str_num + 1\n",
    "print(float(str_num) + 1)"
   ]
  },
  {
   "cell_type": "code",
   "execution_count": 4,
   "metadata": {},
   "outputs": [
    {
     "data": {
      "text/plain": [
       "4"
      ]
     },
     "execution_count": 4,
     "metadata": {},
     "output_type": "execute_result"
    }
   ],
   "source": [
    "int(float(str_num))"
   ]
  },
  {
   "cell_type": "code",
   "execution_count": 5,
   "metadata": {},
   "outputs": [
    {
     "name": "stdout",
     "output_type": "stream",
     "text": [
      "(23, 'john Smith', 101, False)\n",
      "[23, 'john Smith', 101, False]\n"
     ]
    }
   ],
   "source": [
    "# tuple to list\n",
    "tuple1= 23,\"john Smith\",101,False\n",
    "print(tuple1)\n",
    "print(list(tuple1))"
   ]
  },
  {
   "cell_type": "code",
   "execution_count": 6,
   "metadata": {},
   "outputs": [
    {
     "name": "stdout",
     "output_type": "stream",
     "text": [
      "[23, 'john Smith', 101, False]\n",
      "[26, 'john Smith', 101, False]\n"
     ]
    }
   ],
   "source": [
    "list1  = list(tuple1)\n",
    "print(list1)\n",
    "list1[0]=26\n",
    "print(list1)"
   ]
  },
  {
   "cell_type": "code",
   "execution_count": 7,
   "metadata": {},
   "outputs": [
    {
     "data": {
      "text/plain": [
       "(26, 'john Smith', 101, False)"
      ]
     },
     "execution_count": 7,
     "metadata": {},
     "output_type": "execute_result"
    }
   ],
   "source": [
    "tuple(list1)"
   ]
  },
  {
   "cell_type": "code",
   "execution_count": 8,
   "metadata": {},
   "outputs": [
    {
     "name": "stdout",
     "output_type": "stream",
     "text": [
      "True\n",
      "False\n",
      "True\n",
      "True\n",
      "False\n"
     ]
    }
   ],
   "source": [
    "# converting to logical\n",
    "numbers = 1\n",
    "print(bool(numbers))\n",
    "numbers = 0\n",
    "print(bool(numbers))\n",
    "numbers = 3\n",
    "print(bool(numbers))\n",
    "numbers = -1000\n",
    "print(bool(numbers))\n",
    "numbers = None\n",
    "print(bool(numbers))"
   ]
  },
  {
   "cell_type": "code",
   "execution_count": 9,
   "metadata": {},
   "outputs": [
    {
     "name": "stdout",
     "output_type": "stream",
     "text": [
      "1\n",
      "0\n"
     ]
    }
   ],
   "source": [
    "## convert bool to numeric\n",
    "bool1 = True\n",
    "print(int(bool1))\n",
    "bool1 = False\n",
    "print(int(bool1))"
   ]
  },
  {
   "cell_type": "code",
   "execution_count": 15,
   "metadata": {},
   "outputs": [
    {
     "data": {
      "text/plain": [
       "('Benz', 'Porshe', 'Audi')"
      ]
     },
     "execution_count": 15,
     "metadata": {},
     "output_type": "execute_result"
    }
   ],
   "source": [
    "# Activity - try converting set to list and list/tuple to set\n",
    "\n",
    "Cars1 = {'Audi','Benz','Porshe'}\n",
    "Cars1\n",
    "list(Cars1)\n",
    "tuple(Cars1)"
   ]
  },
  {
   "cell_type": "code",
   "execution_count": 16,
   "metadata": {},
   "outputs": [
    {
     "name": "stdout",
     "output_type": "stream",
     "text": [
      "(34, 23, 35, 64, 23, 21, 34, 56)\n",
      "64\n",
      "(34, 23, 35, 64, 23)\n",
      "(23, 35, 64, 23, 21, 34, 56)\n",
      "23\n",
      "(23, 21, 34, 56)\n",
      "(23, 21)\n"
     ]
    }
   ],
   "source": [
    "### indexing – In Detail\n",
    "### indexing\n",
    "AgeOfCust = 34,23,35,64,23,21,34,56\n",
    "print(AgeOfCust)\n",
    "print(AgeOfCust[3])\n",
    "print(AgeOfCust[0:5])\n",
    "print(AgeOfCust[1:])\n",
    "print(AgeOfCust[-4]) # 4th element from right\n",
    "print(AgeOfCust[-4:]) # 4th element onwards from left\n",
    "print(AgeOfCust[-4:-2]) # #4th last and 3rd last element"
   ]
  },
  {
   "cell_type": "code",
   "execution_count": 17,
   "metadata": {},
   "outputs": [
    {
     "name": "stdout",
     "output_type": "stream",
     "text": [
      "(34, 23, 35)\n"
     ]
    }
   ],
   "source": [
    "print(AgeOfCust[:3])"
   ]
  },
  {
   "cell_type": "code",
   "execution_count": 19,
   "metadata": {},
   "outputs": [
    {
     "name": "stdout",
     "output_type": "stream",
     "text": [
      "<class 'list'>\n",
      "<class 'tuple'>\n",
      "100\n"
     ]
    }
   ],
   "source": [
    "B = [[1,2,4],(98,101,100)]\n",
    "print(type(B[0]))\n",
    "print(type(B[1]))\n",
    "print(B[1][2])"
   ]
  },
  {
   "cell_type": "code",
   "execution_count": 20,
   "metadata": {},
   "outputs": [
    {
     "name": "stdout",
     "output_type": "stream",
     "text": [
      "{'Bentley', 'Merc', 'AUDI', 'Mini Cooper', 'Hundai', 'Suzuki', 'BMW'}\n"
     ]
    },
    {
     "data": {
      "text/plain": [
       "'AUDI'"
      ]
     },
     "execution_count": 20,
     "metadata": {},
     "output_type": "execute_result"
    }
   ],
   "source": [
    "## can not index set directly\n",
    "Auto_survey = {'BMW', 'BMW','AUDI','Merc', 'Merc','Bentley','Mini Cooper','Suzuki','Hundai'}\n",
    "print(Auto_survey)\n",
    "# below will not work\n",
    "# Auto_survey[2]\n",
    "list(Auto_survey)[2]\n"
   ]
  },
  {
   "cell_type": "code",
   "execution_count": 21,
   "metadata": {},
   "outputs": [
    {
     "name": "stdout",
     "output_type": "stream",
     "text": [
      "{'John Email ID': 'John@abc.com', 'kelly': 'kelly@org.com', 'ids': [101, 102]}\n"
     ]
    }
   ],
   "source": [
    "# indexing dictionary\n",
    "first_dict = {'John Email ID':\"John@abc.com\",'kelly':\"kelly@org.com\",'ids':[101,102]}\n",
    "print(first_dict)"
   ]
  },
  {
   "cell_type": "code",
   "execution_count": 22,
   "metadata": {},
   "outputs": [],
   "source": [
    "# below will not work\n",
    "# first_dict[0]"
   ]
  },
  {
   "cell_type": "code",
   "execution_count": 23,
   "metadata": {},
   "outputs": [
    {
     "name": "stdout",
     "output_type": "stream",
     "text": [
      "John@abc.com\n",
      "[101, 102]\n",
      "101\n"
     ]
    }
   ],
   "source": [
    "print(first_dict['John Email ID'])\n",
    "print(first_dict['ids'])\n",
    "print(first_dict['ids'][0])"
   ]
  },
  {
   "cell_type": "code",
   "execution_count": 24,
   "metadata": {},
   "outputs": [
    {
     "data": {
      "text/plain": [
       "dict_keys(['John Email ID', 'kelly', 'ids'])"
      ]
     },
     "execution_count": 24,
     "metadata": {},
     "output_type": "execute_result"
    }
   ],
   "source": [
    "first_dict.keys()"
   ]
  },
  {
   "cell_type": "code",
   "execution_count": 25,
   "metadata": {},
   "outputs": [
    {
     "data": {
      "text/plain": [
       "dict_values(['John@abc.com', 'kelly@org.com', [101, 102]])"
      ]
     },
     "execution_count": 25,
     "metadata": {},
     "output_type": "execute_result"
    }
   ],
   "source": [
    "first_dict.values()"
   ]
  },
  {
   "cell_type": "code",
   "execution_count": 26,
   "metadata": {},
   "outputs": [
    {
     "data": {
      "text/plain": [
       "['AgeOfCust',\n",
       " 'Auto_survey',\n",
       " 'B',\n",
       " 'Cars1',\n",
       " 'In',\n",
       " 'Out',\n",
       " '_',\n",
       " '_11',\n",
       " '_12',\n",
       " '_13',\n",
       " '_14',\n",
       " '_15',\n",
       " '_20',\n",
       " '_24',\n",
       " '_25',\n",
       " '_4',\n",
       " '_7',\n",
       " '__',\n",
       " '___',\n",
       " '__builtin__',\n",
       " '__builtins__',\n",
       " '__doc__',\n",
       " '__loader__',\n",
       " '__name__',\n",
       " '__package__',\n",
       " '__spec__',\n",
       " '_dh',\n",
       " '_i',\n",
       " '_i1',\n",
       " '_i10',\n",
       " '_i11',\n",
       " '_i12',\n",
       " '_i13',\n",
       " '_i14',\n",
       " '_i15',\n",
       " '_i16',\n",
       " '_i17',\n",
       " '_i18',\n",
       " '_i19',\n",
       " '_i2',\n",
       " '_i20',\n",
       " '_i21',\n",
       " '_i22',\n",
       " '_i23',\n",
       " '_i24',\n",
       " '_i25',\n",
       " '_i26',\n",
       " '_i3',\n",
       " '_i4',\n",
       " '_i5',\n",
       " '_i6',\n",
       " '_i7',\n",
       " '_i8',\n",
       " '_i9',\n",
       " '_ih',\n",
       " '_ii',\n",
       " '_iii',\n",
       " '_oh',\n",
       " 'bool1',\n",
       " 'exit',\n",
       " 'first_dict',\n",
       " 'float_num',\n",
       " 'get_ipython',\n",
       " 'list1',\n",
       " 'numbers',\n",
       " 'quit',\n",
       " 'str_num',\n",
       " 'tuple1']"
      ]
     },
     "execution_count": 26,
     "metadata": {},
     "output_type": "execute_result"
    }
   ],
   "source": [
    "dir()"
   ]
  },
  {
   "cell_type": "code",
   "execution_count": 25,
   "metadata": {},
   "outputs": [
    {
     "data": {
      "text/plain": [
       "['AgeOfCust',\n",
       " 'In',\n",
       " 'Out',\n",
       " '_',\n",
       " '_1',\n",
       " '_16',\n",
       " '_18',\n",
       " '_23',\n",
       " '_24',\n",
       " '__',\n",
       " '___',\n",
       " '__builtin__',\n",
       " '__builtins__',\n",
       " '__doc__',\n",
       " '__loader__',\n",
       " '__name__',\n",
       " '__package__',\n",
       " '__spec__',\n",
       " '_dh',\n",
       " '_i',\n",
       " '_i1',\n",
       " '_i10',\n",
       " '_i11',\n",
       " '_i12',\n",
       " '_i13',\n",
       " '_i14',\n",
       " '_i15',\n",
       " '_i16',\n",
       " '_i17',\n",
       " '_i18',\n",
       " '_i19',\n",
       " '_i2',\n",
       " '_i20',\n",
       " '_i21',\n",
       " '_i22',\n",
       " '_i23',\n",
       " '_i24',\n",
       " '_i25',\n",
       " '_i3',\n",
       " '_i4',\n",
       " '_i5',\n",
       " '_i6',\n",
       " '_i7',\n",
       " '_i8',\n",
       " '_i9',\n",
       " '_ih',\n",
       " '_ii',\n",
       " '_iii',\n",
       " '_oh',\n",
       " 'bool1',\n",
       " 'exit',\n",
       " 'first_dict',\n",
       " 'float_num',\n",
       " 'get_ipython',\n",
       " 'list1',\n",
       " 'numbers',\n",
       " 'quit',\n",
       " 'str_num',\n",
       " 'tuple1']"
      ]
     },
     "execution_count": 25,
     "metadata": {},
     "output_type": "execute_result"
    }
   ],
   "source": [
    "# delete an object\n",
    "del(Auto_survey,B)\n",
    "dir()"
   ]
  },
  {
   "cell_type": "code",
   "execution_count": 28,
   "metadata": {},
   "outputs": [
    {
     "name": "stdout",
     "output_type": "stream",
     "text": [
      "{'Hundai', 'Merc', 'Mini Cooper', 'Suzuki', 'BMW', 'AUDI', 'Bentley'}\n",
      "{'BMW', 'Renault'}\n"
     ]
    }
   ],
   "source": [
    "########### Appending data\n",
    "# for set\n",
    "Auto_survey1= set(['BMW', 'BMW','AUDI','Merc', 'Merc','Bentley','Mini Cooper','Suzuki','Hundai'])\n",
    "Auto_survey2= set(['BMW', 'Renault'])\n",
    "print(Auto_survey1)\n",
    "print(Auto_survey2)"
   ]
  },
  {
   "cell_type": "code",
   "execution_count": 31,
   "metadata": {},
   "outputs": [
    {
     "name": "stdout",
     "output_type": "stream",
     "text": [
      "{'Hundai', 'Merc', 'Mini Cooper', 'Suzuki', 'Renault', 'BMW', 'AUDI', 'Bentley'}\n"
     ]
    }
   ],
   "source": [
    "Combined = Auto_survey1 | Auto_survey2\n",
    "print(Combined)"
   ]
  },
  {
   "cell_type": "code",
   "execution_count": 29,
   "metadata": {},
   "outputs": [
    {
     "name": "stdout",
     "output_type": "stream",
     "text": [
      "{'BMW'}\n"
     ]
    }
   ],
   "source": [
    "Intersection_cars = Auto_survey1 & Auto_survey2\n",
    "print(Intersection_cars)"
   ]
  },
  {
   "cell_type": "code",
   "execution_count": 39,
   "metadata": {},
   "outputs": [
    {
     "data": {
      "text/plain": [
       "{'AUDI', 'Bentley', 'Hundai', 'Merc', 'Mini Cooper', 'Suzuki'}"
      ]
     },
     "execution_count": 39,
     "metadata": {},
     "output_type": "execute_result"
    }
   ],
   "source": [
    "Auto_survey1-Auto_survey2"
   ]
  },
  {
   "cell_type": "code",
   "execution_count": 40,
   "metadata": {},
   "outputs": [
    {
     "data": {
      "text/plain": [
       "{'Renault'}"
      ]
     },
     "execution_count": 40,
     "metadata": {},
     "output_type": "execute_result"
    }
   ],
   "source": [
    "Auto_survey2-Auto_survey1"
   ]
  },
  {
   "cell_type": "code",
   "execution_count": 32,
   "metadata": {},
   "outputs": [
    {
     "data": {
      "text/plain": [
       "[6, 3, 4, 5, 2, 6, 100, 101, 107, 108, 107, 100]"
      ]
     },
     "execution_count": 32,
     "metadata": {},
     "output_type": "execute_result"
    }
   ],
   "source": [
    "#  Appending lists\n",
    "list1= [6,3,4,5,2]\n",
    "list2= [6,100,101,107,108,107,100]\n",
    "list1 + list2"
   ]
  },
  {
   "cell_type": "code",
   "execution_count": 33,
   "metadata": {},
   "outputs": [
    {
     "data": {
      "text/plain": [
       "[6, 3, 4, 5, 2, 100, 101, 107, 108, 107, 100]"
      ]
     },
     "execution_count": 33,
     "metadata": {},
     "output_type": "execute_result"
    }
   ],
   "source": [
    "# for list and tuple\n",
    "tuple1= (6,3,4,5,2)\n",
    "list2= [100,101,107,108,107,100]\n",
    "list(tuple1) + list2"
   ]
  },
  {
   "cell_type": "code",
   "execution_count": 34,
   "metadata": {},
   "outputs": [
    {
     "data": {
      "text/plain": [
       "(6, 3, 4, 5, 2, 100, 101, 107, 108, 107, 100)"
      ]
     },
     "execution_count": 34,
     "metadata": {},
     "output_type": "execute_result"
    }
   ],
   "source": [
    "# for tuples\n",
    "tuple1= (6,3,4,5,2)\n",
    "tuple2= (100,101,107,108,107,100)\n",
    "tuple1 + tuple2"
   ]
  },
  {
   "cell_type": "code",
   "execution_count": 28,
   "metadata": {},
   "outputs": [
    {
     "name": "stdout",
     "output_type": "stream",
     "text": [
      "['Mark', 34, 19.6, False, 'Jonathan']\n"
     ]
    }
   ],
   "source": [
    "# update a list\n",
    "First_list = ['Mark',34,19.6,False]\n",
    "First_list.append(\"Jonathan\")\n",
    "print(First_list)"
   ]
  },
  {
   "cell_type": "code",
   "execution_count": 29,
   "metadata": {},
   "outputs": [
    {
     "name": "stdout",
     "output_type": "stream",
     "text": [
      "['Mark', 'Anderson Thompson', 34, 19.6, False]\n"
     ]
    }
   ],
   "source": [
    "First_list = ['Mark',34,19.6,False]\n",
    "\n",
    "First_list.insert(1,\"Anderson Thompson\")\n",
    "print(First_list)\n"
   ]
  },
  {
   "cell_type": "code",
   "execution_count": 30,
   "metadata": {},
   "outputs": [
    {
     "name": "stdout",
     "output_type": "stream",
     "text": [
      "[19.6, False]\n"
     ]
    }
   ],
   "source": [
    "## deleting a record\n",
    "First_list = ['Mark',34,19.6,False]\n",
    "First_list.remove('Mark')\n",
    "First_list.remove(34)\n",
    "print(First_list)"
   ]
  },
  {
   "cell_type": "code",
   "execution_count": 40,
   "metadata": {},
   "outputs": [
    {
     "name": "stdout",
     "output_type": "stream",
     "text": [
      "[34, 19.6, False]\n"
     ]
    }
   ],
   "source": [
    "## deleting a record at a defined index value\n",
    "First_list = ['Mark',34,19.6,False]\n",
    "First_list.pop(0)\n",
    "print(First_list)"
   ]
  },
  {
   "cell_type": "code",
   "execution_count": 41,
   "metadata": {},
   "outputs": [
    {
     "data": {
      "text/plain": [
       "['Mark', 34, 19.6, False, 'Mark', 34, 19.6, False, 'Mark', 34, 19.6, False]"
      ]
     },
     "execution_count": 41,
     "metadata": {},
     "output_type": "execute_result"
    }
   ],
   "source": [
    "## repetition\n",
    "First_list = ['Mark',34,19.6,False]\n",
    "First_list*3"
   ]
  },
  {
   "cell_type": "code",
   "execution_count": 42,
   "metadata": {},
   "outputs": [
    {
     "data": {
      "text/plain": [
       "0    2400.0\n",
       "1    2760.0\n",
       "2    4920.0\n",
       "dtype: float64"
      ]
     },
     "execution_count": 42,
     "metadata": {},
     "output_type": "execute_result"
    }
   ],
   "source": [
    "import pandas as pd\n",
    "income = pd.Series([2000,2300,4100])\n",
    "income*1.2"
   ]
  },
  {
   "cell_type": "code",
   "execution_count": 45,
   "metadata": {},
   "outputs": [
    {
     "name": "stdout",
     "output_type": "stream",
     "text": [
      "Geroge Washington\n",
      "Customer Name is: GerogeWashington\n",
      "Customer Name is: Geroge Washington\n"
     ]
    }
   ],
   "source": [
    "## + operator for concatenation\n",
    "FN = \"Geroge\"\n",
    "LN = \"Washington\"\n",
    "FullName = FN +\" \" + LN\n",
    "print(FullName)\n",
    "print('Customer Name is:',FN + LN)\n",
    "print('Customer Name is:',FN + \" \" + LN)"
   ]
  },
  {
   "cell_type": "code",
   "execution_count": 61,
   "metadata": {},
   "outputs": [
    {
     "name": "stdout",
     "output_type": "stream",
     "text": [
      "True\n",
      "False\n",
      "False\n",
      "True\n"
     ]
    }
   ],
   "source": [
    "# Comparison operator\n",
    "Cust_income = 2000\n",
    "Credit_cards = 2\n",
    "print(Cust_income >= 1000)\n",
    "print(Credit_cards>4)\n",
    "print(Credit_cards != 2) # not equal to\n",
    "print(Credit_cards == 2) # If 2 values are equal or not .similar to R programming\n"
   ]
  },
  {
   "cell_type": "code",
   "execution_count": 63,
   "metadata": {},
   "outputs": [
    {
     "name": "stdout",
     "output_type": "stream",
     "text": [
      "True\n",
      "False\n",
      "False\n",
      "False\n"
     ]
    }
   ],
   "source": [
    "# Logical operator\n",
    "## & (and operator) and | (or operator)\n",
    "print((2>1) & (3>0)) # both conditions are true\n",
    "print((2>1) & (3>100)) #1st is true and 2nd is false\n",
    "print((2>10) & (3>1)) #1st is false and 2nd is true\n",
    "print((2>15) & (3>10)) #both are false"
   ]
  },
  {
   "cell_type": "code",
   "execution_count": 64,
   "metadata": {},
   "outputs": [
    {
     "name": "stdout",
     "output_type": "stream",
     "text": [
      "True\n",
      "True\n",
      "True\n",
      "False\n"
     ]
    }
   ],
   "source": [
    "## & (and operator) and | (or operator)\n",
    "print((2>1) | (3>0)) # both conditions are true\n",
    "print((2>1) | (3>100)) #1st is true and 2nd is false\n",
    "print((2>10) | (3>1)) #1st is false and 2nd is true\n",
    "print((2>15) | (3>10)) #both are false"
   ]
  },
  {
   "cell_type": "code",
   "execution_count": 50,
   "metadata": {},
   "outputs": [
    {
     "data": {
      "text/plain": [
       "True"
      ]
     },
     "execution_count": 50,
     "metadata": {},
     "output_type": "execute_result"
    }
   ],
   "source": [
    "# scenario 1\n",
    "Cust_income = 2000\n",
    "Credit_cards = 2\n",
    "### customer should not have more than 3 cards. Income >1800 per month\n",
    "(Cust_income>1800) & (Credit_cards<=3)\n"
   ]
  },
  {
   "cell_type": "code",
   "execution_count": 51,
   "metadata": {},
   "outputs": [
    {
     "data": {
      "text/plain": [
       "False"
      ]
     },
     "execution_count": 51,
     "metadata": {},
     "output_type": "execute_result"
    }
   ],
   "source": [
    "\n",
    "# scenario 2\n",
    "Cust_income = 1500\n",
    "Credit_cards = 1\n",
    "### customer should not have more than 3 cards. Income >1800 per month\n",
    "(Cust_income >1800) &  (Credit_cards<=3)\n"
   ]
  },
  {
   "cell_type": "code",
   "execution_count": 52,
   "metadata": {},
   "outputs": [
    {
     "data": {
      "text/plain": [
       "False"
      ]
     },
     "execution_count": 52,
     "metadata": {},
     "output_type": "execute_result"
    }
   ],
   "source": [
    "\n",
    "# scenario 3\n",
    "Cust_income = 2000\n",
    "Credit_cards = 5\n",
    "### customer should not have more than 3 cards. Income >1800 per month\n",
    "(Cust_income >1800) &  (Credit_cards<=3)\n"
   ]
  },
  {
   "cell_type": "code",
   "execution_count": 53,
   "metadata": {},
   "outputs": [
    {
     "data": {
      "text/plain": [
       "False"
      ]
     },
     "execution_count": 53,
     "metadata": {},
     "output_type": "execute_result"
    }
   ],
   "source": [
    "\n",
    "# scenario 4\n",
    "Cust_income = 1000\n",
    "Credit_cards = 5\n",
    "### customer should not have more than 3 cards. Income >1800 per month\n",
    "(Cust_income >1800) & (Credit_cards<=3)\n"
   ]
  },
  {
   "cell_type": "code",
   "execution_count": 54,
   "metadata": {},
   "outputs": [
    {
     "data": {
      "text/plain": [
       "False"
      ]
     },
     "execution_count": 54,
     "metadata": {},
     "output_type": "execute_result"
    }
   ],
   "source": [
    "## or condition with variables - either of condition to be true\n",
    "# scenario 1\n",
    "Cust_income = 2000\n",
    "Credit_cards = 2\n",
    "### customer should not have more than 3 cards. Income >1800 per month\n",
    "(Cust_income>1800) | (Credit_cards<=3)\n",
    "\n",
    "# scenario 2\n",
    "Cust_income = 1500\n",
    "Credit_cards = 1\n",
    "### customer should not have more than 3 cards. Income >1800 per month\n",
    "(Cust_income>1800) | (Credit_cards<=3)\n",
    "\n",
    "# scenario 3\n",
    "Cust_income = 2000\n",
    "Credit_cards = 5\n",
    "### customer should not have more than 3 cards. Income >1800 per month\n",
    "(Cust_income>1800) | (Credit_cards<=3)\n",
    "\n",
    "# scenario 4\n",
    "Cust_income = 1000\n",
    "Credit_cards = 5\n",
    "### customer should not have more than 3 cards. Income >1800 per month\n",
    "(Cust_income>1800) | (Credit_cards<=3)\n"
   ]
  },
  {
   "cell_type": "code",
   "execution_count": 62,
   "metadata": {},
   "outputs": [
    {
     "name": "stdout",
     "output_type": "stream",
     "text": [
      "[45, 89, 56, 34, 98]\n"
     ]
    },
    {
     "data": {
      "text/plain": [
       "322"
      ]
     },
     "execution_count": 62,
     "metadata": {},
     "output_type": "execute_result"
    }
   ],
   "source": [
    "Marks_math = [45,89,56,34,98]\n",
    "print(Marks_math)\n",
    "sum(Marks_math)"
   ]
  },
  {
   "cell_type": "code",
   "execution_count": 63,
   "metadata": {},
   "outputs": [
    {
     "data": {
      "text/plain": [
       "64.4"
      ]
     },
     "execution_count": 63,
     "metadata": {},
     "output_type": "execute_result"
    }
   ],
   "source": [
    "import statistics\n",
    "statistics.mean(Marks_math)"
   ]
  },
  {
   "cell_type": "code",
   "execution_count": 64,
   "metadata": {},
   "outputs": [
    {
     "data": {
      "text/plain": [
       "64.4"
      ]
     },
     "execution_count": 64,
     "metadata": {},
     "output_type": "execute_result"
    }
   ],
   "source": [
    "import statistics as st\n",
    "st.mean(Marks_math)"
   ]
  },
  {
   "cell_type": "code",
   "execution_count": 65,
   "metadata": {},
   "outputs": [
    {
     "data": {
      "text/plain": [
       "64.4"
      ]
     },
     "execution_count": 65,
     "metadata": {},
     "output_type": "execute_result"
    }
   ],
   "source": [
    "from statistics import mean\n",
    "mean(Marks_math)"
   ]
  },
  {
   "cell_type": "code",
   "execution_count": 66,
   "metadata": {},
   "outputs": [
    {
     "data": {
      "text/plain": [
       "27.8621607202313"
      ]
     },
     "execution_count": 66,
     "metadata": {},
     "output_type": "execute_result"
    }
   ],
   "source": [
    "st.stdev(Marks_math)"
   ]
  },
  {
   "cell_type": "code",
   "execution_count": 68,
   "metadata": {},
   "outputs": [
    {
     "data": {
      "text/plain": [
       "24.920674148184673"
      ]
     },
     "execution_count": 68,
     "metadata": {},
     "output_type": "execute_result"
    }
   ],
   "source": [
    "st.pstdev(Marks_math)"
   ]
  },
  {
   "cell_type": "code",
   "execution_count": 75,
   "metadata": {},
   "outputs": [
    {
     "data": {
      "text/plain": [
       "2000"
      ]
     },
     "execution_count": 75,
     "metadata": {},
     "output_type": "execute_result"
    }
   ],
   "source": [
    "## numeric functions\n",
    "Net_operating_income = -2000\n",
    "abs(Net_operating_income)\n"
   ]
  },
  {
   "cell_type": "code",
   "execution_count": 76,
   "metadata": {},
   "outputs": [
    {
     "data": {
      "text/plain": [
       "-9"
      ]
     },
     "execution_count": 76,
     "metadata": {},
     "output_type": "execute_result"
    }
   ],
   "source": [
    "Nums = [-5,-9,5,7]\n",
    "min(Nums)"
   ]
  },
  {
   "cell_type": "code",
   "execution_count": 77,
   "metadata": {},
   "outputs": [
    {
     "data": {
      "text/plain": [
       "7"
      ]
     },
     "execution_count": 77,
     "metadata": {},
     "output_type": "execute_result"
    }
   ],
   "source": [
    "max(Nums)"
   ]
  },
  {
   "cell_type": "code",
   "execution_count": 78,
   "metadata": {},
   "outputs": [
    {
     "data": {
      "text/plain": [
       "['Decimal',\n",
       " 'Fraction',\n",
       " 'StatisticsError',\n",
       " '__all__',\n",
       " '__builtins__',\n",
       " '__cached__',\n",
       " '__doc__',\n",
       " '__file__',\n",
       " '__loader__',\n",
       " '__name__',\n",
       " '__package__',\n",
       " '__spec__',\n",
       " '_coerce',\n",
       " '_convert',\n",
       " '_counts',\n",
       " '_exact_ratio',\n",
       " '_fail_neg',\n",
       " '_find_lteq',\n",
       " '_find_rteq',\n",
       " '_isfinite',\n",
       " '_ss',\n",
       " '_sum',\n",
       " 'bisect_left',\n",
       " 'bisect_right',\n",
       " 'collections',\n",
       " 'groupby',\n",
       " 'harmonic_mean',\n",
       " 'math',\n",
       " 'mean',\n",
       " 'median',\n",
       " 'median_grouped',\n",
       " 'median_high',\n",
       " 'median_low',\n",
       " 'mode',\n",
       " 'numbers',\n",
       " 'pstdev',\n",
       " 'pvariance',\n",
       " 'stdev',\n",
       " 'variance']"
      ]
     },
     "execution_count": 78,
     "metadata": {},
     "output_type": "execute_result"
    }
   ],
   "source": [
    "dir(statistics)"
   ]
  },
  {
   "cell_type": "code",
   "execution_count": 86,
   "metadata": {},
   "outputs": [
    {
     "name": "stdout",
     "output_type": "stream",
     "text": [
      "JOHN ANDERSON\n",
      "john anderson\n",
      "John Anderson\n"
     ]
    }
   ],
   "source": [
    "## character functions\n",
    "Name=\"John Anderson\"\n",
    "print(Name.upper())\n",
    "print(Name.lower())\n",
    "print(Name.title())"
   ]
  },
  {
   "cell_type": "code",
   "execution_count": 81,
   "metadata": {},
   "outputs": [
    {
     "name": "stdout",
     "output_type": "stream",
     "text": [
      "0       John Smith\n",
      "1    Lisa Anderson\n",
      "2    thomas brooke\n",
      "3             Paul\n",
      "dtype: object\n"
     ]
    }
   ],
   "source": [
    "Cust_names = pd.Series([\"John Smith\",\"Lisa Anderson\",\"thomas brooke\",\"Paul\"])\n",
    "print(Cust_names)\n"
   ]
  },
  {
   "cell_type": "code",
   "execution_count": 82,
   "metadata": {},
   "outputs": [
    {
     "name": "stdout",
     "output_type": "stream",
     "text": [
      "<class 'pandas.core.series.Series'>\n"
     ]
    }
   ],
   "source": [
    "print(type(Cust_names))"
   ]
  },
  {
   "cell_type": "code",
   "execution_count": 83,
   "metadata": {},
   "outputs": [
    {
     "name": "stdout",
     "output_type": "stream",
     "text": [
      "object\n"
     ]
    }
   ],
   "source": [
    "print(Cust_names.dtype)"
   ]
  },
  {
   "cell_type": "code",
   "execution_count": 89,
   "metadata": {},
   "outputs": [
    {
     "name": "stdout",
     "output_type": "stream",
     "text": [
      "Major\n"
     ]
    }
   ],
   "source": [
    "########### if else condition\n",
    "Age = 18\n",
    "if Age<18:\n",
    "    print('Minor')\n",
    "else:\n",
    "    print('Major')\n"
   ]
  },
  {
   "cell_type": "code",
   "execution_count": null,
   "metadata": {},
   "outputs": [],
   "source": [
    "Age = 90\n",
    "if Age<18:\n",
    "    print('Minor')\n",
    "elif Age<50:\n",
    "    print('Major')\n",
    "else:\n",
    "    print('Old')"
   ]
  },
  {
   "cell_type": "code",
   "execution_count": 92,
   "metadata": {},
   "outputs": [
    {
     "name": "stdout",
     "output_type": "stream",
     "text": [
      "Old\n"
     ]
    }
   ],
   "source": [
    "# nested condition\n",
    "Age = 50\n",
    "IQ = \"Intelligent\"\n",
    "if Age<18:\n",
    "    if IQ == \"Intelligent\":\n",
    "        print('Minor+Intelligent')\n",
    "    else:\n",
    "        print('Minor+Normal')\n",
    "elif Age<50:\n",
    "    print('Major')\n",
    "else:\n",
    "    print('Old')"
   ]
  },
  {
   "cell_type": "code",
   "execution_count": 95,
   "metadata": {},
   "outputs": [],
   "source": [
    "# step 1 - creating a function\n",
    "def Print_month():\n",
    "    return \"The current month is April\"\n"
   ]
  },
  {
   "cell_type": "code",
   "execution_count": 96,
   "metadata": {},
   "outputs": [
    {
     "data": {
      "text/plain": [
       "'The current month is April'"
      ]
     },
     "execution_count": 96,
     "metadata": {},
     "output_type": "execute_result"
    }
   ],
   "source": [
    "\n",
    "# Step 2 - Executing function\n",
    "Print_month()\n"
   ]
  },
  {
   "cell_type": "code",
   "execution_count": 98,
   "metadata": {},
   "outputs": [
    {
     "data": {
      "text/plain": [
       "'The current month is: April'"
      ]
     },
     "execution_count": 98,
     "metadata": {},
     "output_type": "execute_result"
    }
   ],
   "source": [
    "## function with 1 parameter\n",
    "# step 1 - creating a function\n",
    "def Print_month(ThisMonth):\n",
    "    return \"The current month is: \" + ThisMonth\n",
    "\n",
    "# Step 2 - Executing function\n",
    "Print_month('April')\n"
   ]
  },
  {
   "cell_type": "code",
   "execution_count": 102,
   "metadata": {},
   "outputs": [
    {
     "data": {
      "text/plain": [
       "'The current month is: April and Year is: 2020'"
      ]
     },
     "execution_count": 102,
     "metadata": {},
     "output_type": "execute_result"
    }
   ],
   "source": [
    "## function with > 1 parameter\n",
    "# step 1 - creating a function\n",
    "def Print_month(ThisMonth,ThisYear):\n",
    "    return \"The current month is: \" + ThisMonth + \" and Year is: \" + ThisYear\n",
    "\n",
    "\n",
    "Print_month(\"April\",\"2020\")"
   ]
  },
  {
   "cell_type": "code",
   "execution_count": 103,
   "metadata": {},
   "outputs": [
    {
     "data": {
      "text/plain": [
       "8"
      ]
     },
     "execution_count": 103,
     "metadata": {},
     "output_type": "execute_result"
    }
   ],
   "source": [
    "def Power_fn(x,y):\n",
    "    return x**y\n",
    "\n",
    "Power_fn(2,3)"
   ]
  },
  {
   "cell_type": "code",
   "execution_count": null,
   "metadata": {},
   "outputs": [],
   "source": [
    "#home work - Make a function that converts sales from euros to dollars considering input is Euro. 1 euro = 1.45 dollar"
   ]
  },
  {
   "cell_type": "code",
   "execution_count": 104,
   "metadata": {},
   "outputs": [
    {
     "data": {
      "text/plain": [
       "'Minor'"
      ]
     },
     "execution_count": 104,
     "metadata": {},
     "output_type": "execute_result"
    }
   ],
   "source": [
    "################ function with if else condition\n",
    "def check_age(Age):\n",
    "    if Age<18:\n",
    "        return 'Minor'\n",
    "    elif Age<50:\n",
    "        return 'Major'\n",
    "    else:\n",
    "        return 'Old'\n",
    "\n",
    "check_age(17)\n"
   ]
  },
  {
   "cell_type": "code",
   "execution_count": null,
   "metadata": {},
   "outputs": [],
   "source": [
    "'''\n",
    "Activity \n",
    "*********\n",
    "Math_marks = xxx\n",
    "Science_Marks = xxx\n",
    "1. For a student to get admitted to \"Science\" Stream he should get Marks in Math >70 AND marks in science as >75 \n",
    "Other wise he will be into \"Non-Science\" stream.\n",
    "2. Exception - If marks in math or science i.e. either is >90 irrespective of fact the point 1 cut off is met or not student will be \n",
    "eligible for Science steam.\n",
    "Create if else condition WITH USER DEFINED FUNCTION with output as \"Science stream Eligible\" and \"Science stream NOT Eligible\"\n",
    "'''"
   ]
  },
  {
   "cell_type": "code",
   "execution_count": 107,
   "metadata": {},
   "outputs": [
    {
     "data": {
      "text/plain": [
       "[0, 1, 2, 3, 4, 5, 6, 7, 8, 9]"
      ]
     },
     "execution_count": 107,
     "metadata": {},
     "output_type": "execute_result"
    }
   ],
   "source": [
    "list(range(10))"
   ]
  },
  {
   "cell_type": "code",
   "execution_count": 108,
   "metadata": {},
   "outputs": [
    {
     "name": "stdout",
     "output_type": "stream",
     "text": [
      "0\n",
      "1\n",
      "2\n",
      "3\n",
      "4\n",
      "5\n",
      "6\n",
      "7\n",
      "8\n",
      "9\n"
     ]
    }
   ],
   "source": [
    "for i in range(10):\n",
    "    print(i)"
   ]
  },
  {
   "cell_type": "code",
   "execution_count": 109,
   "metadata": {},
   "outputs": [
    {
     "name": "stdout",
     "output_type": "stream",
     "text": [
      "0\n",
      "10\n",
      "20\n",
      "30\n",
      "40\n",
      "50\n",
      "60\n",
      "70\n",
      "80\n",
      "90\n"
     ]
    }
   ],
   "source": [
    "for i in range(10):\n",
    "    print(i*10)"
   ]
  },
  {
   "cell_type": "code",
   "execution_count": 110,
   "metadata": {},
   "outputs": [
    {
     "name": "stdout",
     "output_type": "stream",
     "text": [
      "5\n",
      "6\n",
      "7\n",
      "8\n",
      "9\n",
      "10\n",
      "11\n",
      "12\n",
      "13\n",
      "14\n"
     ]
    }
   ],
   "source": [
    "for i in range(10):\n",
    "    print(i+5)"
   ]
  },
  {
   "cell_type": "code",
   "execution_count": 111,
   "metadata": {},
   "outputs": [
    {
     "name": "stdout",
     "output_type": "stream",
     "text": [
      "McDonald\n",
      "Taco Bell\n",
      "Dunkin\n",
      "Wendy\n",
      "Chipotle\n"
     ]
    }
   ],
   "source": [
    "Store_list = ['McDonald','Taco Bell','Dunkin','Wendy','Chipotle']\n",
    "\n",
    "for Store_name in Store_list:\n",
    "    print(Store_name)"
   ]
  },
  {
   "cell_type": "code",
   "execution_count": 114,
   "metadata": {},
   "outputs": [
    {
     "name": "stdout",
     "output_type": "stream",
     "text": [
      "0\n",
      "1\n",
      "2\n",
      "3\n",
      "4\n",
      "5\n",
      "6\n"
     ]
    }
   ],
   "source": [
    "for i in (range(10)):\n",
    "    print (i)\n",
    "    if i > 5:\n",
    "        break"
   ]
  },
  {
   "cell_type": "code",
   "execution_count": 118,
   "metadata": {},
   "outputs": [
    {
     "data": {
      "text/plain": [
       "[10,\n",
       " 11,\n",
       " 12,\n",
       " 13,\n",
       " 14,\n",
       " 15,\n",
       " 16,\n",
       " 17,\n",
       " 18,\n",
       " 19,\n",
       " 20,\n",
       " 21,\n",
       " 22,\n",
       " 23,\n",
       " 24,\n",
       " 25,\n",
       " 26,\n",
       " 27,\n",
       " 28,\n",
       " 29,\n",
       " 30,\n",
       " 31,\n",
       " 32,\n",
       " 33,\n",
       " 34,\n",
       " 35,\n",
       " 36,\n",
       " 37,\n",
       " 38,\n",
       " 39,\n",
       " 40,\n",
       " 41,\n",
       " 42,\n",
       " 43,\n",
       " 44,\n",
       " 45,\n",
       " 46,\n",
       " 47,\n",
       " 48,\n",
       " 49]"
      ]
     },
     "execution_count": 118,
     "metadata": {},
     "output_type": "execute_result"
    }
   ],
   "source": [
    "list(range(10,50))"
   ]
  },
  {
   "cell_type": "code",
   "execution_count": 119,
   "metadata": {},
   "outputs": [
    {
     "data": {
      "text/plain": [
       "[10, 15, 20, 25, 30, 35, 40, 45]"
      ]
     },
     "execution_count": 119,
     "metadata": {},
     "output_type": "execute_result"
    }
   ],
   "source": [
    "list(range(10,50,5))"
   ]
  },
  {
   "cell_type": "code",
   "execution_count": 120,
   "metadata": {},
   "outputs": [
    {
     "name": "stdout",
     "output_type": "stream",
     "text": [
      "Temp Before Incrementing: 90 After Incrementing: 91\n",
      "Temp Before Incrementing: 91 After Incrementing: 92\n",
      "Temp Before Incrementing: 92 After Incrementing: 93\n",
      "Temp Before Incrementing: 93 After Incrementing: 94\n",
      "Temp Before Incrementing: 94 After Incrementing: 95\n"
     ]
    }
   ],
   "source": [
    "# while loop\n",
    "temp = 90\n",
    "while temp<95:\n",
    "    print('Temp Before Incrementing:',temp,'After Incrementing:',(temp+1))\n",
    "    temp=temp+1 \n"
   ]
  },
  {
   "cell_type": "code",
   "execution_count": 121,
   "metadata": {},
   "outputs": [
    {
     "ename": "TypeError",
     "evalue": "unsupported operand type(s) for /: 'list' and 'list'",
     "output_type": "error",
     "traceback": [
      "\u001b[0;31m---------------------------------------------------------------------------\u001b[0m",
      "\u001b[0;31mTypeError\u001b[0m                                 Traceback (most recent call last)",
      "\u001b[0;32m<ipython-input-121-c138272f1b0a>\u001b[0m in \u001b[0;36m<module>\u001b[0;34m\u001b[0m\n\u001b[1;32m      3\u001b[0m \u001b[0mtime\u001b[0m \u001b[0;34m=\u001b[0m     \u001b[0;34m[\u001b[0m\u001b[0;36m.3\u001b[0m\u001b[0;34m,\u001b[0m\u001b[0;36m.47\u001b[0m\u001b[0;34m,\u001b[0m\u001b[0;36m.2\u001b[0m\u001b[0;34m,\u001b[0m\u001b[0;36m.1\u001b[0m\u001b[0;34m]\u001b[0m\u001b[0;34m\u001b[0m\u001b[0;34m\u001b[0m\u001b[0m\n\u001b[1;32m      4\u001b[0m \u001b[0;31m# below will not work\u001b[0m\u001b[0;34m\u001b[0m\u001b[0;34m\u001b[0m\u001b[0;34m\u001b[0m\u001b[0m\n\u001b[0;32m----> 5\u001b[0;31m \u001b[0mdistance\u001b[0m\u001b[0;34m/\u001b[0m\u001b[0mtime\u001b[0m\u001b[0;34m\u001b[0m\u001b[0;34m\u001b[0m\u001b[0m\n\u001b[0m",
      "\u001b[0;31mTypeError\u001b[0m: unsupported operand type(s) for /: 'list' and 'list'"
     ]
    }
   ],
   "source": [
    "##################### Lesson 05 #####################\n",
    "distance = [10,15,23,14]\n",
    "time =     [.3,.47,.2,.1]\n",
    "# below will not work\n",
    "distance/time\n"
   ]
  },
  {
   "cell_type": "code",
   "execution_count": 129,
   "metadata": {},
   "outputs": [
    {
     "name": "stdout",
     "output_type": "stream",
     "text": [
      "[10 15 23 14]\n",
      "<class 'numpy.ndarray'>\n"
     ]
    },
    {
     "data": {
      "text/plain": [
       "dtype('int64')"
      ]
     },
     "execution_count": 129,
     "metadata": {},
     "output_type": "execute_result"
    }
   ],
   "source": [
    "import numpy as np\n",
    "distance_array = np.array(distance)\n",
    "print(distance_array)\n",
    "print(type(distance_array))\n",
    "distance_array.dtype"
   ]
  },
  {
   "cell_type": "code",
   "execution_count": 127,
   "metadata": {},
   "outputs": [
    {
     "data": {
      "text/plain": [
       "array([0.3 , 0.47, 0.2 , 0.1 ])"
      ]
     },
     "execution_count": 127,
     "metadata": {},
     "output_type": "execute_result"
    }
   ],
   "source": [
    "time_array = np.array(time)\n",
    "time_array"
   ]
  },
  {
   "cell_type": "code",
   "execution_count": 130,
   "metadata": {},
   "outputs": [
    {
     "data": {
      "text/plain": [
       "array([ 33.33333333,  31.91489362, 115.        , 140.        ])"
      ]
     },
     "execution_count": 130,
     "metadata": {},
     "output_type": "execute_result"
    }
   ],
   "source": [
    "Speed = distance_array/time_array\n",
    "Speed"
   ]
  },
  {
   "cell_type": "code",
   "execution_count": 133,
   "metadata": {},
   "outputs": [
    {
     "data": {
      "text/plain": [
       "array([ 33.33,  31.91, 115.  , 140.  ])"
      ]
     },
     "execution_count": 133,
     "metadata": {},
     "output_type": "execute_result"
    }
   ],
   "source": [
    "Speed.round(2)"
   ]
  },
  {
   "cell_type": "code",
   "execution_count": 131,
   "metadata": {},
   "outputs": [
    {
     "data": {
      "text/plain": [
       "dtype('float64')"
      ]
     },
     "execution_count": 131,
     "metadata": {},
     "output_type": "execute_result"
    }
   ],
   "source": [
    "Speed.dtype"
   ]
  },
  {
   "cell_type": "code",
   "execution_count": 134,
   "metadata": {},
   "outputs": [
    {
     "data": {
      "text/plain": [
       "4.68"
      ]
     },
     "execution_count": 134,
     "metadata": {},
     "output_type": "execute_result"
    }
   ],
   "source": [
    "fl_num =4.6756576\n",
    "round(fl_num,2)"
   ]
  },
  {
   "cell_type": "code",
   "execution_count": null,
   "metadata": {},
   "outputs": [],
   "source": [
    "'''\n",
    "Home work\n",
    "*********\n",
    "Math_marks = xxx\n",
    "Science_Marks = xxx\n",
    "1. For a student to get admitted to \"Science\" Stream he should get Marks in Math >70 AND marks in science as >75 \n",
    "Other wise he will be into \"Non-Science\" stream.\n",
    "2. Exception - If marks in math or science i.e. either is >90 irrespective of fact the point 1 cut off is met or not student will be \n",
    "eligible for Science steam.\n",
    "Create if else condition WITH USER DEFINED FUNCTION with output as \"Science stream Eligible\" and \"Science stream NOT Eligible\"\n",
    "\n",
    "'''"
   ]
  },
  {
   "cell_type": "code",
   "execution_count": 4,
   "metadata": {},
   "outputs": [],
   "source": [
    "\n",
    "\n"
   ]
  },
  {
   "cell_type": "code",
   "execution_count": 22,
   "metadata": {},
   "outputs": [
    {
     "name": "stdout",
     "output_type": "stream",
     "text": [
      "You are addmitted in our school\n"
     ]
    }
   ],
   "source": [
    "Math_Marks = 91\n",
    "Science_Marks = 92\n",
    "\n",
    "if(Math_Marks > 70 & Science_Marks > 75):\n",
    "    print('You are admitted in our school')\n",
    "elif(Math_Marks > 90):\n",
    "    print('You are addmitted in our school')\n",
    "elif(Science_Marks > 90):\n",
    "    print('You are addmitted in our school')\n",
    "else:\n",
    "    print('You are not admiited in our school')"
   ]
  },
  {
   "cell_type": "code",
   "execution_count": 14,
   "metadata": {},
   "outputs": [],
   "source": [
    "def currencyconv(Euros):\n",
    "    return (Euros*1.45)\n",
    "\n"
   ]
  },
  {
   "cell_type": "code",
   "execution_count": 15,
   "metadata": {},
   "outputs": [
    {
     "data": {
      "text/plain": [
       "65.25"
      ]
     },
     "execution_count": 15,
     "metadata": {},
     "output_type": "execute_result"
    }
   ],
   "source": [
    "currencyconv(45)"
   ]
  },
  {
   "cell_type": "code",
   "execution_count": null,
   "metadata": {},
   "outputs": [],
   "source": []
  },
  {
   "cell_type": "code",
   "execution_count": null,
   "metadata": {},
   "outputs": [],
   "source": []
  },
  {
   "cell_type": "code",
   "execution_count": null,
   "metadata": {},
   "outputs": [],
   "source": []
  },
  {
   "cell_type": "code",
   "execution_count": null,
   "metadata": {},
   "outputs": [],
   "source": []
  },
  {
   "cell_type": "code",
   "execution_count": 135,
   "metadata": {},
   "outputs": [
    {
     "data": {
      "text/plain": [
       "16.0"
      ]
     },
     "execution_count": 135,
     "metadata": {},
     "output_type": "execute_result"
    }
   ],
   "source": [
    " 8/2*(2+2) "
   ]
  }
 ],
 "metadata": {
  "kernelspec": {
   "display_name": "Python 3",
   "language": "python",
   "name": "python3"
  },
  "language_info": {
   "codemirror_mode": {
    "name": "ipython",
    "version": 3
   },
   "file_extension": ".py",
   "mimetype": "text/x-python",
   "name": "python",
   "nbconvert_exporter": "python",
   "pygments_lexer": "ipython3",
   "version": "3.7.6"
  }
 },
 "nbformat": 4,
 "nbformat_minor": 4
}
