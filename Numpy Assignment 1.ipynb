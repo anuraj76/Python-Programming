{
 "cells": [
  {
   "cell_type": "code",
   "execution_count": 1,
   "metadata": {},
   "outputs": [],
   "source": [
    "import numpy as np"
   ]
  },
  {
   "cell_type": "code",
   "execution_count": 2,
   "metadata": {},
   "outputs": [],
   "source": [
    "countries = np.array(['Algeria','Angola','Argentina','Australia','Austria','Bahamas','Bangladesh','Belarus','Belgium','Bhutan','Brazil','Bulgaria','Cambodia','Cameroon','Chile','China','Colombia','Cyprus','Denmark','El Salvador','Estonia','Ethiopia','Fiji','Finland','France','Georgia','Ghana','Grenada','Guinea','Haiti','Honduras','Hungary','India','Indonesia','Ireland','Italy','Japan','Kenya', 'South Korea','Liberia','Malaysia','Mexico', 'Morocco','Nepal','New Zealand','Norway','Pakistan', 'Peru','Qatar','Russia','Singapore','South Africa','Spain','Sweden','Switzerland','Thailand', 'United Arab Emirates','United Kingdom','United States','Uruguay','Venezuela','Vietnam','Zimbabwe'\n",
    "])"
   ]
  },
  {
   "cell_type": "code",
   "execution_count": 3,
   "metadata": {},
   "outputs": [
    {
     "data": {
      "text/plain": [
       "array(['Algeria', 'Angola', 'Argentina', 'Australia', 'Austria',\n",
       "       'Bahamas', 'Bangladesh', 'Belarus', 'Belgium', 'Bhutan', 'Brazil',\n",
       "       'Bulgaria', 'Cambodia', 'Cameroon', 'Chile', 'China', 'Colombia',\n",
       "       'Cyprus', 'Denmark', 'El Salvador', 'Estonia', 'Ethiopia', 'Fiji',\n",
       "       'Finland', 'France', 'Georgia', 'Ghana', 'Grenada', 'Guinea',\n",
       "       'Haiti', 'Honduras', 'Hungary', 'India', 'Indonesia', 'Ireland',\n",
       "       'Italy', 'Japan', 'Kenya', 'South Korea', 'Liberia', 'Malaysia',\n",
       "       'Mexico', 'Morocco', 'Nepal', 'New Zealand', 'Norway', 'Pakistan',\n",
       "       'Peru', 'Qatar', 'Russia', 'Singapore', 'South Africa', 'Spain',\n",
       "       'Sweden', 'Switzerland', 'Thailand', 'United Arab Emirates',\n",
       "       'United Kingdom', 'United States', 'Uruguay', 'Venezuela',\n",
       "       'Vietnam', 'Zimbabwe'], dtype='<U20')"
      ]
     },
     "execution_count": 3,
     "metadata": {},
     "output_type": "execute_result"
    }
   ],
   "source": [
    "countries"
   ]
  },
  {
   "cell_type": "code",
   "execution_count": 4,
   "metadata": {},
   "outputs": [],
   "source": [
    "GDP_values = np.array([2255.225482,629.9553062,11601.63022,25306.82494,27266.40335,19466.99052,588.3691778,2890.345675,24733.62696,1445.760002,4803.398244,2618.876037,590.4521124,665.7982328,7122.938458,2639.54156,3362.4656,15378.16704,30860.12808,2579.115607,6525.541272,229.6769525,2242.689259,27570.4852,23016.84778,1334.646773,402.6953275,6047.200797,394.1156638,385.5793827,1414.072488,5745.981529,837.7464011,1206.991065,27715.52837,18937.24998,39578.07441,478.2194906,16684.21278,279.2204061,5345.213415,6288.25324,1908.304416,274.8728621,14646.42094,40034.85063,672.1547506,3359.517402,36152.66676,3054.727742,33529.83052,3825.093781,15428.32098,33630.24604,39170.41371,2699.123242,21058.43643,28272.40661,37691.02733,9581.05659,5671.912202,757.4009286,347.7456605\n",
    "])"
   ]
  },
  {
   "cell_type": "code",
   "execution_count": 5,
   "metadata": {},
   "outputs": [
    {
     "data": {
      "text/plain": [
       "array([ 2255.225482 ,   629.9553062, 11601.63022  , 25306.82494  ,\n",
       "       27266.40335  , 19466.99052  ,   588.3691778,  2890.345675 ,\n",
       "       24733.62696  ,  1445.760002 ,  4803.398244 ,  2618.876037 ,\n",
       "         590.4521124,   665.7982328,  7122.938458 ,  2639.54156  ,\n",
       "        3362.4656   , 15378.16704  , 30860.12808  ,  2579.115607 ,\n",
       "        6525.541272 ,   229.6769525,  2242.689259 , 27570.4852   ,\n",
       "       23016.84778  ,  1334.646773 ,   402.6953275,  6047.200797 ,\n",
       "         394.1156638,   385.5793827,  1414.072488 ,  5745.981529 ,\n",
       "         837.7464011,  1206.991065 , 27715.52837  , 18937.24998  ,\n",
       "       39578.07441  ,   478.2194906, 16684.21278  ,   279.2204061,\n",
       "        5345.213415 ,  6288.25324  ,  1908.304416 ,   274.8728621,\n",
       "       14646.42094  , 40034.85063  ,   672.1547506,  3359.517402 ,\n",
       "       36152.66676  ,  3054.727742 , 33529.83052  ,  3825.093781 ,\n",
       "       15428.32098  , 33630.24604  , 39170.41371  ,  2699.123242 ,\n",
       "       21058.43643  , 28272.40661  , 37691.02733  ,  9581.05659  ,\n",
       "        5671.912202 ,   757.4009286,   347.7456605])"
      ]
     },
     "execution_count": 5,
     "metadata": {},
     "output_type": "execute_result"
    }
   ],
   "source": [
    "GDP_values"
   ]
  },
  {
   "cell_type": "code",
   "execution_count": 6,
   "metadata": {},
   "outputs": [],
   "source": [
    "#We need to use argmax method to retrieve Index of Highest GDP\n",
    "\n",
    "Highest_GDP_Values = np.argmax(GDP_values)"
   ]
  },
  {
   "cell_type": "code",
   "execution_count": 7,
   "metadata": {},
   "outputs": [],
   "source": [
    "Country_with_Highest_GDP = countries[Highest_GDP_Values]"
   ]
  },
  {
   "cell_type": "code",
   "execution_count": 8,
   "metadata": {},
   "outputs": [
    {
     "data": {
      "text/plain": [
       "'Norway'"
      ]
     },
     "execution_count": 8,
     "metadata": {},
     "output_type": "execute_result"
    }
   ],
   "source": [
    "#Country with Highest GDP is Norway\n",
    "\n",
    "Country_with_Highest_GDP"
   ]
  },
  {
   "cell_type": "code",
   "execution_count": 9,
   "metadata": {},
   "outputs": [],
   "source": [
    "#We need to use argmin method of Numpy to retrieve Index of Lowest GDP\n",
    "\n",
    "Lowest_GDP_Values = np.argmin(GDP_values)"
   ]
  },
  {
   "cell_type": "code",
   "execution_count": 10,
   "metadata": {},
   "outputs": [],
   "source": [
    "Country_with_Lowest_GDP = countries[Lowest_GDP_Values]"
   ]
  },
  {
   "cell_type": "code",
   "execution_count": 11,
   "metadata": {},
   "outputs": [
    {
     "data": {
      "text/plain": [
       "'Ethiopia'"
      ]
     },
     "execution_count": 11,
     "metadata": {},
     "output_type": "execute_result"
    }
   ],
   "source": [
    "Country_with_Lowest_GDP"
   ]
  },
  {
   "cell_type": "code",
   "execution_count": 15,
   "metadata": {},
   "outputs": [
    {
     "name": "stdout",
     "output_type": "stream",
     "text": [
      "Evalating country: Algeria\n",
      "Evalating country: Angola\n",
      "Evalating country: Argentina\n",
      "Evalating country: Australia\n",
      "Evalating country: Austria\n",
      "Evalating country: Bahamas\n",
      "Evalating country: Bangladesh\n",
      "Evalating country: Belarus\n",
      "Evalating country: Belgium\n",
      "Evalating country: Bhutan\n",
      "Evalating country: Brazil\n",
      "Evalating country: Bulgaria\n",
      "Evalating country: Cambodia\n",
      "Evalating country: Cameroon\n",
      "Evalating country: Chile\n",
      "Evalating country: China\n",
      "Evalating country: Colombia\n",
      "Evalating country: Cyprus\n",
      "Evalating country: Denmark\n",
      "Evalating country: El Salvador\n",
      "Evalating country: Estonia\n",
      "Evalating country: Ethiopia\n",
      "Evalating country: Fiji\n",
      "Evalating country: Finland\n",
      "Evalating country: France\n",
      "Evalating country: Georgia\n",
      "Evalating country: Ghana\n",
      "Evalating country: Grenada\n",
      "Evalating country: Guinea\n",
      "Evalating country: Haiti\n",
      "Evalating country: Honduras\n",
      "Evalating country: Hungary\n",
      "Evalating country: India\n",
      "Evalating country: Indonesia\n",
      "Evalating country: Ireland\n",
      "Evalating country: Italy\n",
      "Evalating country: Japan\n",
      "Evalating country: Kenya\n",
      "Evalating country: South Korea\n",
      "Evalating country: Liberia\n",
      "Evalating country: Malaysia\n",
      "Evalating country: Mexico\n",
      "Evalating country: Morocco\n",
      "Evalating country: Nepal\n",
      "Evalating country: New Zealand\n",
      "Evalating country: Norway\n",
      "Evalating country: Pakistan\n",
      "Evalating country: Peru\n",
      "Evalating country: Qatar\n",
      "Evalating country: Russia\n",
      "Evalating country: Singapore\n",
      "Evalating country: South Africa\n",
      "Evalating country: Spain\n",
      "Evalating country: Sweden\n",
      "Evalating country: Switzerland\n",
      "Evalating country: Thailand\n",
      "Evalating country: United Arab Emirates\n",
      "Evalating country: United Kingdom\n",
      "Evalating country: United States\n",
      "Evalating country: Uruguay\n",
      "Evalating country: Venezuela\n",
      "Evalating country: Vietnam\n",
      "Evalating country: Zimbabwe\n"
     ]
    }
   ],
   "source": [
    "#to print out values iteratively\n",
    "\n",
    "for Country in countries:\n",
    "    print('Evalating country:',Country)"
   ]
  },
  {
   "cell_type": "code",
   "execution_count": 13,
   "metadata": {},
   "outputs": [
    {
     "name": "stdout",
     "output_type": "stream",
     "text": [
      "2255.225482\n",
      "629.9553062\n",
      "11601.63022\n",
      "25306.82494\n",
      "27266.40335\n",
      "19466.99052\n",
      "588.3691778\n",
      "2890.345675\n",
      "24733.62696\n",
      "1445.760002\n",
      "4803.398244\n",
      "2618.876037\n",
      "590.4521124\n",
      "665.7982328\n",
      "7122.938458\n",
      "2639.54156\n",
      "3362.4656\n",
      "15378.16704\n",
      "30860.12808\n",
      "2579.115607\n",
      "6525.541272\n",
      "229.6769525\n",
      "2242.689259\n",
      "27570.4852\n",
      "23016.84778\n",
      "1334.646773\n",
      "402.6953275\n",
      "6047.200797\n",
      "394.1156638\n",
      "385.5793827\n",
      "1414.072488\n",
      "5745.981529\n",
      "837.7464011\n",
      "1206.991065\n",
      "27715.52837\n",
      "18937.24998\n",
      "39578.07441\n",
      "478.2194906\n",
      "16684.21278\n",
      "279.2204061\n",
      "5345.213415\n",
      "6288.25324\n",
      "1908.304416\n",
      "274.8728621\n",
      "14646.42094\n",
      "40034.85063\n",
      "672.1547506\n",
      "3359.517402\n",
      "36152.66676\n",
      "3054.727742\n",
      "33529.83052\n",
      "3825.093781\n",
      "15428.32098\n",
      "33630.24604\n",
      "39170.41371\n",
      "2699.123242\n",
      "21058.43643\n",
      "28272.40661\n",
      "37691.02733\n",
      "9581.05659\n",
      "5671.912202\n",
      "757.4009286\n",
      "347.7456605\n"
     ]
    }
   ],
   "source": [
    "for GDP in GDP_values:\n",
    "    print(GDP)"
   ]
  },
  {
   "cell_type": "code",
   "execution_count": 16,
   "metadata": {},
   "outputs": [
    {
     "name": "stdout",
     "output_type": "stream",
     "text": [
      "Country: Algeria GDP value: 2255.225482\n",
      "Country: Angola GDP value: 629.9553062\n",
      "Country: Argentina GDP value: 11601.63022\n",
      "Country: Australia GDP value: 25306.82494\n",
      "Country: Austria GDP value: 27266.40335\n",
      "Country: Bahamas GDP value: 19466.99052\n",
      "Country: Bangladesh GDP value: 588.3691778\n",
      "Country: Belarus GDP value: 2890.345675\n",
      "Country: Belgium GDP value: 24733.62696\n",
      "Country: Bhutan GDP value: 1445.760002\n",
      "Country: Brazil GDP value: 4803.398244\n",
      "Country: Bulgaria GDP value: 2618.876037\n",
      "Country: Cambodia GDP value: 590.4521124\n",
      "Country: Cameroon GDP value: 665.7982328\n",
      "Country: Chile GDP value: 7122.938458\n",
      "Country: China GDP value: 2639.54156\n",
      "Country: Colombia GDP value: 3362.4656\n",
      "Country: Cyprus GDP value: 15378.16704\n",
      "Country: Denmark GDP value: 30860.12808\n",
      "Country: El Salvador GDP value: 2579.115607\n",
      "Country: Estonia GDP value: 6525.541272\n",
      "Country: Ethiopia GDP value: 229.6769525\n",
      "Country: Fiji GDP value: 2242.689259\n",
      "Country: Finland GDP value: 27570.4852\n",
      "Country: France GDP value: 23016.84778\n",
      "Country: Georgia GDP value: 1334.646773\n",
      "Country: Ghana GDP value: 402.6953275\n",
      "Country: Grenada GDP value: 6047.200797\n",
      "Country: Guinea GDP value: 394.1156638\n",
      "Country: Haiti GDP value: 385.5793827\n",
      "Country: Honduras GDP value: 1414.072488\n",
      "Country: Hungary GDP value: 5745.981529\n",
      "Country: India GDP value: 837.7464011\n",
      "Country: Indonesia GDP value: 1206.991065\n",
      "Country: Ireland GDP value: 27715.52837\n",
      "Country: Italy GDP value: 18937.24998\n",
      "Country: Japan GDP value: 39578.07441\n",
      "Country: Kenya GDP value: 478.2194906\n",
      "Country: South Korea GDP value: 16684.21278\n",
      "Country: Liberia GDP value: 279.2204061\n",
      "Country: Malaysia GDP value: 5345.213415\n",
      "Country: Mexico GDP value: 6288.25324\n",
      "Country: Morocco GDP value: 1908.304416\n",
      "Country: Nepal GDP value: 274.8728621\n",
      "Country: New Zealand GDP value: 14646.42094\n",
      "Country: Norway GDP value: 40034.85063\n",
      "Country: Pakistan GDP value: 672.1547506\n",
      "Country: Peru GDP value: 3359.517402\n",
      "Country: Qatar GDP value: 36152.66676\n",
      "Country: Russia GDP value: 3054.727742\n",
      "Country: Singapore GDP value: 33529.83052\n",
      "Country: South Africa GDP value: 3825.093781\n",
      "Country: Spain GDP value: 15428.32098\n",
      "Country: Sweden GDP value: 33630.24604\n",
      "Country: Switzerland GDP value: 39170.41371\n",
      "Country: Thailand GDP value: 2699.123242\n",
      "Country: United Arab Emirates GDP value: 21058.43643\n",
      "Country: United Kingdom GDP value: 28272.40661\n",
      "Country: United States GDP value: 37691.02733\n",
      "Country: Uruguay GDP value: 9581.05659\n",
      "Country: Venezuela GDP value: 5671.912202\n",
      "Country: Vietnam GDP value: 757.4009286\n",
      "Country: Zimbabwe GDP value: 347.7456605\n"
     ]
    }
   ],
   "source": [
    "for i in range(len(countries)):\n",
    "    country = countries[i]\n",
    "    GDP = GDP_values[i]\n",
    "    print('Country:',country,'GDP value:',GDP)"
   ]
  },
  {
   "cell_type": "code",
   "execution_count": 19,
   "metadata": {},
   "outputs": [
    {
     "name": "stdout",
     "output_type": "stream",
     "text": [
      "Highest GDP values: 40034.85063\n"
     ]
    }
   ],
   "source": [
    "print('Highest GDP values:',GDP_values.max())"
   ]
  },
  {
   "cell_type": "code",
   "execution_count": 20,
   "metadata": {},
   "outputs": [
    {
     "name": "stdout",
     "output_type": "stream",
     "text": [
      "Lowest GDP value: 229.6769525\n"
     ]
    }
   ],
   "source": [
    "print('Lowest GDP value:',GDP_values.min())"
   ]
  },
  {
   "cell_type": "code",
   "execution_count": 21,
   "metadata": {},
   "outputs": [
    {
     "name": "stdout",
     "output_type": "stream",
     "text": [
      "Mean GDP value 11289.409271639683\n"
     ]
    }
   ],
   "source": [
    "print('Mean GDP value',GDP_values.mean())"
   ]
  },
  {
   "cell_type": "code",
   "execution_count": 22,
   "metadata": {},
   "outputs": [
    {
     "name": "stdout",
     "output_type": "stream",
     "text": [
      "Standard Dev of GDP values: 12743.828910617945\n"
     ]
    }
   ],
   "source": [
    "print('Standard Dev of GDP values:',GDP_values.std())"
   ]
  },
  {
   "cell_type": "code",
   "execution_count": 24,
   "metadata": {},
   "outputs": [
    {
     "name": "stdout",
     "output_type": "stream",
     "text": [
      "Summation of all GDPs: 711232.7841133\n"
     ]
    }
   ],
   "source": [
    "print('Summation of all GDPs:',GDP_values.sum())"
   ]
  },
  {
   "cell_type": "code",
   "execution_count": null,
   "metadata": {},
   "outputs": [],
   "source": []
  }
 ],
 "metadata": {
  "kernelspec": {
   "display_name": "Python 3",
   "language": "python",
   "name": "python3"
  },
  "language_info": {
   "codemirror_mode": {
    "name": "ipython",
    "version": 3
   },
   "file_extension": ".py",
   "mimetype": "text/x-python",
   "name": "python",
   "nbconvert_exporter": "python",
   "pygments_lexer": "ipython3",
   "version": "3.7.4"
  }
 },
 "nbformat": 4,
 "nbformat_minor": 2
}
