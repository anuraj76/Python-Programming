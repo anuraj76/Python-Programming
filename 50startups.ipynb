{
  "nbformat": 4,
  "nbformat_minor": 0,
  "metadata": {
    "colab": {
      "name": "50startups",
      "provenance": [],
      "collapsed_sections": []
    },
    "kernelspec": {
      "name": "python3",
      "display_name": "Python 3"
    }
  },
  "cells": [
    {
      "cell_type": "code",
      "metadata": {
        "id": "kZSD4LhYhjMM",
        "colab_type": "code",
        "colab": {}
      },
      "source": [
        "import pandas as pd\n",
        "import numpy as np"
      ],
      "execution_count": 24,
      "outputs": []
    },
    {
      "cell_type": "code",
      "metadata": {
        "id": "mUbjWYZIiGtJ",
        "colab_type": "code",
        "colab": {}
      },
      "source": [
        "data = pd.read_csv('50_Startups.csv')"
      ],
      "execution_count": 25,
      "outputs": []
    },
    {
      "cell_type": "code",
      "metadata": {
        "id": "ViCSRlv7iJcm",
        "colab_type": "code",
        "colab": {
          "base_uri": "https://localhost:8080/",
          "height": 218
        },
        "outputId": "285cdfe9-10ec-44f8-be65-6f5ddb7bf711"
      },
      "source": [
        "data.info()"
      ],
      "execution_count": 26,
      "outputs": [
        {
          "output_type": "stream",
          "text": [
            "<class 'pandas.core.frame.DataFrame'>\n",
            "RangeIndex: 50 entries, 0 to 49\n",
            "Data columns (total 5 columns):\n",
            " #   Column           Non-Null Count  Dtype  \n",
            "---  ------           --------------  -----  \n",
            " 0   R&D Spend        48 non-null     float64\n",
            " 1   Administration   50 non-null     float64\n",
            " 2   Marketing Spend  49 non-null     float64\n",
            " 3   State            49 non-null     object \n",
            " 4   Profit           50 non-null     float64\n",
            "dtypes: float64(4), object(1)\n",
            "memory usage: 2.1+ KB\n"
          ],
          "name": "stdout"
        }
      ]
    },
    {
      "cell_type": "code",
      "metadata": {
        "id": "cTSieRjgiQ-Y",
        "colab_type": "code",
        "colab": {
          "base_uri": "https://localhost:8080/",
          "height": 118
        },
        "outputId": "9a208a20-f979-406c-f97d-cefdea211ed9"
      },
      "source": [
        "#Find null values\n",
        "data.isnull().sum()\n",
        "\n"
      ],
      "execution_count": 27,
      "outputs": [
        {
          "output_type": "execute_result",
          "data": {
            "text/plain": [
              "R&D Spend          2\n",
              "Administration     0\n",
              "Marketing Spend    1\n",
              "State              1\n",
              "Profit             0\n",
              "dtype: int64"
            ]
          },
          "metadata": {
            "tags": []
          },
          "execution_count": 27
        }
      ]
    },
    {
      "cell_type": "code",
      "metadata": {
        "id": "Ufq0--JjiwpE",
        "colab_type": "code",
        "colab": {
          "base_uri": "https://localhost:8080/",
          "height": 34
        },
        "outputId": "cdf6686c-8649-4583-d088-e6937a8dfa38"
      },
      "source": [
        "data.columns"
      ],
      "execution_count": 29,
      "outputs": [
        {
          "output_type": "execute_result",
          "data": {
            "text/plain": [
              "Index(['R&D Spend', 'Administration', 'Marketing Spend', 'State', 'Profit'], dtype='object')"
            ]
          },
          "metadata": {
            "tags": []
          },
          "execution_count": 29
        }
      ]
    },
    {
      "cell_type": "code",
      "metadata": {
        "id": "b9HwOmnWim0w",
        "colab_type": "code",
        "colab": {}
      },
      "source": [
        "data['R&D Spend'] = data['R&D Spend'].fillna(data['R&D Spend'].mean())"
      ],
      "execution_count": 30,
      "outputs": []
    },
    {
      "cell_type": "code",
      "metadata": {
        "id": "6w94387RjQdD",
        "colab_type": "code",
        "colab": {}
      },
      "source": [
        "data['Marketing Spend'] = data['Marketing Spend'].fillna(data['Marketing Spend'].mean())"
      ],
      "execution_count": 31,
      "outputs": []
    },
    {
      "cell_type": "code",
      "metadata": {
        "id": "B8VbXgdvjV74",
        "colab_type": "code",
        "colab": {}
      },
      "source": [
        "data['State'] = data['State'].fillna(data['State'].mode()[0])"
      ],
      "execution_count": 32,
      "outputs": []
    },
    {
      "cell_type": "code",
      "metadata": {
        "id": "3unABm8KjtM-",
        "colab_type": "code",
        "colab": {
          "base_uri": "https://localhost:8080/",
          "height": 118
        },
        "outputId": "761222e3-966e-4043-e536-2f0c0eefc8b1"
      },
      "source": [
        "#Verify null values ifany\n",
        "\n",
        "data.isnull().sum()"
      ],
      "execution_count": 33,
      "outputs": [
        {
          "output_type": "execute_result",
          "data": {
            "text/plain": [
              "R&D Spend          0\n",
              "Administration     0\n",
              "Marketing Spend    0\n",
              "State              0\n",
              "Profit             0\n",
              "dtype: int64"
            ]
          },
          "metadata": {
            "tags": []
          },
          "execution_count": 33
        }
      ]
    },
    {
      "cell_type": "code",
      "metadata": {
        "id": "4NBVyJ_wjygH",
        "colab_type": "code",
        "colab": {
          "base_uri": "https://localhost:8080/",
          "height": 1527
        },
        "outputId": "30a0368e-594e-4048-99f9-2cddd1f032d7"
      },
      "source": [
        "data"
      ],
      "execution_count": 34,
      "outputs": [
        {
          "output_type": "execute_result",
          "data": {
            "text/html": [
              "<div>\n",
              "<style scoped>\n",
              "    .dataframe tbody tr th:only-of-type {\n",
              "        vertical-align: middle;\n",
              "    }\n",
              "\n",
              "    .dataframe tbody tr th {\n",
              "        vertical-align: top;\n",
              "    }\n",
              "\n",
              "    .dataframe thead th {\n",
              "        text-align: right;\n",
              "    }\n",
              "</style>\n",
              "<table border=\"1\" class=\"dataframe\">\n",
              "  <thead>\n",
              "    <tr style=\"text-align: right;\">\n",
              "      <th></th>\n",
              "      <th>R&amp;D Spend</th>\n",
              "      <th>Administration</th>\n",
              "      <th>Marketing Spend</th>\n",
              "      <th>State</th>\n",
              "      <th>Profit</th>\n",
              "    </tr>\n",
              "  </thead>\n",
              "  <tbody>\n",
              "    <tr>\n",
              "      <th>0</th>\n",
              "      <td>165349.200000</td>\n",
              "      <td>136897.80</td>\n",
              "      <td>471784.100000</td>\n",
              "      <td>New York</td>\n",
              "      <td>192261.83</td>\n",
              "    </tr>\n",
              "    <tr>\n",
              "      <th>1</th>\n",
              "      <td>162597.700000</td>\n",
              "      <td>151377.59</td>\n",
              "      <td>443898.530000</td>\n",
              "      <td>California</td>\n",
              "      <td>191792.06</td>\n",
              "    </tr>\n",
              "    <tr>\n",
              "      <th>2</th>\n",
              "      <td>153441.510000</td>\n",
              "      <td>101145.55</td>\n",
              "      <td>407934.540000</td>\n",
              "      <td>Florida</td>\n",
              "      <td>191050.39</td>\n",
              "    </tr>\n",
              "    <tr>\n",
              "      <th>3</th>\n",
              "      <td>144372.410000</td>\n",
              "      <td>118671.85</td>\n",
              "      <td>383199.620000</td>\n",
              "      <td>New York</td>\n",
              "      <td>182901.99</td>\n",
              "    </tr>\n",
              "    <tr>\n",
              "      <th>4</th>\n",
              "      <td>142107.340000</td>\n",
              "      <td>91391.77</td>\n",
              "      <td>366168.420000</td>\n",
              "      <td>Florida</td>\n",
              "      <td>166187.94</td>\n",
              "    </tr>\n",
              "    <tr>\n",
              "      <th>5</th>\n",
              "      <td>131876.900000</td>\n",
              "      <td>99814.71</td>\n",
              "      <td>362861.360000</td>\n",
              "      <td>New York</td>\n",
              "      <td>156991.12</td>\n",
              "    </tr>\n",
              "    <tr>\n",
              "      <th>6</th>\n",
              "      <td>134615.460000</td>\n",
              "      <td>147198.87</td>\n",
              "      <td>127716.820000</td>\n",
              "      <td>California</td>\n",
              "      <td>156122.51</td>\n",
              "    </tr>\n",
              "    <tr>\n",
              "      <th>7</th>\n",
              "      <td>71981.472708</td>\n",
              "      <td>145530.06</td>\n",
              "      <td>323876.680000</td>\n",
              "      <td>Florida</td>\n",
              "      <td>155752.60</td>\n",
              "    </tr>\n",
              "    <tr>\n",
              "      <th>8</th>\n",
              "      <td>120542.520000</td>\n",
              "      <td>148718.95</td>\n",
              "      <td>311613.290000</td>\n",
              "      <td>New York</td>\n",
              "      <td>152211.77</td>\n",
              "    </tr>\n",
              "    <tr>\n",
              "      <th>9</th>\n",
              "      <td>123334.880000</td>\n",
              "      <td>108679.17</td>\n",
              "      <td>304981.620000</td>\n",
              "      <td>New York</td>\n",
              "      <td>149759.96</td>\n",
              "    </tr>\n",
              "    <tr>\n",
              "      <th>10</th>\n",
              "      <td>101913.080000</td>\n",
              "      <td>110594.11</td>\n",
              "      <td>229160.950000</td>\n",
              "      <td>Florida</td>\n",
              "      <td>146121.95</td>\n",
              "    </tr>\n",
              "    <tr>\n",
              "      <th>11</th>\n",
              "      <td>71981.472708</td>\n",
              "      <td>91790.61</td>\n",
              "      <td>210234.904898</td>\n",
              "      <td>California</td>\n",
              "      <td>144259.40</td>\n",
              "    </tr>\n",
              "    <tr>\n",
              "      <th>12</th>\n",
              "      <td>93863.750000</td>\n",
              "      <td>127320.38</td>\n",
              "      <td>249839.440000</td>\n",
              "      <td>Florida</td>\n",
              "      <td>141585.52</td>\n",
              "    </tr>\n",
              "    <tr>\n",
              "      <th>13</th>\n",
              "      <td>91992.390000</td>\n",
              "      <td>135495.07</td>\n",
              "      <td>252664.930000</td>\n",
              "      <td>California</td>\n",
              "      <td>134307.35</td>\n",
              "    </tr>\n",
              "    <tr>\n",
              "      <th>14</th>\n",
              "      <td>119943.240000</td>\n",
              "      <td>156547.42</td>\n",
              "      <td>256512.920000</td>\n",
              "      <td>Florida</td>\n",
              "      <td>132602.65</td>\n",
              "    </tr>\n",
              "    <tr>\n",
              "      <th>15</th>\n",
              "      <td>114523.610000</td>\n",
              "      <td>122616.84</td>\n",
              "      <td>261776.230000</td>\n",
              "      <td>New York</td>\n",
              "      <td>129917.04</td>\n",
              "    </tr>\n",
              "    <tr>\n",
              "      <th>16</th>\n",
              "      <td>78013.110000</td>\n",
              "      <td>121597.55</td>\n",
              "      <td>264346.060000</td>\n",
              "      <td>California</td>\n",
              "      <td>126992.93</td>\n",
              "    </tr>\n",
              "    <tr>\n",
              "      <th>17</th>\n",
              "      <td>94657.160000</td>\n",
              "      <td>145077.58</td>\n",
              "      <td>282574.310000</td>\n",
              "      <td>New York</td>\n",
              "      <td>125370.37</td>\n",
              "    </tr>\n",
              "    <tr>\n",
              "      <th>18</th>\n",
              "      <td>91749.160000</td>\n",
              "      <td>114175.79</td>\n",
              "      <td>294919.570000</td>\n",
              "      <td>Florida</td>\n",
              "      <td>124266.90</td>\n",
              "    </tr>\n",
              "    <tr>\n",
              "      <th>19</th>\n",
              "      <td>86419.700000</td>\n",
              "      <td>153514.11</td>\n",
              "      <td>0.000000</td>\n",
              "      <td>New York</td>\n",
              "      <td>122776.86</td>\n",
              "    </tr>\n",
              "    <tr>\n",
              "      <th>20</th>\n",
              "      <td>76253.860000</td>\n",
              "      <td>113867.30</td>\n",
              "      <td>298664.470000</td>\n",
              "      <td>California</td>\n",
              "      <td>118474.03</td>\n",
              "    </tr>\n",
              "    <tr>\n",
              "      <th>21</th>\n",
              "      <td>78389.470000</td>\n",
              "      <td>153773.43</td>\n",
              "      <td>299737.290000</td>\n",
              "      <td>New York</td>\n",
              "      <td>111313.02</td>\n",
              "    </tr>\n",
              "    <tr>\n",
              "      <th>22</th>\n",
              "      <td>73994.560000</td>\n",
              "      <td>122782.75</td>\n",
              "      <td>303319.260000</td>\n",
              "      <td>Florida</td>\n",
              "      <td>110352.25</td>\n",
              "    </tr>\n",
              "    <tr>\n",
              "      <th>23</th>\n",
              "      <td>67532.530000</td>\n",
              "      <td>105751.03</td>\n",
              "      <td>304768.730000</td>\n",
              "      <td>Florida</td>\n",
              "      <td>108733.99</td>\n",
              "    </tr>\n",
              "    <tr>\n",
              "      <th>24</th>\n",
              "      <td>77044.010000</td>\n",
              "      <td>99281.34</td>\n",
              "      <td>140574.810000</td>\n",
              "      <td>New York</td>\n",
              "      <td>108552.04</td>\n",
              "    </tr>\n",
              "    <tr>\n",
              "      <th>25</th>\n",
              "      <td>64664.710000</td>\n",
              "      <td>139553.16</td>\n",
              "      <td>137962.620000</td>\n",
              "      <td>California</td>\n",
              "      <td>107404.34</td>\n",
              "    </tr>\n",
              "    <tr>\n",
              "      <th>26</th>\n",
              "      <td>75328.870000</td>\n",
              "      <td>144135.98</td>\n",
              "      <td>134050.070000</td>\n",
              "      <td>Florida</td>\n",
              "      <td>105733.54</td>\n",
              "    </tr>\n",
              "    <tr>\n",
              "      <th>27</th>\n",
              "      <td>72107.600000</td>\n",
              "      <td>127864.55</td>\n",
              "      <td>353183.810000</td>\n",
              "      <td>New York</td>\n",
              "      <td>105008.31</td>\n",
              "    </tr>\n",
              "    <tr>\n",
              "      <th>28</th>\n",
              "      <td>66051.520000</td>\n",
              "      <td>182645.56</td>\n",
              "      <td>118148.200000</td>\n",
              "      <td>Florida</td>\n",
              "      <td>103282.38</td>\n",
              "    </tr>\n",
              "    <tr>\n",
              "      <th>29</th>\n",
              "      <td>65605.480000</td>\n",
              "      <td>153032.06</td>\n",
              "      <td>107138.380000</td>\n",
              "      <td>New York</td>\n",
              "      <td>101004.64</td>\n",
              "    </tr>\n",
              "    <tr>\n",
              "      <th>30</th>\n",
              "      <td>61994.480000</td>\n",
              "      <td>115641.28</td>\n",
              "      <td>91131.240000</td>\n",
              "      <td>Florida</td>\n",
              "      <td>99937.59</td>\n",
              "    </tr>\n",
              "    <tr>\n",
              "      <th>31</th>\n",
              "      <td>61136.380000</td>\n",
              "      <td>152701.92</td>\n",
              "      <td>88218.230000</td>\n",
              "      <td>New York</td>\n",
              "      <td>97483.56</td>\n",
              "    </tr>\n",
              "    <tr>\n",
              "      <th>32</th>\n",
              "      <td>63408.860000</td>\n",
              "      <td>129219.61</td>\n",
              "      <td>46085.250000</td>\n",
              "      <td>California</td>\n",
              "      <td>97427.84</td>\n",
              "    </tr>\n",
              "    <tr>\n",
              "      <th>33</th>\n",
              "      <td>55493.950000</td>\n",
              "      <td>103057.49</td>\n",
              "      <td>214634.810000</td>\n",
              "      <td>Florida</td>\n",
              "      <td>96778.92</td>\n",
              "    </tr>\n",
              "    <tr>\n",
              "      <th>34</th>\n",
              "      <td>46426.070000</td>\n",
              "      <td>157693.92</td>\n",
              "      <td>210797.670000</td>\n",
              "      <td>California</td>\n",
              "      <td>96712.80</td>\n",
              "    </tr>\n",
              "    <tr>\n",
              "      <th>35</th>\n",
              "      <td>46014.020000</td>\n",
              "      <td>85047.44</td>\n",
              "      <td>205517.640000</td>\n",
              "      <td>New York</td>\n",
              "      <td>96479.51</td>\n",
              "    </tr>\n",
              "    <tr>\n",
              "      <th>36</th>\n",
              "      <td>28663.760000</td>\n",
              "      <td>127056.21</td>\n",
              "      <td>201126.820000</td>\n",
              "      <td>Florida</td>\n",
              "      <td>90708.19</td>\n",
              "    </tr>\n",
              "    <tr>\n",
              "      <th>37</th>\n",
              "      <td>44069.950000</td>\n",
              "      <td>51283.14</td>\n",
              "      <td>197029.420000</td>\n",
              "      <td>California</td>\n",
              "      <td>89949.14</td>\n",
              "    </tr>\n",
              "    <tr>\n",
              "      <th>38</th>\n",
              "      <td>20229.590000</td>\n",
              "      <td>65947.93</td>\n",
              "      <td>185265.100000</td>\n",
              "      <td>New York</td>\n",
              "      <td>81229.06</td>\n",
              "    </tr>\n",
              "    <tr>\n",
              "      <th>39</th>\n",
              "      <td>38558.510000</td>\n",
              "      <td>82982.09</td>\n",
              "      <td>174999.300000</td>\n",
              "      <td>California</td>\n",
              "      <td>81005.76</td>\n",
              "    </tr>\n",
              "    <tr>\n",
              "      <th>40</th>\n",
              "      <td>28754.330000</td>\n",
              "      <td>118546.05</td>\n",
              "      <td>172795.670000</td>\n",
              "      <td>California</td>\n",
              "      <td>78239.91</td>\n",
              "    </tr>\n",
              "    <tr>\n",
              "      <th>41</th>\n",
              "      <td>27892.920000</td>\n",
              "      <td>84710.77</td>\n",
              "      <td>164470.710000</td>\n",
              "      <td>Florida</td>\n",
              "      <td>77798.83</td>\n",
              "    </tr>\n",
              "    <tr>\n",
              "      <th>42</th>\n",
              "      <td>23640.930000</td>\n",
              "      <td>96189.63</td>\n",
              "      <td>148001.110000</td>\n",
              "      <td>California</td>\n",
              "      <td>71498.49</td>\n",
              "    </tr>\n",
              "    <tr>\n",
              "      <th>43</th>\n",
              "      <td>15505.730000</td>\n",
              "      <td>127382.30</td>\n",
              "      <td>35534.170000</td>\n",
              "      <td>New York</td>\n",
              "      <td>69758.98</td>\n",
              "    </tr>\n",
              "    <tr>\n",
              "      <th>44</th>\n",
              "      <td>22177.740000</td>\n",
              "      <td>154806.14</td>\n",
              "      <td>28334.720000</td>\n",
              "      <td>California</td>\n",
              "      <td>65200.33</td>\n",
              "    </tr>\n",
              "    <tr>\n",
              "      <th>45</th>\n",
              "      <td>1000.230000</td>\n",
              "      <td>124153.04</td>\n",
              "      <td>1903.930000</td>\n",
              "      <td>New York</td>\n",
              "      <td>64926.08</td>\n",
              "    </tr>\n",
              "    <tr>\n",
              "      <th>46</th>\n",
              "      <td>1315.460000</td>\n",
              "      <td>115816.21</td>\n",
              "      <td>297114.460000</td>\n",
              "      <td>Florida</td>\n",
              "      <td>49490.75</td>\n",
              "    </tr>\n",
              "    <tr>\n",
              "      <th>47</th>\n",
              "      <td>0.000000</td>\n",
              "      <td>135426.92</td>\n",
              "      <td>0.000000</td>\n",
              "      <td>California</td>\n",
              "      <td>42559.73</td>\n",
              "    </tr>\n",
              "    <tr>\n",
              "      <th>48</th>\n",
              "      <td>542.050000</td>\n",
              "      <td>51743.15</td>\n",
              "      <td>0.000000</td>\n",
              "      <td>New York</td>\n",
              "      <td>35673.41</td>\n",
              "    </tr>\n",
              "    <tr>\n",
              "      <th>49</th>\n",
              "      <td>0.000000</td>\n",
              "      <td>116983.80</td>\n",
              "      <td>45173.060000</td>\n",
              "      <td>California</td>\n",
              "      <td>14681.40</td>\n",
              "    </tr>\n",
              "  </tbody>\n",
              "</table>\n",
              "</div>"
            ],
            "text/plain": [
              "        R&D Spend  Administration  Marketing Spend       State     Profit\n",
              "0   165349.200000       136897.80    471784.100000    New York  192261.83\n",
              "1   162597.700000       151377.59    443898.530000  California  191792.06\n",
              "2   153441.510000       101145.55    407934.540000     Florida  191050.39\n",
              "3   144372.410000       118671.85    383199.620000    New York  182901.99\n",
              "4   142107.340000        91391.77    366168.420000     Florida  166187.94\n",
              "5   131876.900000        99814.71    362861.360000    New York  156991.12\n",
              "6   134615.460000       147198.87    127716.820000  California  156122.51\n",
              "7    71981.472708       145530.06    323876.680000     Florida  155752.60\n",
              "8   120542.520000       148718.95    311613.290000    New York  152211.77\n",
              "9   123334.880000       108679.17    304981.620000    New York  149759.96\n",
              "10  101913.080000       110594.11    229160.950000     Florida  146121.95\n",
              "11   71981.472708        91790.61    210234.904898  California  144259.40\n",
              "12   93863.750000       127320.38    249839.440000     Florida  141585.52\n",
              "13   91992.390000       135495.07    252664.930000  California  134307.35\n",
              "14  119943.240000       156547.42    256512.920000     Florida  132602.65\n",
              "15  114523.610000       122616.84    261776.230000    New York  129917.04\n",
              "16   78013.110000       121597.55    264346.060000  California  126992.93\n",
              "17   94657.160000       145077.58    282574.310000    New York  125370.37\n",
              "18   91749.160000       114175.79    294919.570000     Florida  124266.90\n",
              "19   86419.700000       153514.11         0.000000    New York  122776.86\n",
              "20   76253.860000       113867.30    298664.470000  California  118474.03\n",
              "21   78389.470000       153773.43    299737.290000    New York  111313.02\n",
              "22   73994.560000       122782.75    303319.260000     Florida  110352.25\n",
              "23   67532.530000       105751.03    304768.730000     Florida  108733.99\n",
              "24   77044.010000        99281.34    140574.810000    New York  108552.04\n",
              "25   64664.710000       139553.16    137962.620000  California  107404.34\n",
              "26   75328.870000       144135.98    134050.070000     Florida  105733.54\n",
              "27   72107.600000       127864.55    353183.810000    New York  105008.31\n",
              "28   66051.520000       182645.56    118148.200000     Florida  103282.38\n",
              "29   65605.480000       153032.06    107138.380000    New York  101004.64\n",
              "30   61994.480000       115641.28     91131.240000     Florida   99937.59\n",
              "31   61136.380000       152701.92     88218.230000    New York   97483.56\n",
              "32   63408.860000       129219.61     46085.250000  California   97427.84\n",
              "33   55493.950000       103057.49    214634.810000     Florida   96778.92\n",
              "34   46426.070000       157693.92    210797.670000  California   96712.80\n",
              "35   46014.020000        85047.44    205517.640000    New York   96479.51\n",
              "36   28663.760000       127056.21    201126.820000     Florida   90708.19\n",
              "37   44069.950000        51283.14    197029.420000  California   89949.14\n",
              "38   20229.590000        65947.93    185265.100000    New York   81229.06\n",
              "39   38558.510000        82982.09    174999.300000  California   81005.76\n",
              "40   28754.330000       118546.05    172795.670000  California   78239.91\n",
              "41   27892.920000        84710.77    164470.710000     Florida   77798.83\n",
              "42   23640.930000        96189.63    148001.110000  California   71498.49\n",
              "43   15505.730000       127382.30     35534.170000    New York   69758.98\n",
              "44   22177.740000       154806.14     28334.720000  California   65200.33\n",
              "45    1000.230000       124153.04      1903.930000    New York   64926.08\n",
              "46    1315.460000       115816.21    297114.460000     Florida   49490.75\n",
              "47       0.000000       135426.92         0.000000  California   42559.73\n",
              "48     542.050000        51743.15         0.000000    New York   35673.41\n",
              "49       0.000000       116983.80     45173.060000  California   14681.40"
            ]
          },
          "metadata": {
            "tags": []
          },
          "execution_count": 34
        }
      ]
    },
    {
      "cell_type": "code",
      "metadata": {
        "id": "3IRVWOLnj2zJ",
        "colab_type": "code",
        "colab": {
          "base_uri": "https://localhost:8080/",
          "height": 284
        },
        "outputId": "696af436-98c3-447c-8b08-cfe7d6d6e162"
      },
      "source": [
        "#Lets see what the data looks like\n",
        "\n",
        "data.describe()"
      ],
      "execution_count": 35,
      "outputs": [
        {
          "output_type": "execute_result",
          "data": {
            "text/html": [
              "<div>\n",
              "<style scoped>\n",
              "    .dataframe tbody tr th:only-of-type {\n",
              "        vertical-align: middle;\n",
              "    }\n",
              "\n",
              "    .dataframe tbody tr th {\n",
              "        vertical-align: top;\n",
              "    }\n",
              "\n",
              "    .dataframe thead th {\n",
              "        text-align: right;\n",
              "    }\n",
              "</style>\n",
              "<table border=\"1\" class=\"dataframe\">\n",
              "  <thead>\n",
              "    <tr style=\"text-align: right;\">\n",
              "      <th></th>\n",
              "      <th>R&amp;D Spend</th>\n",
              "      <th>Administration</th>\n",
              "      <th>Marketing Spend</th>\n",
              "      <th>Profit</th>\n",
              "    </tr>\n",
              "  </thead>\n",
              "  <tbody>\n",
              "    <tr>\n",
              "      <th>count</th>\n",
              "      <td>50.000000</td>\n",
              "      <td>50.000000</td>\n",
              "      <td>50.000000</td>\n",
              "      <td>50.000000</td>\n",
              "    </tr>\n",
              "    <tr>\n",
              "      <th>mean</th>\n",
              "      <td>71981.472708</td>\n",
              "      <td>121344.639600</td>\n",
              "      <td>210234.904898</td>\n",
              "      <td>112012.639200</td>\n",
              "    </tr>\n",
              "    <tr>\n",
              "      <th>std</th>\n",
              "      <td>44987.814369</td>\n",
              "      <td>28017.802755</td>\n",
              "      <td>122162.595979</td>\n",
              "      <td>40306.180338</td>\n",
              "    </tr>\n",
              "    <tr>\n",
              "      <th>min</th>\n",
              "      <td>0.000000</td>\n",
              "      <td>51283.140000</td>\n",
              "      <td>0.000000</td>\n",
              "      <td>14681.400000</td>\n",
              "    </tr>\n",
              "    <tr>\n",
              "      <th>25%</th>\n",
              "      <td>39936.370000</td>\n",
              "      <td>103730.875000</td>\n",
              "      <td>129300.132500</td>\n",
              "      <td>90138.902500</td>\n",
              "    </tr>\n",
              "    <tr>\n",
              "      <th>50%</th>\n",
              "      <td>71981.472708</td>\n",
              "      <td>122699.795000</td>\n",
              "      <td>210516.287449</td>\n",
              "      <td>107978.190000</td>\n",
              "    </tr>\n",
              "    <tr>\n",
              "      <th>75%</th>\n",
              "      <td>94458.807500</td>\n",
              "      <td>144842.180000</td>\n",
              "      <td>299469.085000</td>\n",
              "      <td>139765.977500</td>\n",
              "    </tr>\n",
              "    <tr>\n",
              "      <th>max</th>\n",
              "      <td>165349.200000</td>\n",
              "      <td>182645.560000</td>\n",
              "      <td>471784.100000</td>\n",
              "      <td>192261.830000</td>\n",
              "    </tr>\n",
              "  </tbody>\n",
              "</table>\n",
              "</div>"
            ],
            "text/plain": [
              "           R&D Spend  Administration  Marketing Spend         Profit\n",
              "count      50.000000       50.000000        50.000000      50.000000\n",
              "mean    71981.472708   121344.639600    210234.904898  112012.639200\n",
              "std     44987.814369    28017.802755    122162.595979   40306.180338\n",
              "min         0.000000    51283.140000         0.000000   14681.400000\n",
              "25%     39936.370000   103730.875000    129300.132500   90138.902500\n",
              "50%     71981.472708   122699.795000    210516.287449  107978.190000\n",
              "75%     94458.807500   144842.180000    299469.085000  139765.977500\n",
              "max    165349.200000   182645.560000    471784.100000  192261.830000"
            ]
          },
          "metadata": {
            "tags": []
          },
          "execution_count": 35
        }
      ]
    },
    {
      "cell_type": "code",
      "metadata": {
        "id": "t_gSuRJ1knGj",
        "colab_type": "code",
        "colab": {
          "base_uri": "https://localhost:8080/",
          "height": 84
        },
        "outputId": "c4dfc163-0fa4-47cd-e40a-e6002c00bf6a"
      },
      "source": [
        "#Lets see the unique count in State variable\n",
        "data['State'].value_counts() "
      ],
      "execution_count": 36,
      "outputs": [
        {
          "output_type": "execute_result",
          "data": {
            "text/plain": [
              "New York      18\n",
              "Florida       16\n",
              "California    16\n",
              "Name: State, dtype: int64"
            ]
          },
          "metadata": {
            "tags": []
          },
          "execution_count": 36
        }
      ]
    },
    {
      "cell_type": "code",
      "metadata": {
        "id": "CR7l4iyjk-d-",
        "colab_type": "code",
        "colab": {}
      },
      "source": [
        "#define Features and Labels object\n",
        "features = data.iloc[:,:-1].values\n",
        "labels = data.iloc[:,-1].values\n",
        "\n"
      ],
      "execution_count": 37,
      "outputs": []
    },
    {
      "cell_type": "code",
      "metadata": {
        "id": "Iv5_7AHrnfZ_",
        "colab_type": "code",
        "colab": {
          "base_uri": "https://localhost:8080/",
          "height": 857
        },
        "outputId": "0fda6899-7b13-4cfd-d54c-6dd430b7c8aa"
      },
      "source": [
        "features"
      ],
      "execution_count": 38,
      "outputs": [
        {
          "output_type": "execute_result",
          "data": {
            "text/plain": [
              "array([[165349.2, 136897.8, 471784.1, 'New York'],\n",
              "       [162597.7, 151377.59, 443898.53, 'California'],\n",
              "       [153441.51, 101145.55, 407934.54, 'Florida'],\n",
              "       [144372.41, 118671.85, 383199.62, 'New York'],\n",
              "       [142107.34, 91391.77, 366168.42, 'Florida'],\n",
              "       [131876.9, 99814.71, 362861.36, 'New York'],\n",
              "       [134615.46, 147198.87, 127716.82, 'California'],\n",
              "       [71981.47270833333, 145530.06, 323876.68, 'Florida'],\n",
              "       [120542.52, 148718.95, 311613.29, 'New York'],\n",
              "       [123334.88, 108679.17, 304981.62, 'New York'],\n",
              "       [101913.08, 110594.11, 229160.95, 'Florida'],\n",
              "       [71981.47270833333, 91790.61, 210234.9048979592, 'California'],\n",
              "       [93863.75, 127320.38, 249839.44, 'Florida'],\n",
              "       [91992.39, 135495.07, 252664.93, 'California'],\n",
              "       [119943.24, 156547.42, 256512.92, 'Florida'],\n",
              "       [114523.61, 122616.84, 261776.23, 'New York'],\n",
              "       [78013.11, 121597.55, 264346.06, 'California'],\n",
              "       [94657.16, 145077.58, 282574.31, 'New York'],\n",
              "       [91749.16, 114175.79, 294919.57, 'Florida'],\n",
              "       [86419.7, 153514.11, 0.0, 'New York'],\n",
              "       [76253.86, 113867.3, 298664.47, 'California'],\n",
              "       [78389.47, 153773.43, 299737.29, 'New York'],\n",
              "       [73994.56, 122782.75, 303319.26, 'Florida'],\n",
              "       [67532.53, 105751.03, 304768.73, 'Florida'],\n",
              "       [77044.01, 99281.34, 140574.81, 'New York'],\n",
              "       [64664.71, 139553.16, 137962.62, 'California'],\n",
              "       [75328.87, 144135.98, 134050.07, 'Florida'],\n",
              "       [72107.6, 127864.55, 353183.81, 'New York'],\n",
              "       [66051.52, 182645.56, 118148.2, 'Florida'],\n",
              "       [65605.48, 153032.06, 107138.38, 'New York'],\n",
              "       [61994.48, 115641.28, 91131.24, 'Florida'],\n",
              "       [61136.38, 152701.92, 88218.23, 'New York'],\n",
              "       [63408.86, 129219.61, 46085.25, 'California'],\n",
              "       [55493.95, 103057.49, 214634.81, 'Florida'],\n",
              "       [46426.07, 157693.92, 210797.67, 'California'],\n",
              "       [46014.02, 85047.44, 205517.64, 'New York'],\n",
              "       [28663.76, 127056.21, 201126.82, 'Florida'],\n",
              "       [44069.95, 51283.14, 197029.42, 'California'],\n",
              "       [20229.59, 65947.93, 185265.1, 'New York'],\n",
              "       [38558.51, 82982.09, 174999.3, 'California'],\n",
              "       [28754.33, 118546.05, 172795.67, 'California'],\n",
              "       [27892.92, 84710.77, 164470.71, 'Florida'],\n",
              "       [23640.93, 96189.63, 148001.11, 'California'],\n",
              "       [15505.73, 127382.3, 35534.17, 'New York'],\n",
              "       [22177.74, 154806.14, 28334.72, 'California'],\n",
              "       [1000.23, 124153.04, 1903.93, 'New York'],\n",
              "       [1315.46, 115816.21, 297114.46, 'Florida'],\n",
              "       [0.0, 135426.92, 0.0, 'California'],\n",
              "       [542.05, 51743.15, 0.0, 'New York'],\n",
              "       [0.0, 116983.8, 45173.06, 'California']], dtype=object)"
            ]
          },
          "metadata": {
            "tags": []
          },
          "execution_count": 38
        }
      ]
    },
    {
      "cell_type": "code",
      "metadata": {
        "id": "Fb5bHpgyniR6",
        "colab_type": "code",
        "colab": {
          "base_uri": "https://localhost:8080/",
          "height": 168
        },
        "outputId": "bb4837fe-cef0-4623-9527-582dd75a4695"
      },
      "source": [
        "labels"
      ],
      "execution_count": 39,
      "outputs": [
        {
          "output_type": "execute_result",
          "data": {
            "text/plain": [
              "array([192261.83, 191792.06, 191050.39, 182901.99, 166187.94, 156991.12,\n",
              "       156122.51, 155752.6 , 152211.77, 149759.96, 146121.95, 144259.4 ,\n",
              "       141585.52, 134307.35, 132602.65, 129917.04, 126992.93, 125370.37,\n",
              "       124266.9 , 122776.86, 118474.03, 111313.02, 110352.25, 108733.99,\n",
              "       108552.04, 107404.34, 105733.54, 105008.31, 103282.38, 101004.64,\n",
              "        99937.59,  97483.56,  97427.84,  96778.92,  96712.8 ,  96479.51,\n",
              "        90708.19,  89949.14,  81229.06,  81005.76,  78239.91,  77798.83,\n",
              "        71498.49,  69758.98,  65200.33,  64926.08,  49490.75,  42559.73,\n",
              "        35673.41,  14681.4 ])"
            ]
          },
          "metadata": {
            "tags": []
          },
          "execution_count": 39
        }
      ]
    },
    {
      "cell_type": "code",
      "metadata": {
        "id": "KY8FLh8rnmuo",
        "colab_type": "code",
        "colab": {}
      },
      "source": [
        "#In order to convert categorial data into Numerical data, lets perform one hot encoding on State feature in features\n",
        "#Dummy Variables\n",
        "from sklearn.preprocessing import OneHotEncoder\n",
        "oheState = OneHotEncoder(sparse=False)\n",
        "fstate = oheState.fit_transform(features[:,3].reshape(-1,1))\n",
        "\n"
      ],
      "execution_count": 40,
      "outputs": []
    },
    {
      "cell_type": "code",
      "metadata": {
        "id": "0KNC0RRboC_g",
        "colab_type": "code",
        "colab": {}
      },
      "source": [
        "features = np.concatenate((features[:,:-1],fstate),axis=1)"
      ],
      "execution_count": 41,
      "outputs": []
    },
    {
      "cell_type": "code",
      "metadata": {
        "id": "96gJdAJPp7td",
        "colab_type": "code",
        "colab": {}
      },
      "source": [
        "#Standardization\n",
        "\n",
        "from sklearn.preprocessing import StandardScaler\n",
        "scfeatures = StandardScaler()"
      ],
      "execution_count": 42,
      "outputs": []
    },
    {
      "cell_type": "code",
      "metadata": {
        "id": "le9DRGlsqk38",
        "colab_type": "code",
        "colab": {}
      },
      "source": [
        "#Lets standardize features \n",
        "features = scfeatures.fit_transform(features)"
      ],
      "execution_count": 43,
      "outputs": []
    },
    {
      "cell_type": "code",
      "metadata": {
        "id": "9vBWzKRrqqt1",
        "colab_type": "code",
        "colab": {}
      },
      "source": [
        "#Firstly we are going to deploy a regression model in ML so no need to stadardize label\n",
        " #Train Test split \n",
        "from sklearn.model_selection import train_test_split\n",
        "xtrain,xtest,ytrain,ytest = train_test_split(features,labels,test_size=0.2,random_state=50) "
      ],
      "execution_count": 44,
      "outputs": []
    },
    {
      "cell_type": "code",
      "metadata": {
        "id": "upGoKR3RrD8f",
        "colab_type": "code",
        "colab": {
          "base_uri": "https://localhost:8080/",
          "height": 50
        },
        "outputId": "a3168102-5b59-4db3-e181-4db8f3e3b063"
      },
      "source": [
        "print(xtrain.shape)\n",
        "print(xtest.shape)\n"
      ],
      "execution_count": 45,
      "outputs": [
        {
          "output_type": "stream",
          "text": [
            "(40, 6)\n",
            "(10, 6)\n"
          ],
          "name": "stdout"
        }
      ]
    },
    {
      "cell_type": "code",
      "metadata": {
        "id": "s1iPq2EGrcPN",
        "colab_type": "code",
        "colab": {
          "base_uri": "https://localhost:8080/",
          "height": 34
        },
        "outputId": "2a8434ac-999b-4816-efe6-b0dc16e09062"
      },
      "source": [
        "#Build the Model\n",
        "\n",
        "from sklearn.linear_model import LinearRegression\n",
        "modelR = LinearRegression()\n",
        "modelR.fit(xtrain,ytrain)"
      ],
      "execution_count": 46,
      "outputs": [
        {
          "output_type": "execute_result",
          "data": {
            "text/plain": [
              "LinearRegression(copy_X=True, fit_intercept=True, n_jobs=None, normalize=False)"
            ]
          },
          "metadata": {
            "tags": []
          },
          "execution_count": 46
        }
      ]
    },
    {
      "cell_type": "code",
      "metadata": {
        "id": "3zMuW4UMrvTv",
        "colab_type": "code",
        "colab": {
          "base_uri": "https://localhost:8080/",
          "height": 50
        },
        "outputId": "7659ab74-6c08-4053-cabc-7b00ebd3de49"
      },
      "source": [
        "#Check the quality (whether the model is generalized or not)\n",
        "print('Training Score:',modelR.score(xtrain,ytrain))\n",
        "print('Test Score:',modelR.score(xtest,ytest))"
      ],
      "execution_count": 47,
      "outputs": [
        {
          "output_type": "stream",
          "text": [
            "Training Score: 0.9135433631989957\n",
            "Test Score: 0.9376829600715654\n"
          ],
          "name": "stdout"
        }
      ]
    },
    {
      "cell_type": "code",
      "metadata": {
        "id": "1TQ-rmAoryvx",
        "colab_type": "code",
        "colab": {
          "base_uri": "https://localhost:8080/",
          "height": 421
        },
        "outputId": "3a5d2e3f-082e-4a63-9a62-786f3a832139"
      },
      "source": [
        "#so our Test score Accuracy is 93.76%, lets consider that our required CL is 92% .Hence in this case our ML model itself satisfies the goal.\n",
        "#Lets deploy the model\n",
        "\n",
        "#Deployment\n",
        "\n",
        "\n",
        "#Small heuristic for Categoriacl Variable\n",
        "\n",
        "from sklearn.preprocessing import OneHotEncoder\n",
        "oheState = OneHotEncoder(sparse=False)\n",
        "Allowed_states = np.array(['California','New York','Florida'])\n",
        "\n",
        "fST  =  oheState.fit_transform(Allowed_states.reshape(-1,1))\n",
        "\n",
        "#1 Getting user input in the form of float\n",
        "Research_spend = float(input(\"Enter R&D spend:\"))\n",
        "Adm_spend = float(input(\"Enter Administration spend:\"))\n",
        "Marketing_spend = float(input(\"Enter Marketing spend:\"))\n",
        "\n",
        "State=str(input(\"(Hint:California,New york,Florida) Enter the State:\"))\n",
        "\n",
        "#Performing tranformation for Input value\n",
        "State = oheState.transform(np.array([[State]]))\n",
        "\n",
        "\n",
        "#Building Arrays\n",
        "\n",
        "features = np.array([[Research_spend,Adm_spend,Marketing_spend]])\n",
        "features = np.concatenate((features,State) , axis = 0)\n",
        "\n",
        "\n",
        "\n",
        "#Apply Standardization\n",
        "\n",
        "features_scaled = scfeatures.fit_transform(features)\n",
        "\n",
        "#4 Prediction\n",
        "Profit = modelR.predict(features_scaled)\n",
        "\n",
        "print('Profit Predicted is:',Profit)\n"
      ],
      "execution_count": 67,
      "outputs": [
        {
          "output_type": "stream",
          "text": [
            "Enter R&D spend:6685\n",
            "Enter Administration spend:5775\n",
            "Enter Marketing spend:85757\n",
            "(Hint:California,New york,Florida) Enter the State:New York\n"
          ],
          "name": "stdout"
        },
        {
          "output_type": "error",
          "ename": "ValueError",
          "evalue": "ignored",
          "traceback": [
            "\u001b[0;31m---------------------------------------------------------------------------\u001b[0m",
            "\u001b[0;31mValueError\u001b[0m                                Traceback (most recent call last)",
            "\u001b[0;32m<ipython-input-67-d0462dc1f4cf>\u001b[0m in \u001b[0;36m<module>\u001b[0;34m()\u001b[0m\n\u001b[1;32m     31\u001b[0m \u001b[0mfeatures_scaled\u001b[0m \u001b[0;34m=\u001b[0m \u001b[0mscfeatures\u001b[0m\u001b[0;34m.\u001b[0m\u001b[0mfit_transform\u001b[0m\u001b[0;34m(\u001b[0m\u001b[0mfeatures\u001b[0m\u001b[0;34m)\u001b[0m\u001b[0;34m\u001b[0m\u001b[0;34m\u001b[0m\u001b[0m\n\u001b[1;32m     32\u001b[0m \u001b[0;34m\u001b[0m\u001b[0m\n\u001b[0;32m---> 33\u001b[0;31m \u001b[0mProfit\u001b[0m \u001b[0;34m=\u001b[0m \u001b[0mmodelR\u001b[0m\u001b[0;34m.\u001b[0m\u001b[0mpredict\u001b[0m\u001b[0;34m(\u001b[0m\u001b[0mfeatures_scaled\u001b[0m\u001b[0;34m)\u001b[0m\u001b[0;34m\u001b[0m\u001b[0;34m\u001b[0m\u001b[0m\n\u001b[0m\u001b[1;32m     34\u001b[0m \u001b[0mprint\u001b[0m\u001b[0;34m(\u001b[0m\u001b[0;34m'Profit Predicted is:'\u001b[0m\u001b[0;34m,\u001b[0m\u001b[0mProfit\u001b[0m\u001b[0;34m)\u001b[0m\u001b[0;34m\u001b[0m\u001b[0;34m\u001b[0m\u001b[0m\n",
            "\u001b[0;32m/usr/local/lib/python3.6/dist-packages/sklearn/linear_model/_base.py\u001b[0m in \u001b[0;36mpredict\u001b[0;34m(self, X)\u001b[0m\n\u001b[1;32m    223\u001b[0m             \u001b[0mReturns\u001b[0m \u001b[0mpredicted\u001b[0m \u001b[0mvalues\u001b[0m\u001b[0;34m.\u001b[0m\u001b[0;34m\u001b[0m\u001b[0;34m\u001b[0m\u001b[0m\n\u001b[1;32m    224\u001b[0m         \"\"\"\n\u001b[0;32m--> 225\u001b[0;31m         \u001b[0;32mreturn\u001b[0m \u001b[0mself\u001b[0m\u001b[0;34m.\u001b[0m\u001b[0m_decision_function\u001b[0m\u001b[0;34m(\u001b[0m\u001b[0mX\u001b[0m\u001b[0;34m)\u001b[0m\u001b[0;34m\u001b[0m\u001b[0;34m\u001b[0m\u001b[0m\n\u001b[0m\u001b[1;32m    226\u001b[0m \u001b[0;34m\u001b[0m\u001b[0m\n\u001b[1;32m    227\u001b[0m     \u001b[0m_preprocess_data\u001b[0m \u001b[0;34m=\u001b[0m \u001b[0mstaticmethod\u001b[0m\u001b[0;34m(\u001b[0m\u001b[0m_preprocess_data\u001b[0m\u001b[0;34m)\u001b[0m\u001b[0;34m\u001b[0m\u001b[0;34m\u001b[0m\u001b[0m\n",
            "\u001b[0;32m/usr/local/lib/python3.6/dist-packages/sklearn/linear_model/_base.py\u001b[0m in \u001b[0;36m_decision_function\u001b[0;34m(self, X)\u001b[0m\n\u001b[1;32m    207\u001b[0m         \u001b[0mX\u001b[0m \u001b[0;34m=\u001b[0m \u001b[0mcheck_array\u001b[0m\u001b[0;34m(\u001b[0m\u001b[0mX\u001b[0m\u001b[0;34m,\u001b[0m \u001b[0maccept_sparse\u001b[0m\u001b[0;34m=\u001b[0m\u001b[0;34m[\u001b[0m\u001b[0;34m'csr'\u001b[0m\u001b[0;34m,\u001b[0m \u001b[0;34m'csc'\u001b[0m\u001b[0;34m,\u001b[0m \u001b[0;34m'coo'\u001b[0m\u001b[0;34m]\u001b[0m\u001b[0;34m)\u001b[0m\u001b[0;34m\u001b[0m\u001b[0;34m\u001b[0m\u001b[0m\n\u001b[1;32m    208\u001b[0m         return safe_sparse_dot(X, self.coef_.T,\n\u001b[0;32m--> 209\u001b[0;31m                                dense_output=True) + self.intercept_\n\u001b[0m\u001b[1;32m    210\u001b[0m \u001b[0;34m\u001b[0m\u001b[0m\n\u001b[1;32m    211\u001b[0m     \u001b[0;32mdef\u001b[0m \u001b[0mpredict\u001b[0m\u001b[0;34m(\u001b[0m\u001b[0mself\u001b[0m\u001b[0;34m,\u001b[0m \u001b[0mX\u001b[0m\u001b[0;34m)\u001b[0m\u001b[0;34m:\u001b[0m\u001b[0;34m\u001b[0m\u001b[0;34m\u001b[0m\u001b[0m\n",
            "\u001b[0;32m/usr/local/lib/python3.6/dist-packages/sklearn/utils/extmath.py\u001b[0m in \u001b[0;36msafe_sparse_dot\u001b[0;34m(a, b, dense_output)\u001b[0m\n\u001b[1;32m    149\u001b[0m             \u001b[0mret\u001b[0m \u001b[0;34m=\u001b[0m \u001b[0mnp\u001b[0m\u001b[0;34m.\u001b[0m\u001b[0mdot\u001b[0m\u001b[0;34m(\u001b[0m\u001b[0ma\u001b[0m\u001b[0;34m,\u001b[0m \u001b[0mb\u001b[0m\u001b[0;34m)\u001b[0m\u001b[0;34m\u001b[0m\u001b[0;34m\u001b[0m\u001b[0m\n\u001b[1;32m    150\u001b[0m     \u001b[0;32melse\u001b[0m\u001b[0;34m:\u001b[0m\u001b[0;34m\u001b[0m\u001b[0;34m\u001b[0m\u001b[0m\n\u001b[0;32m--> 151\u001b[0;31m         \u001b[0mret\u001b[0m \u001b[0;34m=\u001b[0m \u001b[0ma\u001b[0m \u001b[0;34m@\u001b[0m \u001b[0mb\u001b[0m\u001b[0;34m\u001b[0m\u001b[0;34m\u001b[0m\u001b[0m\n\u001b[0m\u001b[1;32m    152\u001b[0m \u001b[0;34m\u001b[0m\u001b[0m\n\u001b[1;32m    153\u001b[0m     if (sparse.issparse(a) and sparse.issparse(b)\n",
            "\u001b[0;31mValueError\u001b[0m: matmul: Input operand 1 has a mismatch in its core dimension 0, with gufunc signature (n?,k),(k,m?)->(n?,m?) (size 6 is different from 3)"
          ]
        }
      ]
    },
    {
      "cell_type": "code",
      "metadata": {
        "id": "gUjKk4tfCxS_",
        "colab_type": "code",
        "colab": {}
      },
      "source": [
        ""
      ],
      "execution_count": null,
      "outputs": []
    }
  ]
}