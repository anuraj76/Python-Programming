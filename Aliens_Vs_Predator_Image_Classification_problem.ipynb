{
  "nbformat": 4,
  "nbformat_minor": 0,
  "metadata": {
    "colab": {
      "name": "Aliens Vs Predator Image Classification problem.ipynb",
      "provenance": []
    },
    "kernelspec": {
      "name": "python3",
      "display_name": "Python 3"
    }
  },
  "cells": [
    {
      "cell_type": "code",
      "metadata": {
        "id": "ScQ8aiSe7yFR",
        "colab_type": "code",
        "colab": {}
      },
      "source": [
        "import tensorflow as tf"
      ],
      "execution_count": 1,
      "outputs": []
    },
    {
      "cell_type": "code",
      "metadata": {
        "id": "hNwnkyI371G_",
        "colab_type": "code",
        "colab": {}
      },
      "source": [
        "train_generator = tf.keras.preprocessing.image.ImageDataGenerator(rescale=1.0/255.)\n",
        "test_generator = tf.keras.preprocessing.image.ImageDataGenerator(rescale=1.0/255.)"
      ],
      "execution_count": 4,
      "outputs": []
    },
    {
      "cell_type": "code",
      "metadata": {
        "id": "AQlNwyuH8Aou",
        "colab_type": "code",
        "colab": {
          "base_uri": "https://localhost:8080/",
          "height": 34
        },
        "outputId": "e78464a3-11df-4097-9809-a767292855d5"
      },
      "source": [
        "#Pass the images to generator to create an input compatible for CNN\n",
        "\n",
        "trainImageData = train_generator.flow_from_directory('/content/drive/My Drive/Colab Notebooks/DatasetALandP/alien_vs_predator_thumbnails/data/train'\n",
        "                ,batch_size=20,class_mode='binary',target_size=(64,64))"
      ],
      "execution_count": 5,
      "outputs": [
        {
          "output_type": "stream",
          "text": [
            "Found 694 images belonging to 2 classes.\n"
          ],
          "name": "stdout"
        }
      ]
    },
    {
      "cell_type": "code",
      "metadata": {
        "id": "5soTqw4lJKFd",
        "colab_type": "code",
        "colab": {
          "base_uri": "https://localhost:8080/",
          "height": 34
        },
        "outputId": "4bfd343c-f259-42ec-f0a3-e919f44751dd"
      },
      "source": [
        "testImageData = test_generator.flow_from_directory('/content/drive/My Drive/Colab Notebooks/DatasetALandP/alien_vs_predator_thumbnails/data/validation'\n",
        "                ,batch_size=20,class_mode='binary',target_size=(64,64))"
      ],
      "execution_count": 6,
      "outputs": [
        {
          "output_type": "stream",
          "text": [
            "Found 200 images belonging to 2 classes.\n"
          ],
          "name": "stdout"
        }
      ]
    },
    {
      "cell_type": "code",
      "metadata": {
        "id": "lXai5XkUJqrq",
        "colab_type": "code",
        "colab": {
          "base_uri": "https://localhost:8080/",
          "height": 50
        },
        "outputId": "7d6cfe35-9c52-424c-d799-ee57c6c963bc"
      },
      "source": [
        "#Check shapes of training and testing data\n",
        "\n",
        "print(trainImageData.image_shape)\n",
        "print(testImageData.image_shape)"
      ],
      "execution_count": 8,
      "outputs": [
        {
          "output_type": "stream",
          "text": [
            "(64, 64, 3)\n",
            "(64, 64, 3)\n"
          ],
          "name": "stdout"
        }
      ]
    },
    {
      "cell_type": "markdown",
      "metadata": {
        "id": "G9YinQASKLBM",
        "colab_type": "text"
      },
      "source": [
        "Architect a CNN layer"
      ]
    },
    {
      "cell_type": "code",
      "metadata": {
        "id": "zYwRq2DKJ_Og",
        "colab_type": "code",
        "colab": {}
      },
      "source": [
        "#Step 1 : Create first Convlutional layer\n",
        "model = tf.keras.models.Sequential()\n",
        "\n",
        "#Conv2D(no. of feature maps,kernelshape,input shape,activation fuction)\n",
        "model.add(tf.keras.layers.Conv2D(32,(3,3),input_shape=(64,64,3),activation='relu',padding='same'))\n",
        "\n",
        "#Pooling operation\n",
        "\n",
        "model.add(tf.keras.layers.AveragePooling2D(pool_size=(2,2)))\n",
        "\n",
        "#Second CNN layer\n",
        "#Conv2D(no. of feature maps,kernelshape,input shape,activation fuction)\n",
        "\n",
        "model.add(tf.keras.layers.Conv2D(16,(3,3),input_shape=(64,64,3),activation='relu',padding='same'))\n",
        "\n",
        "#Pooling operation\n",
        "\n",
        "model.add(tf.keras.layers.MaxPooling2D(pool_size=(2,2)))"
      ],
      "execution_count": 10,
      "outputs": []
    },
    {
      "cell_type": "code",
      "metadata": {
        "id": "ElYOQt2LMlel",
        "colab_type": "code",
        "colab": {}
      },
      "source": [
        "#Step 3 : Flattening Operation\n",
        "model.add(tf.keras.layers.Flatten())\n",
        "\n",
        "#Step4 : Connected Layers\n",
        "\n",
        "model.add(tf.keras.layers.Dense(units=512,activation='relu'))\n",
        "model.add(tf.keras.layers.Dense(units=256,activation='relu'))\n",
        "\n",
        "model.add(tf.keras.layers.Dense(units=1,activation='sigmoid'))\n",
        "\n"
      ],
      "execution_count": 11,
      "outputs": []
    },
    {
      "cell_type": "code",
      "metadata": {
        "id": "eFWvpWadNnyI",
        "colab_type": "code",
        "colab": {
          "base_uri": "https://localhost:8080/",
          "height": 420
        },
        "outputId": "8ffa9f84-ce43-4141-a5dd-f50b1236cf6e"
      },
      "source": [
        "model.summary()"
      ],
      "execution_count": 12,
      "outputs": [
        {
          "output_type": "stream",
          "text": [
            "Model: \"sequential_1\"\n",
            "_________________________________________________________________\n",
            "Layer (type)                 Output Shape              Param #   \n",
            "=================================================================\n",
            "conv2d_1 (Conv2D)            (None, 64, 64, 32)        896       \n",
            "_________________________________________________________________\n",
            "average_pooling2d (AveragePo (None, 32, 32, 32)        0         \n",
            "_________________________________________________________________\n",
            "conv2d_2 (Conv2D)            (None, 32, 32, 16)        4624      \n",
            "_________________________________________________________________\n",
            "max_pooling2d (MaxPooling2D) (None, 16, 16, 16)        0         \n",
            "_________________________________________________________________\n",
            "flatten (Flatten)            (None, 4096)              0         \n",
            "_________________________________________________________________\n",
            "dense (Dense)                (None, 512)               2097664   \n",
            "_________________________________________________________________\n",
            "dense_1 (Dense)              (None, 256)               131328    \n",
            "_________________________________________________________________\n",
            "dense_2 (Dense)              (None, 1)                 257       \n",
            "=================================================================\n",
            "Total params: 2,234,769\n",
            "Trainable params: 2,234,769\n",
            "Non-trainable params: 0\n",
            "_________________________________________________________________\n"
          ],
          "name": "stdout"
        }
      ]
    },
    {
      "cell_type": "code",
      "metadata": {
        "id": "q264V1BRNqaC",
        "colab_type": "code",
        "colab": {}
      },
      "source": [
        "#Model Compliation\n",
        "\n",
        "model.compile(optimizer='adam',loss='binary_crossentropy',metrics=['accuracy'])\n"
      ],
      "execution_count": 13,
      "outputs": []
    },
    {
      "cell_type": "code",
      "metadata": {
        "id": "F9C6tmi3OLLh",
        "colab_type": "code",
        "colab": {
          "base_uri": "https://localhost:8080/",
          "height": 34
        },
        "outputId": "103fabd4-d9ff-4ab8-efa0-dc0ee7e8dc3d"
      },
      "source": [
        "int(len(trainImageData.filenames)/trainImageData.batch_size)"
      ],
      "execution_count": 14,
      "outputs": [
        {
          "output_type": "execute_result",
          "data": {
            "text/plain": [
              "34"
            ]
          },
          "metadata": {
            "tags": []
          },
          "execution_count": 14
        }
      ]
    },
    {
      "cell_type": "code",
      "metadata": {
        "id": "XtJh7g3aO4Ui",
        "colab_type": "code",
        "colab": {
          "base_uri": "https://localhost:8080/",
          "height": 1000
        },
        "outputId": "57994606-48fd-4fb6-c71d-f298a30bb996"
      },
      "source": [
        "#Model fitting\n",
        "\n",
        "model.fit(trainImageData,validation_data=testImageData,epochs=50,steps_per_epoch=int(len(trainImageData.filenames)/trainImageData.batch_size)\n",
        ",validation_steps = int(len(testImageData.filenames)/testImageData.batch_size))"
      ],
      "execution_count": 15,
      "outputs": [
        {
          "output_type": "stream",
          "text": [
            "Epoch 1/50\n",
            "34/34 [==============================] - 710s 21s/step - loss: 0.6566 - accuracy: 0.6157 - val_loss: 0.6554 - val_accuracy: 0.6100\n",
            "Epoch 2/50\n",
            "34/34 [==============================] - 5s 138ms/step - loss: 0.5584 - accuracy: 0.7270 - val_loss: 0.5664 - val_accuracy: 0.7050\n",
            "Epoch 3/50\n",
            "34/34 [==============================] - 5s 138ms/step - loss: 0.4988 - accuracy: 0.7596 - val_loss: 0.5898 - val_accuracy: 0.7000\n",
            "Epoch 4/50\n",
            "34/34 [==============================] - 5s 138ms/step - loss: 0.3969 - accuracy: 0.8234 - val_loss: 0.5828 - val_accuracy: 0.6800\n",
            "Epoch 5/50\n",
            "34/34 [==============================] - 5s 140ms/step - loss: 0.3518 - accuracy: 0.8561 - val_loss: 0.5858 - val_accuracy: 0.6900\n",
            "Epoch 6/50\n",
            "34/34 [==============================] - 5s 138ms/step - loss: 0.2457 - accuracy: 0.9110 - val_loss: 0.7423 - val_accuracy: 0.7050\n",
            "Epoch 7/50\n",
            "34/34 [==============================] - 5s 138ms/step - loss: 0.2235 - accuracy: 0.9059 - val_loss: 0.6950 - val_accuracy: 0.7050\n",
            "Epoch 8/50\n",
            "34/34 [==============================] - 5s 139ms/step - loss: 0.1420 - accuracy: 0.9347 - val_loss: 0.8131 - val_accuracy: 0.7150\n",
            "Epoch 9/50\n",
            "34/34 [==============================] - 5s 143ms/step - loss: 0.0757 - accuracy: 0.9792 - val_loss: 0.9785 - val_accuracy: 0.7200\n",
            "Epoch 10/50\n",
            "34/34 [==============================] - 5s 143ms/step - loss: 0.0393 - accuracy: 0.9896 - val_loss: 1.0543 - val_accuracy: 0.7400\n",
            "Epoch 11/50\n",
            "34/34 [==============================] - 5s 139ms/step - loss: 0.0258 - accuracy: 0.9941 - val_loss: 1.2810 - val_accuracy: 0.7050\n",
            "Epoch 12/50\n",
            "34/34 [==============================] - 5s 139ms/step - loss: 0.0225 - accuracy: 0.9926 - val_loss: 1.2109 - val_accuracy: 0.7250\n",
            "Epoch 13/50\n",
            "34/34 [==============================] - 5s 138ms/step - loss: 0.0096 - accuracy: 0.9985 - val_loss: 1.4663 - val_accuracy: 0.6950\n",
            "Epoch 14/50\n",
            "34/34 [==============================] - 5s 139ms/step - loss: 0.0034 - accuracy: 1.0000 - val_loss: 1.5473 - val_accuracy: 0.7300\n",
            "Epoch 15/50\n",
            "34/34 [==============================] - 5s 138ms/step - loss: 0.0015 - accuracy: 1.0000 - val_loss: 1.5996 - val_accuracy: 0.7300\n",
            "Epoch 16/50\n",
            "34/34 [==============================] - 5s 140ms/step - loss: 8.2792e-04 - accuracy: 1.0000 - val_loss: 1.6995 - val_accuracy: 0.7200\n",
            "Epoch 17/50\n",
            "34/34 [==============================] - 5s 138ms/step - loss: 5.6199e-04 - accuracy: 1.0000 - val_loss: 1.7799 - val_accuracy: 0.7250\n",
            "Epoch 18/50\n",
            "34/34 [==============================] - 5s 140ms/step - loss: 4.1542e-04 - accuracy: 1.0000 - val_loss: 1.8745 - val_accuracy: 0.7250\n",
            "Epoch 19/50\n",
            "34/34 [==============================] - 5s 138ms/step - loss: 2.8623e-04 - accuracy: 1.0000 - val_loss: 1.9555 - val_accuracy: 0.7150\n",
            "Epoch 20/50\n",
            "34/34 [==============================] - 5s 139ms/step - loss: 1.9710e-04 - accuracy: 1.0000 - val_loss: 2.0049 - val_accuracy: 0.7150\n",
            "Epoch 21/50\n",
            "34/34 [==============================] - 5s 138ms/step - loss: 1.5640e-04 - accuracy: 1.0000 - val_loss: 2.0676 - val_accuracy: 0.7150\n",
            "Epoch 22/50\n",
            "34/34 [==============================] - 5s 139ms/step - loss: 1.2356e-04 - accuracy: 1.0000 - val_loss: 2.1119 - val_accuracy: 0.7150\n",
            "Epoch 23/50\n",
            "34/34 [==============================] - 5s 139ms/step - loss: 1.0380e-04 - accuracy: 1.0000 - val_loss: 2.1716 - val_accuracy: 0.7150\n",
            "Epoch 24/50\n",
            "34/34 [==============================] - 5s 138ms/step - loss: 8.3555e-05 - accuracy: 1.0000 - val_loss: 2.2139 - val_accuracy: 0.7150\n",
            "Epoch 25/50\n",
            "34/34 [==============================] - 5s 138ms/step - loss: 6.7919e-05 - accuracy: 1.0000 - val_loss: 2.2601 - val_accuracy: 0.7150\n",
            "Epoch 26/50\n",
            "34/34 [==============================] - 5s 138ms/step - loss: 5.7015e-05 - accuracy: 1.0000 - val_loss: 2.2928 - val_accuracy: 0.7150\n",
            "Epoch 27/50\n",
            "34/34 [==============================] - 5s 138ms/step - loss: 4.7699e-05 - accuracy: 1.0000 - val_loss: 2.3250 - val_accuracy: 0.7150\n",
            "Epoch 28/50\n",
            "34/34 [==============================] - 5s 138ms/step - loss: 4.4426e-05 - accuracy: 1.0000 - val_loss: 2.3619 - val_accuracy: 0.7150\n",
            "Epoch 29/50\n",
            "34/34 [==============================] - 5s 138ms/step - loss: 3.8892e-05 - accuracy: 1.0000 - val_loss: 2.3986 - val_accuracy: 0.7150\n",
            "Epoch 30/50\n",
            "34/34 [==============================] - 5s 138ms/step - loss: 3.4860e-05 - accuracy: 1.0000 - val_loss: 2.4271 - val_accuracy: 0.7150\n",
            "Epoch 31/50\n",
            "34/34 [==============================] - 5s 139ms/step - loss: 3.1246e-05 - accuracy: 1.0000 - val_loss: 2.4611 - val_accuracy: 0.7150\n",
            "Epoch 32/50\n",
            "34/34 [==============================] - 5s 139ms/step - loss: 2.7688e-05 - accuracy: 1.0000 - val_loss: 2.4853 - val_accuracy: 0.7150\n",
            "Epoch 33/50\n",
            "34/34 [==============================] - 5s 139ms/step - loss: 2.1841e-05 - accuracy: 1.0000 - val_loss: 2.5068 - val_accuracy: 0.7150\n",
            "Epoch 34/50\n",
            "34/34 [==============================] - 5s 138ms/step - loss: 2.2673e-05 - accuracy: 1.0000 - val_loss: 2.5344 - val_accuracy: 0.7150\n",
            "Epoch 35/50\n",
            "34/34 [==============================] - 5s 139ms/step - loss: 2.0455e-05 - accuracy: 1.0000 - val_loss: 2.5594 - val_accuracy: 0.7150\n",
            "Epoch 36/50\n",
            "34/34 [==============================] - 5s 139ms/step - loss: 1.8498e-05 - accuracy: 1.0000 - val_loss: 2.5799 - val_accuracy: 0.7150\n",
            "Epoch 37/50\n",
            "34/34 [==============================] - 6s 163ms/step - loss: 1.6603e-05 - accuracy: 1.0000 - val_loss: 2.6016 - val_accuracy: 0.7150\n",
            "Epoch 38/50\n",
            "34/34 [==============================] - 5s 153ms/step - loss: 1.5978e-05 - accuracy: 1.0000 - val_loss: 2.6256 - val_accuracy: 0.7150\n",
            "Epoch 39/50\n",
            "34/34 [==============================] - 5s 140ms/step - loss: 1.4411e-05 - accuracy: 1.0000 - val_loss: 2.6459 - val_accuracy: 0.7150\n",
            "Epoch 40/50\n",
            "34/34 [==============================] - 5s 138ms/step - loss: 1.2532e-05 - accuracy: 1.0000 - val_loss: 2.6626 - val_accuracy: 0.7150\n",
            "Epoch 41/50\n",
            "34/34 [==============================] - 5s 138ms/step - loss: 1.2477e-05 - accuracy: 1.0000 - val_loss: 2.6862 - val_accuracy: 0.7150\n",
            "Epoch 42/50\n",
            "34/34 [==============================] - 5s 138ms/step - loss: 1.1362e-05 - accuracy: 1.0000 - val_loss: 2.7037 - val_accuracy: 0.7150\n",
            "Epoch 43/50\n",
            "34/34 [==============================] - 5s 138ms/step - loss: 1.0342e-05 - accuracy: 1.0000 - val_loss: 2.7210 - val_accuracy: 0.7150\n",
            "Epoch 44/50\n",
            "34/34 [==============================] - 5s 139ms/step - loss: 9.9960e-06 - accuracy: 1.0000 - val_loss: 2.7389 - val_accuracy: 0.7150\n",
            "Epoch 45/50\n",
            "34/34 [==============================] - 5s 137ms/step - loss: 9.1516e-06 - accuracy: 1.0000 - val_loss: 2.7564 - val_accuracy: 0.7150\n",
            "Epoch 46/50\n",
            "34/34 [==============================] - 5s 138ms/step - loss: 8.5064e-06 - accuracy: 1.0000 - val_loss: 2.7781 - val_accuracy: 0.7150\n",
            "Epoch 47/50\n",
            "34/34 [==============================] - 5s 139ms/step - loss: 8.0487e-06 - accuracy: 1.0000 - val_loss: 2.7923 - val_accuracy: 0.7150\n",
            "Epoch 48/50\n",
            "34/34 [==============================] - 5s 138ms/step - loss: 7.6276e-06 - accuracy: 1.0000 - val_loss: 2.8085 - val_accuracy: 0.7150\n",
            "Epoch 49/50\n",
            "34/34 [==============================] - 5s 139ms/step - loss: 7.2560e-06 - accuracy: 1.0000 - val_loss: 2.8218 - val_accuracy: 0.7150\n",
            "Epoch 50/50\n",
            "34/34 [==============================] - 5s 138ms/step - loss: 6.4097e-06 - accuracy: 1.0000 - val_loss: 2.8419 - val_accuracy: 0.7150\n"
          ],
          "name": "stdout"
        },
        {
          "output_type": "execute_result",
          "data": {
            "text/plain": [
              "<tensorflow.python.keras.callbacks.History at 0x7fc5d1c60f28>"
            ]
          },
          "metadata": {
            "tags": []
          },
          "execution_count": 15
        }
      ]
    },
    {
      "cell_type": "code",
      "metadata": {
        "id": "9nXnIKctPmUx",
        "colab_type": "code",
        "colab": {}
      },
      "source": [
        "#Use the Model to classify the image\n",
        "\n",
        "img = tf.keras.preprocessing.image.load_img('/content/drive/My Drive/Colab Notebooks/DatasetALandP/alien_vs_predator_thumbnails/data/train/alien/104.jpg',target_size=(64,64))"
      ],
      "execution_count": 16,
      "outputs": []
    },
    {
      "cell_type": "code",
      "metadata": {
        "id": "debKvk4pa5le",
        "colab_type": "code",
        "colab": {}
      },
      "source": [
        "import cv2\n",
        "i = cv2.imread('/content/drive/My Drive/Colab Notebooks/DatasetALandP/alien_vs_predator_thumbnails/data/train/alien/104.jpg')\n"
      ],
      "execution_count": 19,
      "outputs": []
    },
    {
      "cell_type": "code",
      "metadata": {
        "id": "FcwpyOMAbIqG",
        "colab_type": "code",
        "colab": {
          "base_uri": "https://localhost:8080/",
          "height": 194
        },
        "outputId": "1a0cf837-b616-4b1d-ada0-f4f1a93439f6"
      },
      "source": [
        "from google.colab.patches import cv2_imshow\n",
        "\n",
        "cv2_imshow(i)"
      ],
      "execution_count": 21,
      "outputs": [
        {
          "output_type": "display_data",
          "data": {
            "image/png": "[encoded data removed]",
            "text/plain": [
              "<PIL.Image.Image image mode=RGB size=284x177 at 0x7FC5D0BD8278>"
            ]
          },
          "metadata": {
            "tags": []
          }
        }
      ]
    },
    {
      "cell_type": "code",
      "metadata": {
        "id": "w5eG5WBCbNey",
        "colab_type": "code",
        "colab": {
          "base_uri": "https://localhost:8080/",
          "height": 34
        },
        "outputId": "33e0db89-491f-4a26-eb4f-7792c698c0e7"
      },
      "source": [
        "#Create an image array\n",
        "imgArray = tf.keras.preprocessing.image.img_to_array(img)\n",
        "imgArray.shape"
      ],
      "execution_count": 22,
      "outputs": [
        {
          "output_type": "execute_result",
          "data": {
            "text/plain": [
              "(64, 64, 3)"
            ]
          },
          "metadata": {
            "tags": []
          },
          "execution_count": 22
        }
      ]
    },
    {
      "cell_type": "code",
      "metadata": {
        "id": "EpllYCVDc1EF",
        "colab_type": "code",
        "colab": {
          "base_uri": "https://localhost:8080/",
          "height": 34
        },
        "outputId": "4ad10a06-e54d-473e-8c7a-454c5f07978e"
      },
      "source": [
        "#Make image compatoible for input\n",
        "\n",
        "import numpy as np\n",
        "compatibleImgArray = np.expand_dims(imgArray,axis=0)\n",
        "\n",
        "compatibleImgArray.shape"
      ],
      "execution_count": 23,
      "outputs": [
        {
          "output_type": "execute_result",
          "data": {
            "text/plain": [
              "(1, 64, 64, 3)"
            ]
          },
          "metadata": {
            "tags": []
          },
          "execution_count": 23
        }
      ]
    },
    {
      "cell_type": "code",
      "metadata": {
        "id": "-bamgIX_cidb",
        "colab_type": "code",
        "colab": {
          "base_uri": "https://localhost:8080/",
          "height": 104
        },
        "outputId": "0397a634-27fe-48c1-978f-d7bd7323e9cb"
      },
      "source": [
        "#Predict the class of the selected image\n",
        "\n",
        "model.predict_classes(compatibleImgArray)"
      ],
      "execution_count": 24,
      "outputs": [
        {
          "output_type": "stream",
          "text": [
            "WARNING:tensorflow:From <ipython-input-24-81d616832a83>:3: Sequential.predict_classes (from tensorflow.python.keras.engine.sequential) is deprecated and will be removed after 2021-01-01.\n",
            "Instructions for updating:\n",
            "Please use instead:* `np.argmax(model.predict(x), axis=-1)`,   if your model does multi-class classification   (e.g. if it uses a `softmax` last-layer activation).* `(model.predict(x) > 0.5).astype(\"int32\")`,   if your model does binary classification   (e.g. if it uses a `sigmoid` last-layer activation).\n"
          ],
          "name": "stdout"
        },
        {
          "output_type": "execute_result",
          "data": {
            "text/plain": [
              "array([[0]], dtype=int32)"
            ]
          },
          "metadata": {
            "tags": []
          },
          "execution_count": 24
        }
      ]
    },
    {
      "cell_type": "code",
      "metadata": {
        "id": "57TKNNuzdNFA",
        "colab_type": "code",
        "colab": {
          "base_uri": "https://localhost:8080/",
          "height": 34
        },
        "outputId": "73a07b67-3850-42a2-912f-468fcb0f0f99"
      },
      "source": [
        "trainImageData.class_indices"
      ],
      "execution_count": 25,
      "outputs": [
        {
          "output_type": "execute_result",
          "data": {
            "text/plain": [
              "{'alien': 0, 'predator': 1}"
            ]
          },
          "metadata": {
            "tags": []
          },
          "execution_count": 25
        }
      ]
    },
    {
      "cell_type": "code",
      "metadata": {
        "id": "4kNOPER5dT8N",
        "colab_type": "code",
        "colab": {
          "base_uri": "https://localhost:8080/",
          "height": 34
        },
        "outputId": "50877e91-2d13-47a9-fbc8-68cfd384b651"
      },
      "source": [
        "if model.predict_classes(compatibleImgArray) == 0:\n",
        "  print(\"Its an alien,rum now...\")\n",
        "else:\n",
        "  print(\"Its a predator,hide\")  "
      ],
      "execution_count": 26,
      "outputs": [
        {
          "output_type": "stream",
          "text": [
            "Its an alien,rum now...\n"
          ],
          "name": "stdout"
        }
      ]
    },
    {
      "cell_type": "code",
      "metadata": {
        "id": "SVzLpkTmdmAG",
        "colab_type": "code",
        "colab": {}
      },
      "source": [
        ""
      ],
      "execution_count": null,
      "outputs": []
    }
  ]
}