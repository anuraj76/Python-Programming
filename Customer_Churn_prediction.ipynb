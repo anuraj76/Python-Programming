{
  "nbformat": 4,
  "nbformat_minor": 0,
  "metadata": {
    "colab": {
      "name": "Customer Churn prediction.ipynb",
      "provenance": []
    },
    "kernelspec": {
      "name": "python3",
      "display_name": "Python 3"
    }
  },
  "cells": [
    {
      "cell_type": "markdown",
      "metadata": {
        "id": "uZYcTsvX3Bsg",
        "colab_type": "text"
      },
      "source": [
        "#A bank is investigating a very high rate of customer leaving the bank. Here is a 10.000 records dataset to investigate and predict which of the customers are more likely to leave the bank soon."
      ]
    },
    {
      "cell_type": "code",
      "metadata": {
        "id": "dPcjGIGcx52T",
        "colab_type": "code",
        "colab": {}
      },
      "source": [
        "import numpy as np\n",
        "import pandas as pd\n",
        "import matplotlib.pyplot as plt \n",
        "import seaborn as sns"
      ],
      "execution_count": 147,
      "outputs": []
    },
    {
      "cell_type": "code",
      "metadata": {
        "id": "hF8SqG90zidj",
        "colab_type": "code",
        "colab": {}
      },
      "source": [
        "data = pd.read_csv(\"/content/drive/My Drive/Colab Notebooks/Kaggle competition/Banking data/Churn_Modelling.csv\")"
      ],
      "execution_count": 148,
      "outputs": []
    },
    {
      "cell_type": "code",
      "metadata": {
        "id": "XPUwIGa-0toj",
        "colab_type": "code",
        "colab": {
          "base_uri": "https://localhost:8080/",
          "height": 215
        },
        "outputId": "4ef94b3c-8902-4d6c-abd0-b95b7b1a81e4"
      },
      "source": [
        "data.head()"
      ],
      "execution_count": 149,
      "outputs": [
        {
          "output_type": "execute_result",
          "data": {
            "text/html": [
              "<div>\n",
              "<style scoped>\n",
              "    .dataframe tbody tr th:only-of-type {\n",
              "        vertical-align: middle;\n",
              "    }\n",
              "\n",
              "    .dataframe tbody tr th {\n",
              "        vertical-align: top;\n",
              "    }\n",
              "\n",
              "    .dataframe thead th {\n",
              "        text-align: right;\n",
              "    }\n",
              "</style>\n",
              "<table border=\"1\" class=\"dataframe\">\n",
              "  <thead>\n",
              "    <tr style=\"text-align: right;\">\n",
              "      <th></th>\n",
              "      <th>RowNumber</th>\n",
              "      <th>CustomerId</th>\n",
              "      <th>Surname</th>\n",
              "      <th>CreditScore</th>\n",
              "      <th>Geography</th>\n",
              "      <th>Gender</th>\n",
              "      <th>Age</th>\n",
              "      <th>Tenure</th>\n",
              "      <th>Balance</th>\n",
              "      <th>NumOfProducts</th>\n",
              "      <th>HasCrCard</th>\n",
              "      <th>IsActiveMember</th>\n",
              "      <th>EstimatedSalary</th>\n",
              "      <th>Exited</th>\n",
              "    </tr>\n",
              "  </thead>\n",
              "  <tbody>\n",
              "    <tr>\n",
              "      <th>0</th>\n",
              "      <td>1</td>\n",
              "      <td>15634602</td>\n",
              "      <td>Hargrave</td>\n",
              "      <td>619</td>\n",
              "      <td>France</td>\n",
              "      <td>Female</td>\n",
              "      <td>42</td>\n",
              "      <td>2</td>\n",
              "      <td>0.00</td>\n",
              "      <td>1</td>\n",
              "      <td>1</td>\n",
              "      <td>1</td>\n",
              "      <td>101348.88</td>\n",
              "      <td>1</td>\n",
              "    </tr>\n",
              "    <tr>\n",
              "      <th>1</th>\n",
              "      <td>2</td>\n",
              "      <td>15647311</td>\n",
              "      <td>Hill</td>\n",
              "      <td>608</td>\n",
              "      <td>Spain</td>\n",
              "      <td>Female</td>\n",
              "      <td>41</td>\n",
              "      <td>1</td>\n",
              "      <td>83807.86</td>\n",
              "      <td>1</td>\n",
              "      <td>0</td>\n",
              "      <td>1</td>\n",
              "      <td>112542.58</td>\n",
              "      <td>0</td>\n",
              "    </tr>\n",
              "    <tr>\n",
              "      <th>2</th>\n",
              "      <td>3</td>\n",
              "      <td>15619304</td>\n",
              "      <td>Onio</td>\n",
              "      <td>502</td>\n",
              "      <td>France</td>\n",
              "      <td>Female</td>\n",
              "      <td>42</td>\n",
              "      <td>8</td>\n",
              "      <td>159660.80</td>\n",
              "      <td>3</td>\n",
              "      <td>1</td>\n",
              "      <td>0</td>\n",
              "      <td>113931.57</td>\n",
              "      <td>1</td>\n",
              "    </tr>\n",
              "    <tr>\n",
              "      <th>3</th>\n",
              "      <td>4</td>\n",
              "      <td>15701354</td>\n",
              "      <td>Boni</td>\n",
              "      <td>699</td>\n",
              "      <td>France</td>\n",
              "      <td>Female</td>\n",
              "      <td>39</td>\n",
              "      <td>1</td>\n",
              "      <td>0.00</td>\n",
              "      <td>2</td>\n",
              "      <td>0</td>\n",
              "      <td>0</td>\n",
              "      <td>93826.63</td>\n",
              "      <td>0</td>\n",
              "    </tr>\n",
              "    <tr>\n",
              "      <th>4</th>\n",
              "      <td>5</td>\n",
              "      <td>15737888</td>\n",
              "      <td>Mitchell</td>\n",
              "      <td>850</td>\n",
              "      <td>Spain</td>\n",
              "      <td>Female</td>\n",
              "      <td>43</td>\n",
              "      <td>2</td>\n",
              "      <td>125510.82</td>\n",
              "      <td>1</td>\n",
              "      <td>1</td>\n",
              "      <td>1</td>\n",
              "      <td>79084.10</td>\n",
              "      <td>0</td>\n",
              "    </tr>\n",
              "  </tbody>\n",
              "</table>\n",
              "</div>"
            ],
            "text/plain": [
              "   RowNumber  CustomerId   Surname  ...  IsActiveMember EstimatedSalary Exited\n",
              "0          1    15634602  Hargrave  ...               1       101348.88      1\n",
              "1          2    15647311      Hill  ...               1       112542.58      0\n",
              "2          3    15619304      Onio  ...               0       113931.57      1\n",
              "3          4    15701354      Boni  ...               0        93826.63      0\n",
              "4          5    15737888  Mitchell  ...               1        79084.10      0\n",
              "\n",
              "[5 rows x 14 columns]"
            ]
          },
          "metadata": {
            "tags": []
          },
          "execution_count": 149
        }
      ]
    },
    {
      "cell_type": "code",
      "metadata": {
        "id": "vULOEhOI0vXu",
        "colab_type": "code",
        "colab": {}
      },
      "source": [
        "# Lets remove data Rownumber,Customer ID columns and Surname as dont provide any quantifiable Info\n",
        "\n",
        "data = data.drop([\"RowNumber\",\"CustomerId\",\"Surname\"],axis=1)"
      ],
      "execution_count": 150,
      "outputs": []
    },
    {
      "cell_type": "code",
      "metadata": {
        "id": "AsnyD09L1j3B",
        "colab_type": "code",
        "colab": {
          "base_uri": "https://localhost:8080/",
          "height": 195
        },
        "outputId": "6009df04-5fa4-4713-90ee-8d77f0ca9133"
      },
      "source": [
        "data.head()"
      ],
      "execution_count": 151,
      "outputs": [
        {
          "output_type": "execute_result",
          "data": {
            "text/html": [
              "<div>\n",
              "<style scoped>\n",
              "    .dataframe tbody tr th:only-of-type {\n",
              "        vertical-align: middle;\n",
              "    }\n",
              "\n",
              "    .dataframe tbody tr th {\n",
              "        vertical-align: top;\n",
              "    }\n",
              "\n",
              "    .dataframe thead th {\n",
              "        text-align: right;\n",
              "    }\n",
              "</style>\n",
              "<table border=\"1\" class=\"dataframe\">\n",
              "  <thead>\n",
              "    <tr style=\"text-align: right;\">\n",
              "      <th></th>\n",
              "      <th>CreditScore</th>\n",
              "      <th>Geography</th>\n",
              "      <th>Gender</th>\n",
              "      <th>Age</th>\n",
              "      <th>Tenure</th>\n",
              "      <th>Balance</th>\n",
              "      <th>NumOfProducts</th>\n",
              "      <th>HasCrCard</th>\n",
              "      <th>IsActiveMember</th>\n",
              "      <th>EstimatedSalary</th>\n",
              "      <th>Exited</th>\n",
              "    </tr>\n",
              "  </thead>\n",
              "  <tbody>\n",
              "    <tr>\n",
              "      <th>0</th>\n",
              "      <td>619</td>\n",
              "      <td>France</td>\n",
              "      <td>Female</td>\n",
              "      <td>42</td>\n",
              "      <td>2</td>\n",
              "      <td>0.00</td>\n",
              "      <td>1</td>\n",
              "      <td>1</td>\n",
              "      <td>1</td>\n",
              "      <td>101348.88</td>\n",
              "      <td>1</td>\n",
              "    </tr>\n",
              "    <tr>\n",
              "      <th>1</th>\n",
              "      <td>608</td>\n",
              "      <td>Spain</td>\n",
              "      <td>Female</td>\n",
              "      <td>41</td>\n",
              "      <td>1</td>\n",
              "      <td>83807.86</td>\n",
              "      <td>1</td>\n",
              "      <td>0</td>\n",
              "      <td>1</td>\n",
              "      <td>112542.58</td>\n",
              "      <td>0</td>\n",
              "    </tr>\n",
              "    <tr>\n",
              "      <th>2</th>\n",
              "      <td>502</td>\n",
              "      <td>France</td>\n",
              "      <td>Female</td>\n",
              "      <td>42</td>\n",
              "      <td>8</td>\n",
              "      <td>159660.80</td>\n",
              "      <td>3</td>\n",
              "      <td>1</td>\n",
              "      <td>0</td>\n",
              "      <td>113931.57</td>\n",
              "      <td>1</td>\n",
              "    </tr>\n",
              "    <tr>\n",
              "      <th>3</th>\n",
              "      <td>699</td>\n",
              "      <td>France</td>\n",
              "      <td>Female</td>\n",
              "      <td>39</td>\n",
              "      <td>1</td>\n",
              "      <td>0.00</td>\n",
              "      <td>2</td>\n",
              "      <td>0</td>\n",
              "      <td>0</td>\n",
              "      <td>93826.63</td>\n",
              "      <td>0</td>\n",
              "    </tr>\n",
              "    <tr>\n",
              "      <th>4</th>\n",
              "      <td>850</td>\n",
              "      <td>Spain</td>\n",
              "      <td>Female</td>\n",
              "      <td>43</td>\n",
              "      <td>2</td>\n",
              "      <td>125510.82</td>\n",
              "      <td>1</td>\n",
              "      <td>1</td>\n",
              "      <td>1</td>\n",
              "      <td>79084.10</td>\n",
              "      <td>0</td>\n",
              "    </tr>\n",
              "  </tbody>\n",
              "</table>\n",
              "</div>"
            ],
            "text/plain": [
              "   CreditScore Geography  Gender  ...  IsActiveMember  EstimatedSalary  Exited\n",
              "0          619    France  Female  ...               1        101348.88       1\n",
              "1          608     Spain  Female  ...               1        112542.58       0\n",
              "2          502    France  Female  ...               0        113931.57       1\n",
              "3          699    France  Female  ...               0         93826.63       0\n",
              "4          850     Spain  Female  ...               1         79084.10       0\n",
              "\n",
              "[5 rows x 11 columns]"
            ]
          },
          "metadata": {
            "tags": []
          },
          "execution_count": 151
        }
      ]
    },
    {
      "cell_type": "code",
      "metadata": {
        "id": "r38LETdU13O8",
        "colab_type": "code",
        "colab": {
          "base_uri": "https://localhost:8080/",
          "height": 296
        },
        "outputId": "17595b6c-4087-4708-e631-fa12b5b320bc"
      },
      "source": [
        "sns.scatterplot(data=data,x='Balance',y='CreditScore')"
      ],
      "execution_count": 152,
      "outputs": [
        {
          "output_type": "execute_result",
          "data": {
            "text/plain": [
              "<matplotlib.axes._subplots.AxesSubplot at 0x7f9be88689e8>"
            ]
          },
          "metadata": {
            "tags": []
          },
          "execution_count": 152
        },
        {
          "output_type": "display_data",
          "data": {
            "image/png": "[encoded data removed]",
            "text/plain": [
              "<Figure size 432x288 with 1 Axes>"
            ]
          },
          "metadata": {
            "tags": [],
            "needs_background": "light"
          }
        }
      ]
    },
    {
      "cell_type": "code",
      "metadata": {
        "id": "cfuWjJTl2cUl",
        "colab_type": "code",
        "colab": {
          "base_uri": "https://localhost:8080/",
          "height": 284
        },
        "outputId": "da291584-d81b-431d-9693-592e5e60f1cd"
      },
      "source": [
        "data.describe()"
      ],
      "execution_count": 153,
      "outputs": [
        {
          "output_type": "execute_result",
          "data": {
            "text/html": [
              "<div>\n",
              "<style scoped>\n",
              "    .dataframe tbody tr th:only-of-type {\n",
              "        vertical-align: middle;\n",
              "    }\n",
              "\n",
              "    .dataframe tbody tr th {\n",
              "        vertical-align: top;\n",
              "    }\n",
              "\n",
              "    .dataframe thead th {\n",
              "        text-align: right;\n",
              "    }\n",
              "</style>\n",
              "<table border=\"1\" class=\"dataframe\">\n",
              "  <thead>\n",
              "    <tr style=\"text-align: right;\">\n",
              "      <th></th>\n",
              "      <th>CreditScore</th>\n",
              "      <th>Age</th>\n",
              "      <th>Tenure</th>\n",
              "      <th>Balance</th>\n",
              "      <th>NumOfProducts</th>\n",
              "      <th>HasCrCard</th>\n",
              "      <th>IsActiveMember</th>\n",
              "      <th>EstimatedSalary</th>\n",
              "      <th>Exited</th>\n",
              "    </tr>\n",
              "  </thead>\n",
              "  <tbody>\n",
              "    <tr>\n",
              "      <th>count</th>\n",
              "      <td>10000.000000</td>\n",
              "      <td>10000.000000</td>\n",
              "      <td>10000.000000</td>\n",
              "      <td>10000.000000</td>\n",
              "      <td>10000.000000</td>\n",
              "      <td>10000.00000</td>\n",
              "      <td>10000.000000</td>\n",
              "      <td>10000.000000</td>\n",
              "      <td>10000.000000</td>\n",
              "    </tr>\n",
              "    <tr>\n",
              "      <th>mean</th>\n",
              "      <td>650.528800</td>\n",
              "      <td>38.921800</td>\n",
              "      <td>5.012800</td>\n",
              "      <td>76485.889288</td>\n",
              "      <td>1.530200</td>\n",
              "      <td>0.70550</td>\n",
              "      <td>0.515100</td>\n",
              "      <td>100090.239881</td>\n",
              "      <td>0.203700</td>\n",
              "    </tr>\n",
              "    <tr>\n",
              "      <th>std</th>\n",
              "      <td>96.653299</td>\n",
              "      <td>10.487806</td>\n",
              "      <td>2.892174</td>\n",
              "      <td>62397.405202</td>\n",
              "      <td>0.581654</td>\n",
              "      <td>0.45584</td>\n",
              "      <td>0.499797</td>\n",
              "      <td>57510.492818</td>\n",
              "      <td>0.402769</td>\n",
              "    </tr>\n",
              "    <tr>\n",
              "      <th>min</th>\n",
              "      <td>350.000000</td>\n",
              "      <td>18.000000</td>\n",
              "      <td>0.000000</td>\n",
              "      <td>0.000000</td>\n",
              "      <td>1.000000</td>\n",
              "      <td>0.00000</td>\n",
              "      <td>0.000000</td>\n",
              "      <td>11.580000</td>\n",
              "      <td>0.000000</td>\n",
              "    </tr>\n",
              "    <tr>\n",
              "      <th>25%</th>\n",
              "      <td>584.000000</td>\n",
              "      <td>32.000000</td>\n",
              "      <td>3.000000</td>\n",
              "      <td>0.000000</td>\n",
              "      <td>1.000000</td>\n",
              "      <td>0.00000</td>\n",
              "      <td>0.000000</td>\n",
              "      <td>51002.110000</td>\n",
              "      <td>0.000000</td>\n",
              "    </tr>\n",
              "    <tr>\n",
              "      <th>50%</th>\n",
              "      <td>652.000000</td>\n",
              "      <td>37.000000</td>\n",
              "      <td>5.000000</td>\n",
              "      <td>97198.540000</td>\n",
              "      <td>1.000000</td>\n",
              "      <td>1.00000</td>\n",
              "      <td>1.000000</td>\n",
              "      <td>100193.915000</td>\n",
              "      <td>0.000000</td>\n",
              "    </tr>\n",
              "    <tr>\n",
              "      <th>75%</th>\n",
              "      <td>718.000000</td>\n",
              "      <td>44.000000</td>\n",
              "      <td>7.000000</td>\n",
              "      <td>127644.240000</td>\n",
              "      <td>2.000000</td>\n",
              "      <td>1.00000</td>\n",
              "      <td>1.000000</td>\n",
              "      <td>149388.247500</td>\n",
              "      <td>0.000000</td>\n",
              "    </tr>\n",
              "    <tr>\n",
              "      <th>max</th>\n",
              "      <td>850.000000</td>\n",
              "      <td>92.000000</td>\n",
              "      <td>10.000000</td>\n",
              "      <td>250898.090000</td>\n",
              "      <td>4.000000</td>\n",
              "      <td>1.00000</td>\n",
              "      <td>1.000000</td>\n",
              "      <td>199992.480000</td>\n",
              "      <td>1.000000</td>\n",
              "    </tr>\n",
              "  </tbody>\n",
              "</table>\n",
              "</div>"
            ],
            "text/plain": [
              "        CreditScore           Age  ...  EstimatedSalary        Exited\n",
              "count  10000.000000  10000.000000  ...     10000.000000  10000.000000\n",
              "mean     650.528800     38.921800  ...    100090.239881      0.203700\n",
              "std       96.653299     10.487806  ...     57510.492818      0.402769\n",
              "min      350.000000     18.000000  ...        11.580000      0.000000\n",
              "25%      584.000000     32.000000  ...     51002.110000      0.000000\n",
              "50%      652.000000     37.000000  ...    100193.915000      0.000000\n",
              "75%      718.000000     44.000000  ...    149388.247500      0.000000\n",
              "max      850.000000     92.000000  ...    199992.480000      1.000000\n",
              "\n",
              "[8 rows x 9 columns]"
            ]
          },
          "metadata": {
            "tags": []
          },
          "execution_count": 153
        }
      ]
    },
    {
      "cell_type": "code",
      "metadata": {
        "id": "xdOf3AHM2rc-",
        "colab_type": "code",
        "colab": {
          "base_uri": "https://localhost:8080/",
          "height": 218
        },
        "outputId": "2d5110ab-7461-4ed9-cc55-82061eff38f4"
      },
      "source": [
        "#Lets check if there are any missing values in data\n",
        "data.isnull().sum()"
      ],
      "execution_count": 154,
      "outputs": [
        {
          "output_type": "execute_result",
          "data": {
            "text/plain": [
              "CreditScore        0\n",
              "Geography          0\n",
              "Gender             0\n",
              "Age                0\n",
              "Tenure             0\n",
              "Balance            0\n",
              "NumOfProducts      0\n",
              "HasCrCard          0\n",
              "IsActiveMember     0\n",
              "EstimatedSalary    0\n",
              "Exited             0\n",
              "dtype: int64"
            ]
          },
          "metadata": {
            "tags": []
          },
          "execution_count": 154
        }
      ]
    },
    {
      "cell_type": "markdown",
      "metadata": {
        "id": "DHW9_rrV3cOV",
        "colab_type": "text"
      },
      "source": [
        "We dont have any null values let proceed ahead\n"
      ]
    },
    {
      "cell_type": "code",
      "metadata": {
        "id": "UenbWwUb3Zbm",
        "colab_type": "code",
        "colab": {
          "base_uri": "https://localhost:8080/",
          "height": 218
        },
        "outputId": "52e87805-b4a1-4c40-8d1a-6fb9d72ba7eb"
      },
      "source": [
        "#Lets check the data type for each variable in data\n",
        "\n",
        "data.dtypes"
      ],
      "execution_count": 155,
      "outputs": [
        {
          "output_type": "execute_result",
          "data": {
            "text/plain": [
              "CreditScore          int64\n",
              "Geography           object\n",
              "Gender              object\n",
              "Age                  int64\n",
              "Tenure               int64\n",
              "Balance            float64\n",
              "NumOfProducts        int64\n",
              "HasCrCard            int64\n",
              "IsActiveMember       int64\n",
              "EstimatedSalary    float64\n",
              "Exited               int64\n",
              "dtype: object"
            ]
          },
          "metadata": {
            "tags": []
          },
          "execution_count": 155
        }
      ]
    },
    {
      "cell_type": "markdown",
      "metadata": {
        "id": "1wpWBft63tH2",
        "colab_type": "text"
      },
      "source": [
        "We have 2 object types,2 float types and rest all are integers"
      ]
    },
    {
      "cell_type": "code",
      "metadata": {
        "id": "Teo13K6p5064",
        "colab_type": "code",
        "colab": {
          "base_uri": "https://localhost:8080/",
          "height": 67
        },
        "outputId": "e7b28d91-f9a4-43a4-9270-f549dbc5a788"
      },
      "source": [
        "#Lets check if data is biased?\n",
        "\n",
        "data['Exited'].value_counts()"
      ],
      "execution_count": 156,
      "outputs": [
        {
          "output_type": "execute_result",
          "data": {
            "text/plain": [
              "0    7963\n",
              "1    2037\n",
              "Name: Exited, dtype: int64"
            ]
          },
          "metadata": {
            "tags": []
          },
          "execution_count": 156
        }
      ]
    },
    {
      "cell_type": "markdown",
      "metadata": {
        "id": "zpN7FJ_D5zrJ",
        "colab_type": "text"
      },
      "source": [
        ""
      ]
    },
    {
      "cell_type": "code",
      "metadata": {
        "id": "9RDCndUq3pcB",
        "colab_type": "code",
        "colab": {}
      },
      "source": [
        "#Lets split the data into Dependant and indepandant variables arrays\n",
        "\n",
        "target = np.array([data['Exited'].values])\n"
      ],
      "execution_count": 157,
      "outputs": []
    },
    {
      "cell_type": "code",
      "metadata": {
        "id": "mn-v6hTw6dxN",
        "colab_type": "code",
        "colab": {
          "base_uri": "https://localhost:8080/",
          "height": 34
        },
        "outputId": "6c5ed215-f00c-4b7e-b50f-6516a8c1cc42"
      },
      "source": [
        "print(target)"
      ],
      "execution_count": 158,
      "outputs": [
        {
          "output_type": "stream",
          "text": [
            "[[1 0 1 ... 1 1 0]]\n"
          ],
          "name": "stdout"
        }
      ]
    },
    {
      "cell_type": "code",
      "metadata": {
        "id": "GgZhJ1jQ6fqf",
        "colab_type": "code",
        "colab": {}
      },
      "source": [
        "data = data.drop(['Exited'],axis=1)"
      ],
      "execution_count": 159,
      "outputs": []
    },
    {
      "cell_type": "code",
      "metadata": {
        "id": "XkCtv3gM6nQx",
        "colab_type": "code",
        "colab": {}
      },
      "source": [
        "#Lets isolate columns which are categorical in nature\n",
        "\n",
        "categorical_var = data.select_dtypes(include=['object'])\n"
      ],
      "execution_count": 160,
      "outputs": []
    },
    {
      "cell_type": "code",
      "metadata": {
        "id": "4rIOdVv_7bBL",
        "colab_type": "code",
        "colab": {
          "base_uri": "https://localhost:8080/",
          "height": 402
        },
        "outputId": "1fed22cc-a603-484c-80e7-a0227d141f79"
      },
      "source": [
        "categorical_var"
      ],
      "execution_count": 161,
      "outputs": [
        {
          "output_type": "execute_result",
          "data": {
            "text/html": [
              "<div>\n",
              "<style scoped>\n",
              "    .dataframe tbody tr th:only-of-type {\n",
              "        vertical-align: middle;\n",
              "    }\n",
              "\n",
              "    .dataframe tbody tr th {\n",
              "        vertical-align: top;\n",
              "    }\n",
              "\n",
              "    .dataframe thead th {\n",
              "        text-align: right;\n",
              "    }\n",
              "</style>\n",
              "<table border=\"1\" class=\"dataframe\">\n",
              "  <thead>\n",
              "    <tr style=\"text-align: right;\">\n",
              "      <th></th>\n",
              "      <th>Geography</th>\n",
              "      <th>Gender</th>\n",
              "    </tr>\n",
              "  </thead>\n",
              "  <tbody>\n",
              "    <tr>\n",
              "      <th>0</th>\n",
              "      <td>France</td>\n",
              "      <td>Female</td>\n",
              "    </tr>\n",
              "    <tr>\n",
              "      <th>1</th>\n",
              "      <td>Spain</td>\n",
              "      <td>Female</td>\n",
              "    </tr>\n",
              "    <tr>\n",
              "      <th>2</th>\n",
              "      <td>France</td>\n",
              "      <td>Female</td>\n",
              "    </tr>\n",
              "    <tr>\n",
              "      <th>3</th>\n",
              "      <td>France</td>\n",
              "      <td>Female</td>\n",
              "    </tr>\n",
              "    <tr>\n",
              "      <th>4</th>\n",
              "      <td>Spain</td>\n",
              "      <td>Female</td>\n",
              "    </tr>\n",
              "    <tr>\n",
              "      <th>...</th>\n",
              "      <td>...</td>\n",
              "      <td>...</td>\n",
              "    </tr>\n",
              "    <tr>\n",
              "      <th>9995</th>\n",
              "      <td>France</td>\n",
              "      <td>Male</td>\n",
              "    </tr>\n",
              "    <tr>\n",
              "      <th>9996</th>\n",
              "      <td>France</td>\n",
              "      <td>Male</td>\n",
              "    </tr>\n",
              "    <tr>\n",
              "      <th>9997</th>\n",
              "      <td>France</td>\n",
              "      <td>Female</td>\n",
              "    </tr>\n",
              "    <tr>\n",
              "      <th>9998</th>\n",
              "      <td>Germany</td>\n",
              "      <td>Male</td>\n",
              "    </tr>\n",
              "    <tr>\n",
              "      <th>9999</th>\n",
              "      <td>France</td>\n",
              "      <td>Female</td>\n",
              "    </tr>\n",
              "  </tbody>\n",
              "</table>\n",
              "<p>10000 rows × 2 columns</p>\n",
              "</div>"
            ],
            "text/plain": [
              "     Geography  Gender\n",
              "0       France  Female\n",
              "1        Spain  Female\n",
              "2       France  Female\n",
              "3       France  Female\n",
              "4        Spain  Female\n",
              "...        ...     ...\n",
              "9995    France    Male\n",
              "9996    France    Male\n",
              "9997    France  Female\n",
              "9998   Germany    Male\n",
              "9999    France  Female\n",
              "\n",
              "[10000 rows x 2 columns]"
            ]
          },
          "metadata": {
            "tags": []
          },
          "execution_count": 161
        }
      ]
    },
    {
      "cell_type": "code",
      "metadata": {
        "id": "mqRW1vYj7cCb",
        "colab_type": "code",
        "colab": {}
      },
      "source": [
        "#Lets perform Onehot encoding\n",
        "\n",
        "from sklearn.preprocessing import OneHotEncoder\n",
        "ohe_Cat_var = OneHotEncoder(sparse=False)"
      ],
      "execution_count": 162,
      "outputs": []
    },
    {
      "cell_type": "code",
      "metadata": {
        "id": "xSGIsngY7tbC",
        "colab_type": "code",
        "colab": {}
      },
      "source": [
        "ohe_categorical = ohe_Cat_var.fit_transform(categorical_var)"
      ],
      "execution_count": 163,
      "outputs": []
    },
    {
      "cell_type": "code",
      "metadata": {
        "id": "bF8GWGSw75EV",
        "colab_type": "code",
        "colab": {
          "base_uri": "https://localhost:8080/",
          "height": 134
        },
        "outputId": "7fcad05c-d480-42af-817f-98d9acfd40bb"
      },
      "source": [
        "ohe_categorical"
      ],
      "execution_count": 164,
      "outputs": [
        {
          "output_type": "execute_result",
          "data": {
            "text/plain": [
              "array([[1., 0., 0., 1., 0.],\n",
              "       [0., 0., 1., 1., 0.],\n",
              "       [1., 0., 0., 1., 0.],\n",
              "       ...,\n",
              "       [1., 0., 0., 1., 0.],\n",
              "       [0., 1., 0., 0., 1.],\n",
              "       [1., 0., 0., 1., 0.]])"
            ]
          },
          "metadata": {
            "tags": []
          },
          "execution_count": 164
        }
      ]
    },
    {
      "cell_type": "code",
      "metadata": {
        "id": "-NOcLpRK763j",
        "colab_type": "code",
        "colab": {}
      },
      "source": [
        "data = data.drop(['Geography','Gender'],axis=1)"
      ],
      "execution_count": 165,
      "outputs": []
    },
    {
      "cell_type": "code",
      "metadata": {
        "id": "NadHPTiK8PbQ",
        "colab_type": "code",
        "colab": {
          "base_uri": "https://localhost:8080/",
          "height": 402
        },
        "outputId": "8a89d8bb-be6d-4817-c427-82737190cdcf"
      },
      "source": [
        "data"
      ],
      "execution_count": 166,
      "outputs": [
        {
          "output_type": "execute_result",
          "data": {
            "text/html": [
              "<div>\n",
              "<style scoped>\n",
              "    .dataframe tbody tr th:only-of-type {\n",
              "        vertical-align: middle;\n",
              "    }\n",
              "\n",
              "    .dataframe tbody tr th {\n",
              "        vertical-align: top;\n",
              "    }\n",
              "\n",
              "    .dataframe thead th {\n",
              "        text-align: right;\n",
              "    }\n",
              "</style>\n",
              "<table border=\"1\" class=\"dataframe\">\n",
              "  <thead>\n",
              "    <tr style=\"text-align: right;\">\n",
              "      <th></th>\n",
              "      <th>CreditScore</th>\n",
              "      <th>Age</th>\n",
              "      <th>Tenure</th>\n",
              "      <th>Balance</th>\n",
              "      <th>NumOfProducts</th>\n",
              "      <th>HasCrCard</th>\n",
              "      <th>IsActiveMember</th>\n",
              "      <th>EstimatedSalary</th>\n",
              "    </tr>\n",
              "  </thead>\n",
              "  <tbody>\n",
              "    <tr>\n",
              "      <th>0</th>\n",
              "      <td>619</td>\n",
              "      <td>42</td>\n",
              "      <td>2</td>\n",
              "      <td>0.00</td>\n",
              "      <td>1</td>\n",
              "      <td>1</td>\n",
              "      <td>1</td>\n",
              "      <td>101348.88</td>\n",
              "    </tr>\n",
              "    <tr>\n",
              "      <th>1</th>\n",
              "      <td>608</td>\n",
              "      <td>41</td>\n",
              "      <td>1</td>\n",
              "      <td>83807.86</td>\n",
              "      <td>1</td>\n",
              "      <td>0</td>\n",
              "      <td>1</td>\n",
              "      <td>112542.58</td>\n",
              "    </tr>\n",
              "    <tr>\n",
              "      <th>2</th>\n",
              "      <td>502</td>\n",
              "      <td>42</td>\n",
              "      <td>8</td>\n",
              "      <td>159660.80</td>\n",
              "      <td>3</td>\n",
              "      <td>1</td>\n",
              "      <td>0</td>\n",
              "      <td>113931.57</td>\n",
              "    </tr>\n",
              "    <tr>\n",
              "      <th>3</th>\n",
              "      <td>699</td>\n",
              "      <td>39</td>\n",
              "      <td>1</td>\n",
              "      <td>0.00</td>\n",
              "      <td>2</td>\n",
              "      <td>0</td>\n",
              "      <td>0</td>\n",
              "      <td>93826.63</td>\n",
              "    </tr>\n",
              "    <tr>\n",
              "      <th>4</th>\n",
              "      <td>850</td>\n",
              "      <td>43</td>\n",
              "      <td>2</td>\n",
              "      <td>125510.82</td>\n",
              "      <td>1</td>\n",
              "      <td>1</td>\n",
              "      <td>1</td>\n",
              "      <td>79084.10</td>\n",
              "    </tr>\n",
              "    <tr>\n",
              "      <th>...</th>\n",
              "      <td>...</td>\n",
              "      <td>...</td>\n",
              "      <td>...</td>\n",
              "      <td>...</td>\n",
              "      <td>...</td>\n",
              "      <td>...</td>\n",
              "      <td>...</td>\n",
              "      <td>...</td>\n",
              "    </tr>\n",
              "    <tr>\n",
              "      <th>9995</th>\n",
              "      <td>771</td>\n",
              "      <td>39</td>\n",
              "      <td>5</td>\n",
              "      <td>0.00</td>\n",
              "      <td>2</td>\n",
              "      <td>1</td>\n",
              "      <td>0</td>\n",
              "      <td>96270.64</td>\n",
              "    </tr>\n",
              "    <tr>\n",
              "      <th>9996</th>\n",
              "      <td>516</td>\n",
              "      <td>35</td>\n",
              "      <td>10</td>\n",
              "      <td>57369.61</td>\n",
              "      <td>1</td>\n",
              "      <td>1</td>\n",
              "      <td>1</td>\n",
              "      <td>101699.77</td>\n",
              "    </tr>\n",
              "    <tr>\n",
              "      <th>9997</th>\n",
              "      <td>709</td>\n",
              "      <td>36</td>\n",
              "      <td>7</td>\n",
              "      <td>0.00</td>\n",
              "      <td>1</td>\n",
              "      <td>0</td>\n",
              "      <td>1</td>\n",
              "      <td>42085.58</td>\n",
              "    </tr>\n",
              "    <tr>\n",
              "      <th>9998</th>\n",
              "      <td>772</td>\n",
              "      <td>42</td>\n",
              "      <td>3</td>\n",
              "      <td>75075.31</td>\n",
              "      <td>2</td>\n",
              "      <td>1</td>\n",
              "      <td>0</td>\n",
              "      <td>92888.52</td>\n",
              "    </tr>\n",
              "    <tr>\n",
              "      <th>9999</th>\n",
              "      <td>792</td>\n",
              "      <td>28</td>\n",
              "      <td>4</td>\n",
              "      <td>130142.79</td>\n",
              "      <td>1</td>\n",
              "      <td>1</td>\n",
              "      <td>0</td>\n",
              "      <td>38190.78</td>\n",
              "    </tr>\n",
              "  </tbody>\n",
              "</table>\n",
              "<p>10000 rows × 8 columns</p>\n",
              "</div>"
            ],
            "text/plain": [
              "      CreditScore  Age  Tenure  ...  HasCrCard  IsActiveMember  EstimatedSalary\n",
              "0             619   42       2  ...          1               1        101348.88\n",
              "1             608   41       1  ...          0               1        112542.58\n",
              "2             502   42       8  ...          1               0        113931.57\n",
              "3             699   39       1  ...          0               0         93826.63\n",
              "4             850   43       2  ...          1               1         79084.10\n",
              "...           ...  ...     ...  ...        ...             ...              ...\n",
              "9995          771   39       5  ...          1               0         96270.64\n",
              "9996          516   35      10  ...          1               1        101699.77\n",
              "9997          709   36       7  ...          0               1         42085.58\n",
              "9998          772   42       3  ...          1               0         92888.52\n",
              "9999          792   28       4  ...          1               0         38190.78\n",
              "\n",
              "[10000 rows x 8 columns]"
            ]
          },
          "metadata": {
            "tags": []
          },
          "execution_count": 166
        }
      ]
    },
    {
      "cell_type": "code",
      "metadata": {
        "id": "m07AyyPK8Us0",
        "colab_type": "code",
        "colab": {}
      },
      "source": [
        "data = np.array(data.values)"
      ],
      "execution_count": 167,
      "outputs": []
    },
    {
      "cell_type": "code",
      "metadata": {
        "id": "W0LfUh_h8z3E",
        "colab_type": "code",
        "colab": {
          "base_uri": "https://localhost:8080/",
          "height": 34
        },
        "outputId": "9e4984a4-a991-4bb6-ad92-9cc49b3ceacc"
      },
      "source": [
        "data.ndim"
      ],
      "execution_count": 168,
      "outputs": [
        {
          "output_type": "execute_result",
          "data": {
            "text/plain": [
              "2"
            ]
          },
          "metadata": {
            "tags": []
          },
          "execution_count": 168
        }
      ]
    },
    {
      "cell_type": "code",
      "metadata": {
        "id": "bVSr8ZTK9p6h",
        "colab_type": "code",
        "colab": {
          "base_uri": "https://localhost:8080/",
          "height": 235
        },
        "outputId": "6eee620c-ba55-4bdc-b520-a23f78555d29"
      },
      "source": [
        "data"
      ],
      "execution_count": 169,
      "outputs": [
        {
          "output_type": "execute_result",
          "data": {
            "text/plain": [
              "array([[6.1900000e+02, 4.2000000e+01, 2.0000000e+00, ..., 1.0000000e+00,\n",
              "        1.0000000e+00, 1.0134888e+05],\n",
              "       [6.0800000e+02, 4.1000000e+01, 1.0000000e+00, ..., 0.0000000e+00,\n",
              "        1.0000000e+00, 1.1254258e+05],\n",
              "       [5.0200000e+02, 4.2000000e+01, 8.0000000e+00, ..., 1.0000000e+00,\n",
              "        0.0000000e+00, 1.1393157e+05],\n",
              "       ...,\n",
              "       [7.0900000e+02, 3.6000000e+01, 7.0000000e+00, ..., 0.0000000e+00,\n",
              "        1.0000000e+00, 4.2085580e+04],\n",
              "       [7.7200000e+02, 4.2000000e+01, 3.0000000e+00, ..., 1.0000000e+00,\n",
              "        0.0000000e+00, 9.2888520e+04],\n",
              "       [7.9200000e+02, 2.8000000e+01, 4.0000000e+00, ..., 1.0000000e+00,\n",
              "        0.0000000e+00, 3.8190780e+04]])"
            ]
          },
          "metadata": {
            "tags": []
          },
          "execution_count": 169
        }
      ]
    },
    {
      "cell_type": "code",
      "metadata": {
        "id": "yMjn8lho9_WO",
        "colab_type": "code",
        "colab": {}
      },
      "source": [
        "features = data"
      ],
      "execution_count": 170,
      "outputs": []
    },
    {
      "cell_type": "code",
      "metadata": {
        "id": "uZ3zYKz4-_NR",
        "colab_type": "code",
        "colab": {
          "base_uri": "https://localhost:8080/",
          "height": 235
        },
        "outputId": "e10dc0a3-dccd-4fee-a1e2-56c3fb79b2ff"
      },
      "source": [
        "features"
      ],
      "execution_count": 171,
      "outputs": [
        {
          "output_type": "execute_result",
          "data": {
            "text/plain": [
              "array([[6.1900000e+02, 4.2000000e+01, 2.0000000e+00, ..., 1.0000000e+00,\n",
              "        1.0000000e+00, 1.0134888e+05],\n",
              "       [6.0800000e+02, 4.1000000e+01, 1.0000000e+00, ..., 0.0000000e+00,\n",
              "        1.0000000e+00, 1.1254258e+05],\n",
              "       [5.0200000e+02, 4.2000000e+01, 8.0000000e+00, ..., 1.0000000e+00,\n",
              "        0.0000000e+00, 1.1393157e+05],\n",
              "       ...,\n",
              "       [7.0900000e+02, 3.6000000e+01, 7.0000000e+00, ..., 0.0000000e+00,\n",
              "        1.0000000e+00, 4.2085580e+04],\n",
              "       [7.7200000e+02, 4.2000000e+01, 3.0000000e+00, ..., 1.0000000e+00,\n",
              "        0.0000000e+00, 9.2888520e+04],\n",
              "       [7.9200000e+02, 2.8000000e+01, 4.0000000e+00, ..., 1.0000000e+00,\n",
              "        0.0000000e+00, 3.8190780e+04]])"
            ]
          },
          "metadata": {
            "tags": []
          },
          "execution_count": 171
        }
      ]
    },
    {
      "cell_type": "code",
      "metadata": {
        "id": "mRIFxslJ_AMH",
        "colab_type": "code",
        "colab": {}
      },
      "source": [
        "features = np.concatenate((features,ohe_categorical),axis=1)"
      ],
      "execution_count": 172,
      "outputs": []
    },
    {
      "cell_type": "code",
      "metadata": {
        "id": "bNV4I3zw_R5T",
        "colab_type": "code",
        "colab": {}
      },
      "source": [
        "#Standardization\n",
        "\n",
        "from sklearn.preprocessing import StandardScaler\n",
        "scfeatures = StandardScaler()"
      ],
      "execution_count": 173,
      "outputs": []
    },
    {
      "cell_type": "code",
      "metadata": {
        "id": "qvjFf2qJ_id7",
        "colab_type": "code",
        "colab": {}
      },
      "source": [
        "features = scfeatures.fit_transform(features)"
      ],
      "execution_count": 174,
      "outputs": []
    },
    {
      "cell_type": "code",
      "metadata": {
        "id": "6RNxg1rCAiHv",
        "colab_type": "code",
        "colab": {
          "base_uri": "https://localhost:8080/",
          "height": 235
        },
        "outputId": "4bbd2a96-a6a3-4330-deed-b3d6bec46631"
      },
      "source": [
        "features"
      ],
      "execution_count": 175,
      "outputs": [
        {
          "output_type": "execute_result",
          "data": {
            "text/plain": [
              "array([[-0.32622142,  0.29351742, -1.04175968, ..., -0.57380915,\n",
              "         1.09598752, -1.09598752],\n",
              "       [-0.44003595,  0.19816383, -1.38753759, ...,  1.74273971,\n",
              "         1.09598752, -1.09598752],\n",
              "       [-1.53679418,  0.29351742,  1.03290776, ..., -0.57380915,\n",
              "         1.09598752, -1.09598752],\n",
              "       ...,\n",
              "       [ 0.60498839, -0.27860412,  0.68712986, ..., -0.57380915,\n",
              "         1.09598752, -1.09598752],\n",
              "       [ 1.25683526,  0.29351742, -0.69598177, ..., -0.57380915,\n",
              "        -0.91241915,  0.91241915],\n",
              "       [ 1.46377078, -1.04143285, -0.35020386, ..., -0.57380915,\n",
              "         1.09598752, -1.09598752]])"
            ]
          },
          "metadata": {
            "tags": []
          },
          "execution_count": 175
        }
      ]
    },
    {
      "cell_type": "code",
      "metadata": {
        "id": "gpu8erceAxWg",
        "colab_type": "code",
        "colab": {}
      },
      "source": [
        "target = target.reshape(-1,1)"
      ],
      "execution_count": 176,
      "outputs": []
    },
    {
      "cell_type": "code",
      "metadata": {
        "id": "_0lX13sx_xjf",
        "colab_type": "code",
        "colab": {}
      },
      "source": [
        "from sklearn.model_selection import train_test_split\n",
        "\n",
        "X_train,X_test,y_train,y_test = train_test_split(features,target,test_size=0.2,random_state=10)"
      ],
      "execution_count": 194,
      "outputs": []
    },
    {
      "cell_type": "code",
      "metadata": {
        "id": "HGxUeAK6ARAw",
        "colab_type": "code",
        "colab": {
          "base_uri": "https://localhost:8080/",
          "height": 50
        },
        "outputId": "dc873ea4-288f-4638-e56d-d0d33d8ccc9c"
      },
      "source": [
        "#Lets check the shapes of train and test data\n",
        "\n",
        "print('Training Set:',X_train.shape)\n",
        "print('Testing Set:',X_test.shape)"
      ],
      "execution_count": 195,
      "outputs": [
        {
          "output_type": "stream",
          "text": [
            "Training Set: (8000, 13)\n",
            "Testing Set: (2000, 13)\n"
          ],
          "name": "stdout"
        }
      ]
    },
    {
      "cell_type": "code",
      "metadata": {
        "id": "Cl42N5LSBg4o",
        "colab_type": "code",
        "colab": {}
      },
      "source": [
        ""
      ],
      "execution_count": 195,
      "outputs": []
    },
    {
      "cell_type": "code",
      "metadata": {
        "id": "OT8VUKY-BTZg",
        "colab_type": "code",
        "colab": {}
      },
      "source": [
        "from sklearn.ensemble import RandomForestClassifier\n",
        "classifier = RandomForestClassifier()"
      ],
      "execution_count": 196,
      "outputs": []
    },
    {
      "cell_type": "code",
      "metadata": {
        "id": "7ATrUAtqCY2x",
        "colab_type": "code",
        "colab": {
          "base_uri": "https://localhost:8080/",
          "height": 205
        },
        "outputId": "ab27b7b9-143a-43d4-8ada-77cc485042a5"
      },
      "source": [
        "classifier.fit(X_train,y_train)"
      ],
      "execution_count": 197,
      "outputs": [
        {
          "output_type": "stream",
          "text": [
            "/usr/local/lib/python3.6/dist-packages/ipykernel_launcher.py:1: DataConversionWarning: A column-vector y was passed when a 1d array was expected. Please change the shape of y to (n_samples,), for example using ravel().\n",
            "  \"\"\"Entry point for launching an IPython kernel.\n"
          ],
          "name": "stderr"
        },
        {
          "output_type": "execute_result",
          "data": {
            "text/plain": [
              "RandomForestClassifier(bootstrap=True, ccp_alpha=0.0, class_weight=None,\n",
              "                       criterion='gini', max_depth=None, max_features='auto',\n",
              "                       max_leaf_nodes=None, max_samples=None,\n",
              "                       min_impurity_decrease=0.0, min_impurity_split=None,\n",
              "                       min_samples_leaf=1, min_samples_split=2,\n",
              "                       min_weight_fraction_leaf=0.0, n_estimators=100,\n",
              "                       n_jobs=None, oob_score=False, random_state=None,\n",
              "                       verbose=0, warm_start=False)"
            ]
          },
          "metadata": {
            "tags": []
          },
          "execution_count": 197
        }
      ]
    },
    {
      "cell_type": "code",
      "metadata": {
        "id": "beIGrENnCfuv",
        "colab_type": "code",
        "colab": {}
      },
      "source": [
        "y_predict = classifier.predict(X_test)"
      ],
      "execution_count": 198,
      "outputs": []
    },
    {
      "cell_type": "code",
      "metadata": {
        "id": "8hifrfq9CnhA",
        "colab_type": "code",
        "colab": {
          "base_uri": "https://localhost:8080/",
          "height": 50
        },
        "outputId": "a14d6201-a11a-419e-dea4-f782e357ba6d"
      },
      "source": [
        "# Check whether the model is genralized or not\n",
        "\n",
        "print('Training Score:', classifier.score(X_train,y_train))\n",
        "print('Validation Score:',classifier.score(X_test,y_test))"
      ],
      "execution_count": 199,
      "outputs": [
        {
          "output_type": "stream",
          "text": [
            "Training Score: 1.0\n",
            "Validation Score: 0.856\n"
          ],
          "name": "stdout"
        }
      ]
    },
    {
      "cell_type": "code",
      "metadata": {
        "id": "CVSCbpgZDEAI",
        "colab_type": "code",
        "colab": {
          "base_uri": "https://localhost:8080/",
          "height": 34
        },
        "outputId": "0b9b557d-8608-4e9b-8e4e-1dbb8acd3c10"
      },
      "source": [
        "#let see what we could achieve with Deep learning (Try to generalize the model with layer optimizers)\n",
        "\n",
        "#lets first convert the target array into 2d\n",
        "\n",
        "target.ndim"
      ],
      "execution_count": 200,
      "outputs": [
        {
          "output_type": "execute_result",
          "data": {
            "text/plain": [
              "2"
            ]
          },
          "metadata": {
            "tags": []
          },
          "execution_count": 200
        }
      ]
    },
    {
      "cell_type": "code",
      "metadata": {
        "id": "j8pQvOP3D8oB",
        "colab_type": "code",
        "colab": {}
      },
      "source": [
        "X_train,X_test,y_train,y_test = train_test_split(features,target,test_size=0.2,random_state=10)"
      ],
      "execution_count": 201,
      "outputs": []
    },
    {
      "cell_type": "code",
      "metadata": {
        "id": "tTPShr1REIXq",
        "colab_type": "code",
        "colab": {}
      },
      "source": [
        "#Import Tensorflow\n",
        "import tensorflow as tf\n",
        "\n",
        "#Modelling\n",
        "\n",
        "#Step1 : Architecting the model\n",
        "\n",
        "model = tf.keras.models.Sequential()"
      ],
      "execution_count": 203,
      "outputs": []
    },
    {
      "cell_type": "code",
      "metadata": {
        "id": "7Vv4u78DEg0W",
        "colab_type": "code",
        "colab": {}
      },
      "source": [
        "#Step2: Create Input Layer\n",
        "\n",
        "model.add(tf.keras.layers.Dense(units=70,activation='relu',input_shape=(13,)))"
      ],
      "execution_count": 204,
      "outputs": []
    },
    {
      "cell_type": "code",
      "metadata": {
        "id": "_YjIS0b5E-z9",
        "colab_type": "code",
        "colab": {}
      },
      "source": [
        "#Step3: Create Intermediated layers\n",
        "\n",
        "model.add(tf.keras.layers.Dense(units=200,activation=\"relu\"))\n",
        "model.add(tf.keras.layers.Dense(units=200,activation=\"relu\"))\n",
        "model.add(tf.keras.layers.Dense(units=200,activation=\"relu\"))\n",
        "model.add(tf.keras.layers.Dense(units=200,activation=\"relu\"))\n",
        "model.add(tf.keras.layers.Dense(units=200,activation=\"relu\"))\n",
        "model.add(tf.keras.layers.Dense(units=200,activation=\"relu\"))\n",
        "model.add(tf.keras.layers.Dense(units=200,activation=\"relu\"))\n",
        "model.add(tf.keras.layers.Dense(units=200,activation=\"relu\"))\n",
        "\n",
        "#Step 4: Create an Output layer\n",
        "\n",
        "model.add(tf.keras.layers.Dense(units=1,activation='sigmoid'))\n"
      ],
      "execution_count": 205,
      "outputs": []
    },
    {
      "cell_type": "code",
      "metadata": {
        "id": "N_vUMLyxF031",
        "colab_type": "code",
        "colab": {}
      },
      "source": [
        "#Step 5: Model Compilation\n",
        "\n",
        "model.compile(optimizer='Nadam',loss='binary_crossentropy',metrics=['accuracy'])\n"
      ],
      "execution_count": 212,
      "outputs": []
    },
    {
      "cell_type": "code",
      "metadata": {
        "id": "f4aq1QduGHHv",
        "colab_type": "code",
        "colab": {
          "base_uri": "https://localhost:8080/",
          "height": 1000
        },
        "outputId": "240d0239-50ee-41c2-fa8f-e256e0de4332"
      },
      "source": [
        "model.fit(X_train,y_train,epochs=500, validation_data=(X_test,y_test))"
      ],
      "execution_count": 213,
      "outputs": [
        {
          "output_type": "stream",
          "text": [
            "Epoch 1/500\n",
            "250/250 [==============================] - 1s 6ms/step - loss: 0.0318 - accuracy: 0.9910 - val_loss: 2.4604 - val_accuracy: 0.8115\n",
            "Epoch 2/500\n",
            "250/250 [==============================] - 1s 5ms/step - loss: 0.0310 - accuracy: 0.9899 - val_loss: 4.0786 - val_accuracy: 0.8085\n",
            "Epoch 3/500\n",
            "250/250 [==============================] - 1s 5ms/step - loss: 0.0345 - accuracy: 0.9909 - val_loss: 2.4187 - val_accuracy: 0.8135\n",
            "Epoch 4/500\n",
            "250/250 [==============================] - 1s 5ms/step - loss: 0.0307 - accuracy: 0.9904 - val_loss: 3.1447 - val_accuracy: 0.8140\n",
            "Epoch 5/500\n",
            "250/250 [==============================] - 1s 5ms/step - loss: 0.0403 - accuracy: 0.9872 - val_loss: 2.3247 - val_accuracy: 0.8105\n",
            "Epoch 6/500\n",
            "250/250 [==============================] - 1s 5ms/step - loss: 0.0317 - accuracy: 0.9912 - val_loss: 1.3964 - val_accuracy: 0.8145\n",
            "Epoch 7/500\n",
            "250/250 [==============================] - 1s 5ms/step - loss: 0.0269 - accuracy: 0.9914 - val_loss: 1.6908 - val_accuracy: 0.8120\n",
            "Epoch 8/500\n",
            "250/250 [==============================] - 1s 5ms/step - loss: 0.0268 - accuracy: 0.9924 - val_loss: 1.6209 - val_accuracy: 0.8075\n",
            "Epoch 9/500\n",
            "250/250 [==============================] - 1s 5ms/step - loss: 0.0244 - accuracy: 0.9914 - val_loss: 3.0560 - val_accuracy: 0.8090\n",
            "Epoch 10/500\n",
            "250/250 [==============================] - 1s 5ms/step - loss: 0.0409 - accuracy: 0.9886 - val_loss: 1.0928 - val_accuracy: 0.7975\n",
            "Epoch 11/500\n",
            "250/250 [==============================] - 1s 5ms/step - loss: 0.0302 - accuracy: 0.9918 - val_loss: 1.4003 - val_accuracy: 0.8085\n",
            "Epoch 12/500\n",
            "250/250 [==============================] - 1s 5ms/step - loss: 0.0337 - accuracy: 0.9900 - val_loss: 1.0592 - val_accuracy: 0.8130\n",
            "Epoch 13/500\n",
            "250/250 [==============================] - 1s 5ms/step - loss: 0.0370 - accuracy: 0.9905 - val_loss: 1.5606 - val_accuracy: 0.7985\n",
            "Epoch 14/500\n",
            "250/250 [==============================] - 1s 5ms/step - loss: 0.0300 - accuracy: 0.9929 - val_loss: 1.0398 - val_accuracy: 0.8030\n",
            "Epoch 15/500\n",
            "250/250 [==============================] - 1s 5ms/step - loss: 0.0388 - accuracy: 0.9884 - val_loss: 1.3748 - val_accuracy: 0.8115\n",
            "Epoch 16/500\n",
            "250/250 [==============================] - 1s 5ms/step - loss: 0.0266 - accuracy: 0.9920 - val_loss: 2.2731 - val_accuracy: 0.8190\n",
            "Epoch 17/500\n",
            "250/250 [==============================] - 1s 5ms/step - loss: 0.0244 - accuracy: 0.9929 - val_loss: 1.4633 - val_accuracy: 0.8145\n",
            "Epoch 18/500\n",
            "250/250 [==============================] - 1s 5ms/step - loss: 0.0144 - accuracy: 0.9948 - val_loss: 2.4510 - val_accuracy: 0.7970\n",
            "Epoch 19/500\n",
            "250/250 [==============================] - 1s 5ms/step - loss: 0.0386 - accuracy: 0.9874 - val_loss: 1.6194 - val_accuracy: 0.8130\n",
            "Epoch 20/500\n",
            "250/250 [==============================] - 1s 5ms/step - loss: 0.0243 - accuracy: 0.9934 - val_loss: 1.8993 - val_accuracy: 0.8000\n",
            "Epoch 21/500\n",
            "250/250 [==============================] - 1s 5ms/step - loss: 0.0298 - accuracy: 0.9905 - val_loss: 2.3690 - val_accuracy: 0.8200\n",
            "Epoch 22/500\n",
            "250/250 [==============================] - 1s 5ms/step - loss: 0.0262 - accuracy: 0.9923 - val_loss: 1.7181 - val_accuracy: 0.8130\n",
            "Epoch 23/500\n",
            "250/250 [==============================] - 1s 5ms/step - loss: 0.0221 - accuracy: 0.9927 - val_loss: 2.0539 - val_accuracy: 0.8140\n",
            "Epoch 24/500\n",
            "250/250 [==============================] - 1s 5ms/step - loss: 0.0182 - accuracy: 0.9945 - val_loss: 2.0122 - val_accuracy: 0.8130\n",
            "Epoch 25/500\n",
            "250/250 [==============================] - 1s 6ms/step - loss: 0.0274 - accuracy: 0.9916 - val_loss: 1.6210 - val_accuracy: 0.8220\n",
            "Epoch 26/500\n",
            "250/250 [==============================] - 1s 5ms/step - loss: 0.0406 - accuracy: 0.9900 - val_loss: 1.2701 - val_accuracy: 0.8180\n",
            "Epoch 27/500\n",
            "250/250 [==============================] - 1s 5ms/step - loss: 0.0237 - accuracy: 0.9920 - val_loss: 1.8573 - val_accuracy: 0.8160\n",
            "Epoch 28/500\n",
            "250/250 [==============================] - 1s 5ms/step - loss: 0.0253 - accuracy: 0.9926 - val_loss: 1.4213 - val_accuracy: 0.8045\n",
            "Epoch 29/500\n",
            "250/250 [==============================] - 1s 5ms/step - loss: 0.0201 - accuracy: 0.9944 - val_loss: 1.6278 - val_accuracy: 0.8160\n",
            "Epoch 30/500\n",
            "250/250 [==============================] - 1s 5ms/step - loss: 0.0269 - accuracy: 0.9920 - val_loss: 1.3645 - val_accuracy: 0.8105\n",
            "Epoch 31/500\n",
            "250/250 [==============================] - 1s 5ms/step - loss: 0.0222 - accuracy: 0.9923 - val_loss: 1.5933 - val_accuracy: 0.8105\n",
            "Epoch 32/500\n",
            "250/250 [==============================] - 1s 5ms/step - loss: 0.0213 - accuracy: 0.9949 - val_loss: 2.2368 - val_accuracy: 0.8220\n",
            "Epoch 33/500\n",
            "250/250 [==============================] - 1s 5ms/step - loss: 0.0247 - accuracy: 0.9937 - val_loss: 0.9036 - val_accuracy: 0.8190\n",
            "Epoch 34/500\n",
            "250/250 [==============================] - 1s 5ms/step - loss: 0.0264 - accuracy: 0.9914 - val_loss: 1.6241 - val_accuracy: 0.8100\n",
            "Epoch 35/500\n",
            "250/250 [==============================] - 1s 5ms/step - loss: 0.0187 - accuracy: 0.9944 - val_loss: 1.7407 - val_accuracy: 0.8090\n",
            "Epoch 36/500\n",
            "250/250 [==============================] - 1s 5ms/step - loss: 0.0324 - accuracy: 0.9914 - val_loss: 2.2062 - val_accuracy: 0.8195\n",
            "Epoch 37/500\n",
            "250/250 [==============================] - 1s 5ms/step - loss: 0.0265 - accuracy: 0.9914 - val_loss: 2.4371 - val_accuracy: 0.8185\n",
            "Epoch 38/500\n",
            "250/250 [==============================] - 1s 5ms/step - loss: 0.0274 - accuracy: 0.9925 - val_loss: 1.7426 - val_accuracy: 0.8150\n",
            "Epoch 39/500\n",
            "250/250 [==============================] - 1s 5ms/step - loss: 0.0304 - accuracy: 0.9915 - val_loss: 1.5744 - val_accuracy: 0.8170\n",
            "Epoch 40/500\n",
            "250/250 [==============================] - 1s 5ms/step - loss: 0.0289 - accuracy: 0.9914 - val_loss: 1.2883 - val_accuracy: 0.8150\n",
            "Epoch 41/500\n",
            "250/250 [==============================] - 1s 5ms/step - loss: 0.0345 - accuracy: 0.9900 - val_loss: 1.0679 - val_accuracy: 0.8070\n",
            "Epoch 42/500\n",
            "250/250 [==============================] - 1s 5ms/step - loss: 0.0215 - accuracy: 0.9942 - val_loss: 1.7079 - val_accuracy: 0.8125\n",
            "Epoch 43/500\n",
            "250/250 [==============================] - 1s 5ms/step - loss: 0.0290 - accuracy: 0.9925 - val_loss: 1.4833 - val_accuracy: 0.8160\n",
            "Epoch 44/500\n",
            "250/250 [==============================] - 1s 5ms/step - loss: 0.0255 - accuracy: 0.9930 - val_loss: 1.2338 - val_accuracy: 0.8110\n",
            "Epoch 45/500\n",
            "250/250 [==============================] - 1s 5ms/step - loss: 0.0230 - accuracy: 0.9926 - val_loss: 1.7285 - val_accuracy: 0.8160\n",
            "Epoch 46/500\n",
            "250/250 [==============================] - 1s 5ms/step - loss: 0.0202 - accuracy: 0.9933 - val_loss: 1.9472 - val_accuracy: 0.8265\n",
            "Epoch 47/500\n",
            "250/250 [==============================] - 1s 5ms/step - loss: 0.0145 - accuracy: 0.9941 - val_loss: 2.0226 - val_accuracy: 0.8145\n",
            "Epoch 48/500\n",
            "250/250 [==============================] - 1s 5ms/step - loss: 0.0314 - accuracy: 0.9891 - val_loss: 1.5931 - val_accuracy: 0.8085\n",
            "Epoch 49/500\n",
            "250/250 [==============================] - 1s 5ms/step - loss: 0.0224 - accuracy: 0.9930 - val_loss: 1.8960 - val_accuracy: 0.8180\n",
            "Epoch 50/500\n",
            "250/250 [==============================] - 1s 5ms/step - loss: 0.0177 - accuracy: 0.9946 - val_loss: 2.2821 - val_accuracy: 0.8200\n",
            "Epoch 51/500\n",
            "250/250 [==============================] - 1s 5ms/step - loss: 0.0262 - accuracy: 0.9919 - val_loss: 1.6522 - val_accuracy: 0.8290\n",
            "Epoch 52/500\n",
            "250/250 [==============================] - 1s 5ms/step - loss: 0.0192 - accuracy: 0.9946 - val_loss: 2.0356 - val_accuracy: 0.8135\n",
            "Epoch 53/500\n",
            "250/250 [==============================] - 1s 5ms/step - loss: 0.0211 - accuracy: 0.9936 - val_loss: 1.3410 - val_accuracy: 0.8145\n",
            "Epoch 54/500\n",
            "250/250 [==============================] - 1s 5ms/step - loss: 0.0305 - accuracy: 0.9909 - val_loss: 1.6362 - val_accuracy: 0.8245\n",
            "Epoch 55/500\n",
            "250/250 [==============================] - 1s 5ms/step - loss: 0.0196 - accuracy: 0.9940 - val_loss: 1.9609 - val_accuracy: 0.8135\n",
            "Epoch 56/500\n",
            "250/250 [==============================] - 1s 5ms/step - loss: 0.0209 - accuracy: 0.9951 - val_loss: 1.4008 - val_accuracy: 0.8110\n",
            "Epoch 57/500\n",
            "250/250 [==============================] - 1s 5ms/step - loss: 0.0301 - accuracy: 0.9912 - val_loss: 1.6270 - val_accuracy: 0.8095\n",
            "Epoch 58/500\n",
            "250/250 [==============================] - 1s 5ms/step - loss: 0.0204 - accuracy: 0.9941 - val_loss: 1.6699 - val_accuracy: 0.8175\n",
            "Epoch 59/500\n",
            "250/250 [==============================] - 1s 5ms/step - loss: 0.0172 - accuracy: 0.9958 - val_loss: 1.6015 - val_accuracy: 0.8150\n",
            "Epoch 60/500\n",
            "250/250 [==============================] - 1s 5ms/step - loss: 0.0211 - accuracy: 0.9933 - val_loss: 1.9179 - val_accuracy: 0.8125\n",
            "Epoch 61/500\n",
            "250/250 [==============================] - 1s 5ms/step - loss: 0.0263 - accuracy: 0.9920 - val_loss: 2.0348 - val_accuracy: 0.8150\n",
            "Epoch 62/500\n",
            "250/250 [==============================] - 1s 5ms/step - loss: 0.0331 - accuracy: 0.9916 - val_loss: 1.1977 - val_accuracy: 0.8160\n",
            "Epoch 63/500\n",
            "250/250 [==============================] - 1s 5ms/step - loss: 0.0272 - accuracy: 0.9929 - val_loss: 1.3438 - val_accuracy: 0.8225\n",
            "Epoch 64/500\n",
            "250/250 [==============================] - 1s 5ms/step - loss: 0.0231 - accuracy: 0.9940 - val_loss: 1.0080 - val_accuracy: 0.8165\n",
            "Epoch 65/500\n",
            "250/250 [==============================] - 1s 5ms/step - loss: 0.0186 - accuracy: 0.9941 - val_loss: 1.8468 - val_accuracy: 0.8155\n",
            "Epoch 66/500\n",
            "250/250 [==============================] - 1s 5ms/step - loss: 0.0244 - accuracy: 0.9923 - val_loss: 1.5710 - val_accuracy: 0.8125\n",
            "Epoch 67/500\n",
            "250/250 [==============================] - 1s 5ms/step - loss: 0.0285 - accuracy: 0.9908 - val_loss: 1.4666 - val_accuracy: 0.8070\n",
            "Epoch 68/500\n",
            "250/250 [==============================] - 1s 5ms/step - loss: 0.0298 - accuracy: 0.9910 - val_loss: 1.4179 - val_accuracy: 0.8105\n",
            "Epoch 69/500\n",
            "250/250 [==============================] - 1s 5ms/step - loss: 0.0309 - accuracy: 0.9911 - val_loss: 1.1698 - val_accuracy: 0.8120\n",
            "Epoch 70/500\n",
            "250/250 [==============================] - 1s 6ms/step - loss: 0.0254 - accuracy: 0.9937 - val_loss: 1.2925 - val_accuracy: 0.8160\n",
            "Epoch 71/500\n",
            "250/250 [==============================] - 1s 5ms/step - loss: 0.0189 - accuracy: 0.9954 - val_loss: 0.9519 - val_accuracy: 0.8160\n",
            "Epoch 72/500\n",
            "250/250 [==============================] - 1s 5ms/step - loss: 0.0223 - accuracy: 0.9948 - val_loss: 1.4185 - val_accuracy: 0.8190\n",
            "Epoch 73/500\n",
            "250/250 [==============================] - 1s 5ms/step - loss: 0.0201 - accuracy: 0.9942 - val_loss: 1.4371 - val_accuracy: 0.8160\n",
            "Epoch 74/500\n",
            "250/250 [==============================] - 1s 5ms/step - loss: 0.0326 - accuracy: 0.9898 - val_loss: 1.6701 - val_accuracy: 0.8255\n",
            "Epoch 75/500\n",
            "250/250 [==============================] - 1s 5ms/step - loss: 0.0187 - accuracy: 0.9944 - val_loss: 2.9617 - val_accuracy: 0.8190\n",
            "Epoch 76/500\n",
            "250/250 [==============================] - 1s 5ms/step - loss: 0.0244 - accuracy: 0.9937 - val_loss: 1.6352 - val_accuracy: 0.8105\n",
            "Epoch 77/500\n",
            "250/250 [==============================] - 1s 5ms/step - loss: 0.0217 - accuracy: 0.9934 - val_loss: 1.6310 - val_accuracy: 0.8215\n",
            "Epoch 78/500\n",
            "250/250 [==============================] - 1s 5ms/step - loss: 0.0265 - accuracy: 0.9927 - val_loss: 1.5000 - val_accuracy: 0.8195\n",
            "Epoch 79/500\n",
            "250/250 [==============================] - 1s 6ms/step - loss: 0.0349 - accuracy: 0.9926 - val_loss: 1.5097 - val_accuracy: 0.8270\n",
            "Epoch 80/500\n",
            "250/250 [==============================] - 2s 6ms/step - loss: 0.0229 - accuracy: 0.9942 - val_loss: 1.4924 - val_accuracy: 0.8185\n",
            "Epoch 81/500\n",
            "250/250 [==============================] - 1s 5ms/step - loss: 0.0203 - accuracy: 0.9940 - val_loss: 1.3753 - val_accuracy: 0.8170\n",
            "Epoch 82/500\n",
            "250/250 [==============================] - 1s 6ms/step - loss: 0.0154 - accuracy: 0.9956 - val_loss: 1.9175 - val_accuracy: 0.8230\n",
            "Epoch 83/500\n",
            "250/250 [==============================] - 1s 6ms/step - loss: 0.0344 - accuracy: 0.9912 - val_loss: 1.4354 - val_accuracy: 0.8255\n",
            "Epoch 84/500\n",
            "250/250 [==============================] - 1s 5ms/step - loss: 0.0215 - accuracy: 0.9935 - val_loss: 1.6428 - val_accuracy: 0.8170\n",
            "Epoch 85/500\n",
            "250/250 [==============================] - 1s 5ms/step - loss: 0.0185 - accuracy: 0.9958 - val_loss: 1.0580 - val_accuracy: 0.8100\n",
            "Epoch 86/500\n",
            "250/250 [==============================] - 1s 5ms/step - loss: 0.0235 - accuracy: 0.9937 - val_loss: 1.2908 - val_accuracy: 0.8230\n",
            "Epoch 87/500\n",
            "250/250 [==============================] - 1s 5ms/step - loss: 0.0194 - accuracy: 0.9939 - val_loss: 1.4762 - val_accuracy: 0.8165\n",
            "Epoch 88/500\n",
            "250/250 [==============================] - 1s 5ms/step - loss: 0.0261 - accuracy: 0.9931 - val_loss: 1.2333 - val_accuracy: 0.8235\n",
            "Epoch 89/500\n",
            "250/250 [==============================] - 1s 5ms/step - loss: 0.0143 - accuracy: 0.9949 - val_loss: 1.4853 - val_accuracy: 0.8185\n",
            "Epoch 90/500\n",
            "250/250 [==============================] - 1s 5ms/step - loss: 0.0179 - accuracy: 0.9948 - val_loss: 1.4098 - val_accuracy: 0.8235\n",
            "Epoch 91/500\n",
            "250/250 [==============================] - 1s 5ms/step - loss: 0.0242 - accuracy: 0.9940 - val_loss: 1.2246 - val_accuracy: 0.8100\n",
            "Epoch 92/500\n",
            "250/250 [==============================] - 1s 5ms/step - loss: 0.0192 - accuracy: 0.9951 - val_loss: 1.8764 - val_accuracy: 0.8225\n",
            "Epoch 93/500\n",
            "250/250 [==============================] - 1s 5ms/step - loss: 0.0124 - accuracy: 0.9964 - val_loss: 1.8472 - val_accuracy: 0.8205\n",
            "Epoch 94/500\n",
            "250/250 [==============================] - 1s 5ms/step - loss: 0.0219 - accuracy: 0.9939 - val_loss: 1.7119 - val_accuracy: 0.8285\n",
            "Epoch 95/500\n",
            "250/250 [==============================] - 1s 5ms/step - loss: 0.0212 - accuracy: 0.9942 - val_loss: 2.0810 - val_accuracy: 0.8130\n",
            "Epoch 96/500\n",
            "250/250 [==============================] - 1s 5ms/step - loss: 0.0158 - accuracy: 0.9954 - val_loss: 2.2232 - val_accuracy: 0.8135\n",
            "Epoch 97/500\n",
            "250/250 [==============================] - 1s 5ms/step - loss: 0.0219 - accuracy: 0.9948 - val_loss: 1.3230 - val_accuracy: 0.8145\n",
            "Epoch 98/500\n",
            "250/250 [==============================] - 1s 5ms/step - loss: 0.0186 - accuracy: 0.9956 - val_loss: 3.6357 - val_accuracy: 0.8185\n",
            "Epoch 99/500\n",
            "250/250 [==============================] - 1s 5ms/step - loss: 0.0243 - accuracy: 0.9941 - val_loss: 1.0952 - val_accuracy: 0.8170\n",
            "Epoch 100/500\n",
            "250/250 [==============================] - 1s 5ms/step - loss: 0.0199 - accuracy: 0.9948 - val_loss: 1.6990 - val_accuracy: 0.8175\n",
            "Epoch 101/500\n",
            "250/250 [==============================] - 1s 5ms/step - loss: 0.0304 - accuracy: 0.9918 - val_loss: 1.8143 - val_accuracy: 0.8170\n",
            "Epoch 102/500\n",
            "250/250 [==============================] - 1s 5ms/step - loss: 0.0167 - accuracy: 0.9962 - val_loss: 1.7424 - val_accuracy: 0.8160\n",
            "Epoch 103/500\n",
            "250/250 [==============================] - 1s 5ms/step - loss: 0.0203 - accuracy: 0.9946 - val_loss: 1.3576 - val_accuracy: 0.8160\n",
            "Epoch 104/500\n",
            "250/250 [==============================] - 1s 5ms/step - loss: 0.0326 - accuracy: 0.9925 - val_loss: 1.2265 - val_accuracy: 0.8150\n",
            "Epoch 105/500\n",
            "250/250 [==============================] - 1s 5ms/step - loss: 0.0305 - accuracy: 0.9937 - val_loss: 1.5772 - val_accuracy: 0.8055\n",
            "Epoch 106/500\n",
            "250/250 [==============================] - 1s 5ms/step - loss: 0.0294 - accuracy: 0.9916 - val_loss: 1.4519 - val_accuracy: 0.8100\n",
            "Epoch 107/500\n",
            "250/250 [==============================] - 1s 5ms/step - loss: 0.0195 - accuracy: 0.9950 - val_loss: 1.5671 - val_accuracy: 0.8250\n",
            "Epoch 108/500\n",
            "250/250 [==============================] - 1s 5ms/step - loss: 0.0111 - accuracy: 0.9971 - val_loss: 2.5565 - val_accuracy: 0.8215\n",
            "Epoch 109/500\n",
            "250/250 [==============================] - 1s 5ms/step - loss: 0.0044 - accuracy: 0.9989 - val_loss: 2.1959 - val_accuracy: 0.8235\n",
            "Epoch 110/500\n",
            "250/250 [==============================] - 1s 5ms/step - loss: 0.0072 - accuracy: 0.9975 - val_loss: 2.0008 - val_accuracy: 0.8215\n",
            "Epoch 111/500\n",
            "250/250 [==============================] - 1s 5ms/step - loss: 0.0158 - accuracy: 0.9965 - val_loss: 6.0546 - val_accuracy: 0.8255\n",
            "Epoch 112/500\n",
            "250/250 [==============================] - 1s 5ms/step - loss: 0.0275 - accuracy: 0.9930 - val_loss: 6.0974 - val_accuracy: 0.8175\n",
            "Epoch 113/500\n",
            "250/250 [==============================] - 1s 5ms/step - loss: 0.0167 - accuracy: 0.9962 - val_loss: 3.1658 - val_accuracy: 0.8250\n",
            "Epoch 114/500\n",
            "250/250 [==============================] - 1s 5ms/step - loss: 0.0325 - accuracy: 0.9920 - val_loss: 1.3369 - val_accuracy: 0.8320\n",
            "Epoch 115/500\n",
            "250/250 [==============================] - 1s 5ms/step - loss: 0.0300 - accuracy: 0.9934 - val_loss: 2.2215 - val_accuracy: 0.8055\n",
            "Epoch 116/500\n",
            "250/250 [==============================] - 1s 6ms/step - loss: 0.0273 - accuracy: 0.9941 - val_loss: 2.5904 - val_accuracy: 0.8170\n",
            "Epoch 117/500\n",
            "250/250 [==============================] - 1s 5ms/step - loss: 0.0206 - accuracy: 0.9945 - val_loss: 2.8500 - val_accuracy: 0.8135\n",
            "Epoch 118/500\n",
            "250/250 [==============================] - 1s 5ms/step - loss: 0.0233 - accuracy: 0.9941 - val_loss: 2.1233 - val_accuracy: 0.8180\n",
            "Epoch 119/500\n",
            "250/250 [==============================] - 1s 5ms/step - loss: 0.0098 - accuracy: 0.9967 - val_loss: 4.1409 - val_accuracy: 0.8255\n",
            "Epoch 120/500\n",
            "250/250 [==============================] - 1s 5ms/step - loss: 0.0198 - accuracy: 0.9952 - val_loss: 2.2281 - val_accuracy: 0.8270\n",
            "Epoch 121/500\n",
            "250/250 [==============================] - 1s 5ms/step - loss: 0.0110 - accuracy: 0.9967 - val_loss: 2.5519 - val_accuracy: 0.8225\n",
            "Epoch 122/500\n",
            "250/250 [==============================] - 1s 5ms/step - loss: 0.0059 - accuracy: 0.9985 - val_loss: 2.0623 - val_accuracy: 0.8105\n",
            "Epoch 123/500\n",
            "250/250 [==============================] - 1s 5ms/step - loss: 0.0137 - accuracy: 0.9964 - val_loss: 2.9464 - val_accuracy: 0.8165\n",
            "Epoch 124/500\n",
            "250/250 [==============================] - 1s 5ms/step - loss: 0.0230 - accuracy: 0.9930 - val_loss: 4.9395 - val_accuracy: 0.8090\n",
            "Epoch 125/500\n",
            "250/250 [==============================] - 1s 5ms/step - loss: 0.0232 - accuracy: 0.9933 - val_loss: 7.0607 - val_accuracy: 0.8195\n",
            "Epoch 126/500\n",
            "250/250 [==============================] - 1s 5ms/step - loss: 0.0219 - accuracy: 0.9944 - val_loss: 3.1803 - val_accuracy: 0.8140\n",
            "Epoch 127/500\n",
            "250/250 [==============================] - 1s 5ms/step - loss: 0.0276 - accuracy: 0.9920 - val_loss: 2.2925 - val_accuracy: 0.8105\n",
            "Epoch 128/500\n",
            "250/250 [==============================] - 1s 5ms/step - loss: 0.0197 - accuracy: 0.9945 - val_loss: 2.0089 - val_accuracy: 0.8015\n",
            "Epoch 129/500\n",
            "250/250 [==============================] - 1s 5ms/step - loss: 0.0177 - accuracy: 0.9944 - val_loss: 2.3326 - val_accuracy: 0.8240\n",
            "Epoch 130/500\n",
            "250/250 [==============================] - 1s 5ms/step - loss: 0.0175 - accuracy: 0.9956 - val_loss: 3.5094 - val_accuracy: 0.8170\n",
            "Epoch 131/500\n",
            "250/250 [==============================] - 1s 5ms/step - loss: 0.0206 - accuracy: 0.9944 - val_loss: 2.6499 - val_accuracy: 0.8110\n",
            "Epoch 132/500\n",
            "250/250 [==============================] - 1s 5ms/step - loss: 0.0290 - accuracy: 0.9931 - val_loss: 2.5628 - val_accuracy: 0.8040\n",
            "Epoch 133/500\n",
            "250/250 [==============================] - 1s 5ms/step - loss: 0.0178 - accuracy: 0.9949 - val_loss: 3.5917 - val_accuracy: 0.8115\n",
            "Epoch 134/500\n",
            "250/250 [==============================] - 1s 5ms/step - loss: 0.0142 - accuracy: 0.9970 - val_loss: 3.1550 - val_accuracy: 0.8145\n",
            "Epoch 135/500\n",
            "250/250 [==============================] - 1s 5ms/step - loss: 0.0063 - accuracy: 0.9980 - val_loss: 4.3453 - val_accuracy: 0.8130\n",
            "Epoch 136/500\n",
            "250/250 [==============================] - 1s 5ms/step - loss: 0.0108 - accuracy: 0.9980 - val_loss: 2.5442 - val_accuracy: 0.8155\n",
            "Epoch 137/500\n",
            "250/250 [==============================] - 1s 5ms/step - loss: 0.0190 - accuracy: 0.9956 - val_loss: 3.4824 - val_accuracy: 0.8260\n",
            "Epoch 138/500\n",
            "250/250 [==============================] - 1s 5ms/step - loss: 0.0119 - accuracy: 0.9967 - val_loss: 4.3915 - val_accuracy: 0.8040\n",
            "Epoch 139/500\n",
            "250/250 [==============================] - 1s 5ms/step - loss: 0.0237 - accuracy: 0.9940 - val_loss: 3.2052 - val_accuracy: 0.8115\n",
            "Epoch 140/500\n",
            "250/250 [==============================] - 1s 5ms/step - loss: 0.0308 - accuracy: 0.9918 - val_loss: 1.6403 - val_accuracy: 0.8145\n",
            "Epoch 141/500\n",
            "250/250 [==============================] - 1s 5ms/step - loss: 0.0188 - accuracy: 0.9950 - val_loss: 2.4248 - val_accuracy: 0.8035\n",
            "Epoch 142/500\n",
            "250/250 [==============================] - 1s 5ms/step - loss: 0.0192 - accuracy: 0.9956 - val_loss: 1.3194 - val_accuracy: 0.8095\n",
            "Epoch 143/500\n",
            "250/250 [==============================] - 1s 5ms/step - loss: 0.0260 - accuracy: 0.9933 - val_loss: 2.5157 - val_accuracy: 0.8120\n",
            "Epoch 144/500\n",
            "250/250 [==============================] - 1s 5ms/step - loss: 0.0123 - accuracy: 0.9964 - val_loss: 1.8864 - val_accuracy: 0.8150\n",
            "Epoch 145/500\n",
            "250/250 [==============================] - 1s 5ms/step - loss: 0.0092 - accuracy: 0.9974 - val_loss: 2.9843 - val_accuracy: 0.8180\n",
            "Epoch 146/500\n",
            "250/250 [==============================] - 1s 5ms/step - loss: 0.0145 - accuracy: 0.9977 - val_loss: 2.3181 - val_accuracy: 0.8215\n",
            "Epoch 147/500\n",
            "250/250 [==============================] - 1s 5ms/step - loss: 0.0193 - accuracy: 0.9952 - val_loss: 0.9796 - val_accuracy: 0.8040\n",
            "Epoch 148/500\n",
            "250/250 [==============================] - 1s 5ms/step - loss: 0.0234 - accuracy: 0.9941 - val_loss: 3.4294 - val_accuracy: 0.8115\n",
            "Epoch 149/500\n",
            "250/250 [==============================] - 1s 5ms/step - loss: 0.0228 - accuracy: 0.9944 - val_loss: 3.9212 - val_accuracy: 0.8055\n",
            "Epoch 150/500\n",
            "250/250 [==============================] - 1s 5ms/step - loss: 0.0182 - accuracy: 0.9946 - val_loss: 3.4860 - val_accuracy: 0.8240\n",
            "Epoch 151/500\n",
            "250/250 [==============================] - 1s 5ms/step - loss: 0.0066 - accuracy: 0.9984 - val_loss: 3.7055 - val_accuracy: 0.8160\n",
            "Epoch 152/500\n",
            "250/250 [==============================] - 1s 5ms/step - loss: 0.0098 - accuracy: 0.9970 - val_loss: 8.0829 - val_accuracy: 0.8050\n",
            "Epoch 153/500\n",
            "250/250 [==============================] - 1s 5ms/step - loss: 0.0129 - accuracy: 0.9980 - val_loss: 5.2264 - val_accuracy: 0.8195\n",
            "Epoch 154/500\n",
            "250/250 [==============================] - 1s 5ms/step - loss: 0.0279 - accuracy: 0.9939 - val_loss: 2.4414 - val_accuracy: 0.8135\n",
            "Epoch 155/500\n",
            "250/250 [==============================] - 1s 5ms/step - loss: 0.0126 - accuracy: 0.9962 - val_loss: 6.2163 - val_accuracy: 0.8225\n",
            "Epoch 156/500\n",
            "250/250 [==============================] - 1s 5ms/step - loss: 0.0336 - accuracy: 0.9930 - val_loss: 1.7096 - val_accuracy: 0.8195\n",
            "Epoch 157/500\n",
            "250/250 [==============================] - 1s 5ms/step - loss: 0.0171 - accuracy: 0.9955 - val_loss: 3.3891 - val_accuracy: 0.8185\n",
            "Epoch 158/500\n",
            "250/250 [==============================] - 1s 5ms/step - loss: 0.0140 - accuracy: 0.9967 - val_loss: 1.9675 - val_accuracy: 0.8200\n",
            "Epoch 159/500\n",
            "250/250 [==============================] - 1s 5ms/step - loss: 0.0102 - accuracy: 0.9979 - val_loss: 3.1580 - val_accuracy: 0.8175\n",
            "Epoch 160/500\n",
            "250/250 [==============================] - 1s 5ms/step - loss: 0.0021 - accuracy: 0.9995 - val_loss: 6.8694 - val_accuracy: 0.8230\n",
            "Epoch 161/500\n",
            "250/250 [==============================] - 1s 6ms/step - loss: 0.0204 - accuracy: 0.9961 - val_loss: 2.8839 - val_accuracy: 0.8150\n",
            "Epoch 162/500\n",
            "250/250 [==============================] - 1s 6ms/step - loss: 0.0190 - accuracy: 0.9949 - val_loss: 2.6394 - val_accuracy: 0.8115\n",
            "Epoch 163/500\n",
            "250/250 [==============================] - 1s 6ms/step - loss: 0.0267 - accuracy: 0.9929 - val_loss: 3.8116 - val_accuracy: 0.8115\n",
            "Epoch 164/500\n",
            "250/250 [==============================] - 1s 5ms/step - loss: 0.0188 - accuracy: 0.9958 - val_loss: 4.1666 - val_accuracy: 0.8215\n",
            "Epoch 165/500\n",
            "250/250 [==============================] - 1s 6ms/step - loss: 0.0121 - accuracy: 0.9974 - val_loss: 2.8805 - val_accuracy: 0.8150\n",
            "Epoch 166/500\n",
            "250/250 [==============================] - 1s 5ms/step - loss: 0.0053 - accuracy: 0.9987 - val_loss: 5.1730 - val_accuracy: 0.8150\n",
            "Epoch 167/500\n",
            "250/250 [==============================] - 1s 5ms/step - loss: 0.0204 - accuracy: 0.9950 - val_loss: 4.0937 - val_accuracy: 0.8140\n",
            "Epoch 168/500\n",
            "250/250 [==============================] - 1s 5ms/step - loss: 0.0229 - accuracy: 0.9939 - val_loss: 2.1601 - val_accuracy: 0.8055\n",
            "Epoch 169/500\n",
            "250/250 [==============================] - 1s 5ms/step - loss: 0.0221 - accuracy: 0.9940 - val_loss: 3.3609 - val_accuracy: 0.8150\n",
            "Epoch 170/500\n",
            "250/250 [==============================] - 1s 5ms/step - loss: 0.0090 - accuracy: 0.9975 - val_loss: 6.2237 - val_accuracy: 0.8265\n",
            "Epoch 171/500\n",
            "250/250 [==============================] - 1s 5ms/step - loss: 0.0275 - accuracy: 0.9924 - val_loss: 2.2830 - val_accuracy: 0.8215\n",
            "Epoch 172/500\n",
            "250/250 [==============================] - 1s 5ms/step - loss: 0.0234 - accuracy: 0.9955 - val_loss: 3.1217 - val_accuracy: 0.8150\n",
            "Epoch 173/500\n",
            "250/250 [==============================] - 1s 5ms/step - loss: 0.0066 - accuracy: 0.9980 - val_loss: 2.5692 - val_accuracy: 0.8145\n",
            "Epoch 174/500\n",
            "250/250 [==============================] - 1s 5ms/step - loss: 0.0107 - accuracy: 0.9970 - val_loss: 5.3586 - val_accuracy: 0.8180\n",
            "Epoch 175/500\n",
            "250/250 [==============================] - 1s 5ms/step - loss: 0.0187 - accuracy: 0.9961 - val_loss: 2.6377 - val_accuracy: 0.8190\n",
            "Epoch 176/500\n",
            "250/250 [==============================] - 1s 5ms/step - loss: 0.0169 - accuracy: 0.9941 - val_loss: 4.2962 - val_accuracy: 0.8175\n",
            "Epoch 177/500\n",
            "250/250 [==============================] - 1s 5ms/step - loss: 0.0177 - accuracy: 0.9945 - val_loss: 2.9057 - val_accuracy: 0.8095\n",
            "Epoch 178/500\n",
            "250/250 [==============================] - 1s 5ms/step - loss: 0.0138 - accuracy: 0.9964 - val_loss: 4.2715 - val_accuracy: 0.8145\n",
            "Epoch 179/500\n",
            "250/250 [==============================] - 1s 6ms/step - loss: 0.0199 - accuracy: 0.9965 - val_loss: 2.6081 - val_accuracy: 0.8110\n",
            "Epoch 180/500\n",
            "250/250 [==============================] - 1s 6ms/step - loss: 0.0104 - accuracy: 0.9970 - val_loss: 3.2544 - val_accuracy: 0.8270\n",
            "Epoch 181/500\n",
            "250/250 [==============================] - 1s 6ms/step - loss: 0.0226 - accuracy: 0.9949 - val_loss: 2.2305 - val_accuracy: 0.8110\n",
            "Epoch 182/500\n",
            "250/250 [==============================] - 1s 6ms/step - loss: 0.0107 - accuracy: 0.9966 - val_loss: 4.0368 - val_accuracy: 0.8195\n",
            "Epoch 183/500\n",
            "250/250 [==============================] - 1s 6ms/step - loss: 0.0113 - accuracy: 0.9977 - val_loss: 2.3767 - val_accuracy: 0.8095\n",
            "Epoch 184/500\n",
            "250/250 [==============================] - 1s 6ms/step - loss: 0.0092 - accuracy: 0.9981 - val_loss: 6.6145 - val_accuracy: 0.8195\n",
            "Epoch 185/500\n",
            "250/250 [==============================] - 1s 6ms/step - loss: 0.0028 - accuracy: 0.9994 - val_loss: 6.0160 - val_accuracy: 0.8165\n",
            "Epoch 186/500\n",
            "250/250 [==============================] - 1s 5ms/step - loss: 0.0143 - accuracy: 0.9975 - val_loss: 4.9808 - val_accuracy: 0.8245\n",
            "Epoch 187/500\n",
            "250/250 [==============================] - 1s 5ms/step - loss: 0.0233 - accuracy: 0.9940 - val_loss: 2.9342 - val_accuracy: 0.8190\n",
            "Epoch 188/500\n",
            "250/250 [==============================] - 1s 6ms/step - loss: 0.0121 - accuracy: 0.9970 - val_loss: 2.1713 - val_accuracy: 0.8215\n",
            "Epoch 189/500\n",
            "250/250 [==============================] - 1s 5ms/step - loss: 0.0097 - accuracy: 0.9966 - val_loss: 3.4294 - val_accuracy: 0.8150\n",
            "Epoch 190/500\n",
            "250/250 [==============================] - 1s 5ms/step - loss: 0.0250 - accuracy: 0.9926 - val_loss: 1.9099 - val_accuracy: 0.8060\n",
            "Epoch 191/500\n",
            "250/250 [==============================] - 1s 5ms/step - loss: 0.0126 - accuracy: 0.9965 - val_loss: 3.5092 - val_accuracy: 0.8200\n",
            "Epoch 192/500\n",
            "250/250 [==============================] - 1s 5ms/step - loss: 0.0184 - accuracy: 0.9981 - val_loss: 1.9131 - val_accuracy: 0.8190\n",
            "Epoch 193/500\n",
            "250/250 [==============================] - 1s 5ms/step - loss: 0.0232 - accuracy: 0.9948 - val_loss: 2.6375 - val_accuracy: 0.8150\n",
            "Epoch 194/500\n",
            "250/250 [==============================] - 1s 5ms/step - loss: 0.0229 - accuracy: 0.9948 - val_loss: 2.5107 - val_accuracy: 0.8125\n",
            "Epoch 195/500\n",
            "250/250 [==============================] - 1s 5ms/step - loss: 0.0137 - accuracy: 0.9959 - val_loss: 5.1250 - val_accuracy: 0.8195\n",
            "Epoch 196/500\n",
            "250/250 [==============================] - 1s 5ms/step - loss: 0.0086 - accuracy: 0.9971 - val_loss: 11.8611 - val_accuracy: 0.8155\n",
            "Epoch 197/500\n",
            "250/250 [==============================] - 1s 5ms/step - loss: 0.0174 - accuracy: 0.9951 - val_loss: 2.8573 - val_accuracy: 0.8195\n",
            "Epoch 198/500\n",
            "250/250 [==============================] - 1s 5ms/step - loss: 0.0199 - accuracy: 0.9955 - val_loss: 3.0516 - val_accuracy: 0.8105\n",
            "Epoch 199/500\n",
            "250/250 [==============================] - 1s 5ms/step - loss: 0.0108 - accuracy: 0.9977 - val_loss: 2.0244 - val_accuracy: 0.8215\n",
            "Epoch 200/500\n",
            "250/250 [==============================] - 1s 5ms/step - loss: 0.0296 - accuracy: 0.9905 - val_loss: 5.0368 - val_accuracy: 0.8100\n",
            "Epoch 201/500\n",
            "250/250 [==============================] - 1s 5ms/step - loss: 0.0141 - accuracy: 0.9960 - val_loss: 4.8156 - val_accuracy: 0.8095\n",
            "Epoch 202/500\n",
            "250/250 [==============================] - 1s 5ms/step - loss: 0.0141 - accuracy: 0.9979 - val_loss: 2.1822 - val_accuracy: 0.8190\n",
            "Epoch 203/500\n",
            "250/250 [==============================] - 1s 5ms/step - loss: 0.0086 - accuracy: 0.9983 - val_loss: 4.0491 - val_accuracy: 0.8125\n",
            "Epoch 204/500\n",
            "250/250 [==============================] - 1s 5ms/step - loss: 0.0085 - accuracy: 0.9983 - val_loss: 5.2853 - val_accuracy: 0.8170\n",
            "Epoch 205/500\n",
            "250/250 [==============================] - 2s 6ms/step - loss: 0.0095 - accuracy: 0.9975 - val_loss: 3.2588 - val_accuracy: 0.8200\n",
            "Epoch 206/500\n",
            "250/250 [==============================] - 1s 6ms/step - loss: 0.0140 - accuracy: 0.9961 - val_loss: 5.2072 - val_accuracy: 0.8145\n",
            "Epoch 207/500\n",
            "250/250 [==============================] - 1s 5ms/step - loss: 0.0181 - accuracy: 0.9956 - val_loss: 6.4234 - val_accuracy: 0.8155\n",
            "Epoch 208/500\n",
            "250/250 [==============================] - 1s 5ms/step - loss: 0.0150 - accuracy: 0.9971 - val_loss: 2.9789 - val_accuracy: 0.8150\n",
            "Epoch 209/500\n",
            "250/250 [==============================] - 1s 5ms/step - loss: 0.0318 - accuracy: 0.9911 - val_loss: 5.4482 - val_accuracy: 0.8150\n",
            "Epoch 210/500\n",
            "250/250 [==============================] - 1s 5ms/step - loss: 0.0236 - accuracy: 0.9948 - val_loss: 2.6162 - val_accuracy: 0.8135\n",
            "Epoch 211/500\n",
            "250/250 [==============================] - 1s 5ms/step - loss: 0.0179 - accuracy: 0.9949 - val_loss: 6.0066 - val_accuracy: 0.8110\n",
            "Epoch 212/500\n",
            "250/250 [==============================] - 1s 5ms/step - loss: 0.0093 - accuracy: 0.9973 - val_loss: 16.3342 - val_accuracy: 0.8075\n",
            "Epoch 213/500\n",
            "250/250 [==============================] - 1s 5ms/step - loss: 0.0145 - accuracy: 0.9965 - val_loss: 14.1571 - val_accuracy: 0.8055\n",
            "Epoch 214/500\n",
            "250/250 [==============================] - 1s 5ms/step - loss: 0.0232 - accuracy: 0.9935 - val_loss: 14.0836 - val_accuracy: 0.8150\n",
            "Epoch 215/500\n",
            "250/250 [==============================] - 1s 5ms/step - loss: 0.0125 - accuracy: 0.9964 - val_loss: 10.8745 - val_accuracy: 0.8260\n",
            "Epoch 216/500\n",
            "250/250 [==============================] - 1s 5ms/step - loss: 0.0388 - accuracy: 0.9936 - val_loss: 2.9105 - val_accuracy: 0.8160\n",
            "Epoch 217/500\n",
            "250/250 [==============================] - 1s 5ms/step - loss: 0.0118 - accuracy: 0.9975 - val_loss: 2.7143 - val_accuracy: 0.8110\n",
            "Epoch 218/500\n",
            "250/250 [==============================] - 1s 5ms/step - loss: 0.0036 - accuracy: 0.9987 - val_loss: 3.4034 - val_accuracy: 0.8235\n",
            "Epoch 219/500\n",
            "250/250 [==============================] - 1s 5ms/step - loss: 0.0062 - accuracy: 0.9987 - val_loss: 2.9940 - val_accuracy: 0.8175\n",
            "Epoch 220/500\n",
            "250/250 [==============================] - 1s 5ms/step - loss: 0.0035 - accuracy: 0.9994 - val_loss: 3.1508 - val_accuracy: 0.8230\n",
            "Epoch 221/500\n",
            "250/250 [==============================] - 1s 5ms/step - loss: 0.0093 - accuracy: 0.9987 - val_loss: 1.9611 - val_accuracy: 0.8100\n",
            "Epoch 222/500\n",
            "250/250 [==============================] - 1s 5ms/step - loss: 0.0127 - accuracy: 0.9967 - val_loss: 4.0041 - val_accuracy: 0.8170\n",
            "Epoch 223/500\n",
            "250/250 [==============================] - 1s 5ms/step - loss: 0.0181 - accuracy: 0.9960 - val_loss: 1.9525 - val_accuracy: 0.8265\n",
            "Epoch 224/500\n",
            "250/250 [==============================] - 1s 5ms/step - loss: 0.0199 - accuracy: 0.9945 - val_loss: 2.2990 - val_accuracy: 0.8150\n",
            "Epoch 225/500\n",
            "250/250 [==============================] - 1s 5ms/step - loss: 0.0072 - accuracy: 0.9980 - val_loss: 6.3941 - val_accuracy: 0.8255\n",
            "Epoch 226/500\n",
            "250/250 [==============================] - 1s 5ms/step - loss: 0.0016 - accuracy: 0.9998 - val_loss: 7.2426 - val_accuracy: 0.8235\n",
            "Epoch 227/500\n",
            "250/250 [==============================] - 1s 5ms/step - loss: 0.0031 - accuracy: 0.9994 - val_loss: 8.3442 - val_accuracy: 0.8265\n",
            "Epoch 228/500\n",
            "250/250 [==============================] - 1s 5ms/step - loss: 0.0105 - accuracy: 0.9985 - val_loss: 1.8229 - val_accuracy: 0.8180\n",
            "Epoch 229/500\n",
            "250/250 [==============================] - 1s 5ms/step - loss: 0.0070 - accuracy: 0.9984 - val_loss: 4.1263 - val_accuracy: 0.8115\n",
            "Epoch 230/500\n",
            "250/250 [==============================] - 1s 5ms/step - loss: 0.0037 - accuracy: 0.9990 - val_loss: 4.1353 - val_accuracy: 0.8205\n",
            "Epoch 231/500\n",
            "250/250 [==============================] - 1s 5ms/step - loss: 0.0288 - accuracy: 0.9921 - val_loss: 4.4880 - val_accuracy: 0.8105\n",
            "Epoch 232/500\n",
            "250/250 [==============================] - 1s 5ms/step - loss: 0.0135 - accuracy: 0.9958 - val_loss: 7.2802 - val_accuracy: 0.8165\n",
            "Epoch 233/500\n",
            "250/250 [==============================] - 1s 5ms/step - loss: 0.0229 - accuracy: 0.9950 - val_loss: 3.2581 - val_accuracy: 0.8070\n",
            "Epoch 234/500\n",
            "250/250 [==============================] - 1s 5ms/step - loss: 0.0202 - accuracy: 0.9935 - val_loss: 18.2385 - val_accuracy: 0.8130\n",
            "Epoch 235/500\n",
            "250/250 [==============================] - 1s 5ms/step - loss: 0.0278 - accuracy: 0.9919 - val_loss: 9.5335 - val_accuracy: 0.8135\n",
            "Epoch 236/500\n",
            "250/250 [==============================] - 1s 5ms/step - loss: 0.0294 - accuracy: 0.9936 - val_loss: 5.3623 - val_accuracy: 0.8130\n",
            "Epoch 237/500\n",
            "250/250 [==============================] - 1s 5ms/step - loss: 0.0216 - accuracy: 0.9941 - val_loss: 20.5469 - val_accuracy: 0.8075\n",
            "Epoch 238/500\n",
            "250/250 [==============================] - 1s 5ms/step - loss: 0.0156 - accuracy: 0.9956 - val_loss: 28.6188 - val_accuracy: 0.8135\n",
            "Epoch 239/500\n",
            "250/250 [==============================] - 1s 5ms/step - loss: 0.0160 - accuracy: 0.9958 - val_loss: 35.2935 - val_accuracy: 0.8065\n",
            "Epoch 240/500\n",
            "250/250 [==============================] - 1s 6ms/step - loss: 0.0896 - accuracy: 0.9896 - val_loss: 6.4276 - val_accuracy: 0.8120\n",
            "Epoch 241/500\n",
            "250/250 [==============================] - 1s 5ms/step - loss: 0.0115 - accuracy: 0.9962 - val_loss: 9.9056 - val_accuracy: 0.8135\n",
            "Epoch 242/500\n",
            "250/250 [==============================] - 1s 5ms/step - loss: 0.0209 - accuracy: 0.9961 - val_loss: 4.9257 - val_accuracy: 0.8115\n",
            "Epoch 243/500\n",
            "250/250 [==============================] - 1s 5ms/step - loss: 0.0287 - accuracy: 0.9952 - val_loss: 1.0377 - val_accuracy: 0.8245\n",
            "Epoch 244/500\n",
            "250/250 [==============================] - 1s 5ms/step - loss: 0.0204 - accuracy: 0.9946 - val_loss: 1.1417 - val_accuracy: 0.8175\n",
            "Epoch 245/500\n",
            "250/250 [==============================] - 1s 5ms/step - loss: 0.0085 - accuracy: 0.9981 - val_loss: 1.2862 - val_accuracy: 0.8140\n",
            "Epoch 246/500\n",
            "250/250 [==============================] - 1s 5ms/step - loss: 0.0048 - accuracy: 0.9986 - val_loss: 1.3583 - val_accuracy: 0.8205\n",
            "Epoch 247/500\n",
            "250/250 [==============================] - 1s 5ms/step - loss: 0.0023 - accuracy: 0.9995 - val_loss: 1.4712 - val_accuracy: 0.8120\n",
            "Epoch 248/500\n",
            "250/250 [==============================] - 1s 5ms/step - loss: 0.0046 - accuracy: 0.9991 - val_loss: 1.4516 - val_accuracy: 0.8050\n",
            "Epoch 249/500\n",
            "250/250 [==============================] - 1s 5ms/step - loss: 0.0074 - accuracy: 0.9984 - val_loss: 1.5310 - val_accuracy: 0.8205\n",
            "Epoch 250/500\n",
            "250/250 [==============================] - 2s 6ms/step - loss: 0.0081 - accuracy: 0.9986 - val_loss: 1.6469 - val_accuracy: 0.8190\n",
            "Epoch 251/500\n",
            "250/250 [==============================] - 1s 6ms/step - loss: 0.0094 - accuracy: 0.9976 - val_loss: 2.1723 - val_accuracy: 0.8065\n",
            "Epoch 252/500\n",
            "250/250 [==============================] - 1s 5ms/step - loss: 0.0258 - accuracy: 0.9945 - val_loss: 3.2709 - val_accuracy: 0.8120\n",
            "Epoch 253/500\n",
            "250/250 [==============================] - 1s 5ms/step - loss: 0.0183 - accuracy: 0.9949 - val_loss: 8.2084 - val_accuracy: 0.8000\n",
            "Epoch 254/500\n",
            "250/250 [==============================] - 1s 6ms/step - loss: 0.0099 - accuracy: 0.9967 - val_loss: 13.2325 - val_accuracy: 0.8130\n",
            "Epoch 255/500\n",
            "250/250 [==============================] - 1s 5ms/step - loss: 0.0043 - accuracy: 0.9987 - val_loss: 15.6092 - val_accuracy: 0.8135\n",
            "Epoch 256/500\n",
            "250/250 [==============================] - 1s 5ms/step - loss: 0.0064 - accuracy: 0.9989 - val_loss: 8.2597 - val_accuracy: 0.8015\n",
            "Epoch 257/500\n",
            "250/250 [==============================] - 1s 5ms/step - loss: 0.0069 - accuracy: 0.9980 - val_loss: 12.0493 - val_accuracy: 0.8120\n",
            "Epoch 258/500\n",
            "250/250 [==============================] - 1s 6ms/step - loss: 0.0057 - accuracy: 0.9986 - val_loss: 13.5310 - val_accuracy: 0.8060\n",
            "Epoch 259/500\n",
            "250/250 [==============================] - 1s 6ms/step - loss: 0.0056 - accuracy: 0.9985 - val_loss: 15.1410 - val_accuracy: 0.8050\n",
            "Epoch 260/500\n",
            "250/250 [==============================] - 1s 6ms/step - loss: 0.0298 - accuracy: 0.9920 - val_loss: 6.8193 - val_accuracy: 0.8145\n",
            "Epoch 261/500\n",
            "250/250 [==============================] - 1s 6ms/step - loss: 0.0219 - accuracy: 0.9930 - val_loss: 7.1022 - val_accuracy: 0.8035\n",
            "Epoch 262/500\n",
            "250/250 [==============================] - 1s 6ms/step - loss: 0.0177 - accuracy: 0.9946 - val_loss: 9.0007 - val_accuracy: 0.8100\n",
            "Epoch 263/500\n",
            "250/250 [==============================] - 1s 6ms/step - loss: 0.0148 - accuracy: 0.9960 - val_loss: 12.4435 - val_accuracy: 0.8155\n",
            "Epoch 264/500\n",
            "250/250 [==============================] - 1s 5ms/step - loss: 0.0191 - accuracy: 0.9944 - val_loss: 18.6106 - val_accuracy: 0.8165\n",
            "Epoch 265/500\n",
            "250/250 [==============================] - 1s 6ms/step - loss: 0.0217 - accuracy: 0.9945 - val_loss: 12.0754 - val_accuracy: 0.8170\n",
            "Epoch 266/500\n",
            "250/250 [==============================] - 1s 6ms/step - loss: 0.0193 - accuracy: 0.9959 - val_loss: 16.0872 - val_accuracy: 0.8140\n",
            "Epoch 267/500\n",
            "250/250 [==============================] - 1s 6ms/step - loss: 0.0132 - accuracy: 0.9961 - val_loss: 20.3406 - val_accuracy: 0.8125\n",
            "Epoch 268/500\n",
            "250/250 [==============================] - 1s 5ms/step - loss: 0.0084 - accuracy: 0.9973 - val_loss: 30.3981 - val_accuracy: 0.8165\n",
            "Epoch 269/500\n",
            "250/250 [==============================] - 1s 5ms/step - loss: 0.0185 - accuracy: 0.9956 - val_loss: 38.2230 - val_accuracy: 0.8185\n",
            "Epoch 270/500\n",
            "250/250 [==============================] - 1s 6ms/step - loss: 0.0296 - accuracy: 0.9909 - val_loss: 10.8727 - val_accuracy: 0.8255\n",
            "Epoch 271/500\n",
            "250/250 [==============================] - 1s 5ms/step - loss: 0.0144 - accuracy: 0.9960 - val_loss: 11.6272 - val_accuracy: 0.8150\n",
            "Epoch 272/500\n",
            "250/250 [==============================] - 1s 6ms/step - loss: 0.0108 - accuracy: 0.9974 - val_loss: 17.6556 - val_accuracy: 0.8220\n",
            "Epoch 273/500\n",
            "250/250 [==============================] - 1s 6ms/step - loss: 0.0036 - accuracy: 0.9989 - val_loss: 16.3060 - val_accuracy: 0.8175\n",
            "Epoch 274/500\n",
            "250/250 [==============================] - 1s 6ms/step - loss: 0.0071 - accuracy: 0.9985 - val_loss: 17.6076 - val_accuracy: 0.8245\n",
            "Epoch 275/500\n",
            "250/250 [==============================] - 1s 5ms/step - loss: 0.0016 - accuracy: 0.9995 - val_loss: 21.4724 - val_accuracy: 0.8175\n",
            "Epoch 276/500\n",
            "250/250 [==============================] - 1s 6ms/step - loss: 7.1943e-04 - accuracy: 0.9998 - val_loss: 23.0688 - val_accuracy: 0.8210\n",
            "Epoch 277/500\n",
            "250/250 [==============================] - 1s 6ms/step - loss: 6.7204e-04 - accuracy: 0.9996 - val_loss: 23.9506 - val_accuracy: 0.8245\n",
            "Epoch 278/500\n",
            "250/250 [==============================] - 1s 5ms/step - loss: 8.7664e-04 - accuracy: 0.9999 - val_loss: 24.5467 - val_accuracy: 0.8195\n",
            "Epoch 279/500\n",
            "250/250 [==============================] - 1s 5ms/step - loss: 7.3795e-04 - accuracy: 0.9998 - val_loss: 25.9615 - val_accuracy: 0.8225\n",
            "Epoch 280/500\n",
            "250/250 [==============================] - 1s 6ms/step - loss: 0.0435 - accuracy: 0.9940 - val_loss: 1.5845 - val_accuracy: 0.8040\n",
            "Epoch 281/500\n",
            "250/250 [==============================] - 1s 6ms/step - loss: 0.0286 - accuracy: 0.9909 - val_loss: 5.8236 - val_accuracy: 0.7980\n",
            "Epoch 282/500\n",
            "250/250 [==============================] - 1s 5ms/step - loss: 0.0310 - accuracy: 0.9937 - val_loss: 12.3837 - val_accuracy: 0.8120\n",
            "Epoch 283/500\n",
            "250/250 [==============================] - 1s 6ms/step - loss: 0.0129 - accuracy: 0.9961 - val_loss: 12.8000 - val_accuracy: 0.8045\n",
            "Epoch 284/500\n",
            "250/250 [==============================] - 1s 5ms/step - loss: 0.0055 - accuracy: 0.9983 - val_loss: 15.5984 - val_accuracy: 0.8175\n",
            "Epoch 285/500\n",
            "250/250 [==============================] - 1s 6ms/step - loss: 0.0226 - accuracy: 0.9950 - val_loss: 6.9990 - val_accuracy: 0.8225\n",
            "Epoch 286/500\n",
            "250/250 [==============================] - 1s 6ms/step - loss: 0.0238 - accuracy: 0.9961 - val_loss: 5.1409 - val_accuracy: 0.8235\n",
            "Epoch 287/500\n",
            "250/250 [==============================] - 1s 5ms/step - loss: 0.0142 - accuracy: 0.9974 - val_loss: 8.1664 - val_accuracy: 0.8165\n",
            "Epoch 288/500\n",
            "250/250 [==============================] - 1s 6ms/step - loss: 0.0237 - accuracy: 0.9965 - val_loss: 5.3194 - val_accuracy: 0.8265\n",
            "Epoch 289/500\n",
            "250/250 [==============================] - 1s 6ms/step - loss: 0.0270 - accuracy: 0.9960 - val_loss: 2.8264 - val_accuracy: 0.8130\n",
            "Epoch 290/500\n",
            "250/250 [==============================] - 1s 6ms/step - loss: 0.0256 - accuracy: 0.9926 - val_loss: 2.6023 - val_accuracy: 0.8150\n",
            "Epoch 291/500\n",
            "250/250 [==============================] - 1s 6ms/step - loss: 0.0076 - accuracy: 0.9984 - val_loss: 3.4676 - val_accuracy: 0.8090\n",
            "Epoch 292/500\n",
            "250/250 [==============================] - 1s 6ms/step - loss: 0.0036 - accuracy: 0.9995 - val_loss: 4.7412 - val_accuracy: 0.8105\n",
            "Epoch 293/500\n",
            "250/250 [==============================] - 2s 6ms/step - loss: 7.3045e-04 - accuracy: 0.9998 - val_loss: 4.6858 - val_accuracy: 0.8055\n",
            "Epoch 294/500\n",
            "250/250 [==============================] - 1s 6ms/step - loss: 0.0093 - accuracy: 0.9981 - val_loss: 4.6655 - val_accuracy: 0.8015\n",
            "Epoch 295/500\n",
            "250/250 [==============================] - 1s 6ms/step - loss: 0.0087 - accuracy: 0.9983 - val_loss: 3.3862 - val_accuracy: 0.8085\n",
            "Epoch 296/500\n",
            "250/250 [==============================] - 1s 6ms/step - loss: 0.0089 - accuracy: 0.9974 - val_loss: 5.9436 - val_accuracy: 0.8150\n",
            "Epoch 297/500\n",
            "250/250 [==============================] - 1s 6ms/step - loss: 0.0104 - accuracy: 0.9975 - val_loss: 6.2015 - val_accuracy: 0.8095\n",
            "Epoch 298/500\n",
            "250/250 [==============================] - 1s 6ms/step - loss: 0.0274 - accuracy: 0.9929 - val_loss: 11.9656 - val_accuracy: 0.8100\n",
            "Epoch 299/500\n",
            "250/250 [==============================] - 1s 6ms/step - loss: 0.1248 - accuracy: 0.9801 - val_loss: 7.0507 - val_accuracy: 0.8090\n",
            "Epoch 300/500\n",
            "250/250 [==============================] - 1s 6ms/step - loss: 0.0234 - accuracy: 0.9923 - val_loss: 9.7136 - val_accuracy: 0.8110\n",
            "Epoch 301/500\n",
            "250/250 [==============================] - 1s 5ms/step - loss: 0.0095 - accuracy: 0.9977 - val_loss: 8.6877 - val_accuracy: 0.8095\n",
            "Epoch 302/500\n",
            "250/250 [==============================] - 1s 6ms/step - loss: 0.0085 - accuracy: 0.9983 - val_loss: 8.0399 - val_accuracy: 0.8145\n",
            "Epoch 303/500\n",
            "250/250 [==============================] - 1s 6ms/step - loss: 0.0114 - accuracy: 0.9962 - val_loss: 6.9056 - val_accuracy: 0.8150\n",
            "Epoch 304/500\n",
            "250/250 [==============================] - 1s 5ms/step - loss: 0.0105 - accuracy: 0.9974 - val_loss: 9.1320 - val_accuracy: 0.8150\n",
            "Epoch 305/500\n",
            "250/250 [==============================] - 1s 6ms/step - loss: 0.0053 - accuracy: 0.9986 - val_loss: 8.3251 - val_accuracy: 0.8100\n",
            "Epoch 306/500\n",
            "250/250 [==============================] - 1s 5ms/step - loss: 0.0044 - accuracy: 0.9990 - val_loss: 9.4377 - val_accuracy: 0.8150\n",
            "Epoch 307/500\n",
            "250/250 [==============================] - 1s 6ms/step - loss: 0.0055 - accuracy: 0.9991 - val_loss: 10.2059 - val_accuracy: 0.8170\n",
            "Epoch 308/500\n",
            "250/250 [==============================] - 1s 6ms/step - loss: 0.0219 - accuracy: 0.9995 - val_loss: 6.9724 - val_accuracy: 0.8080\n",
            "Epoch 309/500\n",
            "250/250 [==============================] - 1s 5ms/step - loss: 0.0272 - accuracy: 0.9930 - val_loss: 7.5271 - val_accuracy: 0.8185\n",
            "Epoch 310/500\n",
            "250/250 [==============================] - 1s 6ms/step - loss: 0.0149 - accuracy: 0.9970 - val_loss: 8.8920 - val_accuracy: 0.8200\n",
            "Epoch 311/500\n",
            "250/250 [==============================] - 1s 6ms/step - loss: 0.0427 - accuracy: 0.9945 - val_loss: 8.6417 - val_accuracy: 0.8095\n",
            "Epoch 312/500\n",
            "250/250 [==============================] - 1s 6ms/step - loss: 0.0241 - accuracy: 0.9933 - val_loss: 15.2391 - val_accuracy: 0.8145\n",
            "Epoch 313/500\n",
            "250/250 [==============================] - 1s 6ms/step - loss: 0.0196 - accuracy: 0.9960 - val_loss: 4.8112 - val_accuracy: 0.8225\n",
            "Epoch 314/500\n",
            "250/250 [==============================] - 1s 6ms/step - loss: 0.0191 - accuracy: 0.9954 - val_loss: 7.5618 - val_accuracy: 0.8180\n",
            "Epoch 315/500\n",
            "250/250 [==============================] - 1s 6ms/step - loss: 0.0325 - accuracy: 0.9927 - val_loss: 3.5680 - val_accuracy: 0.8145\n",
            "Epoch 316/500\n",
            "250/250 [==============================] - 1s 6ms/step - loss: 0.0116 - accuracy: 0.9966 - val_loss: 3.8592 - val_accuracy: 0.8125\n",
            "Epoch 317/500\n",
            "250/250 [==============================] - 1s 6ms/step - loss: 0.0110 - accuracy: 0.9977 - val_loss: 4.3715 - val_accuracy: 0.8225\n",
            "Epoch 318/500\n",
            "250/250 [==============================] - 1s 6ms/step - loss: 0.0212 - accuracy: 0.9942 - val_loss: 3.8520 - val_accuracy: 0.8145\n",
            "Epoch 319/500\n",
            "250/250 [==============================] - 1s 6ms/step - loss: 0.0146 - accuracy: 0.9965 - val_loss: 4.0518 - val_accuracy: 0.8230\n",
            "Epoch 320/500\n",
            "250/250 [==============================] - 1s 5ms/step - loss: 0.0075 - accuracy: 0.9981 - val_loss: 5.2663 - val_accuracy: 0.8150\n",
            "Epoch 321/500\n",
            "250/250 [==============================] - 1s 6ms/step - loss: 0.0073 - accuracy: 0.9985 - val_loss: 3.8220 - val_accuracy: 0.8155\n",
            "Epoch 322/500\n",
            "250/250 [==============================] - 1s 6ms/step - loss: 0.0359 - accuracy: 0.9942 - val_loss: 3.7006 - val_accuracy: 0.8090\n",
            "Epoch 323/500\n",
            "250/250 [==============================] - 1s 6ms/step - loss: 0.0107 - accuracy: 0.9973 - val_loss: 3.6174 - val_accuracy: 0.8115\n",
            "Epoch 324/500\n",
            "250/250 [==============================] - 1s 6ms/step - loss: 0.0074 - accuracy: 0.9983 - val_loss: 4.1695 - val_accuracy: 0.8170\n",
            "Epoch 325/500\n",
            "250/250 [==============================] - 1s 6ms/step - loss: 0.0071 - accuracy: 0.9983 - val_loss: 2.6475 - val_accuracy: 0.8000\n",
            "Epoch 326/500\n",
            "250/250 [==============================] - 1s 5ms/step - loss: 0.0260 - accuracy: 0.9931 - val_loss: 5.2390 - val_accuracy: 0.8120\n",
            "Epoch 327/500\n",
            "250/250 [==============================] - 1s 6ms/step - loss: 0.0124 - accuracy: 0.9958 - val_loss: 4.8977 - val_accuracy: 0.8105\n",
            "Epoch 328/500\n",
            "250/250 [==============================] - 1s 6ms/step - loss: 0.0113 - accuracy: 0.9969 - val_loss: 4.7082 - val_accuracy: 0.8115\n",
            "Epoch 329/500\n",
            "250/250 [==============================] - 1s 5ms/step - loss: 0.0069 - accuracy: 0.9984 - val_loss: 5.6862 - val_accuracy: 0.8235\n",
            "Epoch 330/500\n",
            "250/250 [==============================] - 1s 6ms/step - loss: 0.0078 - accuracy: 0.9985 - val_loss: 5.8418 - val_accuracy: 0.8230\n",
            "Epoch 331/500\n",
            "250/250 [==============================] - 1s 5ms/step - loss: 0.0190 - accuracy: 0.9959 - val_loss: 3.4017 - val_accuracy: 0.8120\n",
            "Epoch 332/500\n",
            "250/250 [==============================] - 1s 5ms/step - loss: 0.0212 - accuracy: 0.9952 - val_loss: 5.0049 - val_accuracy: 0.8100\n",
            "Epoch 333/500\n",
            "250/250 [==============================] - 1s 6ms/step - loss: 0.0183 - accuracy: 0.9955 - val_loss: 5.2053 - val_accuracy: 0.8120\n",
            "Epoch 334/500\n",
            "250/250 [==============================] - 1s 5ms/step - loss: 0.0091 - accuracy: 0.9973 - val_loss: 6.8198 - val_accuracy: 0.8135\n",
            "Epoch 335/500\n",
            "250/250 [==============================] - 1s 6ms/step - loss: 0.0042 - accuracy: 0.9987 - val_loss: 7.5130 - val_accuracy: 0.8120\n",
            "Epoch 336/500\n",
            "250/250 [==============================] - 2s 6ms/step - loss: 0.0127 - accuracy: 0.9983 - val_loss: 4.3543 - val_accuracy: 0.8095\n",
            "Epoch 337/500\n",
            "250/250 [==============================] - 1s 6ms/step - loss: 0.0198 - accuracy: 0.9948 - val_loss: 6.1543 - val_accuracy: 0.8120\n",
            "Epoch 338/500\n",
            "250/250 [==============================] - 1s 5ms/step - loss: 0.0111 - accuracy: 0.9977 - val_loss: 7.2878 - val_accuracy: 0.8030\n",
            "Epoch 339/500\n",
            "250/250 [==============================] - 1s 5ms/step - loss: 0.0065 - accuracy: 0.9986 - val_loss: 9.7105 - val_accuracy: 0.8200\n",
            "Epoch 340/500\n",
            "250/250 [==============================] - 1s 5ms/step - loss: 0.0349 - accuracy: 0.9940 - val_loss: 3.0210 - val_accuracy: 0.8130\n",
            "Epoch 341/500\n",
            "250/250 [==============================] - 1s 5ms/step - loss: 0.0393 - accuracy: 0.9902 - val_loss: 4.9379 - val_accuracy: 0.8130\n",
            "Epoch 342/500\n",
            "250/250 [==============================] - 1s 5ms/step - loss: 0.0165 - accuracy: 0.9960 - val_loss: 5.5064 - val_accuracy: 0.8150\n",
            "Epoch 343/500\n",
            "250/250 [==============================] - 1s 6ms/step - loss: 0.0185 - accuracy: 0.9961 - val_loss: 6.9060 - val_accuracy: 0.8085\n",
            "Epoch 344/500\n",
            "250/250 [==============================] - 1s 5ms/step - loss: 0.0194 - accuracy: 0.9948 - val_loss: 7.0518 - val_accuracy: 0.8135\n",
            "Epoch 345/500\n",
            "250/250 [==============================] - 1s 5ms/step - loss: 0.0135 - accuracy: 0.9976 - val_loss: 5.8613 - val_accuracy: 0.8125\n",
            "Epoch 346/500\n",
            "250/250 [==============================] - 1s 5ms/step - loss: 0.0736 - accuracy: 0.9942 - val_loss: 7.6501 - val_accuracy: 0.8195\n",
            "Epoch 347/500\n",
            "250/250 [==============================] - 1s 5ms/step - loss: 0.0176 - accuracy: 0.9961 - val_loss: 7.4077 - val_accuracy: 0.8080\n",
            "Epoch 348/500\n",
            "250/250 [==============================] - 1s 5ms/step - loss: 0.0116 - accuracy: 0.9976 - val_loss: 7.6536 - val_accuracy: 0.8120\n",
            "Epoch 349/500\n",
            "250/250 [==============================] - 1s 5ms/step - loss: 0.0084 - accuracy: 0.9981 - val_loss: 10.2913 - val_accuracy: 0.8060\n",
            "Epoch 350/500\n",
            "250/250 [==============================] - 1s 5ms/step - loss: 0.0038 - accuracy: 0.9994 - val_loss: 11.5354 - val_accuracy: 0.8115\n",
            "Epoch 351/500\n",
            "250/250 [==============================] - 1s 5ms/step - loss: 0.0072 - accuracy: 0.9986 - val_loss: 10.3436 - val_accuracy: 0.8200\n",
            "Epoch 352/500\n",
            "250/250 [==============================] - 1s 6ms/step - loss: 0.0114 - accuracy: 0.9970 - val_loss: 12.7384 - val_accuracy: 0.8135\n",
            "Epoch 353/500\n",
            "250/250 [==============================] - 1s 5ms/step - loss: 0.0087 - accuracy: 0.9981 - val_loss: 15.5017 - val_accuracy: 0.8115\n",
            "Epoch 354/500\n",
            "250/250 [==============================] - 1s 5ms/step - loss: 0.0060 - accuracy: 0.9983 - val_loss: 22.4188 - val_accuracy: 0.8200\n",
            "Epoch 355/500\n",
            "250/250 [==============================] - 1s 5ms/step - loss: 0.1553 - accuracy: 0.9930 - val_loss: 1.6299 - val_accuracy: 0.8070\n",
            "Epoch 356/500\n",
            "250/250 [==============================] - 1s 5ms/step - loss: 0.0200 - accuracy: 0.9954 - val_loss: 3.8492 - val_accuracy: 0.8140\n",
            "Epoch 357/500\n",
            "250/250 [==============================] - 1s 6ms/step - loss: 0.0122 - accuracy: 0.9990 - val_loss: 3.2136 - val_accuracy: 0.8000\n",
            "Epoch 358/500\n",
            "250/250 [==============================] - 1s 6ms/step - loss: 0.0036 - accuracy: 0.9994 - val_loss: 4.0286 - val_accuracy: 0.8125\n",
            "Epoch 359/500\n",
            "250/250 [==============================] - 1s 5ms/step - loss: 0.0162 - accuracy: 0.9967 - val_loss: 1.1868 - val_accuracy: 0.8205\n",
            "Epoch 360/500\n",
            "250/250 [==============================] - 1s 6ms/step - loss: 0.0123 - accuracy: 0.9971 - val_loss: 1.7383 - val_accuracy: 0.8205\n",
            "Epoch 361/500\n",
            "250/250 [==============================] - 1s 5ms/step - loss: 0.0129 - accuracy: 0.9980 - val_loss: 2.0004 - val_accuracy: 0.8155\n",
            "Epoch 362/500\n",
            "250/250 [==============================] - 1s 6ms/step - loss: 0.0083 - accuracy: 0.9990 - val_loss: 1.4502 - val_accuracy: 0.8145\n",
            "Epoch 363/500\n",
            "250/250 [==============================] - 1s 6ms/step - loss: 0.0171 - accuracy: 0.9965 - val_loss: 1.4896 - val_accuracy: 0.8245\n",
            "Epoch 364/500\n",
            "250/250 [==============================] - 1s 6ms/step - loss: 0.0077 - accuracy: 0.9985 - val_loss: 1.8143 - val_accuracy: 0.8125\n",
            "Epoch 365/500\n",
            "250/250 [==============================] - 1s 5ms/step - loss: 0.0134 - accuracy: 0.9974 - val_loss: 1.3586 - val_accuracy: 0.8150\n",
            "Epoch 366/500\n",
            "250/250 [==============================] - 1s 6ms/step - loss: 0.0075 - accuracy: 0.9981 - val_loss: 1.8772 - val_accuracy: 0.8105\n",
            "Epoch 367/500\n",
            "250/250 [==============================] - 1s 6ms/step - loss: 0.0100 - accuracy: 0.9977 - val_loss: 1.4827 - val_accuracy: 0.8170\n",
            "Epoch 368/500\n",
            "250/250 [==============================] - 1s 6ms/step - loss: 0.0051 - accuracy: 0.9989 - val_loss: 1.7181 - val_accuracy: 0.8165\n",
            "Epoch 369/500\n",
            "250/250 [==============================] - 1s 6ms/step - loss: 0.0088 - accuracy: 0.9985 - val_loss: 2.9091 - val_accuracy: 0.8195\n",
            "Epoch 370/500\n",
            "250/250 [==============================] - 1s 6ms/step - loss: 0.1549 - accuracy: 0.9909 - val_loss: 1.3585 - val_accuracy: 0.8065\n",
            "Epoch 371/500\n",
            "250/250 [==============================] - 1s 6ms/step - loss: 0.0209 - accuracy: 0.9955 - val_loss: 2.4061 - val_accuracy: 0.8150\n",
            "Epoch 372/500\n",
            "250/250 [==============================] - 1s 6ms/step - loss: 0.0139 - accuracy: 0.9991 - val_loss: 2.2560 - val_accuracy: 0.8120\n",
            "Epoch 373/500\n",
            "250/250 [==============================] - 1s 6ms/step - loss: 0.0047 - accuracy: 0.9990 - val_loss: 2.7949 - val_accuracy: 0.8145\n",
            "Epoch 374/500\n",
            "250/250 [==============================] - 1s 6ms/step - loss: 0.0136 - accuracy: 0.9975 - val_loss: 1.2591 - val_accuracy: 0.8190\n",
            "Epoch 375/500\n",
            "250/250 [==============================] - 1s 5ms/step - loss: 0.0273 - accuracy: 0.9929 - val_loss: 2.2119 - val_accuracy: 0.8145\n",
            "Epoch 376/500\n",
            "250/250 [==============================] - 1s 5ms/step - loss: 0.0263 - accuracy: 0.9936 - val_loss: 2.1414 - val_accuracy: 0.8115\n",
            "Epoch 377/500\n",
            "250/250 [==============================] - 1s 5ms/step - loss: 0.0093 - accuracy: 0.9984 - val_loss: 3.9718 - val_accuracy: 0.8050\n",
            "Epoch 378/500\n",
            "250/250 [==============================] - 1s 5ms/step - loss: 0.0051 - accuracy: 0.9991 - val_loss: 6.5735 - val_accuracy: 0.8135\n",
            "Epoch 379/500\n",
            "250/250 [==============================] - 2s 6ms/step - loss: 0.0070 - accuracy: 0.9992 - val_loss: 2.6978 - val_accuracy: 0.8095\n",
            "Epoch 380/500\n",
            "250/250 [==============================] - 2s 6ms/step - loss: 0.0191 - accuracy: 0.9962 - val_loss: 2.0854 - val_accuracy: 0.8075\n",
            "Epoch 381/500\n",
            "250/250 [==============================] - 1s 6ms/step - loss: 0.0119 - accuracy: 0.9964 - val_loss: 3.6490 - val_accuracy: 0.8190\n",
            "Epoch 382/500\n",
            "250/250 [==============================] - 1s 6ms/step - loss: 0.0144 - accuracy: 0.9964 - val_loss: 2.7914 - val_accuracy: 0.7925\n",
            "Epoch 383/500\n",
            "250/250 [==============================] - 1s 6ms/step - loss: 0.0086 - accuracy: 0.9977 - val_loss: 4.1059 - val_accuracy: 0.8130\n",
            "Epoch 384/500\n",
            "250/250 [==============================] - 1s 6ms/step - loss: 0.0035 - accuracy: 0.9992 - val_loss: 5.4742 - val_accuracy: 0.8205\n",
            "Epoch 385/500\n",
            "250/250 [==============================] - 2s 6ms/step - loss: 0.0085 - accuracy: 0.9981 - val_loss: 3.2502 - val_accuracy: 0.8000\n",
            "Epoch 386/500\n",
            "250/250 [==============================] - 1s 6ms/step - loss: 0.0115 - accuracy: 0.9976 - val_loss: 3.6052 - val_accuracy: 0.8120\n",
            "Epoch 387/500\n",
            "250/250 [==============================] - 1s 6ms/step - loss: 0.0127 - accuracy: 0.9984 - val_loss: 2.5055 - val_accuracy: 0.8195\n",
            "Epoch 388/500\n",
            "250/250 [==============================] - 1s 6ms/step - loss: 0.0214 - accuracy: 0.9948 - val_loss: 2.3580 - val_accuracy: 0.8190\n",
            "Epoch 389/500\n",
            "250/250 [==============================] - 1s 5ms/step - loss: 0.0062 - accuracy: 0.9990 - val_loss: 2.3617 - val_accuracy: 0.8275\n",
            "Epoch 390/500\n",
            "250/250 [==============================] - 1s 5ms/step - loss: 0.0051 - accuracy: 0.9994 - val_loss: 2.5535 - val_accuracy: 0.8245\n",
            "Epoch 391/500\n",
            "250/250 [==============================] - 1s 5ms/step - loss: 0.0035 - accuracy: 0.9995 - val_loss: 3.1683 - val_accuracy: 0.8235\n",
            "Epoch 392/500\n",
            "250/250 [==============================] - 1s 5ms/step - loss: 0.0149 - accuracy: 0.9977 - val_loss: 1.4115 - val_accuracy: 0.8235\n",
            "Epoch 393/500\n",
            "250/250 [==============================] - 1s 5ms/step - loss: 0.0262 - accuracy: 0.9936 - val_loss: 1.3060 - val_accuracy: 0.7930\n",
            "Epoch 394/500\n",
            "250/250 [==============================] - 1s 5ms/step - loss: 0.0149 - accuracy: 0.9954 - val_loss: 1.7306 - val_accuracy: 0.8160\n",
            "Epoch 395/500\n",
            "250/250 [==============================] - 1s 5ms/step - loss: 0.0181 - accuracy: 0.9970 - val_loss: 1.2415 - val_accuracy: 0.8035\n",
            "Epoch 396/500\n",
            "250/250 [==============================] - 1s 5ms/step - loss: 0.0143 - accuracy: 0.9967 - val_loss: 2.2631 - val_accuracy: 0.8165\n",
            "Epoch 397/500\n",
            "250/250 [==============================] - 1s 5ms/step - loss: 0.0187 - accuracy: 0.9956 - val_loss: 2.1920 - val_accuracy: 0.8080\n",
            "Epoch 398/500\n",
            "250/250 [==============================] - 1s 5ms/step - loss: 0.0117 - accuracy: 0.9975 - val_loss: 2.8985 - val_accuracy: 0.8210\n",
            "Epoch 399/500\n",
            "250/250 [==============================] - 1s 5ms/step - loss: 0.0047 - accuracy: 0.9989 - val_loss: 3.2041 - val_accuracy: 0.8100\n",
            "Epoch 400/500\n",
            "250/250 [==============================] - 1s 6ms/step - loss: 0.0247 - accuracy: 0.9944 - val_loss: 4.6619 - val_accuracy: 0.8145\n",
            "Epoch 401/500\n",
            "250/250 [==============================] - 1s 6ms/step - loss: 0.0096 - accuracy: 0.9979 - val_loss: 2.4512 - val_accuracy: 0.8130\n",
            "Epoch 402/500\n",
            "250/250 [==============================] - 2s 6ms/step - loss: 0.0518 - accuracy: 0.9916 - val_loss: 2.9007 - val_accuracy: 0.8205\n",
            "Epoch 403/500\n",
            "250/250 [==============================] - 2s 6ms/step - loss: 0.0481 - accuracy: 0.9902 - val_loss: 1.7010 - val_accuracy: 0.8050\n",
            "Epoch 404/500\n",
            "250/250 [==============================] - 2s 6ms/step - loss: 0.0421 - accuracy: 0.9899 - val_loss: 1.2437 - val_accuracy: 0.8165\n",
            "Epoch 405/500\n",
            "250/250 [==============================] - 2s 6ms/step - loss: 0.0290 - accuracy: 0.9937 - val_loss: 1.4251 - val_accuracy: 0.8170\n",
            "Epoch 406/500\n",
            "250/250 [==============================] - 2s 6ms/step - loss: 0.0184 - accuracy: 0.9967 - val_loss: 1.2801 - val_accuracy: 0.8195\n",
            "Epoch 407/500\n",
            "250/250 [==============================] - 2s 6ms/step - loss: 0.0090 - accuracy: 0.9986 - val_loss: 1.8075 - val_accuracy: 0.8215\n",
            "Epoch 408/500\n",
            "250/250 [==============================] - 2s 6ms/step - loss: 0.0094 - accuracy: 0.9986 - val_loss: 1.5115 - val_accuracy: 0.8225\n",
            "Epoch 409/500\n",
            "250/250 [==============================] - 2s 6ms/step - loss: 0.0111 - accuracy: 0.9981 - val_loss: 1.5608 - val_accuracy: 0.8245\n",
            "Epoch 410/500\n",
            "250/250 [==============================] - 1s 6ms/step - loss: 0.0082 - accuracy: 0.9986 - val_loss: 1.7229 - val_accuracy: 0.8230\n",
            "Epoch 411/500\n",
            "250/250 [==============================] - 2s 6ms/step - loss: 0.0058 - accuracy: 0.9992 - val_loss: 1.9731 - val_accuracy: 0.8170\n",
            "Epoch 412/500\n",
            "250/250 [==============================] - 1s 6ms/step - loss: 0.0060 - accuracy: 0.9990 - val_loss: 1.8220 - val_accuracy: 0.8200\n",
            "Epoch 413/500\n",
            "250/250 [==============================] - 2s 6ms/step - loss: 0.0048 - accuracy: 0.9994 - val_loss: 1.9929 - val_accuracy: 0.8120\n",
            "Epoch 414/500\n",
            "250/250 [==============================] - 2s 6ms/step - loss: 0.0044 - accuracy: 0.9995 - val_loss: 2.1146 - val_accuracy: 0.8155\n",
            "Epoch 415/500\n",
            "250/250 [==============================] - 2s 6ms/step - loss: 0.0043 - accuracy: 0.9995 - val_loss: 2.2559 - val_accuracy: 0.8150\n",
            "Epoch 416/500\n",
            "250/250 [==============================] - 1s 6ms/step - loss: 0.0043 - accuracy: 0.9995 - val_loss: 2.6473 - val_accuracy: 0.8170\n",
            "Epoch 417/500\n",
            "250/250 [==============================] - 2s 6ms/step - loss: 0.0043 - accuracy: 0.9995 - val_loss: 3.0612 - val_accuracy: 0.8145\n",
            "Epoch 418/500\n",
            "250/250 [==============================] - 1s 6ms/step - loss: 0.0042 - accuracy: 0.9995 - val_loss: 3.3633 - val_accuracy: 0.8170\n",
            "Epoch 419/500\n",
            "250/250 [==============================] - 2s 6ms/step - loss: 0.0042 - accuracy: 0.9995 - val_loss: 3.5910 - val_accuracy: 0.8185\n",
            "Epoch 420/500\n",
            "250/250 [==============================] - 2s 7ms/step - loss: 0.0042 - accuracy: 0.9995 - val_loss: 4.0995 - val_accuracy: 0.8165\n",
            "Epoch 421/500\n",
            "250/250 [==============================] - 2s 6ms/step - loss: 0.0097 - accuracy: 0.9986 - val_loss: 2.3082 - val_accuracy: 0.7995\n",
            "Epoch 422/500\n",
            "250/250 [==============================] - 1s 6ms/step - loss: 0.0930 - accuracy: 0.9735 - val_loss: 1.1810 - val_accuracy: 0.8185\n",
            "Epoch 423/500\n",
            "250/250 [==============================] - 1s 6ms/step - loss: 0.0336 - accuracy: 0.9914 - val_loss: 1.6671 - val_accuracy: 0.8175\n",
            "Epoch 424/500\n",
            "250/250 [==============================] - 1s 6ms/step - loss: 0.0176 - accuracy: 0.9964 - val_loss: 1.4212 - val_accuracy: 0.8160\n",
            "Epoch 425/500\n",
            "250/250 [==============================] - 1s 6ms/step - loss: 0.0115 - accuracy: 0.9974 - val_loss: 2.0082 - val_accuracy: 0.8110\n",
            "Epoch 426/500\n",
            "250/250 [==============================] - 1s 6ms/step - loss: 0.0074 - accuracy: 0.9987 - val_loss: 1.8507 - val_accuracy: 0.8145\n",
            "Epoch 427/500\n",
            "250/250 [==============================] - 1s 6ms/step - loss: 0.0141 - accuracy: 0.9976 - val_loss: 1.6908 - val_accuracy: 0.8115\n",
            "Epoch 428/500\n",
            "250/250 [==============================] - 1s 6ms/step - loss: 0.0086 - accuracy: 0.9990 - val_loss: 1.3034 - val_accuracy: 0.8140\n",
            "Epoch 429/500\n",
            "250/250 [==============================] - 1s 6ms/step - loss: 0.0059 - accuracy: 0.9994 - val_loss: 1.7686 - val_accuracy: 0.8120\n",
            "Epoch 430/500\n",
            "250/250 [==============================] - 1s 6ms/step - loss: 0.0058 - accuracy: 0.9992 - val_loss: 1.8320 - val_accuracy: 0.8125\n",
            "Epoch 431/500\n",
            "250/250 [==============================] - 1s 6ms/step - loss: 0.0052 - accuracy: 0.9994 - val_loss: 1.8688 - val_accuracy: 0.8130\n",
            "Epoch 432/500\n",
            "250/250 [==============================] - 1s 6ms/step - loss: 0.0052 - accuracy: 0.9994 - val_loss: 1.9392 - val_accuracy: 0.8145\n",
            "Epoch 433/500\n",
            "250/250 [==============================] - 2s 6ms/step - loss: 0.0052 - accuracy: 0.9994 - val_loss: 1.9990 - val_accuracy: 0.8150\n",
            "Epoch 434/500\n",
            "250/250 [==============================] - 2s 6ms/step - loss: 0.0052 - accuracy: 0.9994 - val_loss: 2.0449 - val_accuracy: 0.8145\n",
            "Epoch 435/500\n",
            "250/250 [==============================] - 2s 6ms/step - loss: 0.0051 - accuracy: 0.9994 - val_loss: 2.1110 - val_accuracy: 0.8165\n",
            "Epoch 436/500\n",
            "250/250 [==============================] - 1s 6ms/step - loss: 0.0052 - accuracy: 0.9994 - val_loss: 2.1603 - val_accuracy: 0.8160\n",
            "Epoch 437/500\n",
            "250/250 [==============================] - 1s 6ms/step - loss: 0.0052 - accuracy: 0.9994 - val_loss: 2.1488 - val_accuracy: 0.8140\n",
            "Epoch 438/500\n",
            "250/250 [==============================] - 1s 6ms/step - loss: 0.0051 - accuracy: 0.9994 - val_loss: 2.2832 - val_accuracy: 0.8135\n",
            "Epoch 439/500\n",
            "250/250 [==============================] - 2s 6ms/step - loss: 0.0051 - accuracy: 0.9994 - val_loss: 2.5196 - val_accuracy: 0.8120\n",
            "Epoch 440/500\n",
            "250/250 [==============================] - 2s 6ms/step - loss: 0.0052 - accuracy: 0.9994 - val_loss: 2.7004 - val_accuracy: 0.8090\n",
            "Epoch 441/500\n",
            "250/250 [==============================] - 2s 6ms/step - loss: 0.0051 - accuracy: 0.9994 - val_loss: 2.8813 - val_accuracy: 0.8070\n",
            "Epoch 442/500\n",
            "250/250 [==============================] - 2s 6ms/step - loss: 0.0155 - accuracy: 0.9979 - val_loss: 1.9595 - val_accuracy: 0.8060\n",
            "Epoch 443/500\n",
            "250/250 [==============================] - 1s 6ms/step - loss: 0.0678 - accuracy: 0.9778 - val_loss: 1.1046 - val_accuracy: 0.8155\n",
            "Epoch 444/500\n",
            "250/250 [==============================] - 1s 6ms/step - loss: 0.0214 - accuracy: 0.9941 - val_loss: 1.4666 - val_accuracy: 0.8170\n",
            "Epoch 445/500\n",
            "250/250 [==============================] - 1s 6ms/step - loss: 0.0168 - accuracy: 0.9959 - val_loss: 2.1656 - val_accuracy: 0.8185\n",
            "Epoch 446/500\n",
            "250/250 [==============================] - 1s 6ms/step - loss: 0.0578 - accuracy: 0.9951 - val_loss: 1.6391 - val_accuracy: 0.8185\n",
            "Epoch 447/500\n",
            "250/250 [==============================] - 1s 6ms/step - loss: 0.0124 - accuracy: 0.9966 - val_loss: 1.8668 - val_accuracy: 0.8205\n",
            "Epoch 448/500\n",
            "250/250 [==============================] - 1s 6ms/step - loss: 0.0091 - accuracy: 0.9986 - val_loss: 1.9167 - val_accuracy: 0.8230\n",
            "Epoch 449/500\n",
            "250/250 [==============================] - 1s 6ms/step - loss: 0.0052 - accuracy: 0.9990 - val_loss: 2.1068 - val_accuracy: 0.8120\n",
            "Epoch 450/500\n",
            "250/250 [==============================] - 1s 6ms/step - loss: 0.0058 - accuracy: 0.9990 - val_loss: 1.9214 - val_accuracy: 0.8285\n",
            "Epoch 451/500\n",
            "250/250 [==============================] - 1s 6ms/step - loss: 0.0108 - accuracy: 0.9983 - val_loss: 1.7645 - val_accuracy: 0.8240\n",
            "Epoch 452/500\n",
            "250/250 [==============================] - 1s 6ms/step - loss: 0.0196 - accuracy: 0.9966 - val_loss: 1.9351 - val_accuracy: 0.8125\n",
            "Epoch 453/500\n",
            "250/250 [==============================] - 1s 6ms/step - loss: 0.0248 - accuracy: 0.9944 - val_loss: 1.2815 - val_accuracy: 0.8240\n",
            "Epoch 454/500\n",
            "250/250 [==============================] - 1s 6ms/step - loss: 0.0199 - accuracy: 0.9944 - val_loss: 1.9465 - val_accuracy: 0.8110\n",
            "Epoch 455/500\n",
            "250/250 [==============================] - 1s 6ms/step - loss: 0.0259 - accuracy: 0.9946 - val_loss: 1.6219 - val_accuracy: 0.8075\n",
            "Epoch 456/500\n",
            "250/250 [==============================] - 1s 6ms/step - loss: 0.0105 - accuracy: 0.9983 - val_loss: 1.5472 - val_accuracy: 0.8005\n",
            "Epoch 457/500\n",
            "250/250 [==============================] - 1s 6ms/step - loss: 0.0107 - accuracy: 0.9986 - val_loss: 1.0171 - val_accuracy: 0.8185\n",
            "Epoch 458/500\n",
            "250/250 [==============================] - 1s 6ms/step - loss: 0.0082 - accuracy: 0.9989 - val_loss: 1.3920 - val_accuracy: 0.8215\n",
            "Epoch 459/500\n",
            "250/250 [==============================] - 1s 6ms/step - loss: 0.0067 - accuracy: 0.9989 - val_loss: 1.6893 - val_accuracy: 0.8155\n",
            "Epoch 460/500\n",
            "250/250 [==============================] - 2s 6ms/step - loss: 0.0039 - accuracy: 0.9995 - val_loss: 2.0863 - val_accuracy: 0.8150\n",
            "Epoch 461/500\n",
            "250/250 [==============================] - 2s 6ms/step - loss: 0.0033 - accuracy: 0.9996 - val_loss: 2.2773 - val_accuracy: 0.8155\n",
            "Epoch 462/500\n",
            "250/250 [==============================] - 1s 6ms/step - loss: 0.0033 - accuracy: 0.9996 - val_loss: 2.4109 - val_accuracy: 0.8150\n",
            "Epoch 463/500\n",
            "250/250 [==============================] - 1s 6ms/step - loss: 0.0033 - accuracy: 0.9996 - val_loss: 2.7151 - val_accuracy: 0.8150\n",
            "Epoch 464/500\n",
            "250/250 [==============================] - 1s 6ms/step - loss: 0.0033 - accuracy: 0.9996 - val_loss: 4.2422 - val_accuracy: 0.8150\n",
            "Epoch 465/500\n",
            "250/250 [==============================] - 1s 6ms/step - loss: 0.0423 - accuracy: 0.9891 - val_loss: 8.2541 - val_accuracy: 0.8135\n",
            "Epoch 466/500\n",
            "250/250 [==============================] - 2s 6ms/step - loss: 0.0710 - accuracy: 0.9829 - val_loss: 1.5514 - val_accuracy: 0.8185\n",
            "Epoch 467/500\n",
            "250/250 [==============================] - 2s 6ms/step - loss: 0.0541 - accuracy: 0.9860 - val_loss: 3.1323 - val_accuracy: 0.8155\n",
            "Epoch 468/500\n",
            "250/250 [==============================] - 1s 6ms/step - loss: 0.0302 - accuracy: 0.9934 - val_loss: 5.8422 - val_accuracy: 0.8110\n",
            "Epoch 469/500\n",
            "250/250 [==============================] - 1s 6ms/step - loss: 0.0454 - accuracy: 0.9949 - val_loss: 1.4353 - val_accuracy: 0.8160\n",
            "Epoch 470/500\n",
            "250/250 [==============================] - 1s 6ms/step - loss: 0.0176 - accuracy: 0.9955 - val_loss: 2.4541 - val_accuracy: 0.8160\n",
            "Epoch 471/500\n",
            "250/250 [==============================] - 1s 6ms/step - loss: 0.0401 - accuracy: 0.9945 - val_loss: 2.2138 - val_accuracy: 0.8140\n",
            "Epoch 472/500\n",
            "250/250 [==============================] - 1s 6ms/step - loss: 0.0109 - accuracy: 0.9979 - val_loss: 3.1763 - val_accuracy: 0.8230\n",
            "Epoch 473/500\n",
            "250/250 [==============================] - 1s 6ms/step - loss: 0.0106 - accuracy: 0.9984 - val_loss: 3.8030 - val_accuracy: 0.8145\n",
            "Epoch 474/500\n",
            "250/250 [==============================] - 1s 6ms/step - loss: 0.0213 - accuracy: 0.9981 - val_loss: 1.7151 - val_accuracy: 0.8150\n",
            "Epoch 475/500\n",
            "250/250 [==============================] - 1s 6ms/step - loss: 0.0143 - accuracy: 0.9971 - val_loss: 1.4110 - val_accuracy: 0.8170\n",
            "Epoch 476/500\n",
            "250/250 [==============================] - 1s 6ms/step - loss: 0.0087 - accuracy: 0.9984 - val_loss: 1.9437 - val_accuracy: 0.8185\n",
            "Epoch 477/500\n",
            "250/250 [==============================] - 1s 6ms/step - loss: 0.0137 - accuracy: 0.9965 - val_loss: 1.8947 - val_accuracy: 0.8165\n",
            "Epoch 478/500\n",
            "250/250 [==============================] - 1s 6ms/step - loss: 0.0142 - accuracy: 0.9970 - val_loss: 2.1158 - val_accuracy: 0.8120\n",
            "Epoch 479/500\n",
            "250/250 [==============================] - 1s 6ms/step - loss: 0.0110 - accuracy: 0.9975 - val_loss: 2.4757 - val_accuracy: 0.8135\n",
            "Epoch 480/500\n",
            "250/250 [==============================] - 1s 6ms/step - loss: 0.0095 - accuracy: 0.9980 - val_loss: 4.1770 - val_accuracy: 0.8095\n",
            "Epoch 481/500\n",
            "250/250 [==============================] - 1s 6ms/step - loss: 0.0068 - accuracy: 0.9989 - val_loss: 5.4029 - val_accuracy: 0.8170\n",
            "Epoch 482/500\n",
            "250/250 [==============================] - 1s 6ms/step - loss: 0.0155 - accuracy: 0.9970 - val_loss: 5.5114 - val_accuracy: 0.8160\n",
            "Epoch 483/500\n",
            "250/250 [==============================] - 1s 6ms/step - loss: 0.0253 - accuracy: 0.9950 - val_loss: 6.5178 - val_accuracy: 0.8170\n",
            "Epoch 484/500\n",
            "250/250 [==============================] - 1s 6ms/step - loss: 0.0276 - accuracy: 0.9948 - val_loss: 1.8494 - val_accuracy: 0.8220\n",
            "Epoch 485/500\n",
            "250/250 [==============================] - 1s 6ms/step - loss: 0.0159 - accuracy: 0.9960 - val_loss: 1.7105 - val_accuracy: 0.8175\n",
            "Epoch 486/500\n",
            "250/250 [==============================] - 1s 6ms/step - loss: 0.0062 - accuracy: 0.9989 - val_loss: 2.3430 - val_accuracy: 0.8200\n",
            "Epoch 487/500\n",
            "250/250 [==============================] - 1s 6ms/step - loss: 0.0032 - accuracy: 0.9996 - val_loss: 2.6957 - val_accuracy: 0.8220\n",
            "Epoch 488/500\n",
            "250/250 [==============================] - 1s 6ms/step - loss: 0.0028 - accuracy: 0.9996 - val_loss: 2.9272 - val_accuracy: 0.8210\n",
            "Epoch 489/500\n",
            "250/250 [==============================] - 1s 6ms/step - loss: 0.0034 - accuracy: 0.9992 - val_loss: 3.5883 - val_accuracy: 0.8200\n",
            "Epoch 490/500\n",
            "250/250 [==============================] - 1s 6ms/step - loss: 0.0281 - accuracy: 0.9987 - val_loss: 1.5786 - val_accuracy: 0.8095\n",
            "Epoch 491/500\n",
            "250/250 [==============================] - 1s 6ms/step - loss: 0.0153 - accuracy: 0.9960 - val_loss: 1.5069 - val_accuracy: 0.8220\n",
            "Epoch 492/500\n",
            "250/250 [==============================] - 1s 6ms/step - loss: 0.0215 - accuracy: 0.9948 - val_loss: 1.7276 - val_accuracy: 0.8160\n",
            "Epoch 493/500\n",
            "250/250 [==============================] - 1s 5ms/step - loss: 0.0088 - accuracy: 0.9981 - val_loss: 1.7732 - val_accuracy: 0.8215\n",
            "Epoch 494/500\n",
            "250/250 [==============================] - 1s 6ms/step - loss: 0.0073 - accuracy: 0.9986 - val_loss: 7.2216 - val_accuracy: 0.8185\n",
            "Epoch 495/500\n",
            "250/250 [==============================] - 1s 6ms/step - loss: 0.0497 - accuracy: 0.9962 - val_loss: 8.8579 - val_accuracy: 0.8090\n",
            "Epoch 496/500\n",
            "250/250 [==============================] - 1s 6ms/step - loss: 0.0690 - accuracy: 0.9868 - val_loss: 3.2259 - val_accuracy: 0.8180\n",
            "Epoch 497/500\n",
            "250/250 [==============================] - 1s 6ms/step - loss: 0.0209 - accuracy: 0.9959 - val_loss: 7.8770 - val_accuracy: 0.8250\n",
            "Epoch 498/500\n",
            "250/250 [==============================] - 1s 6ms/step - loss: 0.0351 - accuracy: 0.9948 - val_loss: 1.5960 - val_accuracy: 0.8155\n",
            "Epoch 499/500\n",
            "250/250 [==============================] - 1s 6ms/step - loss: 0.0091 - accuracy: 0.9979 - val_loss: 2.6626 - val_accuracy: 0.8170\n",
            "Epoch 500/500\n",
            "250/250 [==============================] - 1s 6ms/step - loss: 0.0063 - accuracy: 0.9992 - val_loss: 4.3013 - val_accuracy: 0.8140\n"
          ],
          "name": "stdout"
        },
        {
          "output_type": "execute_result",
          "data": {
            "text/plain": [
              "<tensorflow.python.keras.callbacks.History at 0x7f9ba64bd668>"
            ]
          },
          "metadata": {
            "tags": []
          },
          "execution_count": 213
        }
      ]
    },
    {
      "cell_type": "code",
      "metadata": {
        "id": "md5nRKhCGWUT",
        "colab_type": "code",
        "colab": {}
      },
      "source": [
        ""
      ],
      "execution_count": null,
      "outputs": []
    }
  ]
}