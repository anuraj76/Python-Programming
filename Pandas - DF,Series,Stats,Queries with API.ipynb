{
 "cells": [
  {
   "cell_type": "code",
   "execution_count": 1,
   "metadata": {},
   "outputs": [],
   "source": [
    "import pandas as pd\n",
    "import numpy as np"
   ]
  },
  {
   "cell_type": "code",
   "execution_count": 2,
   "metadata": {},
   "outputs": [],
   "source": [
    "df = pd.read_csv('WHO.csv')"
   ]
  },
  {
   "cell_type": "code",
   "execution_count": 3,
   "metadata": {},
   "outputs": [
    {
     "data": {
      "text/html": [
       "<div>\n",
       "<style scoped>\n",
       "    .dataframe tbody tr th:only-of-type {\n",
       "        vertical-align: middle;\n",
       "    }\n",
       "\n",
       "    .dataframe tbody tr th {\n",
       "        vertical-align: top;\n",
       "    }\n",
       "\n",
       "    .dataframe thead th {\n",
       "        text-align: right;\n",
       "    }\n",
       "</style>\n",
       "<table border=\"1\" class=\"dataframe\">\n",
       "  <thead>\n",
       "    <tr style=\"text-align: right;\">\n",
       "      <th></th>\n",
       "      <th>Country</th>\n",
       "      <th>CountryID</th>\n",
       "      <th>Continent</th>\n",
       "      <th>Adolescent fertility rate (%)</th>\n",
       "      <th>Adult literacy rate (%)</th>\n",
       "      <th>Gross national income per capita (PPP international $)</th>\n",
       "      <th>Net primary school enrolment ratio female (%)</th>\n",
       "      <th>Net primary school enrolment ratio male (%)</th>\n",
       "      <th>Population (in thousands) total</th>\n",
       "      <th>Population annual growth rate (%)</th>\n",
       "      <th>...</th>\n",
       "      <th>Total_CO2_emissions</th>\n",
       "      <th>Total_income</th>\n",
       "      <th>Total_reserves</th>\n",
       "      <th>Trade_balance_goods_and_services</th>\n",
       "      <th>Under_five_mortality_from_CME</th>\n",
       "      <th>Under_five_mortality_from_IHME</th>\n",
       "      <th>Under_five_mortality_rate</th>\n",
       "      <th>Urban_population</th>\n",
       "      <th>Urban_population_growth</th>\n",
       "      <th>Urban_population_pct_of_total</th>\n",
       "    </tr>\n",
       "  </thead>\n",
       "  <tbody>\n",
       "    <tr>\n",
       "      <td>0</td>\n",
       "      <td>Afghanistan</td>\n",
       "      <td>1</td>\n",
       "      <td>1</td>\n",
       "      <td>151.0</td>\n",
       "      <td>28.0</td>\n",
       "      <td>NaN</td>\n",
       "      <td>NaN</td>\n",
       "      <td>NaN</td>\n",
       "      <td>26088.0</td>\n",
       "      <td>4.0</td>\n",
       "      <td>...</td>\n",
       "      <td>692.50</td>\n",
       "      <td>NaN</td>\n",
       "      <td>NaN</td>\n",
       "      <td>NaN</td>\n",
       "      <td>257.00</td>\n",
       "      <td>231.9</td>\n",
       "      <td>257.00</td>\n",
       "      <td>5740436.0</td>\n",
       "      <td>5.44</td>\n",
       "      <td>22.9</td>\n",
       "    </tr>\n",
       "    <tr>\n",
       "      <td>1</td>\n",
       "      <td>Albania</td>\n",
       "      <td>2</td>\n",
       "      <td>2</td>\n",
       "      <td>27.0</td>\n",
       "      <td>98.7</td>\n",
       "      <td>6000.0</td>\n",
       "      <td>93.0</td>\n",
       "      <td>94.0</td>\n",
       "      <td>3172.0</td>\n",
       "      <td>0.6</td>\n",
       "      <td>...</td>\n",
       "      <td>3499.12</td>\n",
       "      <td>4.790000e+09</td>\n",
       "      <td>78.14</td>\n",
       "      <td>-2.040000e+09</td>\n",
       "      <td>18.47</td>\n",
       "      <td>15.5</td>\n",
       "      <td>18.47</td>\n",
       "      <td>1431793.9</td>\n",
       "      <td>2.21</td>\n",
       "      <td>45.4</td>\n",
       "    </tr>\n",
       "    <tr>\n",
       "      <td>2</td>\n",
       "      <td>Algeria</td>\n",
       "      <td>3</td>\n",
       "      <td>3</td>\n",
       "      <td>6.0</td>\n",
       "      <td>69.9</td>\n",
       "      <td>5940.0</td>\n",
       "      <td>94.0</td>\n",
       "      <td>96.0</td>\n",
       "      <td>33351.0</td>\n",
       "      <td>1.5</td>\n",
       "      <td>...</td>\n",
       "      <td>137535.56</td>\n",
       "      <td>6.970000e+10</td>\n",
       "      <td>351.36</td>\n",
       "      <td>4.700000e+09</td>\n",
       "      <td>40.00</td>\n",
       "      <td>31.2</td>\n",
       "      <td>40.00</td>\n",
       "      <td>20800000.0</td>\n",
       "      <td>2.61</td>\n",
       "      <td>63.3</td>\n",
       "    </tr>\n",
       "    <tr>\n",
       "      <td>3</td>\n",
       "      <td>Andorra</td>\n",
       "      <td>4</td>\n",
       "      <td>2</td>\n",
       "      <td>NaN</td>\n",
       "      <td>NaN</td>\n",
       "      <td>NaN</td>\n",
       "      <td>83.0</td>\n",
       "      <td>83.0</td>\n",
       "      <td>74.0</td>\n",
       "      <td>1.0</td>\n",
       "      <td>...</td>\n",
       "      <td>NaN</td>\n",
       "      <td>NaN</td>\n",
       "      <td>NaN</td>\n",
       "      <td>NaN</td>\n",
       "      <td>NaN</td>\n",
       "      <td>NaN</td>\n",
       "      <td>NaN</td>\n",
       "      <td>NaN</td>\n",
       "      <td>NaN</td>\n",
       "      <td>NaN</td>\n",
       "    </tr>\n",
       "    <tr>\n",
       "      <td>4</td>\n",
       "      <td>Angola</td>\n",
       "      <td>5</td>\n",
       "      <td>3</td>\n",
       "      <td>146.0</td>\n",
       "      <td>67.4</td>\n",
       "      <td>3890.0</td>\n",
       "      <td>49.0</td>\n",
       "      <td>51.0</td>\n",
       "      <td>16557.0</td>\n",
       "      <td>2.8</td>\n",
       "      <td>...</td>\n",
       "      <td>8991.46</td>\n",
       "      <td>1.490000e+10</td>\n",
       "      <td>27.13</td>\n",
       "      <td>9.140000e+09</td>\n",
       "      <td>164.10</td>\n",
       "      <td>242.5</td>\n",
       "      <td>164.10</td>\n",
       "      <td>8578749.0</td>\n",
       "      <td>4.14</td>\n",
       "      <td>53.3</td>\n",
       "    </tr>\n",
       "    <tr>\n",
       "      <td>...</td>\n",
       "      <td>...</td>\n",
       "      <td>...</td>\n",
       "      <td>...</td>\n",
       "      <td>...</td>\n",
       "      <td>...</td>\n",
       "      <td>...</td>\n",
       "      <td>...</td>\n",
       "      <td>...</td>\n",
       "      <td>...</td>\n",
       "      <td>...</td>\n",
       "      <td>...</td>\n",
       "      <td>...</td>\n",
       "      <td>...</td>\n",
       "      <td>...</td>\n",
       "      <td>...</td>\n",
       "      <td>...</td>\n",
       "      <td>...</td>\n",
       "      <td>...</td>\n",
       "      <td>...</td>\n",
       "      <td>...</td>\n",
       "      <td>...</td>\n",
       "    </tr>\n",
       "    <tr>\n",
       "      <td>197</td>\n",
       "      <td>Vietnam</td>\n",
       "      <td>198</td>\n",
       "      <td>6</td>\n",
       "      <td>25.0</td>\n",
       "      <td>90.3</td>\n",
       "      <td>2310.0</td>\n",
       "      <td>91.0</td>\n",
       "      <td>96.0</td>\n",
       "      <td>86206.0</td>\n",
       "      <td>1.4</td>\n",
       "      <td>...</td>\n",
       "      <td>101826.23</td>\n",
       "      <td>4.480000e+10</td>\n",
       "      <td>47.11</td>\n",
       "      <td>-1.940000e+09</td>\n",
       "      <td>20.20</td>\n",
       "      <td>23.4</td>\n",
       "      <td>20.20</td>\n",
       "      <td>21900000.0</td>\n",
       "      <td>2.90</td>\n",
       "      <td>26.4</td>\n",
       "    </tr>\n",
       "    <tr>\n",
       "      <td>198</td>\n",
       "      <td>West Bank and Gaza</td>\n",
       "      <td>199</td>\n",
       "      <td>1</td>\n",
       "      <td>NaN</td>\n",
       "      <td>NaN</td>\n",
       "      <td>NaN</td>\n",
       "      <td>NaN</td>\n",
       "      <td>NaN</td>\n",
       "      <td>NaN</td>\n",
       "      <td>NaN</td>\n",
       "      <td>...</td>\n",
       "      <td>655.86</td>\n",
       "      <td>3.780000e+09</td>\n",
       "      <td>NaN</td>\n",
       "      <td>NaN</td>\n",
       "      <td>28.00</td>\n",
       "      <td>25.8</td>\n",
       "      <td>28.00</td>\n",
       "      <td>2596216.0</td>\n",
       "      <td>3.33</td>\n",
       "      <td>71.6</td>\n",
       "    </tr>\n",
       "    <tr>\n",
       "      <td>199</td>\n",
       "      <td>Yemen</td>\n",
       "      <td>200</td>\n",
       "      <td>1</td>\n",
       "      <td>83.0</td>\n",
       "      <td>54.1</td>\n",
       "      <td>2090.0</td>\n",
       "      <td>65.0</td>\n",
       "      <td>85.0</td>\n",
       "      <td>21732.0</td>\n",
       "      <td>3.0</td>\n",
       "      <td>...</td>\n",
       "      <td>20148.34</td>\n",
       "      <td>1.150000e+10</td>\n",
       "      <td>114.52</td>\n",
       "      <td>8.310000e+08</td>\n",
       "      <td>82.40</td>\n",
       "      <td>87.9</td>\n",
       "      <td>82.40</td>\n",
       "      <td>5759120.5</td>\n",
       "      <td>4.37</td>\n",
       "      <td>27.3</td>\n",
       "    </tr>\n",
       "    <tr>\n",
       "      <td>200</td>\n",
       "      <td>Zambia</td>\n",
       "      <td>201</td>\n",
       "      <td>3</td>\n",
       "      <td>161.0</td>\n",
       "      <td>68.0</td>\n",
       "      <td>1140.0</td>\n",
       "      <td>94.0</td>\n",
       "      <td>90.0</td>\n",
       "      <td>11696.0</td>\n",
       "      <td>1.9</td>\n",
       "      <td>...</td>\n",
       "      <td>2366.94</td>\n",
       "      <td>4.090000e+09</td>\n",
       "      <td>10.41</td>\n",
       "      <td>-4.470000e+08</td>\n",
       "      <td>175.30</td>\n",
       "      <td>163.8</td>\n",
       "      <td>175.30</td>\n",
       "      <td>4017411.0</td>\n",
       "      <td>1.95</td>\n",
       "      <td>35.0</td>\n",
       "    </tr>\n",
       "    <tr>\n",
       "      <td>201</td>\n",
       "      <td>Zimbabwe</td>\n",
       "      <td>202</td>\n",
       "      <td>3</td>\n",
       "      <td>101.0</td>\n",
       "      <td>89.5</td>\n",
       "      <td>NaN</td>\n",
       "      <td>88.0</td>\n",
       "      <td>87.0</td>\n",
       "      <td>13228.0</td>\n",
       "      <td>0.8</td>\n",
       "      <td>...</td>\n",
       "      <td>11457.33</td>\n",
       "      <td>5.620000e+09</td>\n",
       "      <td>3.39</td>\n",
       "      <td>-1.710000e+08</td>\n",
       "      <td>106.50</td>\n",
       "      <td>67.0</td>\n",
       "      <td>106.50</td>\n",
       "      <td>4709965.0</td>\n",
       "      <td>1.90</td>\n",
       "      <td>35.9</td>\n",
       "    </tr>\n",
       "  </tbody>\n",
       "</table>\n",
       "<p>202 rows × 358 columns</p>\n",
       "</div>"
      ],
      "text/plain": [
       "                Country  CountryID  Continent  Adolescent fertility rate (%)  \\\n",
       "0           Afghanistan          1          1                          151.0   \n",
       "1               Albania          2          2                           27.0   \n",
       "2               Algeria          3          3                            6.0   \n",
       "3               Andorra          4          2                            NaN   \n",
       "4                Angola          5          3                          146.0   \n",
       "..                  ...        ...        ...                            ...   \n",
       "197             Vietnam        198          6                           25.0   \n",
       "198  West Bank and Gaza        199          1                            NaN   \n",
       "199               Yemen        200          1                           83.0   \n",
       "200              Zambia        201          3                          161.0   \n",
       "201            Zimbabwe        202          3                          101.0   \n",
       "\n",
       "     Adult literacy rate (%)  \\\n",
       "0                       28.0   \n",
       "1                       98.7   \n",
       "2                       69.9   \n",
       "3                        NaN   \n",
       "4                       67.4   \n",
       "..                       ...   \n",
       "197                     90.3   \n",
       "198                      NaN   \n",
       "199                     54.1   \n",
       "200                     68.0   \n",
       "201                     89.5   \n",
       "\n",
       "     Gross national income per capita (PPP international $)  \\\n",
       "0                                                  NaN        \n",
       "1                                               6000.0        \n",
       "2                                               5940.0        \n",
       "3                                                  NaN        \n",
       "4                                               3890.0        \n",
       "..                                                 ...        \n",
       "197                                             2310.0        \n",
       "198                                                NaN        \n",
       "199                                             2090.0        \n",
       "200                                             1140.0        \n",
       "201                                                NaN        \n",
       "\n",
       "     Net primary school enrolment ratio female (%)  \\\n",
       "0                                              NaN   \n",
       "1                                             93.0   \n",
       "2                                             94.0   \n",
       "3                                             83.0   \n",
       "4                                             49.0   \n",
       "..                                             ...   \n",
       "197                                           91.0   \n",
       "198                                            NaN   \n",
       "199                                           65.0   \n",
       "200                                           94.0   \n",
       "201                                           88.0   \n",
       "\n",
       "     Net primary school enrolment ratio male (%)  \\\n",
       "0                                            NaN   \n",
       "1                                           94.0   \n",
       "2                                           96.0   \n",
       "3                                           83.0   \n",
       "4                                           51.0   \n",
       "..                                           ...   \n",
       "197                                         96.0   \n",
       "198                                          NaN   \n",
       "199                                         85.0   \n",
       "200                                         90.0   \n",
       "201                                         87.0   \n",
       "\n",
       "     Population (in thousands) total  Population annual growth rate (%)  ...  \\\n",
       "0                            26088.0                                4.0  ...   \n",
       "1                             3172.0                                0.6  ...   \n",
       "2                            33351.0                                1.5  ...   \n",
       "3                               74.0                                1.0  ...   \n",
       "4                            16557.0                                2.8  ...   \n",
       "..                               ...                                ...  ...   \n",
       "197                          86206.0                                1.4  ...   \n",
       "198                              NaN                                NaN  ...   \n",
       "199                          21732.0                                3.0  ...   \n",
       "200                          11696.0                                1.9  ...   \n",
       "201                          13228.0                                0.8  ...   \n",
       "\n",
       "     Total_CO2_emissions  Total_income  Total_reserves  \\\n",
       "0                 692.50           NaN             NaN   \n",
       "1                3499.12  4.790000e+09           78.14   \n",
       "2              137535.56  6.970000e+10          351.36   \n",
       "3                    NaN           NaN             NaN   \n",
       "4                8991.46  1.490000e+10           27.13   \n",
       "..                   ...           ...             ...   \n",
       "197            101826.23  4.480000e+10           47.11   \n",
       "198               655.86  3.780000e+09             NaN   \n",
       "199             20148.34  1.150000e+10          114.52   \n",
       "200              2366.94  4.090000e+09           10.41   \n",
       "201             11457.33  5.620000e+09            3.39   \n",
       "\n",
       "     Trade_balance_goods_and_services  Under_five_mortality_from_CME  \\\n",
       "0                                 NaN                         257.00   \n",
       "1                       -2.040000e+09                          18.47   \n",
       "2                        4.700000e+09                          40.00   \n",
       "3                                 NaN                            NaN   \n",
       "4                        9.140000e+09                         164.10   \n",
       "..                                ...                            ...   \n",
       "197                     -1.940000e+09                          20.20   \n",
       "198                               NaN                          28.00   \n",
       "199                      8.310000e+08                          82.40   \n",
       "200                     -4.470000e+08                         175.30   \n",
       "201                     -1.710000e+08                         106.50   \n",
       "\n",
       "     Under_five_mortality_from_IHME  Under_five_mortality_rate  \\\n",
       "0                             231.9                     257.00   \n",
       "1                              15.5                      18.47   \n",
       "2                              31.2                      40.00   \n",
       "3                               NaN                        NaN   \n",
       "4                             242.5                     164.10   \n",
       "..                              ...                        ...   \n",
       "197                            23.4                      20.20   \n",
       "198                            25.8                      28.00   \n",
       "199                            87.9                      82.40   \n",
       "200                           163.8                     175.30   \n",
       "201                            67.0                     106.50   \n",
       "\n",
       "     Urban_population  Urban_population_growth  Urban_population_pct_of_total  \n",
       "0           5740436.0                     5.44                           22.9  \n",
       "1           1431793.9                     2.21                           45.4  \n",
       "2          20800000.0                     2.61                           63.3  \n",
       "3                 NaN                      NaN                            NaN  \n",
       "4           8578749.0                     4.14                           53.3  \n",
       "..                ...                      ...                            ...  \n",
       "197        21900000.0                     2.90                           26.4  \n",
       "198         2596216.0                     3.33                           71.6  \n",
       "199         5759120.5                     4.37                           27.3  \n",
       "200         4017411.0                     1.95                           35.0  \n",
       "201         4709965.0                     1.90                           35.9  \n",
       "\n",
       "[202 rows x 358 columns]"
      ]
     },
     "execution_count": 3,
     "metadata": {},
     "output_type": "execute_result"
    }
   ],
   "source": [
    "df"
   ]
  },
  {
   "cell_type": "code",
   "execution_count": 4,
   "metadata": {},
   "outputs": [
    {
     "name": "stdout",
     "output_type": "stream",
     "text": [
      "Shape of Dataframe: (202, 358)\n"
     ]
    }
   ],
   "source": [
    "print(\"Shape of Dataframe:\",df.shape)"
   ]
  },
  {
   "cell_type": "code",
   "execution_count": 5,
   "metadata": {},
   "outputs": [
    {
     "name": "stdout",
     "output_type": "stream",
     "text": [
      "Lenght of DF 202\n"
     ]
    }
   ],
   "source": [
    "print(\"Lenght of DF\",len(df))"
   ]
  },
  {
   "cell_type": "code",
   "execution_count": 6,
   "metadata": {},
   "outputs": [
    {
     "name": "stdout",
     "output_type": "stream",
     "text": [
      "Column Header od DF Index(['Country', 'CountryID', 'Continent', 'Adolescent fertility rate (%)',\n",
      "       'Adult literacy rate (%)',\n",
      "       'Gross national income per capita (PPP international $)',\n",
      "       'Net primary school enrolment ratio female (%)',\n",
      "       'Net primary school enrolment ratio male (%)',\n",
      "       'Population (in thousands) total', 'Population annual growth rate (%)',\n",
      "       ...\n",
      "       'Total_CO2_emissions', 'Total_income', 'Total_reserves',\n",
      "       'Trade_balance_goods_and_services', 'Under_five_mortality_from_CME',\n",
      "       'Under_five_mortality_from_IHME', 'Under_five_mortality_rate',\n",
      "       'Urban_population', 'Urban_population_growth',\n",
      "       'Urban_population_pct_of_total'],\n",
      "      dtype='object', length=358)\n"
     ]
    }
   ],
   "source": [
    "print(\"Column Header od DF\",df.columns)"
   ]
  },
  {
   "cell_type": "code",
   "execution_count": 7,
   "metadata": {},
   "outputs": [
    {
     "data": {
      "text/plain": [
       "358"
      ]
     },
     "execution_count": 7,
     "metadata": {},
     "output_type": "execute_result"
    }
   ],
   "source": [
    "len(df.columns)"
   ]
  },
  {
   "cell_type": "code",
   "execution_count": 8,
   "metadata": {},
   "outputs": [
    {
     "name": "stdout",
     "output_type": "stream",
     "text": [
      "Data type of DF Country                            object\n",
      "CountryID                           int64\n",
      "Continent                           int64\n",
      "Adolescent fertility rate (%)     float64\n",
      "Adult literacy rate (%)           float64\n",
      "                                   ...   \n",
      "Under_five_mortality_from_IHME    float64\n",
      "Under_five_mortality_rate         float64\n",
      "Urban_population                  float64\n",
      "Urban_population_growth           float64\n",
      "Urban_population_pct_of_total     float64\n",
      "Length: 358, dtype: object\n"
     ]
    }
   ],
   "source": [
    "print(\"Data type of DF\",df.dtypes)"
   ]
  },
  {
   "cell_type": "code",
   "execution_count": 9,
   "metadata": {},
   "outputs": [
    {
     "name": "stdout",
     "output_type": "stream",
     "text": [
      "Index RangeIndex(start=0, stop=202, step=1)\n"
     ]
    }
   ],
   "source": [
    "print(\"Index\",df.index)"
   ]
  },
  {
   "cell_type": "code",
   "execution_count": 10,
   "metadata": {},
   "outputs": [
    {
     "name": "stdout",
     "output_type": "stream",
     "text": [
      "Values [['Afghanistan' 1 1 ... 5740436.0 5.44 22.9]\n",
      " ['Albania' 2 2 ... 1431793.9 2.21 45.4]\n",
      " ['Algeria' 3 3 ... 20800000.0 2.61 63.3]\n",
      " ...\n",
      " ['Yemen' 200 1 ... 5759120.5 4.37 27.3]\n",
      " ['Zambia' 201 3 ... 4017411.0 1.95 35.0]\n",
      " ['Zimbabwe' 202 3 ... 4709965.0 1.9 35.9]]\n"
     ]
    }
   ],
   "source": [
    "print(\"Values\",df.values)"
   ]
  },
  {
   "cell_type": "markdown",
   "metadata": {},
   "source": [
    "Pandas Series"
   ]
  },
  {
   "cell_type": "markdown",
   "metadata": {},
   "source": [
    "Accessing Colums in DF"
   ]
  },
  {
   "cell_type": "code",
   "execution_count": 11,
   "metadata": {},
   "outputs": [],
   "source": [
    "country_col = df['Country']"
   ]
  },
  {
   "cell_type": "code",
   "execution_count": 12,
   "metadata": {},
   "outputs": [
    {
     "name": "stdout",
     "output_type": "stream",
     "text": [
      "Country data type <class 'pandas.core.series.Series'>\n"
     ]
    }
   ],
   "source": [
    "print('Country data type',type(country_col))"
   ]
  },
  {
   "cell_type": "code",
   "execution_count": 13,
   "metadata": {},
   "outputs": [
    {
     "data": {
      "text/plain": [
       "0             Afghanistan\n",
       "1                 Albania\n",
       "2                 Algeria\n",
       "3                 Andorra\n",
       "4                  Angola\n",
       "              ...        \n",
       "197               Vietnam\n",
       "198    West Bank and Gaza\n",
       "199                 Yemen\n",
       "200                Zambia\n",
       "201              Zimbabwe\n",
       "Name: Country, Length: 202, dtype: object"
      ]
     },
     "execution_count": 13,
     "metadata": {},
     "output_type": "execute_result"
    }
   ],
   "source": [
    "country_col"
   ]
  },
  {
   "cell_type": "code",
   "execution_count": 14,
   "metadata": {},
   "outputs": [
    {
     "data": {
      "text/plain": [
       "(202,)"
      ]
     },
     "execution_count": 14,
     "metadata": {},
     "output_type": "execute_result"
    }
   ],
   "source": [
    "country_col.shape"
   ]
  },
  {
   "cell_type": "code",
   "execution_count": 15,
   "metadata": {},
   "outputs": [
    {
     "data": {
      "text/plain": [
       "RangeIndex(start=0, stop=202, step=1)"
      ]
     },
     "execution_count": 15,
     "metadata": {},
     "output_type": "execute_result"
    }
   ],
   "source": [
    "country_col.index"
   ]
  },
  {
   "cell_type": "code",
   "execution_count": 16,
   "metadata": {},
   "outputs": [
    {
     "data": {
      "text/plain": [
       "array(['Afghanistan', 'Albania', 'Algeria', 'Andorra', 'Angola',\n",
       "       'Antigua and Barbuda', 'Argentina', 'Armenia', 'Australia',\n",
       "       'Austria', 'Azerbaijan', 'Bahamas', 'Bahrain', 'Bangladesh',\n",
       "       'Barbados', 'Belarus', 'Belgium', 'Belize', 'Benin', 'Bermuda',\n",
       "       'Bhutan', 'Bolivia', 'Bosnia and Herzegovina', 'Botswana',\n",
       "       'Brazil', 'Brunei Darussalam', 'Bulgaria', 'Burkina Faso',\n",
       "       'Burundi', 'Cambodia', 'Cameroon', 'Canada', 'Cape Verde',\n",
       "       'Central African Republic', 'Chad', 'Chile', 'China', 'Colombia',\n",
       "       'Comoros', 'Congo, Dem. Rep.', 'Congo, Rep.', 'Cook Islands',\n",
       "       'Costa Rica', \"Cote d'Ivoire\", 'Croatia', 'Cuba', 'Cyprus',\n",
       "       'Czech Republic', 'Denmark', 'Djibouti', 'Dominica',\n",
       "       'Dominican Republic', 'Ecuador', 'Egypt', 'El Salvador',\n",
       "       'Equatorial Guinea', 'Eritrea', 'Estonia', 'Ethiopia', 'Fiji',\n",
       "       'Finland', 'France', 'French Polynesia', 'Gabon', 'Gambia',\n",
       "       'Georgia', 'Germany', 'Ghana', 'Greece', 'Grenada', 'Guatemala',\n",
       "       'Guinea', 'Guinea-Bissau', 'Guyana', 'Haiti', 'Honduras',\n",
       "       'Hong Kong, China', 'Hungary', 'Iceland', 'India', 'Indonesia',\n",
       "       'Iran (Islamic Republic of)', 'Iraq', 'Ireland', 'Israel', 'Italy',\n",
       "       'Jamaica', 'Japan', 'Jordan', 'Kazakhstan', 'Kenya', 'Kiribati',\n",
       "       'Korea, Dem. Rep.', 'Korea, Rep.', 'Kuwait', 'Kyrgyzstan',\n",
       "       \"Lao People's Democratic Republic\", 'Latvia', 'Lebanon', 'Lesotho',\n",
       "       'Liberia', 'Libyan Arab Jamahiriya', 'Lithuania', 'Luxembourg',\n",
       "       'Macao, China', 'Macedonia', 'Madagascar', 'Malawi', 'Malaysia',\n",
       "       'Maldives', 'Mali', 'Malta', 'Marshall Islands', 'Mauritania',\n",
       "       'Mauritius', 'Mexico', 'Micronesia (Federated States of)',\n",
       "       'Moldova', 'Monaco', 'Mongolia', 'Montenegro', 'Morocco',\n",
       "       'Mozambique', 'Myanmar', 'Namibia', 'Nauru', 'Nepal',\n",
       "       'Netherlands', 'Netherlands Antilles', 'New Caledonia',\n",
       "       'New Zealand', 'Nicaragua', 'Niger', 'Nigeria', 'Niue', 'Norway',\n",
       "       'Oman', 'Pakistan', 'Palau', 'Panama', 'Papua New Guinea',\n",
       "       'Paraguay', 'Peru', 'Philippines', 'Poland', 'Portugal',\n",
       "       'Puerto Rico', 'Qatar', 'Romania', 'Russia', 'Rwanda',\n",
       "       'Saint Kitts and Nevis', 'Saint Lucia',\n",
       "       'Saint Vincent and the Grenadines', 'Samoa', 'San Marino',\n",
       "       'Sao Tome and Principe', 'Saudi Arabia', 'Senegal', 'Serbia',\n",
       "       'Seychelles', 'Sierra Leone', 'Singapore', 'Slovakia', 'Slovenia',\n",
       "       'Solomon Islands', 'Somalia', 'South Africa', 'Spain', 'Sri Lanka',\n",
       "       'Sudan', 'Suriname', 'Swaziland', 'Sweden', 'Switzerland', 'Syria',\n",
       "       'Taiwan', 'Tajikistan', 'Tanzania', 'Thailand', 'Timor-Leste',\n",
       "       'Togo', 'Tonga', 'Trinidad and Tobago', 'Tunisia', 'Turkey',\n",
       "       'Turkmenistan', 'Tuvalu', 'Uganda', 'Ukraine',\n",
       "       'United Arab Emirates', 'United Kingdom',\n",
       "       'United States of America', 'Uruguay', 'Uzbekistan', 'Vanuatu',\n",
       "       'Venezuela', 'Vietnam', 'West Bank and Gaza', 'Yemen', 'Zambia',\n",
       "       'Zimbabwe'], dtype=object)"
      ]
     },
     "execution_count": 16,
     "metadata": {},
     "output_type": "execute_result"
    }
   ],
   "source": [
    "country_col.values"
   ]
  },
  {
   "cell_type": "code",
   "execution_count": 17,
   "metadata": {},
   "outputs": [
    {
     "data": {
      "text/plain": [
       "'Country'"
      ]
     },
     "execution_count": 17,
     "metadata": {},
     "output_type": "execute_result"
    }
   ],
   "source": [
    "country_col.name"
   ]
  },
  {
   "cell_type": "code",
   "execution_count": 18,
   "metadata": {},
   "outputs": [
    {
     "name": "stdout",
     "output_type": "stream",
     "text": [
      "df signs 0      1.0\n",
      "1      1.0\n",
      "2      1.0\n",
      "3      NaN\n",
      "4      1.0\n",
      "      ... \n",
      "197    1.0\n",
      "198    NaN\n",
      "199    1.0\n",
      "200    1.0\n",
      "201    1.0\n",
      "Name: Adult literacy rate (%), Length: 202, dtype: float64\n"
     ]
    },
    {
     "name": "stderr",
     "output_type": "stream",
     "text": [
      "C:\\Users\\asm1318\\AppData\\Local\\Continuum\\anaconda3\\lib\\site-packages\\pandas\\core\\series.py:853: RuntimeWarning: invalid value encountered in sign\n",
      "  result = getattr(ufunc, method)(*inputs, **kwargs)\n"
     ]
    }
   ],
   "source": [
    "print('df signs',np.sign(df['Adult literacy rate (%)']))"
   ]
  },
  {
   "cell_type": "markdown",
   "metadata": {},
   "source": [
    "Querying Data by API "
   ]
  },
  {
   "cell_type": "code",
   "execution_count": 19,
   "metadata": {},
   "outputs": [
    {
     "name": "stdout",
     "output_type": "stream",
     "text": [
      "Requirement already satisfied: Quandl in c:\\users\\asm1318\\appdata\\local\\continuum\\anaconda3\\lib\\site-packages (3.5.0)\n",
      "Requirement already satisfied: inflection>=0.3.1 in c:\\users\\asm1318\\appdata\\local\\continuum\\anaconda3\\lib\\site-packages (from Quandl) (0.4.0)\n",
      "Requirement already satisfied: python-dateutil in c:\\users\\asm1318\\appdata\\local\\continuum\\anaconda3\\lib\\site-packages (from Quandl) (2.8.0)\n",
      "Requirement already satisfied: pandas>=0.14 in c:\\users\\asm1318\\appdata\\local\\continuum\\anaconda3\\lib\\site-packages (from Quandl) (0.25.1)\n",
      "Requirement already satisfied: more-itertools in c:\\users\\asm1318\\appdata\\local\\continuum\\anaconda3\\lib\\site-packages (from Quandl) (7.2.0)\n",
      "Requirement already satisfied: numpy>=1.8 in c:\\users\\asm1318\\appdata\\local\\continuum\\anaconda3\\lib\\site-packages (from Quandl) (1.16.5)\n",
      "Requirement already satisfied: six in c:\\users\\asm1318\\appdata\\local\\continuum\\anaconda3\\lib\\site-packages (from Quandl) (1.12.0)\n",
      "Requirement already satisfied: requests>=2.7.0 in c:\\users\\asm1318\\appdata\\local\\continuum\\anaconda3\\lib\\site-packages (from Quandl) (2.22.0)\n",
      "Requirement already satisfied: pytz>=2017.2 in c:\\users\\asm1318\\appdata\\local\\continuum\\anaconda3\\lib\\site-packages (from pandas>=0.14->Quandl) (2019.3)\n",
      "Requirement already satisfied: certifi>=2017.4.17 in c:\\users\\asm1318\\appdata\\local\\continuum\\anaconda3\\lib\\site-packages (from requests>=2.7.0->Quandl) (2019.9.11)\n",
      "Requirement already satisfied: idna<2.9,>=2.5 in c:\\users\\asm1318\\appdata\\local\\continuum\\anaconda3\\lib\\site-packages (from requests>=2.7.0->Quandl) (2.8)\n",
      "Requirement already satisfied: urllib3!=1.25.0,!=1.25.1,<1.26,>=1.21.1 in c:\\users\\asm1318\\appdata\\local\\continuum\\anaconda3\\lib\\site-packages (from requests>=2.7.0->Quandl) (1.24.2)\n",
      "Requirement already satisfied: chardet<3.1.0,>=3.0.2 in c:\\users\\asm1318\\appdata\\local\\continuum\\anaconda3\\lib\\site-packages (from requests>=2.7.0->Quandl) (3.0.4)\n",
      "Note: you may need to restart the kernel to use updated packages.\n"
     ]
    }
   ],
   "source": [
    "pip install Quandl"
   ]
  },
  {
   "cell_type": "code",
   "execution_count": 22,
   "metadata": {},
   "outputs": [],
   "source": [
    "import quandl"
   ]
  },
  {
   "cell_type": "code",
   "execution_count": 23,
   "metadata": {},
   "outputs": [],
   "source": [
    "#data from URL can be fetched now\n",
    "\n",
    "sunspots = quandl.get(\"SIDC/SUNSPOTS_A\")"
   ]
  },
  {
   "cell_type": "code",
   "execution_count": 33,
   "metadata": {},
   "outputs": [
    {
     "data": {
      "text/plain": [
       "Index(['Yearly Mean Total Sunspot Number', 'Yearly Mean Standard Deviation',\n",
       "       'Number of Observations', 'Definitive/Provisional Indicator'],\n",
       "      dtype='object')"
      ]
     },
     "execution_count": 33,
     "metadata": {},
     "output_type": "execute_result"
    }
   ],
   "source": [
    "sunspots.columns"
   ]
  },
  {
   "cell_type": "code",
   "execution_count": 25,
   "metadata": {},
   "outputs": [],
   "source": [
    "last_date = sunspots.index[-1]"
   ]
  },
  {
   "cell_type": "code",
   "execution_count": 26,
   "metadata": {},
   "outputs": [
    {
     "name": "stdout",
     "output_type": "stream",
     "text": [
      "Last value Yearly Mean Total Sunspot Number        3.6\n",
      "Yearly Mean Standard Deviation          0.5\n",
      "Number of Observations              12884.0\n",
      "Definitive/Provisional Indicator        1.0\n",
      "Name: 2019-12-31 00:00:00, dtype: float64\n"
     ]
    }
   ],
   "source": [
    "print(\"Last value\",sunspots.loc[last_date])"
   ]
  },
  {
   "cell_type": "code",
   "execution_count": 27,
   "metadata": {},
   "outputs": [],
   "source": [
    "#Value Scling by date yyyymmdd format"
   ]
  },
  {
   "cell_type": "code",
   "execution_count": 29,
   "metadata": {},
   "outputs": [
    {
     "name": "stdout",
     "output_type": "stream",
     "text": [
      "Values slice by date Empty DataFrame\n",
      "Columns: [Yearly Mean Total Sunspot Number, Yearly Mean Standard Deviation, Number of Observations, Definitive/Provisional Indicator]\n",
      "Index: []\n"
     ]
    }
   ],
   "source": [
    "print(\"Values slice by date\",sunspots[\"20191231\":\"20181231\"])"
   ]
  },
  {
   "cell_type": "code",
   "execution_count": 30,
   "metadata": {},
   "outputs": [],
   "source": [
    "#Quesrying with list of indices"
   ]
  },
  {
   "cell_type": "code",
   "execution_count": 31,
   "metadata": {},
   "outputs": [
    {
     "name": "stdout",
     "output_type": "stream",
     "text": [
      "Slice from list of indices             Yearly Mean Total Sunspot Number  Yearly Mean Standard Deviation  \\\n",
      "Date                                                                           \n",
      "1702-12-31                              26.7                             NaN   \n",
      "1704-12-31                              60.0                             NaN   \n",
      "1705-12-31                              96.7                             NaN   \n",
      "1706-12-31                              48.3                             NaN   \n",
      "1707-12-31                              33.3                             NaN   \n",
      "\n",
      "            Number of Observations  Definitive/Provisional Indicator  \n",
      "Date                                                                  \n",
      "1702-12-31                     NaN                               1.0  \n",
      "1704-12-31                     NaN                               1.0  \n",
      "1705-12-31                     NaN                               1.0  \n",
      "1706-12-31                     NaN                               1.0  \n",
      "1707-12-31                     NaN                               1.0  \n"
     ]
    }
   ],
   "source": [
    "print(\"Slice from list of indices\",sunspots.iloc[[2,4,5,6,7]])"
   ]
  },
  {
   "cell_type": "code",
   "execution_count": 32,
   "metadata": {},
   "outputs": [
    {
     "name": "stdout",
     "output_type": "stream",
     "text": [
      "Boolean Selection             Yearly Mean Total Sunspot Number  Yearly Mean Standard Deviation  \\\n",
      "Date                                                                           \n",
      "1700-12-31                               NaN                             NaN   \n",
      "1701-12-31                               NaN                             NaN   \n",
      "1702-12-31                               NaN                             NaN   \n",
      "1703-12-31                               NaN                             NaN   \n",
      "1704-12-31                               NaN                             NaN   \n",
      "...                                      ...                             ...   \n",
      "2015-12-31                               NaN                             NaN   \n",
      "2016-12-31                               NaN                             NaN   \n",
      "2017-12-31                               NaN                             NaN   \n",
      "2018-12-31                               NaN                             NaN   \n",
      "2019-12-31                               NaN                             NaN   \n",
      "\n",
      "            Number of Observations  Definitive/Provisional Indicator  \n",
      "Date                                                                  \n",
      "1700-12-31                     NaN                               NaN  \n",
      "1701-12-31                     NaN                               NaN  \n",
      "1702-12-31                     NaN                               NaN  \n",
      "1703-12-31                     NaN                               NaN  \n",
      "1704-12-31                     NaN                               NaN  \n",
      "...                            ...                               ...  \n",
      "2015-12-31                  8903.0                               NaN  \n",
      "2016-12-31                  9940.0                               NaN  \n",
      "2017-12-31                 11444.0                               NaN  \n",
      "2018-12-31                 12611.0                               NaN  \n",
      "2019-12-31                 12884.0                               NaN  \n",
      "\n",
      "[320 rows x 4 columns]\n"
     ]
    }
   ],
   "source": [
    "print(\"Boolean Selection\",sunspots[sunspots>sunspots.mean()])"
   ]
  },
  {
   "cell_type": "code",
   "execution_count": 36,
   "metadata": {},
   "outputs": [
    {
     "data": {
      "text/plain": [
       "Date\n",
       "2015-12-31     8903.0\n",
       "2016-12-31     9940.0\n",
       "2017-12-31    11444.0\n",
       "2018-12-31    12611.0\n",
       "2019-12-31    12884.0\n",
       "Name: Number of Observations, dtype: float64"
      ]
     },
     "execution_count": 36,
     "metadata": {},
     "output_type": "execute_result"
    }
   ],
   "source": [
    "sunspots['Number of Observations'].tail()"
   ]
  },
  {
   "cell_type": "code",
   "execution_count": 37,
   "metadata": {},
   "outputs": [
    {
     "data": {
      "text/html": [
       "<div>\n",
       "<style scoped>\n",
       "    .dataframe tbody tr th:only-of-type {\n",
       "        vertical-align: middle;\n",
       "    }\n",
       "\n",
       "    .dataframe tbody tr th {\n",
       "        vertical-align: top;\n",
       "    }\n",
       "\n",
       "    .dataframe thead th {\n",
       "        text-align: right;\n",
       "    }\n",
       "</style>\n",
       "<table border=\"1\" class=\"dataframe\">\n",
       "  <thead>\n",
       "    <tr style=\"text-align: right;\">\n",
       "      <th></th>\n",
       "      <th>Yearly Mean Total Sunspot Number</th>\n",
       "      <th>Yearly Mean Standard Deviation</th>\n",
       "      <th>Number of Observations</th>\n",
       "      <th>Definitive/Provisional Indicator</th>\n",
       "    </tr>\n",
       "  </thead>\n",
       "  <tbody>\n",
       "    <tr>\n",
       "      <td>count</td>\n",
       "      <td>320.000000</td>\n",
       "      <td>202.000000</td>\n",
       "      <td>202.000000</td>\n",
       "      <td>320.0</td>\n",
       "    </tr>\n",
       "    <tr>\n",
       "      <td>mean</td>\n",
       "      <td>78.735000</td>\n",
       "      <td>7.910891</td>\n",
       "      <td>1628.747525</td>\n",
       "      <td>1.0</td>\n",
       "    </tr>\n",
       "    <tr>\n",
       "      <td>std</td>\n",
       "      <td>62.065761</td>\n",
       "      <td>3.866630</td>\n",
       "      <td>2777.697989</td>\n",
       "      <td>0.0</td>\n",
       "    </tr>\n",
       "    <tr>\n",
       "      <td>min</td>\n",
       "      <td>0.000000</td>\n",
       "      <td>0.500000</td>\n",
       "      <td>150.000000</td>\n",
       "      <td>1.0</td>\n",
       "    </tr>\n",
       "    <tr>\n",
       "      <td>25%</td>\n",
       "      <td>24.575000</td>\n",
       "      <td>4.625000</td>\n",
       "      <td>365.000000</td>\n",
       "      <td>1.0</td>\n",
       "    </tr>\n",
       "    <tr>\n",
       "      <td>50%</td>\n",
       "      <td>65.550000</td>\n",
       "      <td>7.600000</td>\n",
       "      <td>365.000000</td>\n",
       "      <td>1.0</td>\n",
       "    </tr>\n",
       "    <tr>\n",
       "      <td>75%</td>\n",
       "      <td>115.475000</td>\n",
       "      <td>10.375000</td>\n",
       "      <td>366.000000</td>\n",
       "      <td>1.0</td>\n",
       "    </tr>\n",
       "    <tr>\n",
       "      <td>max</td>\n",
       "      <td>269.300000</td>\n",
       "      <td>19.100000</td>\n",
       "      <td>12884.000000</td>\n",
       "      <td>1.0</td>\n",
       "    </tr>\n",
       "  </tbody>\n",
       "</table>\n",
       "</div>"
      ],
      "text/plain": [
       "       Yearly Mean Total Sunspot Number  Yearly Mean Standard Deviation  \\\n",
       "count                        320.000000                      202.000000   \n",
       "mean                          78.735000                        7.910891   \n",
       "std                           62.065761                        3.866630   \n",
       "min                            0.000000                        0.500000   \n",
       "25%                           24.575000                        4.625000   \n",
       "50%                           65.550000                        7.600000   \n",
       "75%                          115.475000                       10.375000   \n",
       "max                          269.300000                       19.100000   \n",
       "\n",
       "       Number of Observations  Definitive/Provisional Indicator  \n",
       "count              202.000000                             320.0  \n",
       "mean              1628.747525                               1.0  \n",
       "std               2777.697989                               0.0  \n",
       "min                150.000000                               1.0  \n",
       "25%                365.000000                               1.0  \n",
       "50%                365.000000                               1.0  \n",
       "75%                366.000000                               1.0  \n",
       "max              12884.000000                               1.0  "
      ]
     },
     "execution_count": 37,
     "metadata": {},
     "output_type": "execute_result"
    }
   ],
   "source": [
    "sunspots.describe()"
   ]
  },
  {
   "cell_type": "code",
   "execution_count": 39,
   "metadata": {},
   "outputs": [
    {
     "name": "stdout",
     "output_type": "stream",
     "text": [
      "Variance <bound method DataFrame.var of             Yearly Mean Total Sunspot Number  Yearly Mean Standard Deviation  \\\n",
      "Date                                                                           \n",
      "1700-12-31                               8.3                             NaN   \n",
      "1701-12-31                              18.3                             NaN   \n",
      "1702-12-31                              26.7                             NaN   \n",
      "1703-12-31                              38.3                             NaN   \n",
      "1704-12-31                              60.0                             NaN   \n",
      "...                                      ...                             ...   \n",
      "2015-12-31                              69.8                             6.4   \n",
      "2016-12-31                              39.8                             3.9   \n",
      "2017-12-31                              21.7                             2.5   \n",
      "2018-12-31                               7.0                             1.1   \n",
      "2019-12-31                               3.6                             0.5   \n",
      "\n",
      "            Number of Observations  Definitive/Provisional Indicator  \n",
      "Date                                                                  \n",
      "1700-12-31                     NaN                               1.0  \n",
      "1701-12-31                     NaN                               1.0  \n",
      "1702-12-31                     NaN                               1.0  \n",
      "1703-12-31                     NaN                               1.0  \n",
      "1704-12-31                     NaN                               1.0  \n",
      "...                            ...                               ...  \n",
      "2015-12-31                  8903.0                               1.0  \n",
      "2016-12-31                  9940.0                               1.0  \n",
      "2017-12-31                 11444.0                               1.0  \n",
      "2018-12-31                 12611.0                               1.0  \n",
      "2019-12-31                 12884.0                               1.0  \n",
      "\n",
      "[320 rows x 4 columns]>\n"
     ]
    }
   ],
   "source": [
    "print('Variance',sunspots.var)"
   ]
  },
  {
   "cell_type": "code",
   "execution_count": null,
   "metadata": {},
   "outputs": [],
   "source": []
  }
 ],
 "metadata": {
  "kernelspec": {
   "display_name": "Python 3",
   "language": "python",
   "name": "python3"
  },
  "language_info": {
   "codemirror_mode": {
    "name": "ipython",
    "version": 3
   },
   "file_extension": ".py",
   "mimetype": "text/x-python",
   "name": "python",
   "nbconvert_exporter": "python",
   "pygments_lexer": "ipython3",
   "version": "3.7.4"
  }
 },
 "nbformat": 4,
 "nbformat_minor": 2
}
