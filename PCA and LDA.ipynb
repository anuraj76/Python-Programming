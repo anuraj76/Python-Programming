{
 "cells": [
  {
   "cell_type": "code",
   "execution_count": 1,
   "metadata": {},
   "outputs": [],
   "source": [
    "import sklearn"
   ]
  },
  {
   "cell_type": "code",
   "execution_count": 2,
   "metadata": {},
   "outputs": [],
   "source": [
    "#load Iris Dataset\n",
    "\n",
    "from sklearn.datasets import load_iris"
   ]
  },
  {
   "cell_type": "code",
   "execution_count": 3,
   "metadata": {},
   "outputs": [],
   "source": [
    "data = load_iris()"
   ]
  },
  {
   "cell_type": "code",
   "execution_count": 4,
   "metadata": {},
   "outputs": [
    {
     "data": {
      "text/plain": [
       "{'data': array([[5.1, 3.5, 1.4, 0.2],\n",
       "        [4.9, 3. , 1.4, 0.2],\n",
       "        [4.7, 3.2, 1.3, 0.2],\n",
       "        [4.6, 3.1, 1.5, 0.2],\n",
       "        [5. , 3.6, 1.4, 0.2],\n",
       "        [5.4, 3.9, 1.7, 0.4],\n",
       "        [4.6, 3.4, 1.4, 0.3],\n",
       "        [5. , 3.4, 1.5, 0.2],\n",
       "        [4.4, 2.9, 1.4, 0.2],\n",
       "        [4.9, 3.1, 1.5, 0.1],\n",
       "        [5.4, 3.7, 1.5, 0.2],\n",
       "        [4.8, 3.4, 1.6, 0.2],\n",
       "        [4.8, 3. , 1.4, 0.1],\n",
       "        [4.3, 3. , 1.1, 0.1],\n",
       "        [5.8, 4. , 1.2, 0.2],\n",
       "        [5.7, 4.4, 1.5, 0.4],\n",
       "        [5.4, 3.9, 1.3, 0.4],\n",
       "        [5.1, 3.5, 1.4, 0.3],\n",
       "        [5.7, 3.8, 1.7, 0.3],\n",
       "        [5.1, 3.8, 1.5, 0.3],\n",
       "        [5.4, 3.4, 1.7, 0.2],\n",
       "        [5.1, 3.7, 1.5, 0.4],\n",
       "        [4.6, 3.6, 1. , 0.2],\n",
       "        [5.1, 3.3, 1.7, 0.5],\n",
       "        [4.8, 3.4, 1.9, 0.2],\n",
       "        [5. , 3. , 1.6, 0.2],\n",
       "        [5. , 3.4, 1.6, 0.4],\n",
       "        [5.2, 3.5, 1.5, 0.2],\n",
       "        [5.2, 3.4, 1.4, 0.2],\n",
       "        [4.7, 3.2, 1.6, 0.2],\n",
       "        [4.8, 3.1, 1.6, 0.2],\n",
       "        [5.4, 3.4, 1.5, 0.4],\n",
       "        [5.2, 4.1, 1.5, 0.1],\n",
       "        [5.5, 4.2, 1.4, 0.2],\n",
       "        [4.9, 3.1, 1.5, 0.2],\n",
       "        [5. , 3.2, 1.2, 0.2],\n",
       "        [5.5, 3.5, 1.3, 0.2],\n",
       "        [4.9, 3.6, 1.4, 0.1],\n",
       "        [4.4, 3. , 1.3, 0.2],\n",
       "        [5.1, 3.4, 1.5, 0.2],\n",
       "        [5. , 3.5, 1.3, 0.3],\n",
       "        [4.5, 2.3, 1.3, 0.3],\n",
       "        [4.4, 3.2, 1.3, 0.2],\n",
       "        [5. , 3.5, 1.6, 0.6],\n",
       "        [5.1, 3.8, 1.9, 0.4],\n",
       "        [4.8, 3. , 1.4, 0.3],\n",
       "        [5.1, 3.8, 1.6, 0.2],\n",
       "        [4.6, 3.2, 1.4, 0.2],\n",
       "        [5.3, 3.7, 1.5, 0.2],\n",
       "        [5. , 3.3, 1.4, 0.2],\n",
       "        [7. , 3.2, 4.7, 1.4],\n",
       "        [6.4, 3.2, 4.5, 1.5],\n",
       "        [6.9, 3.1, 4.9, 1.5],\n",
       "        [5.5, 2.3, 4. , 1.3],\n",
       "        [6.5, 2.8, 4.6, 1.5],\n",
       "        [5.7, 2.8, 4.5, 1.3],\n",
       "        [6.3, 3.3, 4.7, 1.6],\n",
       "        [4.9, 2.4, 3.3, 1. ],\n",
       "        [6.6, 2.9, 4.6, 1.3],\n",
       "        [5.2, 2.7, 3.9, 1.4],\n",
       "        [5. , 2. , 3.5, 1. ],\n",
       "        [5.9, 3. , 4.2, 1.5],\n",
       "        [6. , 2.2, 4. , 1. ],\n",
       "        [6.1, 2.9, 4.7, 1.4],\n",
       "        [5.6, 2.9, 3.6, 1.3],\n",
       "        [6.7, 3.1, 4.4, 1.4],\n",
       "        [5.6, 3. , 4.5, 1.5],\n",
       "        [5.8, 2.7, 4.1, 1. ],\n",
       "        [6.2, 2.2, 4.5, 1.5],\n",
       "        [5.6, 2.5, 3.9, 1.1],\n",
       "        [5.9, 3.2, 4.8, 1.8],\n",
       "        [6.1, 2.8, 4. , 1.3],\n",
       "        [6.3, 2.5, 4.9, 1.5],\n",
       "        [6.1, 2.8, 4.7, 1.2],\n",
       "        [6.4, 2.9, 4.3, 1.3],\n",
       "        [6.6, 3. , 4.4, 1.4],\n",
       "        [6.8, 2.8, 4.8, 1.4],\n",
       "        [6.7, 3. , 5. , 1.7],\n",
       "        [6. , 2.9, 4.5, 1.5],\n",
       "        [5.7, 2.6, 3.5, 1. ],\n",
       "        [5.5, 2.4, 3.8, 1.1],\n",
       "        [5.5, 2.4, 3.7, 1. ],\n",
       "        [5.8, 2.7, 3.9, 1.2],\n",
       "        [6. , 2.7, 5.1, 1.6],\n",
       "        [5.4, 3. , 4.5, 1.5],\n",
       "        [6. , 3.4, 4.5, 1.6],\n",
       "        [6.7, 3.1, 4.7, 1.5],\n",
       "        [6.3, 2.3, 4.4, 1.3],\n",
       "        [5.6, 3. , 4.1, 1.3],\n",
       "        [5.5, 2.5, 4. , 1.3],\n",
       "        [5.5, 2.6, 4.4, 1.2],\n",
       "        [6.1, 3. , 4.6, 1.4],\n",
       "        [5.8, 2.6, 4. , 1.2],\n",
       "        [5. , 2.3, 3.3, 1. ],\n",
       "        [5.6, 2.7, 4.2, 1.3],\n",
       "        [5.7, 3. , 4.2, 1.2],\n",
       "        [5.7, 2.9, 4.2, 1.3],\n",
       "        [6.2, 2.9, 4.3, 1.3],\n",
       "        [5.1, 2.5, 3. , 1.1],\n",
       "        [5.7, 2.8, 4.1, 1.3],\n",
       "        [6.3, 3.3, 6. , 2.5],\n",
       "        [5.8, 2.7, 5.1, 1.9],\n",
       "        [7.1, 3. , 5.9, 2.1],\n",
       "        [6.3, 2.9, 5.6, 1.8],\n",
       "        [6.5, 3. , 5.8, 2.2],\n",
       "        [7.6, 3. , 6.6, 2.1],\n",
       "        [4.9, 2.5, 4.5, 1.7],\n",
       "        [7.3, 2.9, 6.3, 1.8],\n",
       "        [6.7, 2.5, 5.8, 1.8],\n",
       "        [7.2, 3.6, 6.1, 2.5],\n",
       "        [6.5, 3.2, 5.1, 2. ],\n",
       "        [6.4, 2.7, 5.3, 1.9],\n",
       "        [6.8, 3. , 5.5, 2.1],\n",
       "        [5.7, 2.5, 5. , 2. ],\n",
       "        [5.8, 2.8, 5.1, 2.4],\n",
       "        [6.4, 3.2, 5.3, 2.3],\n",
       "        [6.5, 3. , 5.5, 1.8],\n",
       "        [7.7, 3.8, 6.7, 2.2],\n",
       "        [7.7, 2.6, 6.9, 2.3],\n",
       "        [6. , 2.2, 5. , 1.5],\n",
       "        [6.9, 3.2, 5.7, 2.3],\n",
       "        [5.6, 2.8, 4.9, 2. ],\n",
       "        [7.7, 2.8, 6.7, 2. ],\n",
       "        [6.3, 2.7, 4.9, 1.8],\n",
       "        [6.7, 3.3, 5.7, 2.1],\n",
       "        [7.2, 3.2, 6. , 1.8],\n",
       "        [6.2, 2.8, 4.8, 1.8],\n",
       "        [6.1, 3. , 4.9, 1.8],\n",
       "        [6.4, 2.8, 5.6, 2.1],\n",
       "        [7.2, 3. , 5.8, 1.6],\n",
       "        [7.4, 2.8, 6.1, 1.9],\n",
       "        [7.9, 3.8, 6.4, 2. ],\n",
       "        [6.4, 2.8, 5.6, 2.2],\n",
       "        [6.3, 2.8, 5.1, 1.5],\n",
       "        [6.1, 2.6, 5.6, 1.4],\n",
       "        [7.7, 3. , 6.1, 2.3],\n",
       "        [6.3, 3.4, 5.6, 2.4],\n",
       "        [6.4, 3.1, 5.5, 1.8],\n",
       "        [6. , 3. , 4.8, 1.8],\n",
       "        [6.9, 3.1, 5.4, 2.1],\n",
       "        [6.7, 3.1, 5.6, 2.4],\n",
       "        [6.9, 3.1, 5.1, 2.3],\n",
       "        [5.8, 2.7, 5.1, 1.9],\n",
       "        [6.8, 3.2, 5.9, 2.3],\n",
       "        [6.7, 3.3, 5.7, 2.5],\n",
       "        [6.7, 3. , 5.2, 2.3],\n",
       "        [6.3, 2.5, 5. , 1.9],\n",
       "        [6.5, 3. , 5.2, 2. ],\n",
       "        [6.2, 3.4, 5.4, 2.3],\n",
       "        [5.9, 3. , 5.1, 1.8]]),\n",
       " 'target': array([0, 0, 0, 0, 0, 0, 0, 0, 0, 0, 0, 0, 0, 0, 0, 0, 0, 0, 0, 0, 0, 0,\n",
       "        0, 0, 0, 0, 0, 0, 0, 0, 0, 0, 0, 0, 0, 0, 0, 0, 0, 0, 0, 0, 0, 0,\n",
       "        0, 0, 0, 0, 0, 0, 1, 1, 1, 1, 1, 1, 1, 1, 1, 1, 1, 1, 1, 1, 1, 1,\n",
       "        1, 1, 1, 1, 1, 1, 1, 1, 1, 1, 1, 1, 1, 1, 1, 1, 1, 1, 1, 1, 1, 1,\n",
       "        1, 1, 1, 1, 1, 1, 1, 1, 1, 1, 1, 1, 2, 2, 2, 2, 2, 2, 2, 2, 2, 2,\n",
       "        2, 2, 2, 2, 2, 2, 2, 2, 2, 2, 2, 2, 2, 2, 2, 2, 2, 2, 2, 2, 2, 2,\n",
       "        2, 2, 2, 2, 2, 2, 2, 2, 2, 2, 2, 2, 2, 2, 2, 2, 2, 2]),\n",
       " 'target_names': array(['setosa', 'versicolor', 'virginica'], dtype='<U10'),\n",
       " 'DESCR': '.. _iris_dataset:\\n\\nIris plants dataset\\n--------------------\\n\\n**Data Set Characteristics:**\\n\\n    :Number of Instances: 150 (50 in each of three classes)\\n    :Number of Attributes: 4 numeric, predictive attributes and the class\\n    :Attribute Information:\\n        - sepal length in cm\\n        - sepal width in cm\\n        - petal length in cm\\n        - petal width in cm\\n        - class:\\n                - Iris-Setosa\\n                - Iris-Versicolour\\n                - Iris-Virginica\\n                \\n    :Summary Statistics:\\n\\n    ============== ==== ==== ======= ===== ====================\\n                    Min  Max   Mean    SD   Class Correlation\\n    ============== ==== ==== ======= ===== ====================\\n    sepal length:   4.3  7.9   5.84   0.83    0.7826\\n    sepal width:    2.0  4.4   3.05   0.43   -0.4194\\n    petal length:   1.0  6.9   3.76   1.76    0.9490  (high!)\\n    petal width:    0.1  2.5   1.20   0.76    0.9565  (high!)\\n    ============== ==== ==== ======= ===== ====================\\n\\n    :Missing Attribute Values: None\\n    :Class Distribution: 33.3% for each of 3 classes.\\n    :Creator: R.A. Fisher\\n    :Donor: Michael Marshall (MARSHALL%PLU@io.arc.nasa.gov)\\n    :Date: July, 1988\\n\\nThe famous Iris database, first used by Sir R.A. Fisher. The dataset is taken\\nfrom Fisher\\'s paper. Note that it\\'s the same as in R, but not as in the UCI\\nMachine Learning Repository, which has two wrong data points.\\n\\nThis is perhaps the best known database to be found in the\\npattern recognition literature.  Fisher\\'s paper is a classic in the field and\\nis referenced frequently to this day.  (See Duda & Hart, for example.)  The\\ndata set contains 3 classes of 50 instances each, where each class refers to a\\ntype of iris plant.  One class is linearly separable from the other 2; the\\nlatter are NOT linearly separable from each other.\\n\\n.. topic:: References\\n\\n   - Fisher, R.A. \"The use of multiple measurements in taxonomic problems\"\\n     Annual Eugenics, 7, Part II, 179-188 (1936); also in \"Contributions to\\n     Mathematical Statistics\" (John Wiley, NY, 1950).\\n   - Duda, R.O., & Hart, P.E. (1973) Pattern Classification and Scene Analysis.\\n     (Q327.D83) John Wiley & Sons.  ISBN 0-471-22361-1.  See page 218.\\n   - Dasarathy, B.V. (1980) \"Nosing Around the Neighborhood: A New System\\n     Structure and Classification Rule for Recognition in Partially Exposed\\n     Environments\".  IEEE Transactions on Pattern Analysis and Machine\\n     Intelligence, Vol. PAMI-2, No. 1, 67-71.\\n   - Gates, G.W. (1972) \"The Reduced Nearest Neighbor Rule\".  IEEE Transactions\\n     on Information Theory, May 1972, 431-433.\\n   - See also: 1988 MLC Proceedings, 54-64.  Cheeseman et al\"s AUTOCLASS II\\n     conceptual clustering system finds 3 classes in the data.\\n   - Many, many more ...',\n",
       " 'feature_names': ['sepal length (cm)',\n",
       "  'sepal width (cm)',\n",
       "  'petal length (cm)',\n",
       "  'petal width (cm)'],\n",
       " 'filename': 'C:\\\\Users\\\\asm1318\\\\AppData\\\\Local\\\\Continuum\\\\anaconda3\\\\lib\\\\site-packages\\\\sklearn\\\\datasets\\\\data\\\\iris.csv'}"
      ]
     },
     "execution_count": 4,
     "metadata": {},
     "output_type": "execute_result"
    }
   ],
   "source": [
    "data"
   ]
  },
  {
   "cell_type": "code",
   "execution_count": 5,
   "metadata": {},
   "outputs": [],
   "source": [
    "x = data.data"
   ]
  },
  {
   "cell_type": "code",
   "execution_count": 6,
   "metadata": {},
   "outputs": [],
   "source": [
    "y = data.target"
   ]
  },
  {
   "cell_type": "code",
   "execution_count": 17,
   "metadata": {},
   "outputs": [],
   "source": [
    "from sklearn.model_selection import train_test_split\n",
    "\n",
    "xtrain,xtest,ytrain,ytest = train_test_split(x,y,test_size =0.30,random_state = 42)"
   ]
  },
  {
   "cell_type": "code",
   "execution_count": 18,
   "metadata": {},
   "outputs": [
    {
     "data": {
      "text/plain": [
       "(105, 4)"
      ]
     },
     "execution_count": 18,
     "metadata": {},
     "output_type": "execute_result"
    }
   ],
   "source": [
    "xtrain.shape"
   ]
  },
  {
   "cell_type": "code",
   "execution_count": 19,
   "metadata": {},
   "outputs": [
    {
     "data": {
      "text/plain": [
       "(45, 4)"
      ]
     },
     "execution_count": 19,
     "metadata": {},
     "output_type": "execute_result"
    }
   ],
   "source": [
    "xtest.shape"
   ]
  },
  {
   "cell_type": "code",
   "execution_count": 20,
   "metadata": {},
   "outputs": [],
   "source": [
    "from sklearn.linear_model import LogisticRegression\n",
    "lr = LogisticRegression()"
   ]
  },
  {
   "cell_type": "code",
   "execution_count": 21,
   "metadata": {},
   "outputs": [
    {
     "name": "stderr",
     "output_type": "stream",
     "text": [
      "C:\\Users\\asm1318\\AppData\\Local\\Continuum\\anaconda3\\lib\\site-packages\\sklearn\\linear_model\\logistic.py:432: FutureWarning: Default solver will be changed to 'lbfgs' in 0.22. Specify a solver to silence this warning.\n",
      "  FutureWarning)\n",
      "C:\\Users\\asm1318\\AppData\\Local\\Continuum\\anaconda3\\lib\\site-packages\\sklearn\\linear_model\\logistic.py:469: FutureWarning: Default multi_class will be changed to 'auto' in 0.22. Specify the multi_class option to silence this warning.\n",
      "  \"this warning.\", FutureWarning)\n"
     ]
    },
    {
     "data": {
      "text/plain": [
       "LogisticRegression(C=1.0, class_weight=None, dual=False, fit_intercept=True,\n",
       "                   intercept_scaling=1, l1_ratio=None, max_iter=100,\n",
       "                   multi_class='warn', n_jobs=None, penalty='l2',\n",
       "                   random_state=None, solver='warn', tol=0.0001, verbose=0,\n",
       "                   warm_start=False)"
      ]
     },
     "execution_count": 21,
     "metadata": {},
     "output_type": "execute_result"
    }
   ],
   "source": [
    "lr.fit(xtrain,ytrain)"
   ]
  },
  {
   "cell_type": "code",
   "execution_count": 22,
   "metadata": {},
   "outputs": [],
   "source": [
    "y_predict = lr.predict(xtest)"
   ]
  },
  {
   "cell_type": "code",
   "execution_count": 23,
   "metadata": {},
   "outputs": [],
   "source": [
    "from sklearn.metrics import accuracy_score\n",
    "accuracy = accuracy_score(y_predict,ytest)"
   ]
  },
  {
   "cell_type": "code",
   "execution_count": 24,
   "metadata": {},
   "outputs": [
    {
     "data": {
      "text/plain": [
       "0.9777777777777777"
      ]
     },
     "execution_count": 24,
     "metadata": {},
     "output_type": "execute_result"
    }
   ],
   "source": [
    "accuracy"
   ]
  },
  {
   "cell_type": "code",
   "execution_count": 25,
   "metadata": {},
   "outputs": [],
   "source": [
    "from sklearn.decomposition import PCA"
   ]
  },
  {
   "cell_type": "code",
   "execution_count": 26,
   "metadata": {},
   "outputs": [],
   "source": [
    "sklearn_pca = PCA(n_components=0.95)"
   ]
  },
  {
   "cell_type": "code",
   "execution_count": 27,
   "metadata": {},
   "outputs": [
    {
     "data": {
      "text/plain": [
       "PCA(copy=True, iterated_power='auto', n_components=0.95, random_state=None,\n",
       "    svd_solver='auto', tol=0.0, whiten=False)"
      ]
     },
     "execution_count": 27,
     "metadata": {},
     "output_type": "execute_result"
    }
   ],
   "source": [
    "#fit PCA on training data\n",
    "\n",
    "sklearn_pca.fit(xtrain)"
   ]
  },
  {
   "cell_type": "code",
   "execution_count": 28,
   "metadata": {},
   "outputs": [],
   "source": [
    "xtrain_transformed = sklearn_pca.transform(xtrain)"
   ]
  },
  {
   "cell_type": "code",
   "execution_count": 31,
   "metadata": {},
   "outputs": [
    {
     "name": "stdout",
     "output_type": "stream",
     "text": [
      "(105, 4)\n",
      "(105, 2)\n"
     ]
    }
   ],
   "source": [
    "print(xtrain.shape)\n",
    "print(xtrain_transformed.shape)"
   ]
  },
  {
   "cell_type": "code",
   "execution_count": 32,
   "metadata": {},
   "outputs": [],
   "source": [
    "xtest_transformed = sklearn_pca.transform(xtest)"
   ]
  },
  {
   "cell_type": "code",
   "execution_count": 33,
   "metadata": {},
   "outputs": [
    {
     "name": "stdout",
     "output_type": "stream",
     "text": [
      "(45, 4)\n",
      "(45, 2)\n"
     ]
    }
   ],
   "source": [
    "print(xtest.shape)\n",
    "print(xtest_transformed.shape)"
   ]
  },
  {
   "cell_type": "code",
   "execution_count": 34,
   "metadata": {},
   "outputs": [
    {
     "name": "stderr",
     "output_type": "stream",
     "text": [
      "C:\\Users\\asm1318\\AppData\\Local\\Continuum\\anaconda3\\lib\\site-packages\\sklearn\\linear_model\\logistic.py:432: FutureWarning: Default solver will be changed to 'lbfgs' in 0.22. Specify a solver to silence this warning.\n",
      "  FutureWarning)\n",
      "C:\\Users\\asm1318\\AppData\\Local\\Continuum\\anaconda3\\lib\\site-packages\\sklearn\\linear_model\\logistic.py:469: FutureWarning: Default multi_class will be changed to 'auto' in 0.22. Specify the multi_class option to silence this warning.\n",
      "  \"this warning.\", FutureWarning)\n"
     ]
    },
    {
     "data": {
      "text/plain": [
       "LogisticRegression(C=1.0, class_weight=None, dual=False, fit_intercept=True,\n",
       "                   intercept_scaling=1, l1_ratio=None, max_iter=100,\n",
       "                   multi_class='warn', n_jobs=None, penalty='l2',\n",
       "                   random_state=None, solver='warn', tol=0.0001, verbose=0,\n",
       "                   warm_start=False)"
      ]
     },
     "execution_count": 34,
     "metadata": {},
     "output_type": "execute_result"
    }
   ],
   "source": [
    "lr.fit(xtrain_transformed,ytrain)"
   ]
  },
  {
   "cell_type": "code",
   "execution_count": 35,
   "metadata": {},
   "outputs": [],
   "source": [
    "y_pred1 = lr.predict(xtest_transformed)"
   ]
  },
  {
   "cell_type": "code",
   "execution_count": 36,
   "metadata": {},
   "outputs": [
    {
     "name": "stdout",
     "output_type": "stream",
     "text": [
      "0.8888888888888888\n"
     ]
    }
   ],
   "source": [
    "print(accuracy_score(y_pred1,ytest))"
   ]
  },
  {
   "cell_type": "markdown",
   "metadata": {},
   "source": [
    "Linear Discriminanat Analysis"
   ]
  },
  {
   "cell_type": "code",
   "execution_count": 37,
   "metadata": {},
   "outputs": [],
   "source": [
    "from mlxtend.data import iris_data\n",
    "from mlxtend.preprocessing import standardize\n",
    "from mlxtend.feature_extraction import LinearDiscriminantAnalysis"
   ]
  },
  {
   "cell_type": "code",
   "execution_count": 38,
   "metadata": {},
   "outputs": [],
   "source": [
    "X,y = iris_data()"
   ]
  },
  {
   "cell_type": "code",
   "execution_count": 39,
   "metadata": {},
   "outputs": [],
   "source": [
    "X = standardize(X)"
   ]
  },
  {
   "cell_type": "code",
   "execution_count": 41,
   "metadata": {},
   "outputs": [],
   "source": [
    "lda = LinearDiscriminantAnalysis(n_discriminants=2)"
   ]
  },
  {
   "cell_type": "code",
   "execution_count": 42,
   "metadata": {},
   "outputs": [
    {
     "data": {
      "text/plain": [
       "<mlxtend.feature_extraction.linear_discriminant_analysis.LinearDiscriminantAnalysis at 0x17211888>"
      ]
     },
     "execution_count": 42,
     "metadata": {},
     "output_type": "execute_result"
    }
   ],
   "source": [
    "lda.fit(X,y)"
   ]
  },
  {
   "cell_type": "code",
   "execution_count": 43,
   "metadata": {},
   "outputs": [],
   "source": [
    "X_lda = lda.transform(X)"
   ]
  },
  {
   "cell_type": "code",
   "execution_count": 44,
   "metadata": {},
   "outputs": [
    {
     "data": {
      "text/plain": [
       "array([[-1.78399213+0.j, -0.02138789+0.j],\n",
       "       [-1.56599117+0.j, -0.39039612+0.j],\n",
       "       [-1.65167828+0.j, -0.21283157+0.j],\n",
       "       [-1.49902607+0.j, -0.34511877+0.j],\n",
       "       [-1.80228426+0.j,  0.05273823+0.j],\n",
       "       [-1.71663551+0.j,  0.39464792+0.j],\n",
       "       [-1.59735842+0.j,  0.01042189+0.j],\n",
       "       [-1.68044277+0.j, -0.12436278+0.j],\n",
       "       [-1.43923591+0.j, -0.46313164+0.j],\n",
       "       [-1.61313608+0.j, -0.45035938+0.j],\n",
       "       [-1.86185948+0.j,  0.09639322+0.j],\n",
       "       [-1.59518554+0.j, -0.15321155+0.j],\n",
       "       [-1.60779243+0.j, -0.49470966+0.j],\n",
       "       [-1.66471505+0.j, -0.40561391+0.j],\n",
       "       [-2.19058476+0.j,  0.40508613+0.j],\n",
       "       [-2.05091937+0.j,  0.822049  +0.j],\n",
       "       [-1.91304693+0.j,  0.51189714+0.j],\n",
       "       [-1.72411369+0.j,  0.08315742+0.j],\n",
       "       [-1.79437621+0.j,  0.21551296+0.j],\n",
       "       [-1.78411878+0.j,  0.27552817+0.j],\n",
       "       [-1.65454582+0.j, -0.18391446+0.j],\n",
       "       [-1.68787102+0.j,  0.30617912+0.j],\n",
       "       [-1.92638692+0.j,  0.17091452+0.j],\n",
       "       [-1.3843096 +0.j,  0.0565224 +0.j],\n",
       "       [-1.44787697+0.j, -0.24114847+0.j],\n",
       "       [-1.48586265+0.j, -0.4492525 +0.j],\n",
       "       [-1.51158303+0.j,  0.05541552+0.j],\n",
       "       [-1.75296647+0.j, -0.05093196+0.j],\n",
       "       [-1.76570001+0.j, -0.095514  +0.j],\n",
       "       [-1.50436972+0.j, -0.30076849+0.j],\n",
       "       [-1.48607759+0.j, -0.37489461+0.j],\n",
       "       [-1.63299464+0.j,  0.08380076+0.j],\n",
       "       [-2.03106081+0.j,  0.28788886+0.j],\n",
       "       [-2.11088611+0.j,  0.49494552+0.j],\n",
       "       [-1.61313608+0.j, -0.45035938+0.j],\n",
       "       [-1.75501271+0.j, -0.18421457+0.j],\n",
       "       [-1.90540375+0.j,  0.00699736+0.j],\n",
       "       [-1.61313608+0.j, -0.45035938+0.j],\n",
       "       [-1.52470808+0.j, -0.35992498+0.j],\n",
       "       [-1.69851996+0.j, -0.12459455+0.j],\n",
       "       [-1.75513935+0.j,  0.11270149+0.j],\n",
       "       [-1.22832161+0.j, -0.77287192+0.j],\n",
       "       [-1.59744671+0.j, -0.21213628+0.j],\n",
       "       [-1.42819545+0.j,  0.33840048+0.j],\n",
       "       [-1.52782891+0.j,  0.26282425+0.j],\n",
       "       [-1.48803554+0.j, -0.28561905+0.j],\n",
       "       [-1.79489437+0.j,  0.14167056+0.j],\n",
       "       [-1.58449824+0.j, -0.24191212+0.j],\n",
       "       [-1.84378229+0.j,  0.09662498+0.j],\n",
       "       [-1.69317631+0.j, -0.16894483+0.j],\n",
       "       [ 0.32058479+0.j,  0.03976303+0.j],\n",
       "       [ 0.39072066+0.j,  0.20432354+0.j],\n",
       "       [ 0.53311545+0.j,  0.01202113+0.j],\n",
       "       [ 0.51546804+0.j, -0.52116882+0.j],\n",
       "       [ 0.56722359+0.j, -0.12079794+0.j],\n",
       "       [ 0.54298136+0.j, -0.29872212+0.j],\n",
       "       [ 0.53051269+0.j,  0.32437035+0.j],\n",
       "       [ 0.06420654+0.j, -0.55433363+0.j],\n",
       "       [ 0.39302019+0.j, -0.25622596+0.j],\n",
       "       [ 0.43499794+0.j, -0.0910385 +0.j],\n",
       "       [ 0.28981233+0.j, -0.90876743+0.j],\n",
       "       [ 0.40653668+0.j,  0.14563058+0.j],\n",
       "       [ 0.28181607+0.j, -0.90985791+0.j],\n",
       "       [ 0.59238744+0.j, -0.17983414+0.j],\n",
       "       [ 0.08276354+0.j,  0.03921476+0.j],\n",
       "       [ 0.2638771 +0.j,  0.05450089+0.j],\n",
       "       [ 0.60807681+0.j,  0.05838896+0.j],\n",
       "       [ 0.18522673+0.j, -0.56923492+0.j],\n",
       "       [ 0.7905682 +0.j, -0.53415646+0.j],\n",
       "       [ 0.25579248+0.j, -0.55339018+0.j],\n",
       "       [ 0.80805051+0.j,  0.43118136+0.j],\n",
       "       [ 0.22515832+0.j, -0.15308765+0.j],\n",
       "       [ 0.85979448+0.j, -0.42995439+0.j],\n",
       "       [ 0.50899987+0.j, -0.4628191 +0.j],\n",
       "       [ 0.28186601+0.j, -0.16782551+0.j],\n",
       "       [ 0.31832361+0.j, -0.0191617 +0.j],\n",
       "       [ 0.55131928+0.j, -0.28466316+0.j],\n",
       "       [ 0.77449889+0.j,  0.11836861+0.j],\n",
       "       [ 0.57213737+0.j, -0.01643246+0.j],\n",
       "       [-0.0549439 +0.j, -0.46702367+0.j],\n",
       "       [ 0.26113613+0.j, -0.59774046+0.j],\n",
       "       [ 0.15215482+0.j, -0.67297346+0.j],\n",
       "       [ 0.20677791+0.j, -0.3015197 +0.j],\n",
       "       [ 0.99937158+0.j, -0.2355497 +0.j],\n",
       "       [ 0.64423119+0.j,  0.05885249+0.j],\n",
       "       [ 0.45016923+0.j,  0.45758461+0.j],\n",
       "       [ 0.47106412+0.j,  0.07110928+0.j],\n",
       "       [ 0.56726195+0.j, -0.64027217+0.j],\n",
       "       [ 0.2919085 +0.j, -0.03345242+0.j],\n",
       "       [ 0.44272941+0.j, -0.37338011+0.j],\n",
       "       [ 0.54289307+0.j, -0.52128029+0.j],\n",
       "       [ 0.50691527+0.j, -0.07662748+0.j],\n",
       "       [ 0.29225008+0.j, -0.40472636+0.j],\n",
       "       [ 0.08249867+0.j, -0.62845975+0.j],\n",
       "       [ 0.4501193 +0.j, -0.28444778+0.j],\n",
       "       [ 0.26305572+0.j, -0.16754179+0.j],\n",
       "       [ 0.35930348+0.j, -0.13689084+0.j],\n",
       "       [ 0.31802039+0.j, -0.16736198+0.j],\n",
       "       [-0.09574727+0.j, -0.28842059+0.j],\n",
       "       [ 0.34656994+0.j, -0.18147289+0.j],\n",
       "       [ 1.70775582+0.j,  0.8842181 +0.j],\n",
       "       [ 1.2151613 +0.j,  0.07854975+0.j],\n",
       "       [ 1.38362961+0.j,  0.271812  +0.j],\n",
       "       [ 1.23767255+0.j, -0.02592721+0.j],\n",
       "       [ 1.50286834+0.j,  0.40706021+0.j],\n",
       "       [ 1.63696365+0.j,  0.06546703+0.j],\n",
       "       [ 1.03622061+0.j, -0.10036983+0.j],\n",
       "       [ 1.40062064+0.j, -0.23343102+0.j],\n",
       "       [ 1.40904676+0.j, -0.3810563 +0.j],\n",
       "       [ 1.48505602+0.j,  1.07450296+0.j],\n",
       "       [ 0.96665283+0.j,  0.55094445+0.j],\n",
       "       [ 1.20490387+0.j,  0.01853454+0.j],\n",
       "       [ 1.24144976+0.j,  0.38975653+0.j],\n",
       "       [ 1.31675271+0.j,  0.06485042+0.j],\n",
       "       [ 1.47818421+0.j,  0.67517062+0.j],\n",
       "       [ 1.26257107+0.j,  0.80618752+0.j],\n",
       "       [ 1.11604599+0.j,  0.07681591+0.j],\n",
       "       [ 1.43691324+0.j,  0.73162308+0.j],\n",
       "       [ 2.03142918+0.j, -0.10918847+0.j],\n",
       "       [ 1.07223686+0.j, -0.68025446+0.j],\n",
       "       [ 1.36859654+0.j,  0.68777946+0.j],\n",
       "       [ 1.1766191 +0.j,  0.31607755+0.j],\n",
       "       [ 1.6808495 +0.j, -0.21641106+0.j],\n",
       "       [ 0.96669119+0.j,  0.03147023+0.j],\n",
       "       [ 1.24862472+0.j,  0.55304674+0.j],\n",
       "       [ 1.16228131+0.j,  0.07642072+0.j],\n",
       "       [ 0.89929621+0.j,  0.13490865+0.j],\n",
       "       [ 0.89373762+0.j,  0.25361682+0.j],\n",
       "       [ 1.43560001+0.j,  0.21358258+0.j],\n",
       "       [ 1.01705734+0.j, -0.22183398+0.j],\n",
       "       [ 1.3805855 +0.j, -0.14438722+0.j],\n",
       "       [ 1.1336934 +0.j,  0.61000586+0.j],\n",
       "       [ 1.49547846+0.j,  0.31812788+0.j],\n",
       "       [ 0.84889225+0.j, -0.26689595+0.j],\n",
       "       [ 1.14342109+0.j, -0.66532796+0.j],\n",
       "       [ 1.49312908+0.j,  0.4208874 +0.j],\n",
       "       [ 1.41509664+0.j,  0.97081637+0.j],\n",
       "       [ 1.09775387+0.j,  0.15094203+0.j],\n",
       "       [ 0.86271196+0.j,  0.28316089+0.j],\n",
       "       [ 1.1379004 +0.j,  0.49273142+0.j],\n",
       "       [ 1.45189583+0.j,  0.74820625+0.j],\n",
       "       [ 1.11034872+0.j,  0.78975895+0.j],\n",
       "       [ 1.2151613 +0.j,  0.07854975+0.j],\n",
       "       [ 1.48487944+0.j,  0.62938661+0.j],\n",
       "       [ 1.4881385 +0.j,  0.97122795+0.j],\n",
       "       [ 1.23197528+0.j,  0.68701582+0.j],\n",
       "       [ 1.14841112+0.j, -0.04108548+0.j],\n",
       "       [ 1.08849432+0.j,  0.37384344+0.j],\n",
       "       [ 1.27508967+0.j,  0.92512745+0.j],\n",
       "       [ 1.02809771+0.j,  0.19545574+0.j]])"
      ]
     },
     "execution_count": 44,
     "metadata": {},
     "output_type": "execute_result"
    }
   ],
   "source": [
    "X_lda"
   ]
  },
  {
   "cell_type": "code",
   "execution_count": null,
   "metadata": {},
   "outputs": [],
   "source": []
  }
 ],
 "metadata": {
  "kernelspec": {
   "display_name": "Python 3",
   "language": "python",
   "name": "python3"
  },
  "language_info": {
   "codemirror_mode": {
    "name": "ipython",
    "version": 3
   },
   "file_extension": ".py",
   "mimetype": "text/x-python",
   "name": "python",
   "nbconvert_exporter": "python",
   "pygments_lexer": "ipython3",
   "version": "3.7.4"
  }
 },
 "nbformat": 4,
 "nbformat_minor": 2
}
