{
 "cells": [
  {
   "cell_type": "code",
   "execution_count": 3,
   "metadata": {},
   "outputs": [],
   "source": [
    "import sklearn\n",
    "from sklearn.datasets import load_digits\n",
    "data = load_digits()\n",
    "x = data.data\n",
    "y = data.target"
   ]
  },
  {
   "cell_type": "code",
   "execution_count": 5,
   "metadata": {},
   "outputs": [
    {
     "data": {
      "text/plain": [
       "array([0, 1, 2, ..., 8, 9, 8])"
      ]
     },
     "execution_count": 5,
     "metadata": {},
     "output_type": "execute_result"
    }
   ],
   "source": [
    "y"
   ]
  },
  {
   "cell_type": "code",
   "execution_count": 9,
   "metadata": {},
   "outputs": [
    {
     "name": "stdout",
     "output_type": "stream",
     "text": [
      "[[ 0.  0.  0. ...  5.  0.  0.]\n",
      " [ 0.  0.  0. ...  0.  0.  0.]\n",
      " [ 0.  0.  0. ... 13. 12.  2.]\n",
      " ...\n",
      " [ 0.  0.  7. ... 13.  2.  0.]\n",
      " [ 0.  0.  0. ... 16.  1.  0.]\n",
      " [ 0.  0.  8. ...  0.  0.  0.]]\n",
      "(1437, 64)\n"
     ]
    }
   ],
   "source": [
    "from sklearn.model_selection import train_test_split\n",
    "x_train, x_test, y_train, y_test = train_test_split(x, y, test_size=0.2, random_state=1)\n",
    "print(x_train)\n",
    "print(x_train.shape)"
   ]
  },
  {
   "cell_type": "raw",
   "metadata": {},
   "source": [
    "from sklearn.decomposition import PCA\n",
    "sklearn_pca = PCA(n_components=0.90)\n",
    "sklearn_pca.fit(x_train)"
   ]
  },
  {
   "cell_type": "code",
   "execution_count": 16,
   "metadata": {},
   "outputs": [
    {
     "name": "stdout",
     "output_type": "stream",
     "text": [
      "[[-20.6383236  -18.11565352  -6.1296298  ...  -3.85192191  -2.24423052\n",
      "   -1.79245089]\n",
      " [  8.05542863   6.51045129 -27.67469196 ...   3.17259811   2.45533814\n",
      "    4.12296449]\n",
      " [-19.95043784 -16.07468018  13.92444623 ...  -0.7577171   -2.13485502\n",
      "   -0.33225935]\n",
      " ...\n",
      " [ 12.12214153  -8.57510931  -2.45168081 ...   2.08211467   5.67810457\n",
      "   -0.90642531]\n",
      " [-10.48664223   6.03086383 -20.28276301 ...   8.0771204   -1.10503099\n",
      "    7.09484069]\n",
      " [ -4.46577409   4.11232492  -3.39667847 ...   0.5736933    3.69430336\n",
      "    1.20275666]]\n",
      "(1437, 21)\n",
      "(360, 64)\n",
      "(360, 21)\n"
     ]
    }
   ],
   "source": [
    "x_train_transformed = sklearn_pca.transform(x_train)\n",
    "\n",
    "print(x_train_transformed)\n",
    "print(x_train_transformed.shape)\n",
    "\n",
    "print(x_test.shape)\n",
    "x_test_transformed = sklearn_pca.transform(x_test) \n",
    "print(x_test_transformed.shape)\n"
   ]
  },
  {
   "cell_type": "code",
   "execution_count": 17,
   "metadata": {},
   "outputs": [
    {
     "name": "stdout",
     "output_type": "stream",
     "text": [
      "0.9666666666666667\n"
     ]
    },
    {
     "name": "stderr",
     "output_type": "stream",
     "text": [
      "C:\\Users\\asm1318\\AppData\\Local\\Continuum\\anaconda3\\lib\\site-packages\\sklearn\\linear_model\\logistic.py:432: FutureWarning: Default solver will be changed to 'lbfgs' in 0.22. Specify a solver to silence this warning.\n",
      "  FutureWarning)\n",
      "C:\\Users\\asm1318\\AppData\\Local\\Continuum\\anaconda3\\lib\\site-packages\\sklearn\\linear_model\\logistic.py:469: FutureWarning: Default multi_class will be changed to 'auto' in 0.22. Specify the multi_class option to silence this warning.\n",
      "  \"this warning.\", FutureWarning)\n"
     ]
    }
   ],
   "source": [
    "from sklearn.linear_model import LogisticRegression\n",
    "lr = LogisticRegression(penalty='l2')\n",
    "lr.fit(x_train_transformed,y_train)\n",
    "y_predict = lr.predict(x_test_transformed)\n",
    "from sklearn.metrics import accuracy_score\n",
    "accuracy = accuracy_score(y_predict,y_test)\n",
    "print(accuracy)"
   ]
  },
  {
   "cell_type": "code",
   "execution_count": null,
   "metadata": {},
   "outputs": [],
   "source": []
  }
 ],
 "metadata": {
  "kernelspec": {
   "display_name": "Python 3",
   "language": "python",
   "name": "python3"
  },
  "language_info": {
   "codemirror_mode": {
    "name": "ipython",
    "version": 3
   },
   "file_extension": ".py",
   "mimetype": "text/x-python",
   "name": "python",
   "nbconvert_exporter": "python",
   "pygments_lexer": "ipython3",
   "version": "3.7.4"
  }
 },
 "nbformat": 4,
 "nbformat_minor": 2
}
